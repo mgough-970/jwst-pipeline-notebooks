{
 "cells": [
  {
   "cell_type": "markdown",
   "id": "095a295c",
   "metadata": {},
   "source": [
    "<img style=\"float: center;\" src='https://github.com/spacetelescope/jwst-pipeline-notebooks/raw/main/_static/stsci_header.png' alt=\"stsci_logo\" width=\"900px\"/> "
   ]
  },
  {
   "cell_type": "markdown",
   "id": "0393e357-9d9d-4516-b28d-4d335fad33a0",
   "metadata": {},
   "source": [
    "##### NIRISS AMI Pipeline Notebook\n",
    "\n",
    "**Authors**: R. Cooper<br>\n",
    "**Last Updated**: March 31, 2025<br>\n",
    "**Pipeline Version**: 1.17.1 (Build 11.2)"
   ]
  },
  {
   "cell_type": "markdown",
   "id": "7da2029f",
   "metadata": {},
   "source": [
    "**Purpose**:<br>\n",
    "This notebook provides a framework for processing Near-Infrared\n",
    "Imager and Slitless Spectrograph (NIRISS) Aperture Masking Interferometry (AMI) data through all\n",
    "three James Webb Space Telescope (JWST) pipeline stages.  Data is assumed\n",
    "to be located in one observation folder according to paths set up below.\n",
    "It should not be necessary to edit any cells other than in the\n",
    "[Configuration](#1.-Configuration) section unless modifying the standard\n",
    "pipeline processing options.\n",
    "\n",
    "**Data**:\n",
    "This notebook uses an example dataset from\n",
    "[Program ID](https://www.stsci.edu/jwst/science-execution/program-information)\n",
    "1093 (PI: Thatte) which is the AMI commissioning program. For illustrative \n",
    "purposes, we will use a single target and reference star pair. Each exposure \n",
    "was taken in the F480W filter filter with the non-redundant mask (NRM) that \n",
    "enables AMI in the pupil. The observations used are\n",
    "observation 12 for the target and observation 15 for the reference star.\n",
    "\n",
    "Example input data to use will be downloaded automatically unless\n",
    "disabled (i.e., to use local files instead).\n",
    "\n",
    "**JWST pipeline version and CRDS context** <br>\n",
    "This notebook was written for the above-specified pipeline version and associated\n",
    "build context for this version of the JWST Calibration Pipeline. Information about\n",
    "this and other contexts can be found in the JWST Calibration Reference Data System\n",
    "(CRDS [server](https://jwst-crds.stsci.edu/)). If you use different pipeline versions,\n",
    "please refer to the table [here](https://jwst-crds.stsci.edu/display_build_contexts/)\n",
    "to determine what context to use. To learn more about the differences for the pipeline,\n",
    "read the relevant \n",
    "[documentation](https://jwst-docs.stsci.edu/jwst-science-calibration-pipeline/jwst-operations-pipeline-build-information#references).<br>\n",
    "\n",
    "Please note that pipeline software development is a continuous process, so results\n",
    "in some cases may be slightly different if a subsequent version is used. **For optimal\n",
    "results, users are strongly encouraged to reprocess their data using the most recent\n",
    "pipeline version and\n",
    "[associated CRDS context](https://jwst-crds.stsci.edu/display_build_contexts/),\n",
    "taking advantage of bug fixes and algorithm improvements.**\n",
    "Any [known issues](https://jwst-docs.stsci.edu/known-issues-with-jwst-data/niriss-known-issues/niriss-ami-known-issues) for this build are noted in the notebook.<BR>\n",
    "\n",
    "**Updates**:\n",
    "This notebook is regularly updated as improvements are made to the\n",
    "pipeline. Find the most up to date version of this notebook at:\n",
    "https://github.com/spacetelescope/jwst-pipeline-notebooks/\n",
    "\n",
    "**Recent Changes**:<br>\n",
    "Someday: original notebook released<br>\n",
    "<br><br>"
   ]
  },
  {
   "cell_type": "markdown",
   "id": "453945c7",
   "metadata": {},
   "source": [
    "<hr style=\"border:1px solid gray\"> </hr>"
   ]
  },
  {
   "cell_type": "markdown",
   "id": "5291c2f1",
   "metadata": {},
   "source": [
    "\n",
    "## Table of Contents\n",
    "1. [Configuration](#1.-Configuration) \n",
    "2. [Package Imports](#2.-Package-Imports)\n",
    "3. [Demo Mode Setup (ignore if not using demo data)](#3.-Demo-Mode-Setup-(ignore-if-not-using-demo-data))\n",
    "4. [Directory Setup](#4.-Directory-Setup)\n",
    "5. [Detector 1 Pipeline](#5.-Detector1-Pipeline)\n",
    "6. [Image2 Pipeline](#6.-Image2-Pipeline)\n",
    "7. [AMI3 Pipeline](#7.-AMI3-Pipeline)\n",
    "8. [Visualize the data](#9.-Visualize-the-results)"
   ]
  },
  {
   "cell_type": "markdown",
   "id": "e5a88584",
   "metadata": {},
   "source": [
    "<hr style=\"border:1px solid gray\"> </hr>"
   ]
  },
  {
   "cell_type": "markdown",
   "id": "43bd07d7",
   "metadata": {},
   "source": [
    "## 1. Configuration\n",
    "------------------"
   ]
  },
  {
   "cell_type": "markdown",
   "id": "026a649d-a0d2-4e3f-ab6d-cf8c26e6ce1d",
   "metadata": {},
   "source": [
    "#### Install dependencies and parameters"
   ]
  },
  {
   "cell_type": "markdown",
   "id": "84b6c02c-a7cd-4999-96a0-87ce398d7e9a",
   "metadata": {},
   "source": [
    "To make sure that the pipeline version is compatabile with the steps\n",
    "discussed below and the required dependencies and packages are installed,\n",
    "you can create a fresh conda environment and install the provided\n",
    "`requirements.txt` file:\n",
    "```\n",
    "conda create -n niriss_ami_pipeline python=3.11\n",
    "conda activate niriss_ami_pipeline\n",
    "pip install -r requirements.txt\n",
    "```\n",
    "\n",
    "Set the basic parameters to use with this notebook. These will affect\n",
    "what data is used, where data is located (if already in disk), and\n",
    "pipeline modules run in this data. The list of parameters are:\n",
    "\n",
    "* demo_mode\n",
    "* directories with data\n",
    "* pipeline modules"
   ]
  },
  {
   "cell_type": "code",
   "execution_count": 1,
   "id": "06ea414c",
   "metadata": {
    "execution": {
     "iopub.execute_input": "2025-04-01T15:27:12.371601Z",
     "iopub.status.busy": "2025-04-01T15:27:12.371434Z",
     "iopub.status.idle": "2025-04-01T15:27:12.376540Z",
     "shell.execute_reply": "2025-04-01T15:27:12.376136Z"
    }
   },
   "outputs": [],
   "source": [
    "# Basic import necessary for configuration\n",
    "import os"
   ]
  },
  {
   "cell_type": "markdown",
   "id": "61bb14e6",
   "metadata": {},
   "source": [
    "<div class=\"alert alert-block alert-warning\">\n",
    "Note that <code>demo_mode</code> must be set appropriately below.\n",
    "</div>\n",
    "\n",
    "Set <code>demo_mode = True </code> to run in demonstration mode. In this\n",
    "mode this notebook will download example data from the Barbara A.\n",
    "Mikulski Archive for Space Telescopes ([MAST](https://archive.stsci.edu/)) \n",
    "and process it through the\n",
    "pipeline. This will all happen in a local directory unless modified\n",
    "in [Section 3](#3.-Demo-Mode-Setup-(ignore-if-not-using-demo-data))\n",
    "below.\n",
    "\n",
    "Set <code>demo_mode = False</code> if you want to process your own data\n",
    "that has already been downloaded and provide the location of the data.<br>"
   ]
  },
  {
   "cell_type": "code",
   "execution_count": 2,
   "id": "323f87d0",
   "metadata": {
    "execution": {
     "iopub.execute_input": "2025-04-01T15:27:12.378207Z",
     "iopub.status.busy": "2025-04-01T15:27:12.378042Z",
     "iopub.status.idle": "2025-04-01T15:27:12.382367Z",
     "shell.execute_reply": "2025-04-01T15:27:12.381897Z"
    }
   },
   "outputs": [
    {
     "name": "stdout",
     "output_type": "stream",
     "text": [
      "Running in demonstration mode using online example data!\n"
     ]
    }
   ],
   "source": [
    "# Set parameters for demo_mode, channel, band, data mode directories, and \n",
    "# processing steps.\n",
    "\n",
    "# -----------------------------Demo Mode---------------------------------\n",
    "demo_mode = True\n",
    "\n",
    "if demo_mode:\n",
    "    print('Running in demonstration mode using online example data!')\n",
    "\n",
    "# --------------------------User Mode Directories------------------------\n",
    "# If demo_mode = False, look for user data in these paths\n",
    "if not demo_mode:\n",
    "    # Set directory paths for processing specific data; these will need\n",
    "    # to be changed to your local directory setup (below are given as\n",
    "    # examples)\n",
    "    basedir = os.path.join(os.getcwd(), '')\n",
    "\n",
    "    # Point to where science observation data are\n",
    "    # Assumes uncalibrated data in sci_dir/uncal/ and results in stage1,\n",
    "    # stage2, stage3 directories\n",
    "    sci_dir = os.path.join(basedir, 'JWSTData/PID_1093/')\n",
    "    uncal_dir = os.path.join(sci_dir, 'uncal')  # Uncalibrated pipeline inputs should be here\n",
    "\n",
    "# --------------------------Set Processing Steps--------------------------\n",
    "# Individual pipeline stages can be turned on/off here.  Note that a later\n",
    "# stage won't be able to run unless data products have already been\n",
    "# produced from the prior stage.\n",
    "\n",
    "# Science processing\n",
    "dodet1 = True  # calwebb_detector1\n",
    "doimage2 = True  # calwebb_image2\n",
    "doami3 = True  # calwebb_ami3\n",
    "doviz = True  # Visualize calwebb_ami3 output"
   ]
  },
  {
   "cell_type": "markdown",
   "id": "1070079a",
   "metadata": {},
   "source": [
    "### Set CRDS context and server\n",
    "Before importing <code>CRDS</code> and <code>JWST</code> modules, we need\n",
    "to configure our environment. This includes defining a CRDS cache\n",
    "directory in which to keep the reference files that will be used by the\n",
    "calibration pipeline.\n",
    "\n",
    "If the root directory for the local CRDS cache directory has not been set\n",
    "already, it will be set to create one in the home directory."
   ]
  },
  {
   "cell_type": "code",
   "execution_count": 3,
   "id": "baf7070d",
   "metadata": {
    "execution": {
     "iopub.execute_input": "2025-04-01T15:27:12.383921Z",
     "iopub.status.busy": "2025-04-01T15:27:12.383760Z",
     "iopub.status.idle": "2025-04-01T15:27:12.387909Z",
     "shell.execute_reply": "2025-04-01T15:27:12.387372Z"
    }
   },
   "outputs": [
    {
     "name": "stdout",
     "output_type": "stream",
     "text": [
      "CRDS local filepath: /home/runner/crds\n",
      "CRDS file server: https://jwst-crds.stsci.edu\n"
     ]
    }
   ],
   "source": [
    "# ------------------------Set CRDS context and paths----------------------\n",
    "# Each version of the calibration pipeline is associated with a specific CRDS\n",
    "# context file. The pipeline will select the appropriate context file behind\n",
    "# the scenes while running. However, if you wish to override the default context\n",
    "# file and run the pipeline with a different context, you can set that using\n",
    "# the CRDS_CONTEXT environment variable. Here we show how this is done,\n",
    "# although we leave the line commented out in order to use the default context.\n",
    "# If you wish to specify a different context, uncomment the line below.\n",
    "#os.environ['CRDS_CONTEXT'] = 'jwst_1322.pmap'  # CRDS context for 1.16.0\n",
    "\n",
    "# Check whether the local CRDS cache directory has been set.\n",
    "# If not, set it to the user home directory\n",
    "if (os.getenv('CRDS_PATH') is None):\n",
    "    os.environ['CRDS_PATH'] = os.path.join(os.path.expanduser('~'), 'crds')\n",
    "    \n",
    "# Check whether the CRDS server URL has been set.  If not, set it.\n",
    "if (os.getenv('CRDS_SERVER_URL') is None):\n",
    "    os.environ['CRDS_SERVER_URL'] = 'https://jwst-crds.stsci.edu'\n",
    "\n",
    "# Echo CRDS path in use\n",
    "print(f\"CRDS local filepath: {os.environ['CRDS_PATH']}\")\n",
    "print(f\"CRDS file server: {os.environ['CRDS_SERVER_URL']}\")"
   ]
  },
  {
   "cell_type": "markdown",
   "id": "165cb98d",
   "metadata": {},
   "source": [
    "<hr style=\"border:1px solid gray\"> </hr>"
   ]
  },
  {
   "cell_type": "markdown",
   "id": "575588c8",
   "metadata": {},
   "source": [
    "## 2. Package Imports"
   ]
  },
  {
   "cell_type": "code",
   "execution_count": 4,
   "id": "4415f6d9",
   "metadata": {
    "execution": {
     "iopub.execute_input": "2025-04-01T15:27:12.389742Z",
     "iopub.status.busy": "2025-04-01T15:27:12.389578Z",
     "iopub.status.idle": "2025-04-01T15:27:12.395312Z",
     "shell.execute_reply": "2025-04-01T15:27:12.394860Z"
    }
   },
   "outputs": [
    {
     "data": {
      "text/html": [
       "<style>.container { width:95% !important; }</style>"
      ],
      "text/plain": [
       "<IPython.core.display.HTML object>"
      ]
     },
     "metadata": {},
     "output_type": "display_data"
    }
   ],
   "source": [
    "# Use the entire available screen width for this notebook\n",
    "from IPython.display import display, HTML\n",
    "display(HTML(\"<style>.container { width:95% !important; }</style>\"))"
   ]
  },
  {
   "cell_type": "code",
   "execution_count": 5,
   "id": "fb9f7f54-ff98-428b-9fa9-b39c50210c3a",
   "metadata": {
    "execution": {
     "iopub.execute_input": "2025-04-01T15:27:12.396835Z",
     "iopub.status.busy": "2025-04-01T15:27:12.396674Z",
     "iopub.status.idle": "2025-04-01T15:27:15.593745Z",
     "shell.execute_reply": "2025-04-01T15:27:15.593233Z"
    }
   },
   "outputs": [
    {
     "name": "stdout",
     "output_type": "stream",
     "text": [
      "JWST Calibration Pipeline Version: 1.17.1\n"
     ]
    },
    {
     "name": "stderr",
     "output_type": "stream",
     "text": [
      "CRDS - INFO -  Calibration SW Found: jwst 1.17.1 (/opt/hostedtoolcache/Python/3.11.11/x64/lib/python3.11/site-packages/jwst-1.17.1.dist-info)\n"
     ]
    },
    {
     "name": "stdout",
     "output_type": "stream",
     "text": [
      "Using CRDS Context: jwst_1322.pmap\n"
     ]
    }
   ],
   "source": [
    "# Basic system utilities for interacting with files\n",
    "# ----------------------General Imports------------------------------------\n",
    "import glob\n",
    "import time\n",
    "import json\n",
    "from pathlib import Path\n",
    "from collections import defaultdict\n",
    "\n",
    "# Numpy for doing calculations\n",
    "import numpy as np\n",
    "\n",
    "# -----------------------Astroquery Imports--------------------------------\n",
    "# ASCII files, and downloading demo files\n",
    "from astroquery.mast import Observations\n",
    "\n",
    "# For visualizing data\n",
    "import matplotlib.pyplot as plt\n",
    "from astropy.visualization import (MinMaxInterval, SqrtStretch,\n",
    "                                   ImageNormalize)\n",
    "\n",
    "# For file manipulation\n",
    "from astropy.io import fits\n",
    "import asdf\n",
    "\n",
    "# for JWST calibration pipeline\n",
    "import jwst\n",
    "import crds\n",
    "\n",
    "from jwst.pipeline import Detector1Pipeline\n",
    "from jwst.pipeline import Image2Pipeline\n",
    "from jwst.pipeline import Ami3Pipeline\n",
    "\n",
    "# JWST pipeline utilities\n",
    "from jwst import datamodels\n",
    "from jwst.associations import asn_from_list  # Tools for creating association files\n",
    "from jwst.associations.lib.rules_level3_base import DMS_Level3_Base  # Definition of a Lvl3 association file\n",
    "\n",
    "# Echo pipeline version and CRDS context in use\n",
    "print(f\"JWST Calibration Pipeline Version: {jwst.__version__}\")\n",
    "print(f\"Using CRDS Context: {crds.get_context_name('jwst')}\")"
   ]
  },
  {
   "cell_type": "code",
   "execution_count": 6,
   "id": "5844d476-f8b3-4c24-9c79-091d6016314d",
   "metadata": {
    "execution": {
     "iopub.execute_input": "2025-04-01T15:27:15.595625Z",
     "iopub.status.busy": "2025-04-01T15:27:15.595271Z",
     "iopub.status.idle": "2025-04-01T15:27:15.598031Z",
     "shell.execute_reply": "2025-04-01T15:27:15.597598Z"
    }
   },
   "outputs": [],
   "source": [
    "# Start a timer to keep track of runtime\n",
    "time0 = time.perf_counter()"
   ]
  },
  {
   "cell_type": "markdown",
   "id": "987d3f75",
   "metadata": {},
   "source": [
    "<hr style=\"border:1px solid gray\"> </hr>"
   ]
  },
  {
   "cell_type": "markdown",
   "id": "7ef8050f",
   "metadata": {},
   "source": [
    "## 3. Demo Mode Setup (ignore if not using demo data)\n",
    "------------------\n",
    "If running in demonstration mode, set up the program information to\n",
    "retrieve the uncalibrated data automatically from MAST using\n",
    "[astroquery](https://astroquery.readthedocs.io/en/latest/mast/mast.html).\n",
    "MAST has a dedicated service for JWST data retrieval, so the archive can\n",
    "be searched by instrument keywords rather than just filenames or proposal IDs.<br>\n",
    "\n",
    "The list of searchable keywords for filtered JWST MAST queries \n",
    "is [here](https://mast.stsci.edu/api/v0/_jwst_inst_keywd.html).<br>\n",
    "\n",
    "For illustrative purposes, we will use a single target and reference star pair. Each exposure was taken in the [F480W filter](https://jwst-docs.stsci.edu/jwst-near-infrared-imager-and-slitless-spectrograph/niriss-instrumentation/niriss-filters) filter with the [non-redundant mask (NRM)](https://jwst-docs.stsci.edu/jwst-near-infrared-imager-and-slitless-spectrograph/niriss-instrumentation/niriss-non-redundant-mask) that enables AMI in the pupil.\n",
    "\n",
    "We will start with uncalibrated data products. The files are named\n",
    "`jw010930nn001_03102_00001_nis_uncal.fits`, where *nn* refers to the\n",
    "observation number: in this case, observation 12 for the target and \n",
    "observation 15 for the reference star.\n",
    "\n",
    "More information about the JWST file naming conventions can be found at:\n",
    "https://jwst-pipeline.readthedocs.io/en/latest/jwst/data_products/file_naming.html"
   ]
  },
  {
   "cell_type": "code",
   "execution_count": 7,
   "id": "8d595f1e-2590-4f01-bb92-13bb43a22b3c",
   "metadata": {
    "execution": {
     "iopub.execute_input": "2025-04-01T15:27:15.599594Z",
     "iopub.status.busy": "2025-04-01T15:27:15.599432Z",
     "iopub.status.idle": "2025-04-01T15:27:15.604103Z",
     "shell.execute_reply": "2025-04-01T15:27:15.603654Z"
    }
   },
   "outputs": [
    {
     "name": "stdout",
     "output_type": "stream",
     "text": [
      "Running in demonstration mode and will download example data from MAST!\n"
     ]
    }
   ],
   "source": [
    "# Set up the program information and paths for demo program\n",
    "if demo_mode:\n",
    "    print('Running in demonstration mode and will download example data from MAST!')\n",
    "    program = '01093'\n",
    "    sci_observtn = ['012', '015']  # Obs 12 is the target, Obs 15 is the reference star\n",
    "    visit = '001'\n",
    "    visitgroup = '03'\n",
    "    seq_id = \"1\"\n",
    "    act_id = '02'\n",
    "    expnum = '00001'\n",
    "\n",
    "    # --------------Program and observation information--------------\n",
    "    data_dir = os.path.join('.', 'nis_ami_demo_data')\n",
    "    sci_dir = os.path.join(data_dir, 'PID_1093')\n",
    "    uncal_dir = os.path.join(sci_dir, 'uncal')  # Uncalibrated pipeline inputs should be here\n",
    "\n",
    "    if not os.path.exists(uncal_dir):\n",
    "        os.makedirs(uncal_dir)\n",
    "        \n",
    "    # Create directory if it does not exist\n",
    "    if not os.path.isdir(data_dir):\n",
    "        os.mkdir(data_dir)"
   ]
  },
  {
   "cell_type": "markdown",
   "id": "6674a8b8",
   "metadata": {},
   "source": [
    "Identify list of science (SCI) uncalibrated files associated with visits."
   ]
  },
  {
   "cell_type": "code",
   "execution_count": 8,
   "id": "a4b22375",
   "metadata": {
    "execution": {
     "iopub.execute_input": "2025-04-01T15:27:15.605675Z",
     "iopub.status.busy": "2025-04-01T15:27:15.605505Z",
     "iopub.status.idle": "2025-04-01T15:27:16.318720Z",
     "shell.execute_reply": "2025-04-01T15:27:16.318189Z"
    }
   },
   "outputs": [],
   "source": [
    "# Obtain a list of observation IDs for the specified demo program\n",
    "if demo_mode:\n",
    "    # Science data\n",
    "    sci_obs_id_table = Observations.query_criteria(instrument_name=[\"NIRISS/AMI\"],\n",
    "                                                   proposal_id=[program],\n",
    "                                                   filters=['F480M;NRM'],  # Data for Specific Filter\n",
    "                                                   obs_id=['jw' + program + '*'])"
   ]
  },
  {
   "cell_type": "code",
   "execution_count": 9,
   "id": "a666350e",
   "metadata": {
    "execution": {
     "iopub.execute_input": "2025-04-01T15:27:16.320419Z",
     "iopub.status.busy": "2025-04-01T15:27:16.320248Z",
     "iopub.status.idle": "2025-04-01T15:27:36.516222Z",
     "shell.execute_reply": "2025-04-01T15:27:36.515665Z"
    },
    "scrolled": true
   },
   "outputs": [
    {
     "name": "stdout",
     "output_type": "stream",
     "text": [
      "Science files selected for downloading: 2\n"
     ]
    }
   ],
   "source": [
    "# Turn the list of visits into a list of uncalibrated data files\n",
    "if demo_mode:\n",
    "    # Define types of files to select\n",
    "    file_dict = {'uncal': {'product_type': 'SCIENCE',\n",
    "                           'productSubGroupDescription': 'UNCAL',\n",
    "                           'calib_level': [1]}}\n",
    "\n",
    "    # Science files\n",
    "    sci_files = []\n",
    "    \n",
    "    # Loop over visits identifying uncalibrated files that are associated\n",
    "    # with them\n",
    "    for exposure in (sci_obs_id_table):\n",
    "        products = Observations.get_product_list(exposure)\n",
    "        for filetype, query_dict in file_dict.items():\n",
    "            filtered_products = Observations.filter_products(products, productType=query_dict['product_type'],\n",
    "                                                             productSubGroupDescription=query_dict['productSubGroupDescription'],\n",
    "                                                             calib_level=query_dict['calib_level'])\n",
    "            sci_files.extend(filtered_products['dataURI'])\n",
    "            \n",
    "    # Select only the exposures we want to use based on filename\n",
    "    # Construct the filenames and select files based on them\n",
    "    filestrings = ['jw' + program + sciobs + visit + '_' + visitgroup + seq_id + act_id + '_' + expnum for sciobs in sci_observtn]\n",
    "    sci_files_to_download = [scifile for scifile in sci_files if any(filestr in scifile for filestr in filestrings)]\n",
    "    sci_files_to_download = sorted(set(sci_files_to_download))\n",
    "    print(f\"Science files selected for downloading: {len(sci_files_to_download)}\")"
   ]
  },
  {
   "cell_type": "markdown",
   "id": "c36a54be",
   "metadata": {},
   "source": [
    "Download all the uncal files and place them into the appropriate\n",
    "directories.\n",
    "\n",
    "<div class=\"alert alert-block alert-warning\">\n",
    "Warning: If this notebook is halted during this step the downloaded file\n",
    "may be incomplete, and cause crashes later on!\n",
    "</div>"
   ]
  },
  {
   "cell_type": "code",
   "execution_count": 10,
   "id": "764fa682",
   "metadata": {
    "execution": {
     "iopub.execute_input": "2025-04-01T15:27:36.517894Z",
     "iopub.status.busy": "2025-04-01T15:27:36.517725Z",
     "iopub.status.idle": "2025-04-01T15:27:38.437798Z",
     "shell.execute_reply": "2025-04-01T15:27:38.437318Z"
    }
   },
   "outputs": [
    {
     "name": "stdout",
     "output_type": "stream",
     "text": [
      "Downloading URL https://mast.stsci.edu/api/v0.1/Download/file?uri=mast:JWST/product/jw01093012001_03102_00001_nis_uncal.fits to ./nis_ami_demo_data/PID_1093/uncal/jw01093012001_03102_00001_nis_uncal.fits ..."
     ]
    },
    {
     "name": "stdout",
     "output_type": "stream",
     "text": [
      " [Done]\n"
     ]
    },
    {
     "name": "stdout",
     "output_type": "stream",
     "text": [
      "Downloading URL https://mast.stsci.edu/api/v0.1/Download/file?uri=mast:JWST/product/jw01093015001_03102_00001_nis_uncal.fits to ./nis_ami_demo_data/PID_1093/uncal/jw01093015001_03102_00001_nis_uncal.fits ..."
     ]
    },
    {
     "name": "stdout",
     "output_type": "stream",
     "text": [
      " [Done]\n"
     ]
    }
   ],
   "source": [
    "if demo_mode:\n",
    "    for filename in sci_files_to_download:\n",
    "        sci_manifest = Observations.download_file(filename,\n",
    "                                                  local_path=os.path.join(uncal_dir, Path(filename).name))"
   ]
  },
  {
   "cell_type": "markdown",
   "id": "5b14864b",
   "metadata": {},
   "source": [
    "<hr style=\"border:1px solid gray\"> </hr>"
   ]
  },
  {
   "cell_type": "markdown",
   "id": "a6c51254-6295-4f98-bc25-d07300e0d8f4",
   "metadata": {},
   "source": [
    "## 4. Directory Setup\n",
    "---------------------\n",
    "Set up detailed paths to input/output stages here."
   ]
  },
  {
   "cell_type": "code",
   "execution_count": 11,
   "id": "bffbedc3-fbe3-4c56-ad18-85b5d0c7d880",
   "metadata": {
    "execution": {
     "iopub.execute_input": "2025-04-01T15:27:38.439590Z",
     "iopub.status.busy": "2025-04-01T15:27:38.439412Z",
     "iopub.status.idle": "2025-04-01T15:27:38.443819Z",
     "shell.execute_reply": "2025-04-01T15:27:38.443265Z"
    }
   },
   "outputs": [],
   "source": [
    "# Define output subdirectories to keep science data products organized\n",
    "# -----------------------------Science Directories------------------------------\n",
    "det1_dir = os.path.join(sci_dir, 'stage1')  # calwebb_detector1 pipeline outputs will go here\n",
    "image2_dir = os.path.join(sci_dir, 'stage2')  # calwebb_image2 pipeline outputs will go here\n",
    "ami3_dir = os.path.join(sci_dir, 'stage3')  # calwebb_ami3 pipeline outputs will go here\n",
    "\n",
    "# We need to check that the desired output directories exist, and if not create them\n",
    "# Ensure filepaths for input data exist\n",
    "if not os.path.exists(uncal_dir):\n",
    "    os.makedirs(uncal_dir)\n",
    " \n",
    "if not os.path.exists(det1_dir):\n",
    "    os.makedirs(det1_dir)\n",
    "if not os.path.exists(image2_dir):\n",
    "    os.makedirs(image2_dir)\n",
    "if not os.path.exists(ami3_dir):\n",
    "    os.makedirs(ami3_dir)"
   ]
  },
  {
   "cell_type": "markdown",
   "id": "1cd8e6a7-433d-4e5b-a832-46f0bc96a0fe",
   "metadata": {},
   "source": [
    "Look at the files to determine exposure parameters and practice using JWST datamodels:"
   ]
  },
  {
   "cell_type": "code",
   "execution_count": 12,
   "id": "f767a7fa-50cb-4411-8aef-a32b7fde8917",
   "metadata": {
    "execution": {
     "iopub.execute_input": "2025-04-01T15:27:38.445562Z",
     "iopub.status.busy": "2025-04-01T15:27:38.445399Z",
     "iopub.status.idle": "2025-04-01T15:27:39.115924Z",
     "shell.execute_reply": "2025-04-01T15:27:39.115400Z"
    }
   },
   "outputs": [
    {
     "name": "stdout",
     "output_type": "stream",
     "text": [
      "jw01093012001_03102_00001_nis_uncal.fits\n",
      "Instrument: NIRISS\n",
      "Filter: F480M\n",
      "Pupil: NRM\n",
      "Number of integrations: 69\n",
      "Number of groups: 5\n",
      "Readout pattern: NISRAPID\n",
      "Dither position number: 1\n",
      "\n",
      "\n",
      "jw01093015001_03102_00001_nis_uncal.fits\n",
      "Instrument: NIRISS\n",
      "Filter: F480M\n",
      "Pupil: NRM\n",
      "Number of integrations: 61\n",
      "Number of groups: 12\n",
      "Readout pattern: NISRAPID\n",
      "Dither position number: 1\n",
      "\n",
      "\n"
     ]
    }
   ],
   "source": [
    "uncal_files = sorted(glob.glob(os.path.join(uncal_dir, '*_uncal.fits')))\n",
    "\n",
    "# Open file as JWST datamodels\n",
    "# Obs 12 is the target, Obs 15 is the reference star so they are (targ, ref) order when list is sorted\n",
    "uncal_targ = datamodels.open(uncal_files[0])\n",
    "uncal_ref = datamodels.open(uncal_files[1])\n",
    "\n",
    "for uncal_f in [uncal_targ, uncal_ref]:\n",
    "    # print file name\n",
    "    print(uncal_f.meta.filename)\n",
    "    # Print out exposure info\n",
    "    print(f\"Instrument: {uncal_f.meta.instrument.name}\")\n",
    "    print(f\"Filter: {uncal_f.meta.instrument.filter}\")\n",
    "    print(f\"Pupil: {uncal_f.meta.instrument.pupil}\")\n",
    "    print(f\"Number of integrations: {uncal_f.meta.exposure.nints}\")\n",
    "    print(f\"Number of groups: {uncal_f.meta.exposure.ngroups}\")\n",
    "    print(f\"Readout pattern: {uncal_f.meta.exposure.readpatt}\")\n",
    "    print(f\"Dither position number: {uncal_f.meta.dither.position_number}\")\n",
    "    print(\"\\n\")"
   ]
  },
  {
   "cell_type": "markdown",
   "id": "0469a648-9bb1-40f9-9f8b-fb3a29bc5c7f",
   "metadata": {},
   "source": [
    "From the above, we confirm that the data files are for the NIRISS instrument\n",
    "using the `F480M` filter in the [Filter Wheel](https://jwst-docs.stsci.edu/jwst-near-infrared-imager-and-slitless-spectrograph/niriss-instrumentation/niriss-pupil-and-filter-wheels)\n",
    "and the `NRM` in the Pupil Wheel. \n",
    "\n",
    "Both exposures use the [`NISRAPID` readout pattern](https://jwst-docs.stsci.edu/jwst-near-infrared-imager-and-slitless-spectrograph/niriss-instrumentation/niriss-detector-overview/niriss-detector-readout-patterns). The target has 5 groups per integration, and 69 integrations per exposure. The reference star has 12 groups per integration, and 61 integrations per exposure. They were taken at the same dither position; primary dither pattern position 1.\n",
    "\n",
    "For more information about how JWST exposures are defined by up-the-ramp sampling, see the\n",
    "[Understanding Exposure Times JDox article](https://jwst-docs.stsci.edu/understanding-exposure-times).\n"
   ]
  },
  {
   "cell_type": "markdown",
   "id": "9b3af10d-6233-4893-834e-0c8614686938",
   "metadata": {},
   "source": [
    "The above image shows one group of one integration of the target and reference star's `uncal` data, displayed side by side on a square-root stretch. The source is faintly visible but the images appear quite noisy. The data is in units of DN (data number, or counts). The pixels with high values appear as bright dots; we expect them to be flagged as bad pixels during the first pipeline stage."
   ]
  },
  {
   "cell_type": "code",
   "execution_count": 13,
   "id": "f843ff7f-58b6-4294-bfaa-606c29abc524",
   "metadata": {
    "execution": {
     "iopub.execute_input": "2025-04-01T15:27:39.117675Z",
     "iopub.status.busy": "2025-04-01T15:27:39.117502Z",
     "iopub.status.idle": "2025-04-01T15:27:39.120343Z",
     "shell.execute_reply": "2025-04-01T15:27:39.119850Z"
    }
   },
   "outputs": [
    {
     "name": "stdout",
     "output_type": "stream",
     "text": [
      "Runtime so far: 24 seconds\n"
     ]
    }
   ],
   "source": [
    "# Print out the time benchmark\n",
    "time1 = time.perf_counter()\n",
    "print(f\"Runtime so far: {time1 - time0:0.0f} seconds\")"
   ]
  },
  {
   "cell_type": "markdown",
   "id": "97528f9b",
   "metadata": {},
   "source": [
    "<hr style=\"border:1px solid gray\"> </hr>"
   ]
  },
  {
   "cell_type": "markdown",
   "id": "267e28e0-a63f-4790-b8a0-3ad4bff5a167",
   "metadata": {},
   "source": [
    "## 5. Detector1 Pipeline\n",
    "Run the datasets through the\n",
    "[Detector1](https://jwst-docs.stsci.edu/jwst-science-calibration-pipeline-overview/stages-of-jwst-data-processing/calwebb_detector1)\n",
    "stage of the pipeline to apply detector level calibrations and create a\n",
    "countrate data product where slopes are fitted to the integration ramps.\n",
    "These `*_rateints.fits` products are 3D (nintegrations x nrows x ncols)\n",
    "and contain the fitted ramp slopes for each integration.\n",
    "2D countrate data products (`*_rate.fits`) are also\n",
    "created (nrows x ncols) which have been averaged over all\n",
    "integrations.\n",
    "\n",
    "By default, all steps in the Detector1 stage of the pipeline are run for\n",
    "NIRISS except: the `ipc` correction step and the `gain_scale` step. Note\n",
    "that while the [`persistence` step](https://jwst-pipeline.readthedocs.io/en/latest/jwst/persistence/description.html)\n",
    "is set to run by default, this step does not automatically correct the\n",
    "science data for persistence. The `persistence` step creates a\n",
    "`*_trapsfilled.fits` file which is a model that records the number\n",
    "of traps filled at each pixel at the end of an exposure. This file would be\n",
    "used as an input to the `persistence` step, via the `input_trapsfilled`\n",
    "argument, to correct a science exposure for persistence. Since persistence\n",
    "is not well calibrated for NIRISS, we do not perform a persistence\n",
    "correction and thus turn off this step to speed up calibration and to not\n",
    "create files that will not be used in the subsequent analysis. This step\n",
    "can be turned off when running the pipeline in Python by doing:\n",
    "```\n",
    "rate_result = Detector1Pipeline.call(uncal,steps={'persistence': {'skip': True}})\n",
    "```\n",
    "or as indicated in the cell bellow using a dictionary.\n",
    "\n",
    "The [charge_migration step](https://jwst-pipeline.readthedocs.io/en/latest/jwst/charge_migration/index.html#charge-migration-step)\n",
    "is particularly important for NIRISS images to mitigate apparent flux loss\n",
    "in resampled images due to the spilling of charge from a central pixel into\n",
    "its neighboring pixels (see [Goudfrooij et al. 2023](https://ui.adsabs.harvard.edu/abs/2023arXiv231116301G/abstract)\n",
    "for details). Charge migration occurs when the accumulated charge in a\n",
    "central pixel exceeds a certain signal limit, which is ~25,000 ADU. This\n",
    "step is turned on by default for NIRISS imaging mode when using CRDS\n",
    "contexts of `jwst_1159.pmap` or later. Different signal limits for each filter are provided by the\n",
    "[pars-chargemigrationstep parameter files](https://jwst-crds.stsci.edu).\n",
    "Users can specify a different signal limit by running this step with the\n",
    "`signal_threshold` flag and entering another signal limit in units of ADU.\n",
    "The effect is stronger when there is high contrast between a bright pixel and neighboring faint pixel,\n",
    "as is the case for the strongly peaked AMI PSF.\n",
    "\n",
    "For AMI mode, preliminary investigation shows that dark subtraction does not improve calibration,\n",
    "and may in fact have a detrimental effect, so we turn it off here. \n"
   ]
  },
  {
   "cell_type": "code",
   "execution_count": 14,
   "id": "3592ee58-b424-4bd6-973b-88fd081b81d4",
   "metadata": {
    "execution": {
     "iopub.execute_input": "2025-04-01T15:27:39.121896Z",
     "iopub.status.busy": "2025-04-01T15:27:39.121728Z",
     "iopub.status.idle": "2025-04-01T15:27:39.125433Z",
     "shell.execute_reply": "2025-04-01T15:27:39.125003Z"
    }
   },
   "outputs": [],
   "source": [
    "# Set up a dictionary to define how the Detector1 pipeline should be configured\n",
    "\n",
    "# Boilerplate dictionary setup\n",
    "det1dict = defaultdict(dict)\n",
    "\n",
    "# Step names are copied here for reference\n",
    "det1_steps = ['group_scale', 'dq_init', 'saturation', 'ipc', 'superbias', 'refpix',\n",
    "              'linearity', 'persistence', 'dark_current', 'charge_migration',\n",
    "              'jump', 'ramp_fit', 'gain_scale']\n",
    "\n",
    "# Overrides for whether or not certain steps should be skipped\n",
    "# skipping the ipc, persistence, and dark steps\n",
    "det1dict['ipc']['skip'] = True\n",
    "det1dict['persistence']['skip'] = True\n",
    "det1dict['dark_current']['skip'] = True\n",
    "\n",
    "# Overrides for various reference files\n",
    "# Files should be in the base local directory or provide full path\n",
    "#det1dict['dq_init']['override_mask'] = 'myfile.fits'  # Bad pixel mask\n",
    "#det1dict['saturation']['override_saturation'] = 'myfile.fits'  # Saturation\n",
    "#det1dict['linearity']['override_linearity'] = 'myfile.fits'  # Linearity\n",
    "#det1dict['dark_current']['override_dark'] = 'myfile.fits'  # Dark current subtraction\n",
    "#det1dict['jump']['override_gain'] = 'myfile.fits'  # Gain used by jump step\n",
    "#det1dict['ramp_fit']['override_gain'] = 'myfile.fits'  # Gain used by ramp fitting step\n",
    "#det1dict['jump']['override_readnoise'] = 'myfile.fits'  # Read noise used by jump step\n",
    "#det1dict['ramp_fit']['override_readnoise'] = 'myfile.fits'  # Read noise used by ramp fitting step\n",
    "\n",
    "# Turn on multi-core processing (off by default). Choose what fraction of cores to use (quarter, half, or all)\n",
    "det1dict['jump']['maximum_cores'] = 'half'\n",
    "\n",
    "# Alter parameters of certain steps (example)\n",
    "#det1dict['charge_migration']['signal_threshold'] = X"
   ]
  },
  {
   "cell_type": "markdown",
   "id": "d8a5cc11",
   "metadata": {},
   "source": [
    "The `clean_flicker_noise` step removes 1/f noise from calibrated ramp images, after the jump step and prior to performing the ramp_fitting step. However, this step has not been extensively tested for the NIRISS AMI subarray and is thus not recommended at the present time."
   ]
  },
  {
   "cell_type": "markdown",
   "id": "0a13db72-1310-4ef8-acf9-f326a0767566",
   "metadata": {},
   "source": [
    "Run Detector1 stage of pipeline"
   ]
  },
  {
   "cell_type": "code",
   "execution_count": 15,
   "id": "0f8f107b-5f80-4674-bc34-2d88791e4409",
   "metadata": {
    "execution": {
     "iopub.execute_input": "2025-04-01T15:27:39.127004Z",
     "iopub.status.busy": "2025-04-01T15:27:39.126819Z",
     "iopub.status.idle": "2025-04-01T15:28:50.314644Z",
     "shell.execute_reply": "2025-04-01T15:28:50.314085Z"
    },
    "scrolled": true
   },
   "outputs": [
    {
     "name": "stderr",
     "output_type": "stream",
     "text": [
      "2025-04-01 15:27:40,212 - CRDS - INFO -  Fetching  /home/runner/crds/mappings/jwst/jwst_system_datalvl_0002.rmap      694 bytes  (1 / 202 files) (0 / 722.8 K bytes)\n"
     ]
    },
    {
     "name": "stderr",
     "output_type": "stream",
     "text": [
      "2025-04-01 15:27:40,439 - CRDS - INFO -  Fetching  /home/runner/crds/mappings/jwst/jwst_system_calver_0046.rmap    5.2 K bytes  (2 / 202 files) (694 / 722.8 K bytes)\n"
     ]
    },
    {
     "name": "stderr",
     "output_type": "stream",
     "text": [
      "2025-04-01 15:27:40,660 - CRDS - INFO -  Fetching  /home/runner/crds/mappings/jwst/jwst_system_0045.imap        385 bytes  (3 / 202 files) (5.9 K / 722.8 K bytes)\n"
     ]
    },
    {
     "name": "stderr",
     "output_type": "stream",
     "text": [
      "2025-04-01 15:27:40,943 - CRDS - INFO -  Fetching  /home/runner/crds/mappings/jwst/jwst_nirspec_wavelengthrange_0024.rmap    1.4 K bytes  (4 / 202 files) (6.3 K / 722.8 K bytes)\n"
     ]
    },
    {
     "name": "stderr",
     "output_type": "stream",
     "text": [
      "2025-04-01 15:27:41,169 - CRDS - INFO -  Fetching  /home/runner/crds/mappings/jwst/jwst_nirspec_wavecorr_0005.rmap      884 bytes  (5 / 202 files) (7.7 K / 722.8 K bytes)\n"
     ]
    },
    {
     "name": "stderr",
     "output_type": "stream",
     "text": [
      "2025-04-01 15:27:41,391 - CRDS - INFO -  Fetching  /home/runner/crds/mappings/jwst/jwst_nirspec_superbias_0074.rmap   33.8 K bytes  (6 / 202 files) (8.5 K / 722.8 K bytes)\n"
     ]
    },
    {
     "name": "stderr",
     "output_type": "stream",
     "text": [
      "2025-04-01 15:27:41,687 - CRDS - INFO -  Fetching  /home/runner/crds/mappings/jwst/jwst_nirspec_sflat_0026.rmap   20.6 K bytes  (7 / 202 files) (42.3 K / 722.8 K bytes)\n"
     ]
    },
    {
     "name": "stderr",
     "output_type": "stream",
     "text": [
      "2025-04-01 15:27:41,970 - CRDS - INFO -  Fetching  /home/runner/crds/mappings/jwst/jwst_nirspec_saturation_0018.rmap    2.0 K bytes  (8 / 202 files) (62.9 K / 722.8 K bytes)\n"
     ]
    },
    {
     "name": "stderr",
     "output_type": "stream",
     "text": [
      "2025-04-01 15:27:42,199 - CRDS - INFO -  Fetching  /home/runner/crds/mappings/jwst/jwst_nirspec_refpix_0015.rmap    1.6 K bytes  (9 / 202 files) (64.9 K / 722.8 K bytes)\n"
     ]
    },
    {
     "name": "stderr",
     "output_type": "stream",
     "text": [
      "2025-04-01 15:27:42,435 - CRDS - INFO -  Fetching  /home/runner/crds/mappings/jwst/jwst_nirspec_readnoise_0025.rmap    2.6 K bytes  (10 / 202 files) (66.5 K / 722.8 K bytes)\n"
     ]
    },
    {
     "name": "stderr",
     "output_type": "stream",
     "text": [
      "2025-04-01 15:27:42,664 - CRDS - INFO -  Fetching  /home/runner/crds/mappings/jwst/jwst_nirspec_photom_0013.rmap      958 bytes  (11 / 202 files) (69.1 K / 722.8 K bytes)\n"
     ]
    },
    {
     "name": "stderr",
     "output_type": "stream",
     "text": [
      "2025-04-01 15:27:42,942 - CRDS - INFO -  Fetching  /home/runner/crds/mappings/jwst/jwst_nirspec_pathloss_0008.rmap    1.2 K bytes  (12 / 202 files) (70.0 K / 722.8 K bytes)\n"
     ]
    },
    {
     "name": "stderr",
     "output_type": "stream",
     "text": [
      "2025-04-01 15:27:43,171 - CRDS - INFO -  Fetching  /home/runner/crds/mappings/jwst/jwst_nirspec_pars-whitelightstep_0001.rmap      777 bytes  (13 / 202 files) (71.2 K / 722.8 K bytes)\n"
     ]
    },
    {
     "name": "stderr",
     "output_type": "stream",
     "text": [
      "2025-04-01 15:27:43,395 - CRDS - INFO -  Fetching  /home/runner/crds/mappings/jwst/jwst_nirspec_pars-spec2pipeline_0013.rmap    2.1 K bytes  (14 / 202 files) (72.0 K / 722.8 K bytes)\n"
     ]
    },
    {
     "name": "stderr",
     "output_type": "stream",
     "text": [
      "2025-04-01 15:27:43,621 - CRDS - INFO -  Fetching  /home/runner/crds/mappings/jwst/jwst_nirspec_pars-resamplespecstep_0002.rmap      709 bytes  (15 / 202 files) (74.1 K / 722.8 K bytes)\n"
     ]
    },
    {
     "name": "stderr",
     "output_type": "stream",
     "text": [
      "2025-04-01 15:27:43,917 - CRDS - INFO -  Fetching  /home/runner/crds/mappings/jwst/jwst_nirspec_pars-outlierdetectionstep_0005.rmap    1.1 K bytes  (16 / 202 files) (74.8 K / 722.8 K bytes)\n"
     ]
    },
    {
     "name": "stderr",
     "output_type": "stream",
     "text": [
      "2025-04-01 15:27:44,141 - CRDS - INFO -  Fetching  /home/runner/crds/mappings/jwst/jwst_nirspec_pars-jumpstep_0005.rmap      810 bytes  (17 / 202 files) (76.0 K / 722.8 K bytes)\n"
     ]
    },
    {
     "name": "stderr",
     "output_type": "stream",
     "text": [
      "2025-04-01 15:27:44,374 - CRDS - INFO -  Fetching  /home/runner/crds/mappings/jwst/jwst_nirspec_pars-image2pipeline_0008.rmap    1.0 K bytes  (18 / 202 files) (76.8 K / 722.8 K bytes)\n"
     ]
    },
    {
     "name": "stderr",
     "output_type": "stream",
     "text": [
      "2025-04-01 15:27:44,600 - CRDS - INFO -  Fetching  /home/runner/crds/mappings/jwst/jwst_nirspec_pars-detector1pipeline_0003.rmap    1.1 K bytes  (19 / 202 files) (77.8 K / 722.8 K bytes)\n"
     ]
    },
    {
     "name": "stderr",
     "output_type": "stream",
     "text": [
      "2025-04-01 15:27:44,826 - CRDS - INFO -  Fetching  /home/runner/crds/mappings/jwst/jwst_nirspec_pars-darkpipeline_0003.rmap      872 bytes  (20 / 202 files) (78.8 K / 722.8 K bytes)\n"
     ]
    },
    {
     "name": "stderr",
     "output_type": "stream",
     "text": [
      "2025-04-01 15:27:45,059 - CRDS - INFO -  Fetching  /home/runner/crds/mappings/jwst/jwst_nirspec_pars-darkcurrentstep_0001.rmap      622 bytes  (21 / 202 files) (79.7 K / 722.8 K bytes)\n"
     ]
    },
    {
     "name": "stderr",
     "output_type": "stream",
     "text": [
      "2025-04-01 15:27:45,302 - CRDS - INFO -  Fetching  /home/runner/crds/mappings/jwst/jwst_nirspec_ote_0030.rmap    1.3 K bytes  (22 / 202 files) (80.3 K / 722.8 K bytes)\n"
     ]
    },
    {
     "name": "stderr",
     "output_type": "stream",
     "text": [
      "2025-04-01 15:27:45,523 - CRDS - INFO -  Fetching  /home/runner/crds/mappings/jwst/jwst_nirspec_msaoper_0016.rmap    1.5 K bytes  (23 / 202 files) (81.6 K / 722.8 K bytes)\n"
     ]
    },
    {
     "name": "stderr",
     "output_type": "stream",
     "text": [
      "2025-04-01 15:27:45,748 - CRDS - INFO -  Fetching  /home/runner/crds/mappings/jwst/jwst_nirspec_msa_0027.rmap    1.3 K bytes  (24 / 202 files) (83.1 K / 722.8 K bytes)\n"
     ]
    },
    {
     "name": "stderr",
     "output_type": "stream",
     "text": [
      "2025-04-01 15:27:45,981 - CRDS - INFO -  Fetching  /home/runner/crds/mappings/jwst/jwst_nirspec_mask_0039.rmap    2.7 K bytes  (25 / 202 files) (84.3 K / 722.8 K bytes)\n"
     ]
    },
    {
     "name": "stderr",
     "output_type": "stream",
     "text": [
      "2025-04-01 15:27:46,212 - CRDS - INFO -  Fetching  /home/runner/crds/mappings/jwst/jwst_nirspec_linearity_0017.rmap    1.6 K bytes  (26 / 202 files) (87.0 K / 722.8 K bytes)\n"
     ]
    },
    {
     "name": "stderr",
     "output_type": "stream",
     "text": [
      "2025-04-01 15:27:46,433 - CRDS - INFO -  Fetching  /home/runner/crds/mappings/jwst/jwst_nirspec_ipc_0006.rmap      876 bytes  (27 / 202 files) (88.6 K / 722.8 K bytes)\n"
     ]
    },
    {
     "name": "stderr",
     "output_type": "stream",
     "text": [
      "2025-04-01 15:27:46,715 - CRDS - INFO -  Fetching  /home/runner/crds/mappings/jwst/jwst_nirspec_ifuslicer_0017.rmap    1.5 K bytes  (28 / 202 files) (89.5 K / 722.8 K bytes)\n"
     ]
    },
    {
     "name": "stderr",
     "output_type": "stream",
     "text": [
      "2025-04-01 15:27:46,997 - CRDS - INFO -  Fetching  /home/runner/crds/mappings/jwst/jwst_nirspec_ifupost_0019.rmap    1.5 K bytes  (29 / 202 files) (91.0 K / 722.8 K bytes)\n"
     ]
    },
    {
     "name": "stderr",
     "output_type": "stream",
     "text": [
      "2025-04-01 15:27:47,219 - CRDS - INFO -  Fetching  /home/runner/crds/mappings/jwst/jwst_nirspec_ifufore_0017.rmap    1.5 K bytes  (30 / 202 files) (92.5 K / 722.8 K bytes)\n"
     ]
    },
    {
     "name": "stderr",
     "output_type": "stream",
     "text": [
      "2025-04-01 15:27:47,445 - CRDS - INFO -  Fetching  /home/runner/crds/mappings/jwst/jwst_nirspec_gain_0023.rmap    1.8 K bytes  (31 / 202 files) (94.0 K / 722.8 K bytes)\n"
     ]
    },
    {
     "name": "stderr",
     "output_type": "stream",
     "text": [
      "2025-04-01 15:27:47,674 - CRDS - INFO -  Fetching  /home/runner/crds/mappings/jwst/jwst_nirspec_fpa_0028.rmap    1.3 K bytes  (32 / 202 files) (95.7 K / 722.8 K bytes)\n"
     ]
    },
    {
     "name": "stderr",
     "output_type": "stream",
     "text": [
      "2025-04-01 15:27:47,902 - CRDS - INFO -  Fetching  /home/runner/crds/mappings/jwst/jwst_nirspec_fore_0026.rmap    5.0 K bytes  (33 / 202 files) (97.0 K / 722.8 K bytes)\n"
     ]
    },
    {
     "name": "stderr",
     "output_type": "stream",
     "text": [
      "2025-04-01 15:27:48,135 - CRDS - INFO -  Fetching  /home/runner/crds/mappings/jwst/jwst_nirspec_flat_0015.rmap    3.8 K bytes  (34 / 202 files) (102.0 K / 722.8 K bytes)\n"
     ]
    },
    {
     "name": "stderr",
     "output_type": "stream",
     "text": [
      "2025-04-01 15:27:48,421 - CRDS - INFO -  Fetching  /home/runner/crds/mappings/jwst/jwst_nirspec_fflat_0026.rmap    7.2 K bytes  (35 / 202 files) (105.8 K / 722.8 K bytes)\n"
     ]
    },
    {
     "name": "stderr",
     "output_type": "stream",
     "text": [
      "2025-04-01 15:27:48,703 - CRDS - INFO -  Fetching  /home/runner/crds/mappings/jwst/jwst_nirspec_extract1d_0018.rmap    2.3 K bytes  (36 / 202 files) (113.0 K / 722.8 K bytes)\n"
     ]
    },
    {
     "name": "stderr",
     "output_type": "stream",
     "text": [
      "2025-04-01 15:27:48,925 - CRDS - INFO -  Fetching  /home/runner/crds/mappings/jwst/jwst_nirspec_disperser_0028.rmap    5.7 K bytes  (37 / 202 files) (115.3 K / 722.8 K bytes)\n"
     ]
    },
    {
     "name": "stderr",
     "output_type": "stream",
     "text": [
      "2025-04-01 15:27:49,212 - CRDS - INFO -  Fetching  /home/runner/crds/mappings/jwst/jwst_nirspec_dflat_0007.rmap    1.1 K bytes  (38 / 202 files) (121.0 K / 722.8 K bytes)\n"
     ]
    },
    {
     "name": "stderr",
     "output_type": "stream",
     "text": [
      "2025-04-01 15:27:49,436 - CRDS - INFO -  Fetching  /home/runner/crds/mappings/jwst/jwst_nirspec_dark_0069.rmap   32.6 K bytes  (39 / 202 files) (122.1 K / 722.8 K bytes)\n"
     ]
    },
    {
     "name": "stderr",
     "output_type": "stream",
     "text": [
      "2025-04-01 15:27:49,785 - CRDS - INFO -  Fetching  /home/runner/crds/mappings/jwst/jwst_nirspec_cubepar_0015.rmap      966 bytes  (40 / 202 files) (154.7 K / 722.8 K bytes)\n"
     ]
    },
    {
     "name": "stderr",
     "output_type": "stream",
     "text": [
      "2025-04-01 15:27:50,009 - CRDS - INFO -  Fetching  /home/runner/crds/mappings/jwst/jwst_nirspec_collimator_0026.rmap    1.3 K bytes  (41 / 202 files) (155.7 K / 722.8 K bytes)\n"
     ]
    },
    {
     "name": "stderr",
     "output_type": "stream",
     "text": [
      "2025-04-01 15:27:50,233 - CRDS - INFO -  Fetching  /home/runner/crds/mappings/jwst/jwst_nirspec_camera_0026.rmap    1.3 K bytes  (42 / 202 files) (157.0 K / 722.8 K bytes)\n"
     ]
    },
    {
     "name": "stderr",
     "output_type": "stream",
     "text": [
      "2025-04-01 15:27:50,464 - CRDS - INFO -  Fetching  /home/runner/crds/mappings/jwst/jwst_nirspec_barshadow_0007.rmap    1.8 K bytes  (43 / 202 files) (158.3 K / 722.8 K bytes)\n"
     ]
    },
    {
     "name": "stderr",
     "output_type": "stream",
     "text": [
      "2025-04-01 15:27:50,688 - CRDS - INFO -  Fetching  /home/runner/crds/mappings/jwst/jwst_nirspec_area_0018.rmap    6.3 K bytes  (44 / 202 files) (160.1 K / 722.8 K bytes)\n"
     ]
    },
    {
     "name": "stderr",
     "output_type": "stream",
     "text": [
      "2025-04-01 15:27:50,908 - CRDS - INFO -  Fetching  /home/runner/crds/mappings/jwst/jwst_nirspec_apcorr_0009.rmap    5.6 K bytes  (45 / 202 files) (166.4 K / 722.8 K bytes)\n"
     ]
    },
    {
     "name": "stderr",
     "output_type": "stream",
     "text": [
      "2025-04-01 15:27:51,192 - CRDS - INFO -  Fetching  /home/runner/crds/mappings/jwst/jwst_nirspec_0387.imap     5.7 K bytes  (46 / 202 files) (171.9 K / 722.8 K bytes)\n"
     ]
    },
    {
     "name": "stderr",
     "output_type": "stream",
     "text": [
      "2025-04-01 15:27:51,417 - CRDS - INFO -  Fetching  /home/runner/crds/mappings/jwst/jwst_niriss_wfssbkg_0008.rmap    3.1 K bytes  (47 / 202 files) (177.7 K / 722.8 K bytes)\n"
     ]
    },
    {
     "name": "stderr",
     "output_type": "stream",
     "text": [
      "2025-04-01 15:27:51,641 - CRDS - INFO -  Fetching  /home/runner/crds/mappings/jwst/jwst_niriss_wavemap_0008.rmap    2.2 K bytes  (48 / 202 files) (180.8 K / 722.8 K bytes)\n"
     ]
    },
    {
     "name": "stderr",
     "output_type": "stream",
     "text": [
      "2025-04-01 15:27:51,862 - CRDS - INFO -  Fetching  /home/runner/crds/mappings/jwst/jwst_niriss_wavelengthrange_0006.rmap      862 bytes  (49 / 202 files) (183.0 K / 722.8 K bytes)\n"
     ]
    },
    {
     "name": "stderr",
     "output_type": "stream",
     "text": [
      "2025-04-01 15:27:52,145 - CRDS - INFO -  Fetching  /home/runner/crds/mappings/jwst/jwst_niriss_trappars_0004.rmap      753 bytes  (50 / 202 files) (183.9 K / 722.8 K bytes)\n"
     ]
    },
    {
     "name": "stderr",
     "output_type": "stream",
     "text": [
      "2025-04-01 15:27:52,372 - CRDS - INFO -  Fetching  /home/runner/crds/mappings/jwst/jwst_niriss_trapdensity_0005.rmap      705 bytes  (51 / 202 files) (184.6 K / 722.8 K bytes)\n"
     ]
    },
    {
     "name": "stderr",
     "output_type": "stream",
     "text": [
      "2025-04-01 15:27:52,653 - CRDS - INFO -  Fetching  /home/runner/crds/mappings/jwst/jwst_niriss_throughput_0005.rmap    1.3 K bytes  (52 / 202 files) (185.3 K / 722.8 K bytes)\n"
     ]
    },
    {
     "name": "stderr",
     "output_type": "stream",
     "text": [
      "2025-04-01 15:27:52,945 - CRDS - INFO -  Fetching  /home/runner/crds/mappings/jwst/jwst_niriss_superbias_0030.rmap    7.4 K bytes  (53 / 202 files) (186.6 K / 722.8 K bytes)\n"
     ]
    },
    {
     "name": "stderr",
     "output_type": "stream",
     "text": [
      "2025-04-01 15:27:53,179 - CRDS - INFO -  Fetching  /home/runner/crds/mappings/jwst/jwst_niriss_specwcs_0014.rmap    3.1 K bytes  (54 / 202 files) (194.0 K / 722.8 K bytes)\n"
     ]
    },
    {
     "name": "stderr",
     "output_type": "stream",
     "text": [
      "2025-04-01 15:27:53,403 - CRDS - INFO -  Fetching  /home/runner/crds/mappings/jwst/jwst_niriss_spectrace_0008.rmap    2.3 K bytes  (55 / 202 files) (197.1 K / 722.8 K bytes)\n"
     ]
    },
    {
     "name": "stderr",
     "output_type": "stream",
     "text": [
      "2025-04-01 15:27:53,627 - CRDS - INFO -  Fetching  /home/runner/crds/mappings/jwst/jwst_niriss_specprofile_0008.rmap    2.4 K bytes  (56 / 202 files) (199.5 K / 722.8 K bytes)\n"
     ]
    },
    {
     "name": "stderr",
     "output_type": "stream",
     "text": [
      "2025-04-01 15:27:53,851 - CRDS - INFO -  Fetching  /home/runner/crds/mappings/jwst/jwst_niriss_speckernel_0006.rmap    1.0 K bytes  (57 / 202 files) (201.8 K / 722.8 K bytes)\n"
     ]
    },
    {
     "name": "stderr",
     "output_type": "stream",
     "text": [
      "2025-04-01 15:27:54,075 - CRDS - INFO -  Fetching  /home/runner/crds/mappings/jwst/jwst_niriss_saturation_0015.rmap      829 bytes  (58 / 202 files) (202.9 K / 722.8 K bytes)\n"
     ]
    },
    {
     "name": "stderr",
     "output_type": "stream",
     "text": [
      "2025-04-01 15:27:54,298 - CRDS - INFO -  Fetching  /home/runner/crds/mappings/jwst/jwst_niriss_readnoise_0011.rmap      987 bytes  (59 / 202 files) (203.7 K / 722.8 K bytes)\n"
     ]
    },
    {
     "name": "stderr",
     "output_type": "stream",
     "text": [
      "2025-04-01 15:27:54,528 - CRDS - INFO -  Fetching  /home/runner/crds/mappings/jwst/jwst_niriss_photom_0036.rmap    1.3 K bytes  (60 / 202 files) (204.7 K / 722.8 K bytes)\n"
     ]
    },
    {
     "name": "stderr",
     "output_type": "stream",
     "text": [
      "2025-04-01 15:27:54,755 - CRDS - INFO -  Fetching  /home/runner/crds/mappings/jwst/jwst_niriss_persat_0007.rmap      674 bytes  (61 / 202 files) (205.9 K / 722.8 K bytes)\n"
     ]
    },
    {
     "name": "stderr",
     "output_type": "stream",
     "text": [
      "2025-04-01 15:27:54,983 - CRDS - INFO -  Fetching  /home/runner/crds/mappings/jwst/jwst_niriss_pathloss_0003.rmap      758 bytes  (62 / 202 files) (206.6 K / 722.8 K bytes)\n"
     ]
    },
    {
     "name": "stderr",
     "output_type": "stream",
     "text": [
      "2025-04-01 15:27:55,211 - CRDS - INFO -  Fetching  /home/runner/crds/mappings/jwst/jwst_niriss_pastasoss_0004.rmap      818 bytes  (63 / 202 files) (207.4 K / 722.8 K bytes)\n"
     ]
    },
    {
     "name": "stderr",
     "output_type": "stream",
     "text": [
      "2025-04-01 15:27:55,448 - CRDS - INFO -  Fetching  /home/runner/crds/mappings/jwst/jwst_niriss_pars-undersamplecorrectionstep_0001.rmap      904 bytes  (64 / 202 files) (208.2 K / 722.8 K bytes)\n"
     ]
    },
    {
     "name": "stderr",
     "output_type": "stream",
     "text": [
      "2025-04-01 15:27:55,674 - CRDS - INFO -  Fetching  /home/runner/crds/mappings/jwst/jwst_niriss_pars-tweakregstep_0012.rmap    3.1 K bytes  (65 / 202 files) (209.1 K / 722.8 K bytes)\n"
     ]
    },
    {
     "name": "stderr",
     "output_type": "stream",
     "text": [
      "2025-04-01 15:27:55,894 - CRDS - INFO -  Fetching  /home/runner/crds/mappings/jwst/jwst_niriss_pars-spec2pipeline_0008.rmap      984 bytes  (66 / 202 files) (212.2 K / 722.8 K bytes)\n"
     ]
    },
    {
     "name": "stderr",
     "output_type": "stream",
     "text": [
      "2025-04-01 15:27:56,178 - CRDS - INFO -  Fetching  /home/runner/crds/mappings/jwst/jwst_niriss_pars-sourcecatalogstep_0002.rmap    2.3 K bytes  (67 / 202 files) (213.2 K / 722.8 K bytes)\n"
     ]
    },
    {
     "name": "stderr",
     "output_type": "stream",
     "text": [
      "2025-04-01 15:27:56,412 - CRDS - INFO -  Fetching  /home/runner/crds/mappings/jwst/jwst_niriss_pars-resamplestep_0002.rmap      687 bytes  (68 / 202 files) (215.5 K / 722.8 K bytes)\n"
     ]
    },
    {
     "name": "stderr",
     "output_type": "stream",
     "text": [
      "2025-04-01 15:27:56,696 - CRDS - INFO -  Fetching  /home/runner/crds/mappings/jwst/jwst_niriss_pars-outlierdetectionstep_0004.rmap    2.7 K bytes  (69 / 202 files) (216.2 K / 722.8 K bytes)\n"
     ]
    },
    {
     "name": "stderr",
     "output_type": "stream",
     "text": [
      "2025-04-01 15:27:56,914 - CRDS - INFO -  Fetching  /home/runner/crds/mappings/jwst/jwst_niriss_pars-jumpstep_0007.rmap    6.4 K bytes  (70 / 202 files) (218.9 K / 722.8 K bytes)\n"
     ]
    },
    {
     "name": "stderr",
     "output_type": "stream",
     "text": [
      "2025-04-01 15:27:57,197 - CRDS - INFO -  Fetching  /home/runner/crds/mappings/jwst/jwst_niriss_pars-image2pipeline_0005.rmap    1.0 K bytes  (71 / 202 files) (225.2 K / 722.8 K bytes)\n"
     ]
    },
    {
     "name": "stderr",
     "output_type": "stream",
     "text": [
      "2025-04-01 15:27:57,420 - CRDS - INFO -  Fetching  /home/runner/crds/mappings/jwst/jwst_niriss_pars-detector1pipeline_0002.rmap    1.0 K bytes  (72 / 202 files) (226.3 K / 722.8 K bytes)\n"
     ]
    },
    {
     "name": "stderr",
     "output_type": "stream",
     "text": [
      "2025-04-01 15:27:57,643 - CRDS - INFO -  Fetching  /home/runner/crds/mappings/jwst/jwst_niriss_pars-darkpipeline_0002.rmap      868 bytes  (73 / 202 files) (227.3 K / 722.8 K bytes)\n"
     ]
    },
    {
     "name": "stderr",
     "output_type": "stream",
     "text": [
      "2025-04-01 15:27:57,865 - CRDS - INFO -  Fetching  /home/runner/crds/mappings/jwst/jwst_niriss_pars-darkcurrentstep_0001.rmap      591 bytes  (74 / 202 files) (228.2 K / 722.8 K bytes)\n"
     ]
    },
    {
     "name": "stderr",
     "output_type": "stream",
     "text": [
      "2025-04-01 15:27:58,088 - CRDS - INFO -  Fetching  /home/runner/crds/mappings/jwst/jwst_niriss_pars-chargemigrationstep_0004.rmap    5.7 K bytes  (75 / 202 files) (228.8 K / 722.8 K bytes)\n"
     ]
    },
    {
     "name": "stderr",
     "output_type": "stream",
     "text": [
      "2025-04-01 15:27:58,311 - CRDS - INFO -  Fetching  /home/runner/crds/mappings/jwst/jwst_niriss_nrm_0005.rmap      663 bytes  (76 / 202 files) (234.4 K / 722.8 K bytes)\n"
     ]
    },
    {
     "name": "stderr",
     "output_type": "stream",
     "text": [
      "2025-04-01 15:27:58,530 - CRDS - INFO -  Fetching  /home/runner/crds/mappings/jwst/jwst_niriss_mask_0022.rmap    1.3 K bytes  (77 / 202 files) (235.1 K / 722.8 K bytes)\n"
     ]
    },
    {
     "name": "stderr",
     "output_type": "stream",
     "text": [
      "2025-04-01 15:27:58,756 - CRDS - INFO -  Fetching  /home/runner/crds/mappings/jwst/jwst_niriss_linearity_0022.rmap      961 bytes  (78 / 202 files) (236.4 K / 722.8 K bytes)\n"
     ]
    },
    {
     "name": "stderr",
     "output_type": "stream",
     "text": [
      "2025-04-01 15:27:58,980 - CRDS - INFO -  Fetching  /home/runner/crds/mappings/jwst/jwst_niriss_ipc_0007.rmap      651 bytes  (79 / 202 files) (237.3 K / 722.8 K bytes)\n"
     ]
    },
    {
     "name": "stderr",
     "output_type": "stream",
     "text": [
      "2025-04-01 15:27:59,200 - CRDS - INFO -  Fetching  /home/runner/crds/mappings/jwst/jwst_niriss_gain_0011.rmap      797 bytes  (80 / 202 files) (238.0 K / 722.8 K bytes)\n"
     ]
    },
    {
     "name": "stderr",
     "output_type": "stream",
     "text": [
      "2025-04-01 15:27:59,430 - CRDS - INFO -  Fetching  /home/runner/crds/mappings/jwst/jwst_niriss_flat_0023.rmap    5.9 K bytes  (81 / 202 files) (238.8 K / 722.8 K bytes)\n"
     ]
    },
    {
     "name": "stderr",
     "output_type": "stream",
     "text": [
      "2025-04-01 15:27:59,712 - CRDS - INFO -  Fetching  /home/runner/crds/mappings/jwst/jwst_niriss_filteroffset_0010.rmap      853 bytes  (82 / 202 files) (244.6 K / 722.8 K bytes)\n"
     ]
    },
    {
     "name": "stderr",
     "output_type": "stream",
     "text": [
      "2025-04-01 15:27:59,931 - CRDS - INFO -  Fetching  /home/runner/crds/mappings/jwst/jwst_niriss_extract1d_0007.rmap      905 bytes  (83 / 202 files) (245.5 K / 722.8 K bytes)\n"
     ]
    },
    {
     "name": "stderr",
     "output_type": "stream",
     "text": [
      "2025-04-01 15:28:00,217 - CRDS - INFO -  Fetching  /home/runner/crds/mappings/jwst/jwst_niriss_drizpars_0004.rmap      519 bytes  (84 / 202 files) (246.4 K / 722.8 K bytes)\n"
     ]
    },
    {
     "name": "stderr",
     "output_type": "stream",
     "text": [
      "2025-04-01 15:28:00,448 - CRDS - INFO -  Fetching  /home/runner/crds/mappings/jwst/jwst_niriss_distortion_0025.rmap    3.4 K bytes  (85 / 202 files) (246.9 K / 722.8 K bytes)\n"
     ]
    },
    {
     "name": "stderr",
     "output_type": "stream",
     "text": [
      "2025-04-01 15:28:00,671 - CRDS - INFO -  Fetching  /home/runner/crds/mappings/jwst/jwst_niriss_dark_0034.rmap    7.5 K bytes  (86 / 202 files) (250.4 K / 722.8 K bytes)\n"
     ]
    },
    {
     "name": "stderr",
     "output_type": "stream",
     "text": [
      "2025-04-01 15:28:00,952 - CRDS - INFO -  Fetching  /home/runner/crds/mappings/jwst/jwst_niriss_area_0014.rmap    2.7 K bytes  (87 / 202 files) (257.9 K / 722.8 K bytes)\n"
     ]
    },
    {
     "name": "stderr",
     "output_type": "stream",
     "text": [
      "2025-04-01 15:28:01,173 - CRDS - INFO -  Fetching  /home/runner/crds/mappings/jwst/jwst_niriss_apcorr_0010.rmap    4.3 K bytes  (88 / 202 files) (260.6 K / 722.8 K bytes)\n"
     ]
    },
    {
     "name": "stderr",
     "output_type": "stream",
     "text": [
      "2025-04-01 15:28:01,454 - CRDS - INFO -  Fetching  /home/runner/crds/mappings/jwst/jwst_niriss_abvegaoffset_0004.rmap    1.4 K bytes  (89 / 202 files) (264.9 K / 722.8 K bytes)\n"
     ]
    },
    {
     "name": "stderr",
     "output_type": "stream",
     "text": [
      "2025-04-01 15:28:01,736 - CRDS - INFO -  Fetching  /home/runner/crds/mappings/jwst/jwst_niriss_0267.imap      5.8 K bytes  (90 / 202 files) (266.2 K / 722.8 K bytes)\n"
     ]
    },
    {
     "name": "stderr",
     "output_type": "stream",
     "text": [
      "2025-04-01 15:28:01,959 - CRDS - INFO -  Fetching  /home/runner/crds/mappings/jwst/jwst_nircam_wfssbkg_0004.rmap    7.2 K bytes  (91 / 202 files) (272.0 K / 722.8 K bytes)\n"
     ]
    },
    {
     "name": "stderr",
     "output_type": "stream",
     "text": [
      "2025-04-01 15:28:02,186 - CRDS - INFO -  Fetching  /home/runner/crds/mappings/jwst/jwst_nircam_wavelengthrange_0010.rmap      996 bytes  (92 / 202 files) (279.2 K / 722.8 K bytes)\n"
     ]
    },
    {
     "name": "stderr",
     "output_type": "stream",
     "text": [
      "2025-04-01 15:28:02,529 - CRDS - INFO -  Fetching  /home/runner/crds/mappings/jwst/jwst_nircam_tsophot_0003.rmap      896 bytes  (93 / 202 files) (280.2 K / 722.8 K bytes)\n"
     ]
    },
    {
     "name": "stderr",
     "output_type": "stream",
     "text": [
      "2025-04-01 15:28:02,747 - CRDS - INFO -  Fetching  /home/runner/crds/mappings/jwst/jwst_nircam_trappars_0003.rmap    1.6 K bytes  (94 / 202 files) (281.1 K / 722.8 K bytes)\n"
     ]
    },
    {
     "name": "stderr",
     "output_type": "stream",
     "text": [
      "2025-04-01 15:28:02,968 - CRDS - INFO -  Fetching  /home/runner/crds/mappings/jwst/jwst_nircam_trapdensity_0003.rmap    1.6 K bytes  (95 / 202 files) (282.7 K / 722.8 K bytes)\n"
     ]
    },
    {
     "name": "stderr",
     "output_type": "stream",
     "text": [
      "2025-04-01 15:28:03,250 - CRDS - INFO -  Fetching  /home/runner/crds/mappings/jwst/jwst_nircam_superbias_0018.rmap   16.2 K bytes  (96 / 202 files) (284.4 K / 722.8 K bytes)\n"
     ]
    },
    {
     "name": "stderr",
     "output_type": "stream",
     "text": [
      "2025-04-01 15:28:03,529 - CRDS - INFO -  Fetching  /home/runner/crds/mappings/jwst/jwst_nircam_specwcs_0022.rmap    7.1 K bytes  (97 / 202 files) (300.5 K / 722.8 K bytes)\n"
     ]
    },
    {
     "name": "stderr",
     "output_type": "stream",
     "text": [
      "2025-04-01 15:28:03,754 - CRDS - INFO -  Fetching  /home/runner/crds/mappings/jwst/jwst_nircam_sirskernel_0002.rmap      671 bytes  (98 / 202 files) (307.7 K / 722.8 K bytes)\n"
     ]
    },
    {
     "name": "stderr",
     "output_type": "stream",
     "text": [
      "2025-04-01 15:28:04,037 - CRDS - INFO -  Fetching  /home/runner/crds/mappings/jwst/jwst_nircam_saturation_0010.rmap    2.2 K bytes  (99 / 202 files) (308.3 K / 722.8 K bytes)\n"
     ]
    },
    {
     "name": "stderr",
     "output_type": "stream",
     "text": [
      "2025-04-01 15:28:04,259 - CRDS - INFO -  Fetching  /home/runner/crds/mappings/jwst/jwst_nircam_readnoise_0025.rmap   23.2 K bytes  (100 / 202 files) (310.5 K / 722.8 K bytes)\n"
     ]
    },
    {
     "name": "stderr",
     "output_type": "stream",
     "text": [
      "2025-04-01 15:28:04,600 - CRDS - INFO -  Fetching  /home/runner/crds/mappings/jwst/jwst_nircam_psfmask_0008.rmap   28.4 K bytes  (101 / 202 files) (333.7 K / 722.8 K bytes)\n"
     ]
    },
    {
     "name": "stderr",
     "output_type": "stream",
     "text": [
      "2025-04-01 15:28:04,884 - CRDS - INFO -  Fetching  /home/runner/crds/mappings/jwst/jwst_nircam_photom_0028.rmap    3.4 K bytes  (102 / 202 files) (362.0 K / 722.8 K bytes)\n"
     ]
    },
    {
     "name": "stderr",
     "output_type": "stream",
     "text": [
      "2025-04-01 15:28:05,169 - CRDS - INFO -  Fetching  /home/runner/crds/mappings/jwst/jwst_nircam_persat_0005.rmap    1.6 K bytes  (103 / 202 files) (365.4 K / 722.8 K bytes)\n"
     ]
    },
    {
     "name": "stderr",
     "output_type": "stream",
     "text": [
      "2025-04-01 15:28:05,403 - CRDS - INFO -  Fetching  /home/runner/crds/mappings/jwst/jwst_nircam_pars-whitelightstep_0003.rmap    1.5 K bytes  (104 / 202 files) (367.0 K / 722.8 K bytes)\n"
     ]
    },
    {
     "name": "stderr",
     "output_type": "stream",
     "text": [
      "2025-04-01 15:28:05,635 - CRDS - INFO -  Fetching  /home/runner/crds/mappings/jwst/jwst_nircam_pars-tweakregstep_0003.rmap    4.5 K bytes  (105 / 202 files) (368.4 K / 722.8 K bytes)\n"
     ]
    },
    {
     "name": "stderr",
     "output_type": "stream",
     "text": [
      "2025-04-01 15:28:05,855 - CRDS - INFO -  Fetching  /home/runner/crds/mappings/jwst/jwst_nircam_pars-spec2pipeline_0008.rmap      984 bytes  (106 / 202 files) (372.9 K / 722.8 K bytes)\n"
     ]
    },
    {
     "name": "stderr",
     "output_type": "stream",
     "text": [
      "2025-04-01 15:28:06,082 - CRDS - INFO -  Fetching  /home/runner/crds/mappings/jwst/jwst_nircam_pars-sourcecatalogstep_0002.rmap    4.6 K bytes  (107 / 202 files) (373.9 K / 722.8 K bytes)\n"
     ]
    },
    {
     "name": "stderr",
     "output_type": "stream",
     "text": [
      "2025-04-01 15:28:06,301 - CRDS - INFO -  Fetching  /home/runner/crds/mappings/jwst/jwst_nircam_pars-resamplestep_0002.rmap      687 bytes  (108 / 202 files) (378.5 K / 722.8 K bytes)\n"
     ]
    },
    {
     "name": "stderr",
     "output_type": "stream",
     "text": [
      "2025-04-01 15:28:06,522 - CRDS - INFO -  Fetching  /home/runner/crds/mappings/jwst/jwst_nircam_pars-outlierdetectionstep_0003.rmap      940 bytes  (109 / 202 files) (379.2 K / 722.8 K bytes)\n"
     ]
    },
    {
     "name": "stderr",
     "output_type": "stream",
     "text": [
      "2025-04-01 15:28:06,745 - CRDS - INFO -  Fetching  /home/runner/crds/mappings/jwst/jwst_nircam_pars-jumpstep_0005.rmap      806 bytes  (110 / 202 files) (380.2 K / 722.8 K bytes)\n"
     ]
    },
    {
     "name": "stderr",
     "output_type": "stream",
     "text": [
      "2025-04-01 15:28:06,965 - CRDS - INFO -  Fetching  /home/runner/crds/mappings/jwst/jwst_nircam_pars-image2pipeline_0003.rmap    1.0 K bytes  (111 / 202 files) (381.0 K / 722.8 K bytes)\n"
     ]
    },
    {
     "name": "stderr",
     "output_type": "stream",
     "text": [
      "2025-04-01 15:28:07,185 - CRDS - INFO -  Fetching  /home/runner/crds/mappings/jwst/jwst_nircam_pars-detector1pipeline_0003.rmap    1.0 K bytes  (112 / 202 files) (382.0 K / 722.8 K bytes)\n"
     ]
    },
    {
     "name": "stderr",
     "output_type": "stream",
     "text": [
      "2025-04-01 15:28:07,466 - CRDS - INFO -  Fetching  /home/runner/crds/mappings/jwst/jwst_nircam_pars-darkpipeline_0002.rmap      868 bytes  (113 / 202 files) (383.0 K / 722.8 K bytes)\n"
     ]
    },
    {
     "name": "stderr",
     "output_type": "stream",
     "text": [
      "2025-04-01 15:28:07,698 - CRDS - INFO -  Fetching  /home/runner/crds/mappings/jwst/jwst_nircam_pars-darkcurrentstep_0001.rmap      618 bytes  (114 / 202 files) (383.9 K / 722.8 K bytes)\n"
     ]
    },
    {
     "name": "stderr",
     "output_type": "stream",
     "text": [
      "2025-04-01 15:28:07,948 - CRDS - INFO -  Fetching  /home/runner/crds/mappings/jwst/jwst_nircam_mask_0011.rmap    3.5 K bytes  (115 / 202 files) (384.5 K / 722.8 K bytes)\n"
     ]
    },
    {
     "name": "stderr",
     "output_type": "stream",
     "text": [
      "2025-04-01 15:28:08,173 - CRDS - INFO -  Fetching  /home/runner/crds/mappings/jwst/jwst_nircam_linearity_0011.rmap    2.4 K bytes  (116 / 202 files) (388.0 K / 722.8 K bytes)\n"
     ]
    },
    {
     "name": "stderr",
     "output_type": "stream",
     "text": [
      "2025-04-01 15:28:08,455 - CRDS - INFO -  Fetching  /home/runner/crds/mappings/jwst/jwst_nircam_ipc_0003.rmap    2.0 K bytes  (117 / 202 files) (390.4 K / 722.8 K bytes)\n"
     ]
    },
    {
     "name": "stderr",
     "output_type": "stream",
     "text": [
      "2025-04-01 15:28:08,752 - CRDS - INFO -  Fetching  /home/runner/crds/mappings/jwst/jwst_nircam_gain_0016.rmap    2.1 K bytes  (118 / 202 files) (392.4 K / 722.8 K bytes)\n"
     ]
    },
    {
     "name": "stderr",
     "output_type": "stream",
     "text": [
      "2025-04-01 15:28:08,979 - CRDS - INFO -  Fetching  /home/runner/crds/mappings/jwst/jwst_nircam_flat_0027.rmap   51.7 K bytes  (119 / 202 files) (394.5 K / 722.8 K bytes)\n"
     ]
    },
    {
     "name": "stderr",
     "output_type": "stream",
     "text": [
      "2025-04-01 15:28:09,316 - CRDS - INFO -  Fetching  /home/runner/crds/mappings/jwst/jwst_nircam_filteroffset_0004.rmap    1.4 K bytes  (120 / 202 files) (446.2 K / 722.8 K bytes)\n"
     ]
    },
    {
     "name": "stderr",
     "output_type": "stream",
     "text": [
      "2025-04-01 15:28:09,543 - CRDS - INFO -  Fetching  /home/runner/crds/mappings/jwst/jwst_nircam_extract1d_0004.rmap      842 bytes  (121 / 202 files) (447.6 K / 722.8 K bytes)\n"
     ]
    },
    {
     "name": "stderr",
     "output_type": "stream",
     "text": [
      "2025-04-01 15:28:09,766 - CRDS - INFO -  Fetching  /home/runner/crds/mappings/jwst/jwst_nircam_drizpars_0001.rmap      519 bytes  (122 / 202 files) (448.5 K / 722.8 K bytes)\n"
     ]
    },
    {
     "name": "stderr",
     "output_type": "stream",
     "text": [
      "2025-04-01 15:28:10,049 - CRDS - INFO -  Fetching  /home/runner/crds/mappings/jwst/jwst_nircam_distortion_0033.rmap   53.4 K bytes  (123 / 202 files) (449.0 K / 722.8 K bytes)\n"
     ]
    },
    {
     "name": "stderr",
     "output_type": "stream",
     "text": [
      "2025-04-01 15:28:10,395 - CRDS - INFO -  Fetching  /home/runner/crds/mappings/jwst/jwst_nircam_dark_0046.rmap   26.4 K bytes  (124 / 202 files) (502.3 K / 722.8 K bytes)\n"
     ]
    },
    {
     "name": "stderr",
     "output_type": "stream",
     "text": [
      "2025-04-01 15:28:10,739 - CRDS - INFO -  Fetching  /home/runner/crds/mappings/jwst/jwst_nircam_area_0012.rmap   33.5 K bytes  (125 / 202 files) (528.7 K / 722.8 K bytes)\n"
     ]
    },
    {
     "name": "stderr",
     "output_type": "stream",
     "text": [
      "2025-04-01 15:28:11,087 - CRDS - INFO -  Fetching  /home/runner/crds/mappings/jwst/jwst_nircam_apcorr_0008.rmap    4.3 K bytes  (126 / 202 files) (562.2 K / 722.8 K bytes)\n"
     ]
    },
    {
     "name": "stderr",
     "output_type": "stream",
     "text": [
      "2025-04-01 15:28:11,368 - CRDS - INFO -  Fetching  /home/runner/crds/mappings/jwst/jwst_nircam_abvegaoffset_0003.rmap    1.3 K bytes  (127 / 202 files) (566.5 K / 722.8 K bytes)\n"
     ]
    },
    {
     "name": "stderr",
     "output_type": "stream",
     "text": [
      "2025-04-01 15:28:11,592 - CRDS - INFO -  Fetching  /home/runner/crds/mappings/jwst/jwst_nircam_0301.imap      5.6 K bytes  (128 / 202 files) (567.8 K / 722.8 K bytes)\n"
     ]
    },
    {
     "name": "stderr",
     "output_type": "stream",
     "text": [
      "2025-04-01 15:28:11,874 - CRDS - INFO -  Fetching  /home/runner/crds/mappings/jwst/jwst_miri_wavelengthrange_0027.rmap      929 bytes  (129 / 202 files) (573.4 K / 722.8 K bytes)\n"
     ]
    },
    {
     "name": "stderr",
     "output_type": "stream",
     "text": [
      "2025-04-01 15:28:12,102 - CRDS - INFO -  Fetching  /home/runner/crds/mappings/jwst/jwst_miri_tsophot_0004.rmap      882 bytes  (130 / 202 files) (574.3 K / 722.8 K bytes)\n"
     ]
    },
    {
     "name": "stderr",
     "output_type": "stream",
     "text": [
      "2025-04-01 15:28:12,322 - CRDS - INFO -  Fetching  /home/runner/crds/mappings/jwst/jwst_miri_straymask_0009.rmap      987 bytes  (131 / 202 files) (575.2 K / 722.8 K bytes)\n"
     ]
    },
    {
     "name": "stderr",
     "output_type": "stream",
     "text": [
      "2025-04-01 15:28:12,545 - CRDS - INFO -  Fetching  /home/runner/crds/mappings/jwst/jwst_miri_specwcs_0042.rmap    5.8 K bytes  (132 / 202 files) (576.2 K / 722.8 K bytes)\n"
     ]
    },
    {
     "name": "stderr",
     "output_type": "stream",
     "text": [
      "2025-04-01 15:28:12,832 - CRDS - INFO -  Fetching  /home/runner/crds/mappings/jwst/jwst_miri_saturation_0015.rmap    1.2 K bytes  (133 / 202 files) (582.0 K / 722.8 K bytes)\n"
     ]
    },
    {
     "name": "stderr",
     "output_type": "stream",
     "text": [
      "2025-04-01 15:28:13,054 - CRDS - INFO -  Fetching  /home/runner/crds/mappings/jwst/jwst_miri_rscd_0008.rmap    1.0 K bytes  (134 / 202 files) (583.1 K / 722.8 K bytes)\n"
     ]
    },
    {
     "name": "stderr",
     "output_type": "stream",
     "text": [
      "2025-04-01 15:28:13,276 - CRDS - INFO -  Fetching  /home/runner/crds/mappings/jwst/jwst_miri_resol_0006.rmap      790 bytes  (135 / 202 files) (584.2 K / 722.8 K bytes)\n"
     ]
    },
    {
     "name": "stderr",
     "output_type": "stream",
     "text": [
      "2025-04-01 15:28:13,499 - CRDS - INFO -  Fetching  /home/runner/crds/mappings/jwst/jwst_miri_reset_0026.rmap    3.9 K bytes  (136 / 202 files) (585.0 K / 722.8 K bytes)\n"
     ]
    },
    {
     "name": "stderr",
     "output_type": "stream",
     "text": [
      "2025-04-01 15:28:13,723 - CRDS - INFO -  Fetching  /home/runner/crds/mappings/jwst/jwst_miri_regions_0033.rmap    5.2 K bytes  (137 / 202 files) (588.8 K / 722.8 K bytes)\n"
     ]
    },
    {
     "name": "stderr",
     "output_type": "stream",
     "text": [
      "2025-04-01 15:28:13,948 - CRDS - INFO -  Fetching  /home/runner/crds/mappings/jwst/jwst_miri_readnoise_0023.rmap    1.6 K bytes  (138 / 202 files) (594.0 K / 722.8 K bytes)\n"
     ]
    },
    {
     "name": "stderr",
     "output_type": "stream",
     "text": [
      "2025-04-01 15:28:14,175 - CRDS - INFO -  Fetching  /home/runner/crds/mappings/jwst/jwst_miri_psfmask_0009.rmap    2.1 K bytes  (139 / 202 files) (595.7 K / 722.8 K bytes)\n"
     ]
    },
    {
     "name": "stderr",
     "output_type": "stream",
     "text": [
      "2025-04-01 15:28:14,467 - CRDS - INFO -  Fetching  /home/runner/crds/mappings/jwst/jwst_miri_psf_0002.rmap      753 bytes  (140 / 202 files) (597.8 K / 722.8 K bytes)\n"
     ]
    },
    {
     "name": "stderr",
     "output_type": "stream",
     "text": [
      "2025-04-01 15:28:14,689 - CRDS - INFO -  Fetching  /home/runner/crds/mappings/jwst/jwst_miri_photom_0056.rmap    3.7 K bytes  (141 / 202 files) (598.5 K / 722.8 K bytes)\n"
     ]
    },
    {
     "name": "stderr",
     "output_type": "stream",
     "text": [
      "2025-04-01 15:28:14,918 - CRDS - INFO -  Fetching  /home/runner/crds/mappings/jwst/jwst_miri_pathloss_0005.rmap      866 bytes  (142 / 202 files) (602.3 K / 722.8 K bytes)\n"
     ]
    },
    {
     "name": "stderr",
     "output_type": "stream",
     "text": [
      "2025-04-01 15:28:15,141 - CRDS - INFO -  Fetching  /home/runner/crds/mappings/jwst/jwst_miri_pars-whitelightstep_0003.rmap      912 bytes  (143 / 202 files) (603.2 K / 722.8 K bytes)\n"
     ]
    },
    {
     "name": "stderr",
     "output_type": "stream",
     "text": [
      "2025-04-01 15:28:15,369 - CRDS - INFO -  Fetching  /home/runner/crds/mappings/jwst/jwst_miri_pars-tweakregstep_0003.rmap    1.8 K bytes  (144 / 202 files) (604.1 K / 722.8 K bytes)\n"
     ]
    },
    {
     "name": "stderr",
     "output_type": "stream",
     "text": [
      "2025-04-01 15:28:15,593 - CRDS - INFO -  Fetching  /home/runner/crds/mappings/jwst/jwst_miri_pars-spec3pipeline_0009.rmap      816 bytes  (145 / 202 files) (605.9 K / 722.8 K bytes)\n"
     ]
    },
    {
     "name": "stderr",
     "output_type": "stream",
     "text": [
      "2025-04-01 15:28:15,816 - CRDS - INFO -  Fetching  /home/runner/crds/mappings/jwst/jwst_miri_pars-spec2pipeline_0012.rmap    1.3 K bytes  (146 / 202 files) (606.7 K / 722.8 K bytes)\n"
     ]
    },
    {
     "name": "stderr",
     "output_type": "stream",
     "text": [
      "2025-04-01 15:28:16,057 - CRDS - INFO -  Fetching  /home/runner/crds/mappings/jwst/jwst_miri_pars-sourcecatalogstep_0003.rmap    1.9 K bytes  (147 / 202 files) (608.0 K / 722.8 K bytes)\n"
     ]
    },
    {
     "name": "stderr",
     "output_type": "stream",
     "text": [
      "2025-04-01 15:28:16,346 - CRDS - INFO -  Fetching  /home/runner/crds/mappings/jwst/jwst_miri_pars-resamplestep_0002.rmap      677 bytes  (148 / 202 files) (610.0 K / 722.8 K bytes)\n"
     ]
    },
    {
     "name": "stderr",
     "output_type": "stream",
     "text": [
      "2025-04-01 15:28:16,570 - CRDS - INFO -  Fetching  /home/runner/crds/mappings/jwst/jwst_miri_pars-resamplespecstep_0002.rmap      706 bytes  (149 / 202 files) (610.6 K / 722.8 K bytes)\n"
     ]
    },
    {
     "name": "stderr",
     "output_type": "stream",
     "text": [
      "2025-04-01 15:28:16,814 - CRDS - INFO -  Fetching  /home/runner/crds/mappings/jwst/jwst_miri_pars-outlierdetectionstep_0017.rmap    3.4 K bytes  (150 / 202 files) (611.3 K / 722.8 K bytes)\n"
     ]
    },
    {
     "name": "stderr",
     "output_type": "stream",
     "text": [
      "2025-04-01 15:28:17,341 - CRDS - INFO -  Fetching  /home/runner/crds/mappings/jwst/jwst_miri_pars-jumpstep_0011.rmap    1.6 K bytes  (151 / 202 files) (614.7 K / 722.8 K bytes)\n"
     ]
    },
    {
     "name": "stderr",
     "output_type": "stream",
     "text": [
      "2025-04-01 15:28:17,628 - CRDS - INFO -  Fetching  /home/runner/crds/mappings/jwst/jwst_miri_pars-image2pipeline_0007.rmap      983 bytes  (152 / 202 files) (616.3 K / 722.8 K bytes)\n"
     ]
    },
    {
     "name": "stderr",
     "output_type": "stream",
     "text": [
      "2025-04-01 15:28:17,849 - CRDS - INFO -  Fetching  /home/runner/crds/mappings/jwst/jwst_miri_pars-extract1dstep_0003.rmap      807 bytes  (153 / 202 files) (617.3 K / 722.8 K bytes)\n"
     ]
    },
    {
     "name": "stderr",
     "output_type": "stream",
     "text": [
      "2025-04-01 15:28:18,069 - CRDS - INFO -  Fetching  /home/runner/crds/mappings/jwst/jwst_miri_pars-emicorrstep_0003.rmap      796 bytes  (154 / 202 files) (618.1 K / 722.8 K bytes)\n"
     ]
    },
    {
     "name": "stderr",
     "output_type": "stream",
     "text": [
      "2025-04-01 15:28:18,295 - CRDS - INFO -  Fetching  /home/runner/crds/mappings/jwst/jwst_miri_pars-detector1pipeline_0010.rmap    1.6 K bytes  (155 / 202 files) (618.9 K / 722.8 K bytes)\n"
     ]
    },
    {
     "name": "stderr",
     "output_type": "stream",
     "text": [
      "2025-04-01 15:28:18,518 - CRDS - INFO -  Fetching  /home/runner/crds/mappings/jwst/jwst_miri_pars-darkpipeline_0002.rmap      860 bytes  (156 / 202 files) (620.5 K / 722.8 K bytes)\n"
     ]
    },
    {
     "name": "stderr",
     "output_type": "stream",
     "text": [
      "2025-04-01 15:28:18,744 - CRDS - INFO -  Fetching  /home/runner/crds/mappings/jwst/jwst_miri_pars-darkcurrentstep_0002.rmap      683 bytes  (157 / 202 files) (621.3 K / 722.8 K bytes)\n"
     ]
    },
    {
     "name": "stderr",
     "output_type": "stream",
     "text": [
      "2025-04-01 15:28:18,962 - CRDS - INFO -  Fetching  /home/runner/crds/mappings/jwst/jwst_miri_mrsxartcorr_0002.rmap    2.2 K bytes  (158 / 202 files) (622.0 K / 722.8 K bytes)\n"
     ]
    },
    {
     "name": "stderr",
     "output_type": "stream",
     "text": [
      "2025-04-01 15:28:19,190 - CRDS - INFO -  Fetching  /home/runner/crds/mappings/jwst/jwst_miri_mrsptcorr_0005.rmap    2.0 K bytes  (159 / 202 files) (624.1 K / 722.8 K bytes)\n"
     ]
    },
    {
     "name": "stderr",
     "output_type": "stream",
     "text": [
      "2025-04-01 15:28:19,426 - CRDS - INFO -  Fetching  /home/runner/crds/mappings/jwst/jwst_miri_mask_0023.rmap    3.5 K bytes  (160 / 202 files) (626.1 K / 722.8 K bytes)\n"
     ]
    },
    {
     "name": "stderr",
     "output_type": "stream",
     "text": [
      "2025-04-01 15:28:19,705 - CRDS - INFO -  Fetching  /home/runner/crds/mappings/jwst/jwst_miri_linearity_0018.rmap    2.8 K bytes  (161 / 202 files) (629.6 K / 722.8 K bytes)\n"
     ]
    },
    {
     "name": "stderr",
     "output_type": "stream",
     "text": [
      "2025-04-01 15:28:19,932 - CRDS - INFO -  Fetching  /home/runner/crds/mappings/jwst/jwst_miri_ipc_0008.rmap      700 bytes  (162 / 202 files) (632.4 K / 722.8 K bytes)\n"
     ]
    },
    {
     "name": "stderr",
     "output_type": "stream",
     "text": [
      "2025-04-01 15:28:20,214 - CRDS - INFO -  Fetching  /home/runner/crds/mappings/jwst/jwst_miri_gain_0013.rmap    3.9 K bytes  (163 / 202 files) (633.1 K / 722.8 K bytes)\n"
     ]
    },
    {
     "name": "stderr",
     "output_type": "stream",
     "text": [
      "2025-04-01 15:28:20,498 - CRDS - INFO -  Fetching  /home/runner/crds/mappings/jwst/jwst_miri_fringefreq_0003.rmap    1.4 K bytes  (164 / 202 files) (637.0 K / 722.8 K bytes)\n"
     ]
    },
    {
     "name": "stderr",
     "output_type": "stream",
     "text": [
      "2025-04-01 15:28:20,720 - CRDS - INFO -  Fetching  /home/runner/crds/mappings/jwst/jwst_miri_fringe_0019.rmap    3.9 K bytes  (165 / 202 files) (638.5 K / 722.8 K bytes)\n"
     ]
    },
    {
     "name": "stderr",
     "output_type": "stream",
     "text": [
      "2025-04-01 15:28:20,947 - CRDS - INFO -  Fetching  /home/runner/crds/mappings/jwst/jwst_miri_flat_0065.rmap   15.5 K bytes  (166 / 202 files) (642.4 K / 722.8 K bytes)\n"
     ]
    },
    {
     "name": "stderr",
     "output_type": "stream",
     "text": [
      "2025-04-01 15:28:21,234 - CRDS - INFO -  Fetching  /home/runner/crds/mappings/jwst/jwst_miri_filteroffset_0025.rmap    2.5 K bytes  (167 / 202 files) (657.9 K / 722.8 K bytes)\n"
     ]
    },
    {
     "name": "stderr",
     "output_type": "stream",
     "text": [
      "2025-04-01 15:28:21,457 - CRDS - INFO -  Fetching  /home/runner/crds/mappings/jwst/jwst_miri_extract1d_0020.rmap    1.4 K bytes  (168 / 202 files) (660.4 K / 722.8 K bytes)\n"
     ]
    },
    {
     "name": "stderr",
     "output_type": "stream",
     "text": [
      "2025-04-01 15:28:21,683 - CRDS - INFO -  Fetching  /home/runner/crds/mappings/jwst/jwst_miri_emicorr_0003.rmap      663 bytes  (169 / 202 files) (661.7 K / 722.8 K bytes)\n"
     ]
    },
    {
     "name": "stderr",
     "output_type": "stream",
     "text": [
      "2025-04-01 15:28:21,964 - CRDS - INFO -  Fetching  /home/runner/crds/mappings/jwst/jwst_miri_drizpars_0002.rmap      511 bytes  (170 / 202 files) (662.4 K / 722.8 K bytes)\n"
     ]
    },
    {
     "name": "stderr",
     "output_type": "stream",
     "text": [
      "2025-04-01 15:28:22,190 - CRDS - INFO -  Fetching  /home/runner/crds/mappings/jwst/jwst_miri_distortion_0040.rmap    4.9 K bytes  (171 / 202 files) (662.9 K / 722.8 K bytes)\n"
     ]
    },
    {
     "name": "stderr",
     "output_type": "stream",
     "text": [
      "2025-04-01 15:28:22,409 - CRDS - INFO -  Fetching  /home/runner/crds/mappings/jwst/jwst_miri_dark_0036.rmap    4.4 K bytes  (172 / 202 files) (667.8 K / 722.8 K bytes)\n"
     ]
    },
    {
     "name": "stderr",
     "output_type": "stream",
     "text": [
      "2025-04-01 15:28:22,635 - CRDS - INFO -  Fetching  /home/runner/crds/mappings/jwst/jwst_miri_cubepar_0017.rmap      800 bytes  (173 / 202 files) (672.2 K / 722.8 K bytes)\n"
     ]
    },
    {
     "name": "stderr",
     "output_type": "stream",
     "text": [
      "2025-04-01 15:28:22,860 - CRDS - INFO -  Fetching  /home/runner/crds/mappings/jwst/jwst_miri_area_0015.rmap      866 bytes  (174 / 202 files) (673.0 K / 722.8 K bytes)\n"
     ]
    },
    {
     "name": "stderr",
     "output_type": "stream",
     "text": [
      "2025-04-01 15:28:23,079 - CRDS - INFO -  Fetching  /home/runner/crds/mappings/jwst/jwst_miri_apcorr_0019.rmap    5.0 K bytes  (175 / 202 files) (673.8 K / 722.8 K bytes)\n"
     ]
    },
    {
     "name": "stderr",
     "output_type": "stream",
     "text": [
      "2025-04-01 15:28:23,364 - CRDS - INFO -  Fetching  /home/runner/crds/mappings/jwst/jwst_miri_abvegaoffset_0003.rmap    1.3 K bytes  (176 / 202 files) (678.8 K / 722.8 K bytes)\n"
     ]
    },
    {
     "name": "stderr",
     "output_type": "stream",
     "text": [
      "2025-04-01 15:28:23,584 - CRDS - INFO -  Fetching  /home/runner/crds/mappings/jwst/jwst_miri_0423.imap        5.8 K bytes  (177 / 202 files) (680.1 K / 722.8 K bytes)\n"
     ]
    },
    {
     "name": "stderr",
     "output_type": "stream",
     "text": [
      "2025-04-01 15:28:23,810 - CRDS - INFO -  Fetching  /home/runner/crds/mappings/jwst/jwst_fgs_trappars_0004.rmap      903 bytes  (178 / 202 files) (685.9 K / 722.8 K bytes)\n"
     ]
    },
    {
     "name": "stderr",
     "output_type": "stream",
     "text": [
      "2025-04-01 15:28:24,030 - CRDS - INFO -  Fetching  /home/runner/crds/mappings/jwst/jwst_fgs_trapdensity_0006.rmap      930 bytes  (179 / 202 files) (686.8 K / 722.8 K bytes)\n"
     ]
    },
    {
     "name": "stderr",
     "output_type": "stream",
     "text": [
      "2025-04-01 15:28:24,252 - CRDS - INFO -  Fetching  /home/runner/crds/mappings/jwst/jwst_fgs_superbias_0017.rmap    3.8 K bytes  (180 / 202 files) (687.8 K / 722.8 K bytes)\n"
     ]
    },
    {
     "name": "stderr",
     "output_type": "stream",
     "text": [
      "2025-04-01 15:28:24,482 - CRDS - INFO -  Fetching  /home/runner/crds/mappings/jwst/jwst_fgs_saturation_0009.rmap      779 bytes  (181 / 202 files) (691.5 K / 722.8 K bytes)\n"
     ]
    },
    {
     "name": "stderr",
     "output_type": "stream",
     "text": [
      "2025-04-01 15:28:24,769 - CRDS - INFO -  Fetching  /home/runner/crds/mappings/jwst/jwst_fgs_readnoise_0011.rmap    1.3 K bytes  (182 / 202 files) (692.3 K / 722.8 K bytes)\n"
     ]
    },
    {
     "name": "stderr",
     "output_type": "stream",
     "text": [
      "2025-04-01 15:28:24,996 - CRDS - INFO -  Fetching  /home/runner/crds/mappings/jwst/jwst_fgs_photom_0014.rmap    1.1 K bytes  (183 / 202 files) (693.6 K / 722.8 K bytes)\n"
     ]
    },
    {
     "name": "stderr",
     "output_type": "stream",
     "text": [
      "2025-04-01 15:28:25,229 - CRDS - INFO -  Fetching  /home/runner/crds/mappings/jwst/jwst_fgs_persat_0006.rmap      884 bytes  (184 / 202 files) (694.7 K / 722.8 K bytes)\n"
     ]
    },
    {
     "name": "stderr",
     "output_type": "stream",
     "text": [
      "2025-04-01 15:28:25,461 - CRDS - INFO -  Fetching  /home/runner/crds/mappings/jwst/jwst_fgs_pars-tweakregstep_0002.rmap      850 bytes  (185 / 202 files) (695.6 K / 722.8 K bytes)\n"
     ]
    },
    {
     "name": "stderr",
     "output_type": "stream",
     "text": [
      "2025-04-01 15:28:25,686 - CRDS - INFO -  Fetching  /home/runner/crds/mappings/jwst/jwst_fgs_pars-sourcecatalogstep_0001.rmap      636 bytes  (186 / 202 files) (696.4 K / 722.8 K bytes)\n"
     ]
    },
    {
     "name": "stderr",
     "output_type": "stream",
     "text": [
      "2025-04-01 15:28:25,905 - CRDS - INFO -  Fetching  /home/runner/crds/mappings/jwst/jwst_fgs_pars-outlierdetectionstep_0001.rmap      654 bytes  (187 / 202 files) (697.1 K / 722.8 K bytes)\n"
     ]
    },
    {
     "name": "stderr",
     "output_type": "stream",
     "text": [
      "2025-04-01 15:28:26,134 - CRDS - INFO -  Fetching  /home/runner/crds/mappings/jwst/jwst_fgs_pars-image2pipeline_0005.rmap      974 bytes  (188 / 202 files) (697.7 K / 722.8 K bytes)\n"
     ]
    },
    {
     "name": "stderr",
     "output_type": "stream",
     "text": [
      "2025-04-01 15:28:26,416 - CRDS - INFO -  Fetching  /home/runner/crds/mappings/jwst/jwst_fgs_pars-detector1pipeline_0002.rmap    1.0 K bytes  (189 / 202 files) (698.7 K / 722.8 K bytes)\n"
     ]
    },
    {
     "name": "stderr",
     "output_type": "stream",
     "text": [
      "2025-04-01 15:28:26,639 - CRDS - INFO -  Fetching  /home/runner/crds/mappings/jwst/jwst_fgs_pars-darkpipeline_0002.rmap      856 bytes  (190 / 202 files) (699.7 K / 722.8 K bytes)\n"
     ]
    },
    {
     "name": "stderr",
     "output_type": "stream",
     "text": [
      "2025-04-01 15:28:26,860 - CRDS - INFO -  Fetching  /home/runner/crds/mappings/jwst/jwst_fgs_mask_0023.rmap    1.1 K bytes  (191 / 202 files) (700.6 K / 722.8 K bytes)\n"
     ]
    },
    {
     "name": "stderr",
     "output_type": "stream",
     "text": [
      "2025-04-01 15:28:27,082 - CRDS - INFO -  Fetching  /home/runner/crds/mappings/jwst/jwst_fgs_linearity_0015.rmap      925 bytes  (192 / 202 files) (701.6 K / 722.8 K bytes)\n"
     ]
    },
    {
     "name": "stderr",
     "output_type": "stream",
     "text": [
      "2025-04-01 15:28:27,308 - CRDS - INFO -  Fetching  /home/runner/crds/mappings/jwst/jwst_fgs_ipc_0003.rmap       614 bytes  (193 / 202 files) (702.6 K / 722.8 K bytes)\n"
     ]
    },
    {
     "name": "stderr",
     "output_type": "stream",
     "text": [
      "2025-04-01 15:28:27,529 - CRDS - INFO -  Fetching  /home/runner/crds/mappings/jwst/jwst_fgs_gain_0010.rmap      890 bytes  (194 / 202 files) (703.2 K / 722.8 K bytes)\n"
     ]
    },
    {
     "name": "stderr",
     "output_type": "stream",
     "text": [
      "2025-04-01 15:28:27,768 - CRDS - INFO -  Fetching  /home/runner/crds/mappings/jwst/jwst_fgs_flat_0009.rmap    1.1 K bytes  (195 / 202 files) (704.1 K / 722.8 K bytes)\n"
     ]
    },
    {
     "name": "stderr",
     "output_type": "stream",
     "text": [
      "2025-04-01 15:28:27,998 - CRDS - INFO -  Fetching  /home/runner/crds/mappings/jwst/jwst_fgs_distortion_0011.rmap    1.2 K bytes  (196 / 202 files) (705.2 K / 722.8 K bytes)\n"
     ]
    },
    {
     "name": "stderr",
     "output_type": "stream",
     "text": [
      "2025-04-01 15:28:28,223 - CRDS - INFO -  Fetching  /home/runner/crds/mappings/jwst/jwst_fgs_dark_0017.rmap    4.3 K bytes  (197 / 202 files) (706.4 K / 722.8 K bytes)\n"
     ]
    },
    {
     "name": "stderr",
     "output_type": "stream",
     "text": [
      "2025-04-01 15:28:28,447 - CRDS - INFO -  Fetching  /home/runner/crds/mappings/jwst/jwst_fgs_area_0010.rmap    1.2 K bytes  (198 / 202 files) (710.7 K / 722.8 K bytes)\n"
     ]
    },
    {
     "name": "stderr",
     "output_type": "stream",
     "text": [
      "2025-04-01 15:28:28,667 - CRDS - INFO -  Fetching  /home/runner/crds/mappings/jwst/jwst_fgs_apcorr_0004.rmap    4.0 K bytes  (199 / 202 files) (711.9 K / 722.8 K bytes)\n"
     ]
    },
    {
     "name": "stderr",
     "output_type": "stream",
     "text": [
      "2025-04-01 15:28:28,889 - CRDS - INFO -  Fetching  /home/runner/crds/mappings/jwst/jwst_fgs_abvegaoffset_0002.rmap    1.3 K bytes  (200 / 202 files) (715.8 K / 722.8 K bytes)\n"
     ]
    },
    {
     "name": "stderr",
     "output_type": "stream",
     "text": [
      "2025-04-01 15:28:29,112 - CRDS - INFO -  Fetching  /home/runner/crds/mappings/jwst/jwst_fgs_0118.imap         5.1 K bytes  (201 / 202 files) (717.1 K / 722.8 K bytes)\n"
     ]
    },
    {
     "name": "stderr",
     "output_type": "stream",
     "text": [
      "2025-04-01 15:28:29,394 - CRDS - INFO -  Fetching  /home/runner/crds/mappings/jwst/jwst_1322.pmap               580 bytes  (202 / 202 files) (722.2 K / 722.8 K bytes)\n"
     ]
    },
    {
     "name": "stderr",
     "output_type": "stream",
     "text": [
      "2025-04-01 15:28:29,774 - CRDS - ERROR -  Error determining best reference for 'pars-darkcurrentstep'  =   No match found.\n"
     ]
    },
    {
     "name": "stderr",
     "output_type": "stream",
     "text": [
      "2025-04-01 15:28:29,778 - CRDS - INFO -  Fetching  /home/runner/crds/references/jwst/niriss/jwst_niriss_pars-chargemigrationstep_0034.asdf    1.7 K bytes  (1 / 1 files) (0 / 1.7 K bytes)\n"
     ]
    },
    {
     "name": "stderr",
     "output_type": "stream",
     "text": [
      "2025-04-01 15:28:30,064 - stpipe - INFO - PARS-CHARGEMIGRATIONSTEP parameters found: /home/runner/crds/references/jwst/niriss/jwst_niriss_pars-chargemigrationstep_0034.asdf\n"
     ]
    },
    {
     "name": "stderr",
     "output_type": "stream",
     "text": [
      "2025-04-01 15:28:30,075 - CRDS - INFO -  Fetching  /home/runner/crds/references/jwst/niriss/jwst_niriss_pars-jumpstep_0072.asdf    1.6 K bytes  (1 / 1 files) (0 / 1.6 K bytes)\n"
     ]
    },
    {
     "name": "stderr",
     "output_type": "stream",
     "text": [
      "2025-04-01 15:28:30,301 - stpipe - INFO - PARS-JUMPSTEP parameters found: /home/runner/crds/references/jwst/niriss/jwst_niriss_pars-jumpstep_0072.asdf\n"
     ]
    },
    {
     "name": "stderr",
     "output_type": "stream",
     "text": [
      "2025-04-01 15:28:30,313 - CRDS - INFO -  Fetching  /home/runner/crds/references/jwst/niriss/jwst_niriss_pars-detector1pipeline_0001.asdf    1.1 K bytes  (1 / 1 files) (0 / 1.1 K bytes)\n"
     ]
    },
    {
     "name": "stderr",
     "output_type": "stream",
     "text": [
      "2025-04-01 15:28:30,543 - stpipe - INFO - PARS-DETECTOR1PIPELINE parameters found: /home/runner/crds/references/jwst/niriss/jwst_niriss_pars-detector1pipeline_0001.asdf\n"
     ]
    },
    {
     "name": "stderr",
     "output_type": "stream",
     "text": [
      "2025-04-01 15:28:30,560 - stpipe.Detector1Pipeline - INFO - Detector1Pipeline instance created.\n"
     ]
    },
    {
     "name": "stderr",
     "output_type": "stream",
     "text": [
      "2025-04-01 15:28:30,561 - stpipe.Detector1Pipeline.group_scale - INFO - GroupScaleStep instance created.\n"
     ]
    },
    {
     "name": "stderr",
     "output_type": "stream",
     "text": [
      "2025-04-01 15:28:30,562 - stpipe.Detector1Pipeline.dq_init - INFO - DQInitStep instance created.\n"
     ]
    },
    {
     "name": "stderr",
     "output_type": "stream",
     "text": [
      "2025-04-01 15:28:30,563 - stpipe.Detector1Pipeline.emicorr - INFO - EmiCorrStep instance created.\n"
     ]
    },
    {
     "name": "stderr",
     "output_type": "stream",
     "text": [
      "2025-04-01 15:28:30,564 - stpipe.Detector1Pipeline.saturation - INFO - SaturationStep instance created.\n"
     ]
    },
    {
     "name": "stderr",
     "output_type": "stream",
     "text": [
      "2025-04-01 15:28:30,565 - stpipe.Detector1Pipeline.ipc - INFO - IPCStep instance created.\n"
     ]
    },
    {
     "name": "stderr",
     "output_type": "stream",
     "text": [
      "2025-04-01 15:28:30,566 - stpipe.Detector1Pipeline.superbias - INFO - SuperBiasStep instance created.\n"
     ]
    },
    {
     "name": "stderr",
     "output_type": "stream",
     "text": [
      "2025-04-01 15:28:30,567 - stpipe.Detector1Pipeline.refpix - INFO - RefPixStep instance created.\n"
     ]
    },
    {
     "name": "stderr",
     "output_type": "stream",
     "text": [
      "2025-04-01 15:28:30,569 - stpipe.Detector1Pipeline.rscd - INFO - RscdStep instance created.\n"
     ]
    },
    {
     "name": "stderr",
     "output_type": "stream",
     "text": [
      "2025-04-01 15:28:30,570 - stpipe.Detector1Pipeline.firstframe - INFO - FirstFrameStep instance created.\n"
     ]
    },
    {
     "name": "stderr",
     "output_type": "stream",
     "text": [
      "2025-04-01 15:28:30,571 - stpipe.Detector1Pipeline.lastframe - INFO - LastFrameStep instance created.\n"
     ]
    },
    {
     "name": "stderr",
     "output_type": "stream",
     "text": [
      "2025-04-01 15:28:30,572 - stpipe.Detector1Pipeline.linearity - INFO - LinearityStep instance created.\n"
     ]
    },
    {
     "name": "stderr",
     "output_type": "stream",
     "text": [
      "2025-04-01 15:28:30,573 - stpipe.Detector1Pipeline.dark_current - INFO - DarkCurrentStep instance created.\n"
     ]
    },
    {
     "name": "stderr",
     "output_type": "stream",
     "text": [
      "2025-04-01 15:28:30,574 - stpipe.Detector1Pipeline.reset - INFO - ResetStep instance created.\n"
     ]
    },
    {
     "name": "stderr",
     "output_type": "stream",
     "text": [
      "2025-04-01 15:28:30,575 - stpipe.Detector1Pipeline.persistence - INFO - PersistenceStep instance created.\n"
     ]
    },
    {
     "name": "stderr",
     "output_type": "stream",
     "text": [
      "2025-04-01 15:28:30,576 - stpipe.Detector1Pipeline.charge_migration - INFO - ChargeMigrationStep instance created.\n"
     ]
    },
    {
     "name": "stderr",
     "output_type": "stream",
     "text": [
      "2025-04-01 15:28:30,578 - stpipe.Detector1Pipeline.jump - INFO - JumpStep instance created.\n"
     ]
    },
    {
     "name": "stderr",
     "output_type": "stream",
     "text": [
      "2025-04-01 15:28:30,579 - stpipe.Detector1Pipeline.clean_flicker_noise - INFO - CleanFlickerNoiseStep instance created.\n"
     ]
    },
    {
     "name": "stderr",
     "output_type": "stream",
     "text": [
      "2025-04-01 15:28:30,580 - stpipe.Detector1Pipeline.ramp_fit - INFO - RampFitStep instance created.\n"
     ]
    },
    {
     "name": "stderr",
     "output_type": "stream",
     "text": [
      "2025-04-01 15:28:30,581 - stpipe.Detector1Pipeline.gain_scale - INFO - GainScaleStep instance created.\n"
     ]
    },
    {
     "name": "stderr",
     "output_type": "stream",
     "text": [
      "2025-04-01 15:28:30,672 - stpipe.Detector1Pipeline - INFO - Step Detector1Pipeline running with args ('./nis_ami_demo_data/PID_1093/uncal/jw01093012001_03102_00001_nis_uncal.fits',).\n"
     ]
    },
    {
     "name": "stderr",
     "output_type": "stream",
     "text": [
      "2025-04-01 15:28:30,694 - stpipe.Detector1Pipeline - INFO - Step Detector1Pipeline parameters are:\n",
      "  pre_hooks: []\n",
      "  post_hooks: []\n",
      "  output_file: None\n",
      "  output_dir: ./nis_ami_demo_data/PID_1093/stage1\n",
      "  output_ext: .fits\n",
      "  output_use_model: False\n",
      "  output_use_index: True\n",
      "  save_results: True\n",
      "  skip: False\n",
      "  suffix: None\n",
      "  search_output_file: True\n",
      "  input_dir: ''\n",
      "  save_calibrated_ramp: True\n",
      "  steps:\n",
      "    group_scale:\n",
      "      pre_hooks: []\n",
      "      post_hooks: []\n",
      "      output_file: None\n",
      "      output_dir: None\n",
      "      output_ext: .fits\n",
      "      output_use_model: False\n",
      "      output_use_index: True\n",
      "      save_results: False\n",
      "      skip: False\n",
      "      suffix: None\n",
      "      search_output_file: True\n",
      "      input_dir: ''\n",
      "    dq_init:\n",
      "      pre_hooks: []\n",
      "      post_hooks: []\n",
      "      output_file: None\n",
      "      output_dir: None\n",
      "      output_ext: .fits\n",
      "      output_use_model: False\n",
      "      output_use_index: True\n",
      "      save_results: False\n",
      "      skip: False\n",
      "      suffix: None\n",
      "      search_output_file: True\n",
      "      input_dir: ''\n",
      "    emicorr:\n",
      "      pre_hooks: []\n",
      "      post_hooks: []\n",
      "      output_file: None\n",
      "      output_dir: None\n",
      "      output_ext: .fits\n",
      "      output_use_model: False\n",
      "      output_use_index: True\n",
      "      save_results: False\n",
      "      skip: True\n",
      "      suffix: None\n",
      "      search_output_file: True\n",
      "      input_dir: ''\n",
      "      save_intermediate_results: False\n",
      "      user_supplied_reffile: None\n",
      "      nints_to_phase: None\n",
      "      nbins: None\n",
      "      scale_reference: True\n",
      "      onthefly_corr_freq: None\n",
      "      use_n_cycles: 3\n",
      "    saturation:\n",
      "      pre_hooks: []\n",
      "      post_hooks: []\n",
      "      output_file: None\n",
      "      output_dir: None\n",
      "      output_ext: .fits\n",
      "      output_use_model: False\n",
      "      output_use_index: True\n",
      "      save_results: False\n",
      "      skip: False\n",
      "      suffix: None\n",
      "      search_output_file: True\n",
      "      input_dir: ''\n",
      "      n_pix_grow_sat: 1\n",
      "      use_readpatt: True\n",
      "    ipc:\n",
      "      pre_hooks: []\n",
      "      post_hooks: []\n",
      "      output_file: None\n",
      "      output_dir: None\n",
      "      output_ext: .fits\n",
      "      output_use_model: False\n",
      "      output_use_index: True\n",
      "      save_results: False\n",
      "      skip: True\n",
      "      suffix: None\n",
      "      search_output_file: True\n",
      "      input_dir: ''\n",
      "    superbias:\n",
      "      pre_hooks: []\n",
      "      post_hooks: []\n",
      "      output_file: None\n",
      "      output_dir: None\n",
      "      output_ext: .fits\n",
      "      output_use_model: False\n",
      "      output_use_index: True\n",
      "      save_results: False\n",
      "      skip: False\n",
      "      suffix: None\n",
      "      search_output_file: True\n",
      "      input_dir: ''\n",
      "    refpix:\n",
      "      pre_hooks: []\n",
      "      post_hooks: []\n",
      "      output_file: None\n",
      "      output_dir: None\n",
      "      output_ext: .fits\n",
      "      output_use_model: False\n",
      "      output_use_index: True\n",
      "      save_results: False\n",
      "      skip: False\n",
      "      suffix: None\n",
      "      search_output_file: True\n",
      "      input_dir: ''\n",
      "      odd_even_columns: True\n",
      "      use_side_ref_pixels: True\n",
      "      side_smoothing_length: 11\n",
      "      side_gain: 1.0\n",
      "      odd_even_rows: True\n",
      "      ovr_corr_mitigation_ftr: 3.0\n",
      "      preserve_irs2_refpix: False\n",
      "      irs2_mean_subtraction: False\n",
      "      refpix_algorithm: median\n",
      "      sigreject: 4.0\n",
      "      gaussmooth: 1.0\n",
      "      halfwidth: 30\n",
      "    rscd:\n",
      "      pre_hooks: []\n",
      "      post_hooks: []\n",
      "      output_file: None\n",
      "      output_dir: None\n",
      "      output_ext: .fits\n",
      "      output_use_model: False\n",
      "      output_use_index: True\n",
      "      save_results: False\n",
      "      skip: False\n",
      "      suffix: None\n",
      "      search_output_file: True\n",
      "      input_dir: ''\n",
      "      type: baseline\n",
      "    firstframe:\n",
      "      pre_hooks: []\n",
      "      post_hooks: []\n",
      "      output_file: None\n",
      "      output_dir: None\n",
      "      output_ext: .fits\n",
      "      output_use_model: False\n",
      "      output_use_index: True\n",
      "      save_results: False\n",
      "      skip: False\n",
      "      suffix: None\n",
      "      search_output_file: True\n",
      "      input_dir: ''\n",
      "      bright_use_group1: False\n",
      "    lastframe:\n",
      "      pre_hooks: []\n",
      "      post_hooks: []\n",
      "      output_file: None\n",
      "      output_dir: None\n",
      "      output_ext: .fits\n",
      "      output_use_model: False\n",
      "      output_use_index: True\n",
      "      save_results: False\n",
      "      skip: False\n",
      "      suffix: None\n",
      "      search_output_file: True\n",
      "      input_dir: ''\n",
      "    linearity:\n",
      "      pre_hooks: []\n",
      "      post_hooks: []\n",
      "      output_file: None\n",
      "      output_dir: None\n",
      "      output_ext: .fits\n",
      "      output_use_model: False\n",
      "      output_use_index: True\n",
      "      save_results: False\n",
      "      skip: False\n",
      "      suffix: None\n",
      "      search_output_file: True\n",
      "      input_dir: ''\n",
      "    dark_current:\n",
      "      pre_hooks: []\n",
      "      post_hooks: []\n",
      "      output_file: None\n",
      "      output_dir: None\n",
      "      output_ext: .fits\n",
      "      output_use_model: False\n",
      "      output_use_index: True\n",
      "      save_results: False\n",
      "      skip: True\n",
      "      suffix: None\n",
      "      search_output_file: True\n",
      "      input_dir: ''\n",
      "      dark_output: None\n",
      "      average_dark_current: None\n",
      "    reset:\n",
      "      pre_hooks: []\n",
      "      post_hooks: []\n",
      "      output_file: None\n",
      "      output_dir: None\n",
      "      output_ext: .fits\n",
      "      output_use_model: False\n",
      "      output_use_index: True\n",
      "      save_results: False\n",
      "      skip: False\n",
      "      suffix: None\n",
      "      search_output_file: True\n",
      "      input_dir: ''\n",
      "    persistence:\n",
      "      pre_hooks: []\n",
      "      post_hooks: []\n",
      "      output_file: None\n",
      "      output_dir: None\n",
      "      output_ext: .fits\n",
      "      output_use_model: False\n",
      "      output_use_index: True\n",
      "      save_results: False\n",
      "      skip: True\n",
      "      suffix: None\n",
      "      search_output_file: True\n",
      "      input_dir: ''\n",
      "      input_trapsfilled: ''\n",
      "      flag_pers_cutoff: 40.0\n",
      "      save_persistence: False\n",
      "      save_trapsfilled: True\n",
      "      modify_input: False\n",
      "    charge_migration:\n",
      "      pre_hooks: []\n",
      "      post_hooks: []\n",
      "      output_file: None\n",
      "      output_dir: None\n",
      "      output_ext: .fits\n",
      "      output_use_model: False\n",
      "      output_use_index: True\n",
      "      save_results: False\n",
      "      skip: False\n",
      "      suffix: None\n",
      "      search_output_file: True\n",
      "      input_dir: ''\n",
      "      signal_threshold: 16227.0\n",
      "    jump:\n",
      "      pre_hooks: []\n",
      "      post_hooks: []\n",
      "      output_file: None\n",
      "      output_dir: None\n",
      "      output_ext: .fits\n",
      "      output_use_model: False\n",
      "      output_use_index: True\n",
      "      save_results: False\n",
      "      skip: False\n",
      "      suffix: None\n",
      "      search_output_file: True\n",
      "      input_dir: ''\n",
      "      rejection_threshold: 4.0\n",
      "      three_group_rejection_threshold: 6.0\n",
      "      four_group_rejection_threshold: 5.0\n",
      "      maximum_cores: half\n",
      "      flag_4_neighbors: False\n",
      "      max_jump_to_flag_neighbors: 200.0\n",
      "      min_jump_to_flag_neighbors: 10.0\n",
      "      after_jump_flag_dn1: 1000\n",
      "      after_jump_flag_time1: 90\n",
      "      after_jump_flag_dn2: 0\n",
      "      after_jump_flag_time2: 0\n",
      "      expand_large_events: True\n",
      "      min_sat_area: 5\n",
      "      min_jump_area: 15.0\n",
      "      expand_factor: 1.75\n",
      "      use_ellipses: False\n",
      "      sat_required_snowball: True\n",
      "      min_sat_radius_extend: 5.0\n",
      "      sat_expand: 0\n",
      "      edge_size: 20\n",
      "      mask_snowball_core_next_int: True\n",
      "      snowball_time_masked_next_int: 4000\n",
      "      find_showers: False\n",
      "      max_shower_amplitude: 4.0\n",
      "      extend_snr_threshold: 1.2\n",
      "      extend_min_area: 90\n",
      "      extend_inner_radius: 1.0\n",
      "      extend_outer_radius: 2.6\n",
      "      extend_ellipse_expand_ratio: 1.1\n",
      "      time_masked_after_shower: 15.0\n",
      "      min_diffs_single_pass: 10\n",
      "      max_extended_radius: 100\n",
      "      minimum_groups: 3\n",
      "      minimum_sigclip_groups: 100\n",
      "      only_use_ints: True\n",
      "    clean_flicker_noise:\n",
      "      pre_hooks: []\n",
      "      post_hooks: []\n",
      "      output_file: None\n",
      "      output_dir: None\n",
      "      output_ext: .fits\n",
      "      output_use_model: False\n",
      "      output_use_index: True\n",
      "      save_results: False\n",
      "      skip: True\n",
      "      suffix: None\n",
      "      search_output_file: True\n",
      "      input_dir: ''\n",
      "      fit_method: median\n",
      "      fit_by_channel: False\n",
      "      background_method: median\n",
      "      background_box_size: None\n",
      "      mask_science_regions: False\n",
      "      n_sigma: 2.0\n",
      "      fit_histogram: False\n",
      "      single_mask: True\n",
      "      user_mask: None\n",
      "      save_mask: False\n",
      "      save_background: False\n",
      "      save_noise: False\n",
      "    ramp_fit:\n",
      "      pre_hooks: []\n",
      "      post_hooks: []\n",
      "      output_file: None\n",
      "      output_dir: None\n",
      "      output_ext: .fits\n",
      "      output_use_model: False\n",
      "      output_use_index: True\n",
      "      save_results: False\n",
      "      skip: False\n",
      "      suffix: None\n",
      "      search_output_file: True\n",
      "      input_dir: ''\n",
      "      algorithm: OLS_C\n",
      "      int_name: ''\n",
      "      save_opt: False\n",
      "      opt_name: ''\n",
      "      suppress_one_group: True\n",
      "      maximum_cores: '1'\n",
      "    gain_scale:\n",
      "      pre_hooks: []\n",
      "      post_hooks: []\n",
      "      output_file: None\n",
      "      output_dir: None\n",
      "      output_ext: .fits\n",
      "      output_use_model: False\n",
      "      output_use_index: True\n",
      "      save_results: False\n",
      "      skip: False\n",
      "      suffix: None\n",
      "      search_output_file: True\n",
      "      input_dir: ''\n"
     ]
    },
    {
     "name": "stderr",
     "output_type": "stream",
     "text": [
      "2025-04-01 15:28:30,743 - stpipe.Detector1Pipeline - INFO - Prefetching reference files for dataset: 'jw01093012001_03102_00001_nis_uncal.fits' reftypes = ['gain', 'linearity', 'mask', 'readnoise', 'refpix', 'reset', 'rscd', 'saturation', 'superbias']\n"
     ]
    },
    {
     "name": "stderr",
     "output_type": "stream",
     "text": [
      "2025-04-01 15:28:30,746 - CRDS - INFO -  Fetching  /home/runner/crds/references/jwst/niriss/jwst_niriss_gain_0006.fits   16.8 M bytes  (1 / 6 files) (0 / 289.6 M bytes)\n"
     ]
    },
    {
     "name": "stderr",
     "output_type": "stream",
     "text": [
      "2025-04-01 15:28:31,711 - CRDS - INFO -  Fetching  /home/runner/crds/references/jwst/niriss/jwst_niriss_linearity_0017.fits  205.5 M bytes  (2 / 6 files) (16.8 M / 289.6 M bytes)\n"
     ]
    },
    {
     "name": "stderr",
     "output_type": "stream",
     "text": [
      "2025-04-01 15:28:36,443 - CRDS - INFO -  Fetching  /home/runner/crds/references/jwst/niriss/jwst_niriss_mask_0016.fits   16.8 M bytes  (3 / 6 files) (222.3 M / 289.6 M bytes)\n"
     ]
    },
    {
     "name": "stderr",
     "output_type": "stream",
     "text": [
      "2025-04-01 15:28:37,411 - CRDS - INFO -  Fetching  /home/runner/crds/references/jwst/niriss/jwst_niriss_readnoise_0005.fits   16.8 M bytes  (4 / 6 files) (239.1 M / 289.6 M bytes)\n"
     ]
    },
    {
     "name": "stderr",
     "output_type": "stream",
     "text": [
      "2025-04-01 15:28:38,421 - CRDS - INFO -  Fetching  /home/runner/crds/references/jwst/niriss/jwst_niriss_saturation_0015.fits   33.6 M bytes  (5 / 6 files) (255.9 M / 289.6 M bytes)\n"
     ]
    },
    {
     "name": "stderr",
     "output_type": "stream",
     "text": [
      "2025-04-01 15:28:39,653 - CRDS - INFO -  Fetching  /home/runner/crds/references/jwst/niriss/jwst_niriss_superbias_0182.fits   97.9 K bytes  (6 / 6 files) (289.5 M / 289.6 M bytes)\n"
     ]
    },
    {
     "name": "stderr",
     "output_type": "stream",
     "text": [
      "2025-04-01 15:28:40,061 - stpipe.Detector1Pipeline - INFO - Prefetch for GAIN reference file is '/home/runner/crds/references/jwst/niriss/jwst_niriss_gain_0006.fits'.\n"
     ]
    },
    {
     "name": "stderr",
     "output_type": "stream",
     "text": [
      "2025-04-01 15:28:40,062 - stpipe.Detector1Pipeline - INFO - Prefetch for LINEARITY reference file is '/home/runner/crds/references/jwst/niriss/jwst_niriss_linearity_0017.fits'.\n"
     ]
    },
    {
     "name": "stderr",
     "output_type": "stream",
     "text": [
      "2025-04-01 15:28:40,063 - stpipe.Detector1Pipeline - INFO - Prefetch for MASK reference file is '/home/runner/crds/references/jwst/niriss/jwst_niriss_mask_0016.fits'.\n"
     ]
    },
    {
     "name": "stderr",
     "output_type": "stream",
     "text": [
      "2025-04-01 15:28:40,063 - stpipe.Detector1Pipeline - INFO - Prefetch for READNOISE reference file is '/home/runner/crds/references/jwst/niriss/jwst_niriss_readnoise_0005.fits'.\n"
     ]
    },
    {
     "name": "stderr",
     "output_type": "stream",
     "text": [
      "2025-04-01 15:28:40,064 - stpipe.Detector1Pipeline - INFO - Prefetch for REFPIX reference file is 'N/A'.\n"
     ]
    },
    {
     "name": "stderr",
     "output_type": "stream",
     "text": [
      "2025-04-01 15:28:40,064 - stpipe.Detector1Pipeline - INFO - Prefetch for RESET reference file is 'N/A'.\n"
     ]
    },
    {
     "name": "stderr",
     "output_type": "stream",
     "text": [
      "2025-04-01 15:28:40,065 - stpipe.Detector1Pipeline - INFO - Prefetch for RSCD reference file is 'N/A'.\n"
     ]
    },
    {
     "name": "stderr",
     "output_type": "stream",
     "text": [
      "2025-04-01 15:28:40,065 - stpipe.Detector1Pipeline - INFO - Prefetch for SATURATION reference file is '/home/runner/crds/references/jwst/niriss/jwst_niriss_saturation_0015.fits'.\n"
     ]
    },
    {
     "name": "stderr",
     "output_type": "stream",
     "text": [
      "2025-04-01 15:28:40,066 - stpipe.Detector1Pipeline - INFO - Prefetch for SUPERBIAS reference file is '/home/runner/crds/references/jwst/niriss/jwst_niriss_superbias_0182.fits'.\n"
     ]
    },
    {
     "name": "stderr",
     "output_type": "stream",
     "text": [
      "2025-04-01 15:28:40,067 - stpipe.Detector1Pipeline - INFO - Starting calwebb_detector1 ...\n"
     ]
    },
    {
     "name": "stderr",
     "output_type": "stream",
     "text": [
      "2025-04-01 15:28:40,261 - stpipe.Detector1Pipeline.group_scale - INFO - Step group_scale running with args (<RampModel(69, 5, 80, 80) from jw01093012001_03102_00001_nis_uncal.fits>,).\n"
     ]
    },
    {
     "name": "stderr",
     "output_type": "stream",
     "text": [
      "2025-04-01 15:28:40,269 - stpipe.Detector1Pipeline.group_scale - INFO - NFRAMES and FRMDIVSR are equal; correction not needed\n"
     ]
    },
    {
     "name": "stderr",
     "output_type": "stream",
     "text": [
      "2025-04-01 15:28:40,270 - stpipe.Detector1Pipeline.group_scale - INFO - Step will be skipped\n"
     ]
    },
    {
     "name": "stderr",
     "output_type": "stream",
     "text": [
      "2025-04-01 15:28:40,271 - stpipe.Detector1Pipeline.group_scale - INFO - Step group_scale done\n"
     ]
    },
    {
     "name": "stderr",
     "output_type": "stream",
     "text": [
      "2025-04-01 15:28:40,349 - stpipe.Detector1Pipeline.dq_init - INFO - Step dq_init running with args (<RampModel(69, 5, 80, 80) from jw01093012001_03102_00001_nis_uncal.fits>,).\n"
     ]
    },
    {
     "name": "stderr",
     "output_type": "stream",
     "text": [
      "2025-04-01 15:28:40,366 - stpipe.Detector1Pipeline.dq_init - INFO - Using MASK reference file /home/runner/crds/references/jwst/niriss/jwst_niriss_mask_0016.fits\n"
     ]
    },
    {
     "name": "stderr",
     "output_type": "stream",
     "text": [
      "2025-04-01 15:28:40,443 - stpipe.Detector1Pipeline.dq_init - WARNING - Keyword NON_LINEAR does not correspond to an existing DQ mnemonic, so will be ignored\n"
     ]
    },
    {
     "name": "stderr",
     "output_type": "stream",
     "text": [
      "2025-04-01 15:28:40,475 - stpipe.Detector1Pipeline.dq_init - INFO - Extracting mask subarray to match science data\n"
     ]
    },
    {
     "name": "stderr",
     "output_type": "stream",
     "text": [
      "2025-04-01 15:28:40,488 - CRDS - INFO -  Calibration SW Found: jwst 1.17.1 (/opt/hostedtoolcache/Python/3.11.11/x64/lib/python3.11/site-packages/jwst-1.17.1.dist-info)\n"
     ]
    },
    {
     "name": "stderr",
     "output_type": "stream",
     "text": [
      "2025-04-01 15:28:40,719 - stpipe.Detector1Pipeline.dq_init - INFO - Step dq_init done\n"
     ]
    },
    {
     "name": "stderr",
     "output_type": "stream",
     "text": [
      "2025-04-01 15:28:40,812 - stpipe.Detector1Pipeline.saturation - INFO - Step saturation running with args (<RampModel(69, 5, 80, 80) from jw01093012001_03102_00001_nis_uncal.fits>,).\n"
     ]
    },
    {
     "name": "stderr",
     "output_type": "stream",
     "text": [
      "2025-04-01 15:28:40,829 - stpipe.Detector1Pipeline.saturation - INFO - Using SATURATION reference file /home/runner/crds/references/jwst/niriss/jwst_niriss_saturation_0015.fits\n"
     ]
    },
    {
     "name": "stderr",
     "output_type": "stream",
     "text": [
      "2025-04-01 15:28:40,860 - stpipe.Detector1Pipeline.saturation - WARNING - Keyword LOWILLUM does not correspond to an existing DQ mnemonic, so will be ignored\n"
     ]
    },
    {
     "name": "stderr",
     "output_type": "stream",
     "text": [
      "2025-04-01 15:28:40,861 - stpipe.Detector1Pipeline.saturation - WARNING - Keyword LOWRESP does not correspond to an existing DQ mnemonic, so will be ignored\n"
     ]
    },
    {
     "name": "stderr",
     "output_type": "stream",
     "text": [
      "2025-04-01 15:28:40,867 - stpipe.Detector1Pipeline.saturation - WARNING - Keyword UNCERTAIN does not correspond to an existing DQ mnemonic, so will be ignored\n"
     ]
    },
    {
     "name": "stderr",
     "output_type": "stream",
     "text": [
      "2025-04-01 15:28:40,880 - stpipe.Detector1Pipeline.saturation - INFO - Extracting reference file subarray to match science data\n"
     ]
    },
    {
     "name": "stderr",
     "output_type": "stream",
     "text": [
      "2025-04-01 15:28:40,888 - stpipe.Detector1Pipeline.saturation - INFO - Using read_pattern with nframes 1\n"
     ]
    },
    {
     "name": "stderr",
     "output_type": "stream",
     "text": [
      "2025-04-01 15:28:41,025 - stpipe.Detector1Pipeline.saturation - INFO - Detected 0 saturated pixels\n"
     ]
    },
    {
     "name": "stderr",
     "output_type": "stream",
     "text": [
      "2025-04-01 15:28:41,026 - stpipe.Detector1Pipeline.saturation - INFO - Detected 0 A/D floor pixels\n"
     ]
    },
    {
     "name": "stderr",
     "output_type": "stream",
     "text": [
      "2025-04-01 15:28:41,029 - stpipe.Detector1Pipeline.saturation - INFO - Step saturation done\n"
     ]
    },
    {
     "name": "stderr",
     "output_type": "stream",
     "text": [
      "2025-04-01 15:28:41,124 - stpipe.Detector1Pipeline.ipc - INFO - Step ipc running with args (<RampModel(69, 5, 80, 80) from jw01093012001_03102_00001_nis_uncal.fits>,).\n"
     ]
    },
    {
     "name": "stderr",
     "output_type": "stream",
     "text": [
      "2025-04-01 15:28:41,125 - stpipe.Detector1Pipeline.ipc - INFO - Step skipped.\n"
     ]
    },
    {
     "name": "stderr",
     "output_type": "stream",
     "text": [
      "2025-04-01 15:28:41,208 - stpipe.Detector1Pipeline.superbias - INFO - Step superbias running with args (<RampModel(69, 5, 80, 80) from jw01093012001_03102_00001_nis_uncal.fits>,).\n"
     ]
    },
    {
     "name": "stderr",
     "output_type": "stream",
     "text": [
      "2025-04-01 15:28:41,224 - stpipe.Detector1Pipeline.superbias - INFO - Using SUPERBIAS reference file /home/runner/crds/references/jwst/niriss/jwst_niriss_superbias_0182.fits\n"
     ]
    },
    {
     "name": "stderr",
     "output_type": "stream",
     "text": [
      "2025-04-01 15:28:41,262 - stpipe.Detector1Pipeline.superbias - INFO - Step superbias done\n"
     ]
    },
    {
     "name": "stderr",
     "output_type": "stream",
     "text": [
      "2025-04-01 15:28:41,357 - stpipe.Detector1Pipeline.refpix - INFO - Step refpix running with args (<RampModel(69, 5, 80, 80) from jw01093012001_03102_00001_nis_uncal.fits>,).\n"
     ]
    },
    {
     "name": "stderr",
     "output_type": "stream",
     "text": [
      "2025-04-01 15:28:41,378 - stpipe.Detector1Pipeline.refpix - INFO - NIR subarray data\n"
     ]
    },
    {
     "name": "stderr",
     "output_type": "stream",
     "text": [
      "2025-04-01 15:28:41,381 - stpipe.Detector1Pipeline.refpix - INFO - Single readout amplifier used\n"
     ]
    },
    {
     "name": "stderr",
     "output_type": "stream",
     "text": [
      "2025-04-01 15:28:41,381 - stpipe.Detector1Pipeline.refpix - INFO - No valid reference pixels.  This step will have no effect.\n"
     ]
    },
    {
     "name": "stderr",
     "output_type": "stream",
     "text": [
      "2025-04-01 15:28:42,105 - stpipe.Detector1Pipeline.refpix - INFO - Step refpix done\n"
     ]
    },
    {
     "name": "stderr",
     "output_type": "stream",
     "text": [
      "2025-04-01 15:28:42,200 - stpipe.Detector1Pipeline.linearity - INFO - Step linearity running with args (<RampModel(69, 5, 80, 80) from jw01093012001_03102_00001_nis_uncal.fits>,).\n"
     ]
    },
    {
     "name": "stderr",
     "output_type": "stream",
     "text": [
      "2025-04-01 15:28:42,216 - stpipe.Detector1Pipeline.linearity - INFO - Using Linearity reference file /home/runner/crds/references/jwst/niriss/jwst_niriss_linearity_0017.fits\n"
     ]
    },
    {
     "name": "stderr",
     "output_type": "stream",
     "text": [
      "2025-04-01 15:28:42,272 - stpipe.Detector1Pipeline.linearity - WARNING - Keyword LOWILLUM does not correspond to an existing DQ mnemonic, so will be ignored\n"
     ]
    },
    {
     "name": "stderr",
     "output_type": "stream",
     "text": [
      "2025-04-01 15:28:42,272 - stpipe.Detector1Pipeline.linearity - WARNING - Keyword LOWRESP does not correspond to an existing DQ mnemonic, so will be ignored\n"
     ]
    },
    {
     "name": "stderr",
     "output_type": "stream",
     "text": [
      "2025-04-01 15:28:42,280 - stpipe.Detector1Pipeline.linearity - WARNING - Keyword UNCERTAIN does not correspond to an existing DQ mnemonic, so will be ignored\n"
     ]
    },
    {
     "name": "stderr",
     "output_type": "stream",
     "text": [
      "2025-04-01 15:28:42,321 - stpipe.Detector1Pipeline.linearity - INFO - Step linearity done\n"
     ]
    },
    {
     "name": "stderr",
     "output_type": "stream",
     "text": [
      "2025-04-01 15:28:42,416 - stpipe.Detector1Pipeline.persistence - INFO - Step persistence running with args (<RampModel(69, 5, 80, 80) from jw01093012001_03102_00001_nis_uncal.fits>,).\n"
     ]
    },
    {
     "name": "stderr",
     "output_type": "stream",
     "text": [
      "2025-04-01 15:28:42,417 - stpipe.Detector1Pipeline.persistence - INFO - Step skipped.\n"
     ]
    },
    {
     "name": "stderr",
     "output_type": "stream",
     "text": [
      "2025-04-01 15:28:42,494 - stpipe.Detector1Pipeline.dark_current - INFO - Step dark_current running with args (<RampModel(69, 5, 80, 80) from jw01093012001_03102_00001_nis_uncal.fits>,).\n"
     ]
    },
    {
     "name": "stderr",
     "output_type": "stream",
     "text": [
      "2025-04-01 15:28:42,495 - stpipe.Detector1Pipeline.dark_current - INFO - Step skipped.\n"
     ]
    },
    {
     "name": "stderr",
     "output_type": "stream",
     "text": [
      "2025-04-01 15:28:42,570 - stpipe.Detector1Pipeline.charge_migration - INFO - Step charge_migration running with args (<RampModel(69, 5, 80, 80) from jw01093012001_03102_00001_nis_uncal.fits>,).\n"
     ]
    },
    {
     "name": "stderr",
     "output_type": "stream",
     "text": [
      "2025-04-01 15:28:42,590 - stpipe.Detector1Pipeline.charge_migration - INFO - Using signal_threshold: 16227.00\n"
     ]
    },
    {
     "name": "stderr",
     "output_type": "stream",
     "text": [
      "2025-04-01 15:28:42,597 - stpipe.Detector1Pipeline.charge_migration - INFO - Step charge_migration done\n"
     ]
    },
    {
     "name": "stderr",
     "output_type": "stream",
     "text": [
      "2025-04-01 15:28:42,684 - stpipe.Detector1Pipeline.jump - INFO - Step jump running with args (<RampModel(69, 5, 80, 80) from jw01093012001_03102_00001_nis_uncal.fits>,).\n"
     ]
    },
    {
     "name": "stderr",
     "output_type": "stream",
     "text": [
      "2025-04-01 15:28:42,706 - stpipe.Detector1Pipeline.jump - INFO - CR rejection threshold = 4 sigma\n"
     ]
    },
    {
     "name": "stderr",
     "output_type": "stream",
     "text": [
      "2025-04-01 15:28:42,707 - stpipe.Detector1Pipeline.jump - INFO - Maximum cores to use = half\n"
     ]
    },
    {
     "name": "stderr",
     "output_type": "stream",
     "text": [
      "2025-04-01 15:28:42,716 - stpipe.Detector1Pipeline.jump - INFO - Using GAIN reference file: /home/runner/crds/references/jwst/niriss/jwst_niriss_gain_0006.fits\n"
     ]
    },
    {
     "name": "stderr",
     "output_type": "stream",
     "text": [
      "2025-04-01 15:28:42,741 - stpipe.Detector1Pipeline.jump - INFO - Using READNOISE reference file: /home/runner/crds/references/jwst/niriss/jwst_niriss_readnoise_0005.fits\n"
     ]
    },
    {
     "name": "stderr",
     "output_type": "stream",
     "text": [
      "2025-04-01 15:28:42,757 - stpipe.Detector1Pipeline.jump - INFO - Extracting gain subarray to match science data\n"
     ]
    },
    {
     "name": "stderr",
     "output_type": "stream",
     "text": [
      "2025-04-01 15:28:42,758 - stpipe.Detector1Pipeline.jump - INFO - Extracting readnoise subarray to match science data\n"
     ]
    },
    {
     "name": "stderr",
     "output_type": "stream",
     "text": [
      "2025-04-01 15:28:42,766 - stpipe.Detector1Pipeline.jump - INFO - Executing two-point difference method\n"
     ]
    },
    {
     "name": "stderr",
     "output_type": "stream",
     "text": [
      "2025-04-01 15:28:42,769 - stpipe.Detector1Pipeline.jump - INFO - Creating 2 processes for jump detection \n"
     ]
    },
    {
     "name": "stderr",
     "output_type": "stream",
     "text": [
      "2025-04-01 15:28:43,385 - stpipe.Detector1Pipeline.jump - INFO - Flagging Snowballs\n"
     ]
    },
    {
     "name": "stderr",
     "output_type": "stream",
     "text": [
      "2025-04-01 15:28:43,445 - stpipe.Detector1Pipeline.jump - INFO - Total snowballs = 0\n"
     ]
    },
    {
     "name": "stderr",
     "output_type": "stream",
     "text": [
      "2025-04-01 15:28:43,445 - stpipe.Detector1Pipeline.jump - INFO - Total elapsed time = 0.678637 sec\n"
     ]
    },
    {
     "name": "stderr",
     "output_type": "stream",
     "text": [
      "2025-04-01 15:28:43,454 - stpipe.Detector1Pipeline.jump - INFO - The execution time in seconds: 0.761037\n"
     ]
    },
    {
     "name": "stderr",
     "output_type": "stream",
     "text": [
      "2025-04-01 15:28:43,456 - stpipe.Detector1Pipeline.jump - INFO - Step jump done\n"
     ]
    },
    {
     "name": "stderr",
     "output_type": "stream",
     "text": [
      "2025-04-01 15:28:43,547 - stpipe.Detector1Pipeline.clean_flicker_noise - INFO - Step clean_flicker_noise running with args (<RampModel(69, 5, 80, 80) from jw01093012001_03102_00001_nis_uncal.fits>,).\n"
     ]
    },
    {
     "name": "stderr",
     "output_type": "stream",
     "text": [
      "2025-04-01 15:28:43,548 - stpipe.Detector1Pipeline.clean_flicker_noise - INFO - Step skipped.\n"
     ]
    },
    {
     "name": "stderr",
     "output_type": "stream",
     "text": [
      "2025-04-01 15:28:43,626 - stpipe.Detector1Pipeline - INFO - Saved model in ./nis_ami_demo_data/PID_1093/stage1/jw01093012001_03102_00001_nis_ramp.fits\n"
     ]
    },
    {
     "name": "stderr",
     "output_type": "stream",
     "text": [
      "2025-04-01 15:28:43,716 - stpipe.Detector1Pipeline.ramp_fit - INFO - Step ramp_fit running with args (<RampModel(69, 5, 80, 80) from jw01093012001_03102_00001_nis_ramp.fits>,).\n"
     ]
    },
    {
     "name": "stderr",
     "output_type": "stream",
     "text": [
      "2025-04-01 15:28:43,751 - stpipe.Detector1Pipeline.ramp_fit - INFO - Using READNOISE reference file: /home/runner/crds/references/jwst/niriss/jwst_niriss_readnoise_0005.fits\n"
     ]
    },
    {
     "name": "stderr",
     "output_type": "stream",
     "text": [
      "2025-04-01 15:28:43,752 - stpipe.Detector1Pipeline.ramp_fit - INFO - Using GAIN reference file: /home/runner/crds/references/jwst/niriss/jwst_niriss_gain_0006.fits\n"
     ]
    },
    {
     "name": "stderr",
     "output_type": "stream",
     "text": [
      "2025-04-01 15:28:43,778 - stpipe.Detector1Pipeline.ramp_fit - INFO - Extracting gain subarray to match science data\n"
     ]
    },
    {
     "name": "stderr",
     "output_type": "stream",
     "text": [
      "2025-04-01 15:28:43,779 - stpipe.Detector1Pipeline.ramp_fit - INFO - Extracting readnoise subarray to match science data\n"
     ]
    },
    {
     "name": "stderr",
     "output_type": "stream",
     "text": [
      "2025-04-01 15:28:43,779 - stpipe.Detector1Pipeline.ramp_fit - INFO - Using algorithm = OLS_C\n"
     ]
    },
    {
     "name": "stderr",
     "output_type": "stream",
     "text": [
      "2025-04-01 15:28:43,780 - stpipe.Detector1Pipeline.ramp_fit - INFO - Using weighting = optimal\n"
     ]
    },
    {
     "name": "stderr",
     "output_type": "stream",
     "text": [
      "2025-04-01 15:28:43,809 - stpipe.Detector1Pipeline.ramp_fit - INFO - Number of multiprocessing slices: 1\n"
     ]
    },
    {
     "name": "stderr",
     "output_type": "stream",
     "text": [
      "2025-04-01 15:28:43,954 - stpipe.Detector1Pipeline.ramp_fit - INFO - Ramp Fitting C Time: 0.14420604705810547\n"
     ]
    },
    {
     "name": "stderr",
     "output_type": "stream",
     "text": [
      "2025-04-01 15:28:44,003 - stpipe.Detector1Pipeline.ramp_fit - INFO - Step ramp_fit done\n"
     ]
    },
    {
     "name": "stderr",
     "output_type": "stream",
     "text": [
      "2025-04-01 15:28:44,095 - stpipe.Detector1Pipeline.gain_scale - INFO - Step gain_scale running with args (<ImageModel(80, 80) from jw01093012001_03102_00001_nis_ramp.fits>,).\n"
     ]
    },
    {
     "name": "stderr",
     "output_type": "stream",
     "text": [
      "2025-04-01 15:28:44,121 - stpipe.Detector1Pipeline.gain_scale - INFO - GAINFACT not found in gain reference file\n"
     ]
    },
    {
     "name": "stderr",
     "output_type": "stream",
     "text": [
      "2025-04-01 15:28:44,122 - stpipe.Detector1Pipeline.gain_scale - INFO - Step will be skipped\n"
     ]
    },
    {
     "name": "stderr",
     "output_type": "stream",
     "text": [
      "2025-04-01 15:28:44,124 - stpipe.Detector1Pipeline.gain_scale - INFO - Step gain_scale done\n"
     ]
    },
    {
     "name": "stderr",
     "output_type": "stream",
     "text": [
      "2025-04-01 15:28:44,206 - stpipe.Detector1Pipeline.gain_scale - INFO - Step gain_scale running with args (<CubeModel(69, 80, 80) from jw01093012001_03102_00001_nis_ramp.fits>,).\n"
     ]
    },
    {
     "name": "stderr",
     "output_type": "stream",
     "text": [
      "2025-04-01 15:28:44,234 - stpipe.Detector1Pipeline.gain_scale - INFO - GAINFACT not found in gain reference file\n"
     ]
    },
    {
     "name": "stderr",
     "output_type": "stream",
     "text": [
      "2025-04-01 15:28:44,234 - stpipe.Detector1Pipeline.gain_scale - INFO - Step will be skipped\n"
     ]
    },
    {
     "name": "stderr",
     "output_type": "stream",
     "text": [
      "2025-04-01 15:28:44,236 - stpipe.Detector1Pipeline.gain_scale - INFO - Step gain_scale done\n"
     ]
    },
    {
     "name": "stderr",
     "output_type": "stream",
     "text": [
      "2025-04-01 15:28:44,295 - stpipe.Detector1Pipeline - INFO - Saved model in ./nis_ami_demo_data/PID_1093/stage1/jw01093012001_03102_00001_nis_rateints.fits\n"
     ]
    },
    {
     "name": "stderr",
     "output_type": "stream",
     "text": [
      "2025-04-01 15:28:44,296 - stpipe.Detector1Pipeline - INFO - ... ending calwebb_detector1\n"
     ]
    },
    {
     "name": "stderr",
     "output_type": "stream",
     "text": [
      "2025-04-01 15:28:44,297 - stpipe.Detector1Pipeline - INFO - Results used CRDS context: jwst_1322.pmap\n"
     ]
    },
    {
     "name": "stderr",
     "output_type": "stream",
     "text": [
      "2025-04-01 15:28:44,344 - stpipe.Detector1Pipeline - INFO - Saved model in ./nis_ami_demo_data/PID_1093/stage1/jw01093012001_03102_00001_nis_rate.fits\n"
     ]
    },
    {
     "name": "stderr",
     "output_type": "stream",
     "text": [
      "2025-04-01 15:28:44,344 - stpipe.Detector1Pipeline - INFO - Step Detector1Pipeline done\n"
     ]
    },
    {
     "name": "stderr",
     "output_type": "stream",
     "text": [
      "2025-04-01 15:28:44,345 - stpipe - INFO - Results used jwst version: 1.17.1\n"
     ]
    },
    {
     "name": "stderr",
     "output_type": "stream",
     "text": [
      "2025-04-01 15:28:44,403 - CRDS - ERROR -  Error determining best reference for 'pars-darkcurrentstep'  =   No match found.\n"
     ]
    },
    {
     "name": "stderr",
     "output_type": "stream",
     "text": [
      "2025-04-01 15:28:44,405 - stpipe - INFO - PARS-CHARGEMIGRATIONSTEP parameters found: /home/runner/crds/references/jwst/niriss/jwst_niriss_pars-chargemigrationstep_0034.asdf\n"
     ]
    },
    {
     "name": "stderr",
     "output_type": "stream",
     "text": [
      "2025-04-01 15:28:44,415 - stpipe - INFO - PARS-JUMPSTEP parameters found: /home/runner/crds/references/jwst/niriss/jwst_niriss_pars-jumpstep_0072.asdf\n"
     ]
    },
    {
     "name": "stderr",
     "output_type": "stream",
     "text": [
      "2025-04-01 15:28:44,426 - stpipe - INFO - PARS-DETECTOR1PIPELINE parameters found: /home/runner/crds/references/jwst/niriss/jwst_niriss_pars-detector1pipeline_0001.asdf\n"
     ]
    },
    {
     "name": "stderr",
     "output_type": "stream",
     "text": [
      "2025-04-01 15:28:44,443 - stpipe.Detector1Pipeline - INFO - Detector1Pipeline instance created.\n"
     ]
    },
    {
     "name": "stderr",
     "output_type": "stream",
     "text": [
      "2025-04-01 15:28:44,443 - stpipe.Detector1Pipeline.group_scale - INFO - GroupScaleStep instance created.\n"
     ]
    },
    {
     "name": "stderr",
     "output_type": "stream",
     "text": [
      "2025-04-01 15:28:44,445 - stpipe.Detector1Pipeline.dq_init - INFO - DQInitStep instance created.\n"
     ]
    },
    {
     "name": "stderr",
     "output_type": "stream",
     "text": [
      "2025-04-01 15:28:44,446 - stpipe.Detector1Pipeline.emicorr - INFO - EmiCorrStep instance created.\n"
     ]
    },
    {
     "name": "stderr",
     "output_type": "stream",
     "text": [
      "2025-04-01 15:28:44,447 - stpipe.Detector1Pipeline.saturation - INFO - SaturationStep instance created.\n"
     ]
    },
    {
     "name": "stderr",
     "output_type": "stream",
     "text": [
      "2025-04-01 15:28:44,448 - stpipe.Detector1Pipeline.ipc - INFO - IPCStep instance created.\n"
     ]
    },
    {
     "name": "stderr",
     "output_type": "stream",
     "text": [
      "2025-04-01 15:28:44,449 - stpipe.Detector1Pipeline.superbias - INFO - SuperBiasStep instance created.\n"
     ]
    },
    {
     "name": "stderr",
     "output_type": "stream",
     "text": [
      "2025-04-01 15:28:44,451 - stpipe.Detector1Pipeline.refpix - INFO - RefPixStep instance created.\n"
     ]
    },
    {
     "name": "stderr",
     "output_type": "stream",
     "text": [
      "2025-04-01 15:28:44,452 - stpipe.Detector1Pipeline.rscd - INFO - RscdStep instance created.\n"
     ]
    },
    {
     "name": "stderr",
     "output_type": "stream",
     "text": [
      "2025-04-01 15:28:44,453 - stpipe.Detector1Pipeline.firstframe - INFO - FirstFrameStep instance created.\n"
     ]
    },
    {
     "name": "stderr",
     "output_type": "stream",
     "text": [
      "2025-04-01 15:28:44,453 - stpipe.Detector1Pipeline.lastframe - INFO - LastFrameStep instance created.\n"
     ]
    },
    {
     "name": "stderr",
     "output_type": "stream",
     "text": [
      "2025-04-01 15:28:44,455 - stpipe.Detector1Pipeline.linearity - INFO - LinearityStep instance created.\n"
     ]
    },
    {
     "name": "stderr",
     "output_type": "stream",
     "text": [
      "2025-04-01 15:28:44,456 - stpipe.Detector1Pipeline.dark_current - INFO - DarkCurrentStep instance created.\n"
     ]
    },
    {
     "name": "stderr",
     "output_type": "stream",
     "text": [
      "2025-04-01 15:28:44,457 - stpipe.Detector1Pipeline.reset - INFO - ResetStep instance created.\n"
     ]
    },
    {
     "name": "stderr",
     "output_type": "stream",
     "text": [
      "2025-04-01 15:28:44,458 - stpipe.Detector1Pipeline.persistence - INFO - PersistenceStep instance created.\n"
     ]
    },
    {
     "name": "stderr",
     "output_type": "stream",
     "text": [
      "2025-04-01 15:28:44,459 - stpipe.Detector1Pipeline.charge_migration - INFO - ChargeMigrationStep instance created.\n"
     ]
    },
    {
     "name": "stderr",
     "output_type": "stream",
     "text": [
      "2025-04-01 15:28:44,460 - stpipe.Detector1Pipeline.jump - INFO - JumpStep instance created.\n"
     ]
    },
    {
     "name": "stderr",
     "output_type": "stream",
     "text": [
      "2025-04-01 15:28:44,462 - stpipe.Detector1Pipeline.clean_flicker_noise - INFO - CleanFlickerNoiseStep instance created.\n"
     ]
    },
    {
     "name": "stderr",
     "output_type": "stream",
     "text": [
      "2025-04-01 15:28:44,463 - stpipe.Detector1Pipeline.ramp_fit - INFO - RampFitStep instance created.\n"
     ]
    },
    {
     "name": "stderr",
     "output_type": "stream",
     "text": [
      "2025-04-01 15:28:44,463 - stpipe.Detector1Pipeline.gain_scale - INFO - GainScaleStep instance created.\n"
     ]
    },
    {
     "name": "stderr",
     "output_type": "stream",
     "text": [
      "2025-04-01 15:28:44,557 - stpipe.Detector1Pipeline - INFO - Step Detector1Pipeline running with args ('./nis_ami_demo_data/PID_1093/uncal/jw01093015001_03102_00001_nis_uncal.fits',).\n"
     ]
    },
    {
     "name": "stderr",
     "output_type": "stream",
     "text": [
      "2025-04-01 15:28:44,578 - stpipe.Detector1Pipeline - INFO - Step Detector1Pipeline parameters are:\n",
      "  pre_hooks: []\n",
      "  post_hooks: []\n",
      "  output_file: None\n",
      "  output_dir: ./nis_ami_demo_data/PID_1093/stage1\n",
      "  output_ext: .fits\n",
      "  output_use_model: False\n",
      "  output_use_index: True\n",
      "  save_results: True\n",
      "  skip: False\n",
      "  suffix: None\n",
      "  search_output_file: True\n",
      "  input_dir: ''\n",
      "  save_calibrated_ramp: True\n",
      "  steps:\n",
      "    group_scale:\n",
      "      pre_hooks: []\n",
      "      post_hooks: []\n",
      "      output_file: None\n",
      "      output_dir: None\n",
      "      output_ext: .fits\n",
      "      output_use_model: False\n",
      "      output_use_index: True\n",
      "      save_results: False\n",
      "      skip: False\n",
      "      suffix: None\n",
      "      search_output_file: True\n",
      "      input_dir: ''\n",
      "    dq_init:\n",
      "      pre_hooks: []\n",
      "      post_hooks: []\n",
      "      output_file: None\n",
      "      output_dir: None\n",
      "      output_ext: .fits\n",
      "      output_use_model: False\n",
      "      output_use_index: True\n",
      "      save_results: False\n",
      "      skip: False\n",
      "      suffix: None\n",
      "      search_output_file: True\n",
      "      input_dir: ''\n",
      "    emicorr:\n",
      "      pre_hooks: []\n",
      "      post_hooks: []\n",
      "      output_file: None\n",
      "      output_dir: None\n",
      "      output_ext: .fits\n",
      "      output_use_model: False\n",
      "      output_use_index: True\n",
      "      save_results: False\n",
      "      skip: True\n",
      "      suffix: None\n",
      "      search_output_file: True\n",
      "      input_dir: ''\n",
      "      save_intermediate_results: False\n",
      "      user_supplied_reffile: None\n",
      "      nints_to_phase: None\n",
      "      nbins: None\n",
      "      scale_reference: True\n",
      "      onthefly_corr_freq: None\n",
      "      use_n_cycles: 3\n",
      "    saturation:\n",
      "      pre_hooks: []\n",
      "      post_hooks: []\n",
      "      output_file: None\n",
      "      output_dir: None\n",
      "      output_ext: .fits\n",
      "      output_use_model: False\n",
      "      output_use_index: True\n",
      "      save_results: False\n",
      "      skip: False\n",
      "      suffix: None\n",
      "      search_output_file: True\n",
      "      input_dir: ''\n",
      "      n_pix_grow_sat: 1\n",
      "      use_readpatt: True\n",
      "    ipc:\n",
      "      pre_hooks: []\n",
      "      post_hooks: []\n",
      "      output_file: None\n",
      "      output_dir: None\n",
      "      output_ext: .fits\n",
      "      output_use_model: False\n",
      "      output_use_index: True\n",
      "      save_results: False\n",
      "      skip: True\n",
      "      suffix: None\n",
      "      search_output_file: True\n",
      "      input_dir: ''\n",
      "    superbias:\n",
      "      pre_hooks: []\n",
      "      post_hooks: []\n",
      "      output_file: None\n",
      "      output_dir: None\n",
      "      output_ext: .fits\n",
      "      output_use_model: False\n",
      "      output_use_index: True\n",
      "      save_results: False\n",
      "      skip: False\n",
      "      suffix: None\n",
      "      search_output_file: True\n",
      "      input_dir: ''\n",
      "    refpix:\n",
      "      pre_hooks: []\n",
      "      post_hooks: []\n",
      "      output_file: None\n",
      "      output_dir: None\n",
      "      output_ext: .fits\n",
      "      output_use_model: False\n",
      "      output_use_index: True\n",
      "      save_results: False\n",
      "      skip: False\n",
      "      suffix: None\n",
      "      search_output_file: True\n",
      "      input_dir: ''\n",
      "      odd_even_columns: True\n",
      "      use_side_ref_pixels: True\n",
      "      side_smoothing_length: 11\n",
      "      side_gain: 1.0\n",
      "      odd_even_rows: True\n",
      "      ovr_corr_mitigation_ftr: 3.0\n",
      "      preserve_irs2_refpix: False\n",
      "      irs2_mean_subtraction: False\n",
      "      refpix_algorithm: median\n",
      "      sigreject: 4.0\n",
      "      gaussmooth: 1.0\n",
      "      halfwidth: 30\n",
      "    rscd:\n",
      "      pre_hooks: []\n",
      "      post_hooks: []\n",
      "      output_file: None\n",
      "      output_dir: None\n",
      "      output_ext: .fits\n",
      "      output_use_model: False\n",
      "      output_use_index: True\n",
      "      save_results: False\n",
      "      skip: False\n",
      "      suffix: None\n",
      "      search_output_file: True\n",
      "      input_dir: ''\n",
      "      type: baseline\n",
      "    firstframe:\n",
      "      pre_hooks: []\n",
      "      post_hooks: []\n",
      "      output_file: None\n",
      "      output_dir: None\n",
      "      output_ext: .fits\n",
      "      output_use_model: False\n",
      "      output_use_index: True\n",
      "      save_results: False\n",
      "      skip: False\n",
      "      suffix: None\n",
      "      search_output_file: True\n",
      "      input_dir: ''\n",
      "      bright_use_group1: False\n",
      "    lastframe:\n",
      "      pre_hooks: []\n",
      "      post_hooks: []\n",
      "      output_file: None\n",
      "      output_dir: None\n",
      "      output_ext: .fits\n",
      "      output_use_model: False\n",
      "      output_use_index: True\n",
      "      save_results: False\n",
      "      skip: False\n",
      "      suffix: None\n",
      "      search_output_file: True\n",
      "      input_dir: ''\n",
      "    linearity:\n",
      "      pre_hooks: []\n",
      "      post_hooks: []\n",
      "      output_file: None\n",
      "      output_dir: None\n",
      "      output_ext: .fits\n",
      "      output_use_model: False\n",
      "      output_use_index: True\n",
      "      save_results: False\n",
      "      skip: False\n",
      "      suffix: None\n",
      "      search_output_file: True\n",
      "      input_dir: ''\n",
      "    dark_current:\n",
      "      pre_hooks: []\n",
      "      post_hooks: []\n",
      "      output_file: None\n",
      "      output_dir: None\n",
      "      output_ext: .fits\n",
      "      output_use_model: False\n",
      "      output_use_index: True\n",
      "      save_results: False\n",
      "      skip: True\n",
      "      suffix: None\n",
      "      search_output_file: True\n",
      "      input_dir: ''\n",
      "      dark_output: None\n",
      "      average_dark_current: None\n",
      "    reset:\n",
      "      pre_hooks: []\n",
      "      post_hooks: []\n",
      "      output_file: None\n",
      "      output_dir: None\n",
      "      output_ext: .fits\n",
      "      output_use_model: False\n",
      "      output_use_index: True\n",
      "      save_results: False\n",
      "      skip: False\n",
      "      suffix: None\n",
      "      search_output_file: True\n",
      "      input_dir: ''\n",
      "    persistence:\n",
      "      pre_hooks: []\n",
      "      post_hooks: []\n",
      "      output_file: None\n",
      "      output_dir: None\n",
      "      output_ext: .fits\n",
      "      output_use_model: False\n",
      "      output_use_index: True\n",
      "      save_results: False\n",
      "      skip: True\n",
      "      suffix: None\n",
      "      search_output_file: True\n",
      "      input_dir: ''\n",
      "      input_trapsfilled: ''\n",
      "      flag_pers_cutoff: 40.0\n",
      "      save_persistence: False\n",
      "      save_trapsfilled: True\n",
      "      modify_input: False\n",
      "    charge_migration:\n",
      "      pre_hooks: []\n",
      "      post_hooks: []\n",
      "      output_file: None\n",
      "      output_dir: None\n",
      "      output_ext: .fits\n",
      "      output_use_model: False\n",
      "      output_use_index: True\n",
      "      save_results: False\n",
      "      skip: False\n",
      "      suffix: None\n",
      "      search_output_file: True\n",
      "      input_dir: ''\n",
      "      signal_threshold: 16227.0\n",
      "    jump:\n",
      "      pre_hooks: []\n",
      "      post_hooks: []\n",
      "      output_file: None\n",
      "      output_dir: None\n",
      "      output_ext: .fits\n",
      "      output_use_model: False\n",
      "      output_use_index: True\n",
      "      save_results: False\n",
      "      skip: False\n",
      "      suffix: None\n",
      "      search_output_file: True\n",
      "      input_dir: ''\n",
      "      rejection_threshold: 4.0\n",
      "      three_group_rejection_threshold: 6.0\n",
      "      four_group_rejection_threshold: 5.0\n",
      "      maximum_cores: half\n",
      "      flag_4_neighbors: False\n",
      "      max_jump_to_flag_neighbors: 200.0\n",
      "      min_jump_to_flag_neighbors: 10.0\n",
      "      after_jump_flag_dn1: 1000\n",
      "      after_jump_flag_time1: 90\n",
      "      after_jump_flag_dn2: 0\n",
      "      after_jump_flag_time2: 0\n",
      "      expand_large_events: True\n",
      "      min_sat_area: 5\n",
      "      min_jump_area: 15.0\n",
      "      expand_factor: 1.75\n",
      "      use_ellipses: False\n",
      "      sat_required_snowball: True\n",
      "      min_sat_radius_extend: 5.0\n",
      "      sat_expand: 0\n",
      "      edge_size: 20\n",
      "      mask_snowball_core_next_int: True\n",
      "      snowball_time_masked_next_int: 4000\n",
      "      find_showers: False\n",
      "      max_shower_amplitude: 4.0\n",
      "      extend_snr_threshold: 1.2\n",
      "      extend_min_area: 90\n",
      "      extend_inner_radius: 1.0\n",
      "      extend_outer_radius: 2.6\n",
      "      extend_ellipse_expand_ratio: 1.1\n",
      "      time_masked_after_shower: 15.0\n",
      "      min_diffs_single_pass: 10\n",
      "      max_extended_radius: 100\n",
      "      minimum_groups: 3\n",
      "      minimum_sigclip_groups: 100\n",
      "      only_use_ints: True\n",
      "    clean_flicker_noise:\n",
      "      pre_hooks: []\n",
      "      post_hooks: []\n",
      "      output_file: None\n",
      "      output_dir: None\n",
      "      output_ext: .fits\n",
      "      output_use_model: False\n",
      "      output_use_index: True\n",
      "      save_results: False\n",
      "      skip: True\n",
      "      suffix: None\n",
      "      search_output_file: True\n",
      "      input_dir: ''\n",
      "      fit_method: median\n",
      "      fit_by_channel: False\n",
      "      background_method: median\n",
      "      background_box_size: None\n",
      "      mask_science_regions: False\n",
      "      n_sigma: 2.0\n",
      "      fit_histogram: False\n",
      "      single_mask: True\n",
      "      user_mask: None\n",
      "      save_mask: False\n",
      "      save_background: False\n",
      "      save_noise: False\n",
      "    ramp_fit:\n",
      "      pre_hooks: []\n",
      "      post_hooks: []\n",
      "      output_file: None\n",
      "      output_dir: None\n",
      "      output_ext: .fits\n",
      "      output_use_model: False\n",
      "      output_use_index: True\n",
      "      save_results: False\n",
      "      skip: False\n",
      "      suffix: None\n",
      "      search_output_file: True\n",
      "      input_dir: ''\n",
      "      algorithm: OLS_C\n",
      "      int_name: ''\n",
      "      save_opt: False\n",
      "      opt_name: ''\n",
      "      suppress_one_group: True\n",
      "      maximum_cores: '1'\n",
      "    gain_scale:\n",
      "      pre_hooks: []\n",
      "      post_hooks: []\n",
      "      output_file: None\n",
      "      output_dir: None\n",
      "      output_ext: .fits\n",
      "      output_use_model: False\n",
      "      output_use_index: True\n",
      "      save_results: False\n",
      "      skip: False\n",
      "      suffix: None\n",
      "      search_output_file: True\n",
      "      input_dir: ''\n"
     ]
    },
    {
     "name": "stderr",
     "output_type": "stream",
     "text": [
      "2025-04-01 15:28:44,627 - stpipe.Detector1Pipeline - INFO - Prefetching reference files for dataset: 'jw01093015001_03102_00001_nis_uncal.fits' reftypes = ['gain', 'linearity', 'mask', 'readnoise', 'refpix', 'reset', 'rscd', 'saturation', 'superbias']\n"
     ]
    },
    {
     "name": "stderr",
     "output_type": "stream",
     "text": [
      "2025-04-01 15:28:44,630 - stpipe.Detector1Pipeline - INFO - Prefetch for GAIN reference file is '/home/runner/crds/references/jwst/niriss/jwst_niriss_gain_0006.fits'.\n"
     ]
    },
    {
     "name": "stderr",
     "output_type": "stream",
     "text": [
      "2025-04-01 15:28:44,631 - stpipe.Detector1Pipeline - INFO - Prefetch for LINEARITY reference file is '/home/runner/crds/references/jwst/niriss/jwst_niriss_linearity_0017.fits'.\n"
     ]
    },
    {
     "name": "stderr",
     "output_type": "stream",
     "text": [
      "2025-04-01 15:28:44,631 - stpipe.Detector1Pipeline - INFO - Prefetch for MASK reference file is '/home/runner/crds/references/jwst/niriss/jwst_niriss_mask_0016.fits'.\n"
     ]
    },
    {
     "name": "stderr",
     "output_type": "stream",
     "text": [
      "2025-04-01 15:28:44,632 - stpipe.Detector1Pipeline - INFO - Prefetch for READNOISE reference file is '/home/runner/crds/references/jwst/niriss/jwst_niriss_readnoise_0005.fits'.\n"
     ]
    },
    {
     "name": "stderr",
     "output_type": "stream",
     "text": [
      "2025-04-01 15:28:44,632 - stpipe.Detector1Pipeline - INFO - Prefetch for REFPIX reference file is 'N/A'.\n"
     ]
    },
    {
     "name": "stderr",
     "output_type": "stream",
     "text": [
      "2025-04-01 15:28:44,633 - stpipe.Detector1Pipeline - INFO - Prefetch for RESET reference file is 'N/A'.\n"
     ]
    },
    {
     "name": "stderr",
     "output_type": "stream",
     "text": [
      "2025-04-01 15:28:44,633 - stpipe.Detector1Pipeline - INFO - Prefetch for RSCD reference file is 'N/A'.\n"
     ]
    },
    {
     "name": "stderr",
     "output_type": "stream",
     "text": [
      "2025-04-01 15:28:44,634 - stpipe.Detector1Pipeline - INFO - Prefetch for SATURATION reference file is '/home/runner/crds/references/jwst/niriss/jwst_niriss_saturation_0015.fits'.\n"
     ]
    },
    {
     "name": "stderr",
     "output_type": "stream",
     "text": [
      "2025-04-01 15:28:44,634 - stpipe.Detector1Pipeline - INFO - Prefetch for SUPERBIAS reference file is '/home/runner/crds/references/jwst/niriss/jwst_niriss_superbias_0182.fits'.\n"
     ]
    },
    {
     "name": "stderr",
     "output_type": "stream",
     "text": [
      "2025-04-01 15:28:44,635 - stpipe.Detector1Pipeline - INFO - Starting calwebb_detector1 ...\n"
     ]
    },
    {
     "name": "stderr",
     "output_type": "stream",
     "text": [
      "2025-04-01 15:28:44,828 - stpipe.Detector1Pipeline.group_scale - INFO - Step group_scale running with args (<RampModel(61, 12, 80, 80) from jw01093015001_03102_00001_nis_uncal.fits>,).\n"
     ]
    },
    {
     "name": "stderr",
     "output_type": "stream",
     "text": [
      "2025-04-01 15:28:44,836 - stpipe.Detector1Pipeline.group_scale - INFO - NFRAMES and FRMDIVSR are equal; correction not needed\n"
     ]
    },
    {
     "name": "stderr",
     "output_type": "stream",
     "text": [
      "2025-04-01 15:28:44,836 - stpipe.Detector1Pipeline.group_scale - INFO - Step will be skipped\n"
     ]
    },
    {
     "name": "stderr",
     "output_type": "stream",
     "text": [
      "2025-04-01 15:28:44,837 - stpipe.Detector1Pipeline.group_scale - INFO - Step group_scale done\n"
     ]
    },
    {
     "name": "stderr",
     "output_type": "stream",
     "text": [
      "2025-04-01 15:28:44,920 - stpipe.Detector1Pipeline.dq_init - INFO - Step dq_init running with args (<RampModel(61, 12, 80, 80) from jw01093015001_03102_00001_nis_uncal.fits>,).\n"
     ]
    },
    {
     "name": "stderr",
     "output_type": "stream",
     "text": [
      "2025-04-01 15:28:44,937 - stpipe.Detector1Pipeline.dq_init - INFO - Using MASK reference file /home/runner/crds/references/jwst/niriss/jwst_niriss_mask_0016.fits\n"
     ]
    },
    {
     "name": "stderr",
     "output_type": "stream",
     "text": [
      "2025-04-01 15:28:45,017 - stpipe.Detector1Pipeline.dq_init - WARNING - Keyword NON_LINEAR does not correspond to an existing DQ mnemonic, so will be ignored\n"
     ]
    },
    {
     "name": "stderr",
     "output_type": "stream",
     "text": [
      "2025-04-01 15:28:45,049 - stpipe.Detector1Pipeline.dq_init - INFO - Extracting mask subarray to match science data\n"
     ]
    },
    {
     "name": "stderr",
     "output_type": "stream",
     "text": [
      "2025-04-01 15:28:45,065 - stpipe.Detector1Pipeline.dq_init - INFO - Step dq_init done\n"
     ]
    },
    {
     "name": "stderr",
     "output_type": "stream",
     "text": [
      "2025-04-01 15:28:45,155 - stpipe.Detector1Pipeline.saturation - INFO - Step saturation running with args (<RampModel(61, 12, 80, 80) from jw01093015001_03102_00001_nis_uncal.fits>,).\n"
     ]
    },
    {
     "name": "stderr",
     "output_type": "stream",
     "text": [
      "2025-04-01 15:28:45,172 - stpipe.Detector1Pipeline.saturation - INFO - Using SATURATION reference file /home/runner/crds/references/jwst/niriss/jwst_niriss_saturation_0015.fits\n"
     ]
    },
    {
     "name": "stderr",
     "output_type": "stream",
     "text": [
      "2025-04-01 15:28:45,197 - stpipe.Detector1Pipeline.saturation - WARNING - Keyword LOWILLUM does not correspond to an existing DQ mnemonic, so will be ignored\n"
     ]
    },
    {
     "name": "stderr",
     "output_type": "stream",
     "text": [
      "2025-04-01 15:28:45,198 - stpipe.Detector1Pipeline.saturation - WARNING - Keyword LOWRESP does not correspond to an existing DQ mnemonic, so will be ignored\n"
     ]
    },
    {
     "name": "stderr",
     "output_type": "stream",
     "text": [
      "2025-04-01 15:28:45,204 - stpipe.Detector1Pipeline.saturation - WARNING - Keyword UNCERTAIN does not correspond to an existing DQ mnemonic, so will be ignored\n"
     ]
    },
    {
     "name": "stderr",
     "output_type": "stream",
     "text": [
      "2025-04-01 15:28:45,221 - stpipe.Detector1Pipeline.saturation - INFO - Extracting reference file subarray to match science data\n"
     ]
    },
    {
     "name": "stderr",
     "output_type": "stream",
     "text": [
      "2025-04-01 15:28:45,229 - stpipe.Detector1Pipeline.saturation - INFO - Using read_pattern with nframes 1\n"
     ]
    },
    {
     "name": "stderr",
     "output_type": "stream",
     "text": [
      "2025-04-01 15:28:45,541 - stpipe.Detector1Pipeline.saturation - INFO - Detected 0 saturated pixels\n"
     ]
    },
    {
     "name": "stderr",
     "output_type": "stream",
     "text": [
      "2025-04-01 15:28:45,542 - stpipe.Detector1Pipeline.saturation - INFO - Detected 0 A/D floor pixels\n"
     ]
    },
    {
     "name": "stderr",
     "output_type": "stream",
     "text": [
      "2025-04-01 15:28:45,545 - stpipe.Detector1Pipeline.saturation - INFO - Step saturation done\n"
     ]
    },
    {
     "name": "stderr",
     "output_type": "stream",
     "text": [
      "2025-04-01 15:28:45,636 - stpipe.Detector1Pipeline.ipc - INFO - Step ipc running with args (<RampModel(61, 12, 80, 80) from jw01093015001_03102_00001_nis_uncal.fits>,).\n"
     ]
    },
    {
     "name": "stderr",
     "output_type": "stream",
     "text": [
      "2025-04-01 15:28:45,636 - stpipe.Detector1Pipeline.ipc - INFO - Step skipped.\n"
     ]
    },
    {
     "name": "stderr",
     "output_type": "stream",
     "text": [
      "2025-04-01 15:28:45,724 - stpipe.Detector1Pipeline.superbias - INFO - Step superbias running with args (<RampModel(61, 12, 80, 80) from jw01093015001_03102_00001_nis_uncal.fits>,).\n"
     ]
    },
    {
     "name": "stderr",
     "output_type": "stream",
     "text": [
      "2025-04-01 15:28:45,741 - stpipe.Detector1Pipeline.superbias - INFO - Using SUPERBIAS reference file /home/runner/crds/references/jwst/niriss/jwst_niriss_superbias_0182.fits\n"
     ]
    },
    {
     "name": "stderr",
     "output_type": "stream",
     "text": [
      "2025-04-01 15:28:45,788 - stpipe.Detector1Pipeline.superbias - INFO - Step superbias done\n"
     ]
    },
    {
     "name": "stderr",
     "output_type": "stream",
     "text": [
      "2025-04-01 15:28:45,885 - stpipe.Detector1Pipeline.refpix - INFO - Step refpix running with args (<RampModel(61, 12, 80, 80) from jw01093015001_03102_00001_nis_uncal.fits>,).\n"
     ]
    },
    {
     "name": "stderr",
     "output_type": "stream",
     "text": [
      "2025-04-01 15:28:45,906 - stpipe.Detector1Pipeline.refpix - INFO - NIR subarray data\n"
     ]
    },
    {
     "name": "stderr",
     "output_type": "stream",
     "text": [
      "2025-04-01 15:28:45,909 - stpipe.Detector1Pipeline.refpix - INFO - Single readout amplifier used\n"
     ]
    },
    {
     "name": "stderr",
     "output_type": "stream",
     "text": [
      "2025-04-01 15:28:45,909 - stpipe.Detector1Pipeline.refpix - INFO - No valid reference pixels.  This step will have no effect.\n"
     ]
    },
    {
     "name": "stderr",
     "output_type": "stream",
     "text": [
      "2025-04-01 15:28:47,345 - stpipe.Detector1Pipeline.refpix - INFO - Step refpix done\n"
     ]
    },
    {
     "name": "stderr",
     "output_type": "stream",
     "text": [
      "2025-04-01 15:28:47,450 - stpipe.Detector1Pipeline.linearity - INFO - Step linearity running with args (<RampModel(61, 12, 80, 80) from jw01093015001_03102_00001_nis_uncal.fits>,).\n"
     ]
    },
    {
     "name": "stderr",
     "output_type": "stream",
     "text": [
      "2025-04-01 15:28:47,466 - stpipe.Detector1Pipeline.linearity - INFO - Using Linearity reference file /home/runner/crds/references/jwst/niriss/jwst_niriss_linearity_0017.fits\n"
     ]
    },
    {
     "name": "stderr",
     "output_type": "stream",
     "text": [
      "2025-04-01 15:28:47,516 - stpipe.Detector1Pipeline.linearity - WARNING - Keyword LOWILLUM does not correspond to an existing DQ mnemonic, so will be ignored\n"
     ]
    },
    {
     "name": "stderr",
     "output_type": "stream",
     "text": [
      "2025-04-01 15:28:47,517 - stpipe.Detector1Pipeline.linearity - WARNING - Keyword LOWRESP does not correspond to an existing DQ mnemonic, so will be ignored\n"
     ]
    },
    {
     "name": "stderr",
     "output_type": "stream",
     "text": [
      "2025-04-01 15:28:47,524 - stpipe.Detector1Pipeline.linearity - WARNING - Keyword UNCERTAIN does not correspond to an existing DQ mnemonic, so will be ignored\n"
     ]
    },
    {
     "name": "stderr",
     "output_type": "stream",
     "text": [
      "2025-04-01 15:28:47,585 - stpipe.Detector1Pipeline.linearity - INFO - Step linearity done\n"
     ]
    },
    {
     "name": "stderr",
     "output_type": "stream",
     "text": [
      "2025-04-01 15:28:47,677 - stpipe.Detector1Pipeline.persistence - INFO - Step persistence running with args (<RampModel(61, 12, 80, 80) from jw01093015001_03102_00001_nis_uncal.fits>,).\n"
     ]
    },
    {
     "name": "stderr",
     "output_type": "stream",
     "text": [
      "2025-04-01 15:28:47,678 - stpipe.Detector1Pipeline.persistence - INFO - Step skipped.\n"
     ]
    },
    {
     "name": "stderr",
     "output_type": "stream",
     "text": [
      "2025-04-01 15:28:47,761 - stpipe.Detector1Pipeline.dark_current - INFO - Step dark_current running with args (<RampModel(61, 12, 80, 80) from jw01093015001_03102_00001_nis_uncal.fits>,).\n"
     ]
    },
    {
     "name": "stderr",
     "output_type": "stream",
     "text": [
      "2025-04-01 15:28:47,762 - stpipe.Detector1Pipeline.dark_current - INFO - Step skipped.\n"
     ]
    },
    {
     "name": "stderr",
     "output_type": "stream",
     "text": [
      "2025-04-01 15:28:47,842 - stpipe.Detector1Pipeline.charge_migration - INFO - Step charge_migration running with args (<RampModel(61, 12, 80, 80) from jw01093015001_03102_00001_nis_uncal.fits>,).\n"
     ]
    },
    {
     "name": "stderr",
     "output_type": "stream",
     "text": [
      "2025-04-01 15:28:47,865 - stpipe.Detector1Pipeline.charge_migration - INFO - Using signal_threshold: 16227.00\n"
     ]
    },
    {
     "name": "stderr",
     "output_type": "stream",
     "text": [
      "2025-04-01 15:28:47,885 - stpipe.Detector1Pipeline.charge_migration - INFO - Step charge_migration done\n"
     ]
    },
    {
     "name": "stderr",
     "output_type": "stream",
     "text": [
      "2025-04-01 15:28:47,970 - stpipe.Detector1Pipeline.jump - INFO - Step jump running with args (<RampModel(61, 12, 80, 80) from jw01093015001_03102_00001_nis_uncal.fits>,).\n"
     ]
    },
    {
     "name": "stderr",
     "output_type": "stream",
     "text": [
      "2025-04-01 15:28:47,992 - stpipe.Detector1Pipeline.jump - INFO - CR rejection threshold = 4 sigma\n"
     ]
    },
    {
     "name": "stderr",
     "output_type": "stream",
     "text": [
      "2025-04-01 15:28:47,992 - stpipe.Detector1Pipeline.jump - INFO - Maximum cores to use = half\n"
     ]
    },
    {
     "name": "stderr",
     "output_type": "stream",
     "text": [
      "2025-04-01 15:28:48,002 - stpipe.Detector1Pipeline.jump - INFO - Using GAIN reference file: /home/runner/crds/references/jwst/niriss/jwst_niriss_gain_0006.fits\n"
     ]
    },
    {
     "name": "stderr",
     "output_type": "stream",
     "text": [
      "2025-04-01 15:28:48,024 - stpipe.Detector1Pipeline.jump - INFO - Using READNOISE reference file: /home/runner/crds/references/jwst/niriss/jwst_niriss_readnoise_0005.fits\n"
     ]
    },
    {
     "name": "stderr",
     "output_type": "stream",
     "text": [
      "2025-04-01 15:28:48,039 - stpipe.Detector1Pipeline.jump - INFO - Extracting gain subarray to match science data\n"
     ]
    },
    {
     "name": "stderr",
     "output_type": "stream",
     "text": [
      "2025-04-01 15:28:48,040 - stpipe.Detector1Pipeline.jump - INFO - Extracting readnoise subarray to match science data\n"
     ]
    },
    {
     "name": "stderr",
     "output_type": "stream",
     "text": [
      "2025-04-01 15:28:48,054 - stpipe.Detector1Pipeline.jump - INFO - Executing two-point difference method\n"
     ]
    },
    {
     "name": "stderr",
     "output_type": "stream",
     "text": [
      "2025-04-01 15:28:48,058 - stpipe.Detector1Pipeline.jump - INFO - Creating 2 processes for jump detection \n"
     ]
    },
    {
     "name": "stderr",
     "output_type": "stream",
     "text": [
      "2025-04-01 15:28:48,903 - stpipe.Detector1Pipeline.jump - INFO - Flagging Snowballs\n"
     ]
    },
    {
     "name": "stderr",
     "output_type": "stream",
     "text": [
      "2025-04-01 15:28:49,208 - stpipe.Detector1Pipeline.jump - INFO - Total snowballs = 0\n"
     ]
    },
    {
     "name": "stderr",
     "output_type": "stream",
     "text": [
      "2025-04-01 15:28:49,209 - stpipe.Detector1Pipeline.jump - INFO - Total elapsed time = 1.15471 sec\n"
     ]
    },
    {
     "name": "stderr",
     "output_type": "stream",
     "text": [
      "2025-04-01 15:28:49,226 - stpipe.Detector1Pipeline.jump - INFO - The execution time in seconds: 1.248039\n"
     ]
    },
    {
     "name": "stderr",
     "output_type": "stream",
     "text": [
      "2025-04-01 15:28:49,229 - stpipe.Detector1Pipeline.jump - INFO - Step jump done\n"
     ]
    },
    {
     "name": "stderr",
     "output_type": "stream",
     "text": [
      "2025-04-01 15:28:49,326 - stpipe.Detector1Pipeline.clean_flicker_noise - INFO - Step clean_flicker_noise running with args (<RampModel(61, 12, 80, 80) from jw01093015001_03102_00001_nis_uncal.fits>,).\n"
     ]
    },
    {
     "name": "stderr",
     "output_type": "stream",
     "text": [
      "2025-04-01 15:28:49,327 - stpipe.Detector1Pipeline.clean_flicker_noise - INFO - Step skipped.\n"
     ]
    },
    {
     "name": "stderr",
     "output_type": "stream",
     "text": [
      "2025-04-01 15:28:49,419 - stpipe.Detector1Pipeline - INFO - Saved model in ./nis_ami_demo_data/PID_1093/stage1/jw01093015001_03102_00001_nis_ramp.fits\n"
     ]
    },
    {
     "name": "stderr",
     "output_type": "stream",
     "text": [
      "2025-04-01 15:28:49,516 - stpipe.Detector1Pipeline.ramp_fit - INFO - Step ramp_fit running with args (<RampModel(61, 12, 80, 80) from jw01093015001_03102_00001_nis_ramp.fits>,).\n"
     ]
    },
    {
     "name": "stderr",
     "output_type": "stream",
     "text": [
      "2025-04-01 15:28:49,554 - stpipe.Detector1Pipeline.ramp_fit - INFO - Using READNOISE reference file: /home/runner/crds/references/jwst/niriss/jwst_niriss_readnoise_0005.fits\n"
     ]
    },
    {
     "name": "stderr",
     "output_type": "stream",
     "text": [
      "2025-04-01 15:28:49,554 - stpipe.Detector1Pipeline.ramp_fit - INFO - Using GAIN reference file: /home/runner/crds/references/jwst/niriss/jwst_niriss_gain_0006.fits\n"
     ]
    },
    {
     "name": "stderr",
     "output_type": "stream",
     "text": [
      "2025-04-01 15:28:49,581 - stpipe.Detector1Pipeline.ramp_fit - INFO - Extracting gain subarray to match science data\n"
     ]
    },
    {
     "name": "stderr",
     "output_type": "stream",
     "text": [
      "2025-04-01 15:28:49,582 - stpipe.Detector1Pipeline.ramp_fit - INFO - Extracting readnoise subarray to match science data\n"
     ]
    },
    {
     "name": "stderr",
     "output_type": "stream",
     "text": [
      "2025-04-01 15:28:49,582 - stpipe.Detector1Pipeline.ramp_fit - INFO - Using algorithm = OLS_C\n"
     ]
    },
    {
     "name": "stderr",
     "output_type": "stream",
     "text": [
      "2025-04-01 15:28:49,583 - stpipe.Detector1Pipeline.ramp_fit - INFO - Using weighting = optimal\n"
     ]
    },
    {
     "name": "stderr",
     "output_type": "stream",
     "text": [
      "2025-04-01 15:28:49,630 - stpipe.Detector1Pipeline.ramp_fit - INFO - Number of multiprocessing slices: 1\n"
     ]
    },
    {
     "name": "stderr",
     "output_type": "stream",
     "text": [
      "2025-04-01 15:28:49,921 - stpipe.Detector1Pipeline.ramp_fit - INFO - Ramp Fitting C Time: 0.2898118495941162\n"
     ]
    },
    {
     "name": "stderr",
     "output_type": "stream",
     "text": [
      "2025-04-01 15:28:49,963 - stpipe.Detector1Pipeline.ramp_fit - INFO - Step ramp_fit done\n"
     ]
    },
    {
     "name": "stderr",
     "output_type": "stream",
     "text": [
      "2025-04-01 15:28:50,060 - stpipe.Detector1Pipeline.gain_scale - INFO - Step gain_scale running with args (<ImageModel(80, 80) from jw01093015001_03102_00001_nis_ramp.fits>,).\n"
     ]
    },
    {
     "name": "stderr",
     "output_type": "stream",
     "text": [
      "2025-04-01 15:28:50,085 - stpipe.Detector1Pipeline.gain_scale - INFO - GAINFACT not found in gain reference file\n"
     ]
    },
    {
     "name": "stderr",
     "output_type": "stream",
     "text": [
      "2025-04-01 15:28:50,086 - stpipe.Detector1Pipeline.gain_scale - INFO - Step will be skipped\n"
     ]
    },
    {
     "name": "stderr",
     "output_type": "stream",
     "text": [
      "2025-04-01 15:28:50,088 - stpipe.Detector1Pipeline.gain_scale - INFO - Step gain_scale done\n"
     ]
    },
    {
     "name": "stderr",
     "output_type": "stream",
     "text": [
      "2025-04-01 15:28:50,176 - stpipe.Detector1Pipeline.gain_scale - INFO - Step gain_scale running with args (<CubeModel(61, 80, 80) from jw01093015001_03102_00001_nis_ramp.fits>,).\n"
     ]
    },
    {
     "name": "stderr",
     "output_type": "stream",
     "text": [
      "2025-04-01 15:28:50,203 - stpipe.Detector1Pipeline.gain_scale - INFO - GAINFACT not found in gain reference file\n"
     ]
    },
    {
     "name": "stderr",
     "output_type": "stream",
     "text": [
      "2025-04-01 15:28:50,203 - stpipe.Detector1Pipeline.gain_scale - INFO - Step will be skipped\n"
     ]
    },
    {
     "name": "stderr",
     "output_type": "stream",
     "text": [
      "2025-04-01 15:28:50,205 - stpipe.Detector1Pipeline.gain_scale - INFO - Step gain_scale done\n"
     ]
    },
    {
     "name": "stderr",
     "output_type": "stream",
     "text": [
      "2025-04-01 15:28:50,263 - stpipe.Detector1Pipeline - INFO - Saved model in ./nis_ami_demo_data/PID_1093/stage1/jw01093015001_03102_00001_nis_rateints.fits\n"
     ]
    },
    {
     "name": "stderr",
     "output_type": "stream",
     "text": [
      "2025-04-01 15:28:50,264 - stpipe.Detector1Pipeline - INFO - ... ending calwebb_detector1\n"
     ]
    },
    {
     "name": "stderr",
     "output_type": "stream",
     "text": [
      "2025-04-01 15:28:50,264 - stpipe.Detector1Pipeline - INFO - Results used CRDS context: jwst_1322.pmap\n"
     ]
    },
    {
     "name": "stderr",
     "output_type": "stream",
     "text": [
      "2025-04-01 15:28:50,311 - stpipe.Detector1Pipeline - INFO - Saved model in ./nis_ami_demo_data/PID_1093/stage1/jw01093015001_03102_00001_nis_rate.fits\n"
     ]
    },
    {
     "name": "stderr",
     "output_type": "stream",
     "text": [
      "2025-04-01 15:28:50,311 - stpipe.Detector1Pipeline - INFO - Step Detector1Pipeline done\n"
     ]
    },
    {
     "name": "stderr",
     "output_type": "stream",
     "text": [
      "2025-04-01 15:28:50,312 - stpipe - INFO - Results used jwst version: 1.17.1\n"
     ]
    }
   ],
   "source": [
    "# Run Detector1 stage of pipeline, specifying:\n",
    "# output directory to save *_rateints.fits files\n",
    "# save_results flag set to True so the *rateints.fits files are saved\n",
    "# save_calibrated_ramp set to True so *ramp.fits files are saved\n",
    "\n",
    "if dodet1:\n",
    "    for uncal in uncal_files:\n",
    "        rate_result = Detector1Pipeline.call(uncal,\n",
    "                                             output_dir=det1_dir,\n",
    "                                             steps=det1dict,\n",
    "                                             save_results=True,\n",
    "                                             save_calibrated_ramp=True)\n",
    "else:\n",
    "    print('Skipping Detector1 processing')"
   ]
  },
  {
   "cell_type": "code",
   "execution_count": 16,
   "id": "e4cc2b48-7ec7-4b59-b3ee-2dfdf0782c01",
   "metadata": {
    "execution": {
     "iopub.execute_input": "2025-04-01T15:28:50.316447Z",
     "iopub.status.busy": "2025-04-01T15:28:50.316172Z",
     "iopub.status.idle": "2025-04-01T15:28:50.319406Z",
     "shell.execute_reply": "2025-04-01T15:28:50.318957Z"
    }
   },
   "outputs": [
    {
     "name": "stdout",
     "output_type": "stream",
     "text": [
      "Runtime for Detector1: 95 seconds\n"
     ]
    }
   ],
   "source": [
    "# Print out the time benchmark\n",
    "time1 = time.perf_counter()\n",
    "print(f\"Runtime for Detector1: {time1 - time0:0.0f} seconds\")"
   ]
  },
  {
   "cell_type": "markdown",
   "id": "7fc5520a-6097-482b-b3e0-a6bf94cf7af3",
   "metadata": {},
   "source": [
    "### Exploring the data\n",
    "\n",
    "Identify `*_rateints.fits` files and verify which pipeline steps were run and\n",
    "which calibration reference files were applied.\n",
    "\n",
    "The header contains information about which calibration steps were\n",
    "completed and skipped and which reference files were used to process the\n",
    "data."
   ]
  },
  {
   "cell_type": "code",
   "execution_count": 17,
   "id": "1c122766-a545-4042-93e8-f68c18f62fdf",
   "metadata": {
    "execution": {
     "iopub.execute_input": "2025-04-01T15:28:50.321191Z",
     "iopub.status.busy": "2025-04-01T15:28:50.320864Z",
     "iopub.status.idle": "2025-04-01T15:28:50.411236Z",
     "shell.execute_reply": "2025-04-01T15:28:50.410753Z"
    }
   },
   "outputs": [
    {
     "name": "stdout",
     "output_type": "stream",
     "text": [
      "charge_migration: COMPLETE\n",
      "clean_flicker_noise: SKIPPED\n",
      "dq_init: COMPLETE\n",
      "gain_scale: SKIPPED\n",
      "group_scale: SKIPPED\n",
      "ipc: SKIPPED\n",
      "jump: COMPLETE\n",
      "linearity: COMPLETE\n",
      "persistence: SKIPPED\n",
      "ramp_fit: COMPLETE\n",
      "refpix: COMPLETE\n",
      "saturation: COMPLETE\n",
      "superbias: COMPLETE\n"
     ]
    }
   ],
   "source": [
    "if dodet1:\n",
    "    # find rateints files\n",
    "    rateints_files = sorted(glob.glob(os.path.join(det1_dir, '*_rateints.fits')))\n",
    "    \n",
    "    # Read in file as datamodel\n",
    "    rateints_targ = datamodels.open(rateints_files[0])\n",
    "    rateints_ref = datamodels.open(rateints_files[1])\n",
    "    \n",
    "    # Check which steps were run\n",
    "    for step, status in rateints_targ.meta.cal_step.instance.items():\n",
    "        print(f\"{step}: {status}\")"
   ]
  },
  {
   "cell_type": "markdown",
   "id": "2f2396cc-939f-44a6-878c-b33955796da8",
   "metadata": {},
   "source": [
    "Check which CRDS version and reference files were used to calibrate the dataset:"
   ]
  },
  {
   "cell_type": "code",
   "execution_count": 18,
   "id": "c525e133-d875-4ea7-9552-d7f0df05747c",
   "metadata": {
    "execution": {
     "iopub.execute_input": "2025-04-01T15:28:50.412931Z",
     "iopub.status.busy": "2025-04-01T15:28:50.412764Z",
     "iopub.status.idle": "2025-04-01T15:28:50.416297Z",
     "shell.execute_reply": "2025-04-01T15:28:50.415850Z"
    }
   },
   "outputs": [
    {
     "name": "stdout",
     "output_type": "stream",
     "text": [
      "crds:\n",
      "\tjwst_1322.pmap\n",
      "\t12.1.4\n",
      "gain:\n",
      "\tcrds://jwst_niriss_gain_0006.fits\n",
      "linearity:\n",
      "\tcrds://jwst_niriss_linearity_0017.fits\n",
      "mask:\n",
      "\tcrds://jwst_niriss_mask_0016.fits\n",
      "readnoise:\n",
      "\tcrds://jwst_niriss_readnoise_0005.fits\n",
      "saturation:\n",
      "\tcrds://jwst_niriss_saturation_0015.fits\n",
      "superbias:\n",
      "\tcrds://jwst_niriss_superbias_0182.fits\n"
     ]
    }
   ],
   "source": [
    "if dodet1:\n",
    "    for key, val in rateints_targ.meta.ref_file.instance.items():\n",
    "        print(f\"{key}:\")\n",
    "        for param in rateints_targ.meta.ref_file.instance[key]:\n",
    "            print(f\"\\t{rateints_targ.meta.ref_file.instance[key][param]}\")"
   ]
  },
  {
   "cell_type": "markdown",
   "id": "b06450da",
   "metadata": {},
   "source": [
    "<hr style=\"border:1px solid gray\"> </hr>"
   ]
  },
  {
   "cell_type": "markdown",
   "id": "350808ee-9579-4cb5-8f02-a74904c91449",
   "metadata": {},
   "source": [
    "## 6. Image2 Pipeline \n",
    "\n",
    "In the [Image2 stage of the pipeline](https://jwst-pipeline.readthedocs.io/en/latest/jwst/pipeline/calwebb_image2.html),\n",
    "calibrated data products are created (`*_cal.fits` or\n",
    "`*_calints.fits` files, depending on whether the input files are\n",
    "`*_rate.fits` or `*_rateints.fits`).\n",
    "\n",
    "In this pipeline processing stage, the data are [flat fielded](https://jwst-pipeline.readthedocs.io/en/latest/jwst/flatfield/index.html#flatfield-step). For AMI, we do not perform any of the other `Image2` steps such as photometric calibration, so our output data products still have units of countrate (ADU/s)."
   ]
  },
  {
   "cell_type": "code",
   "execution_count": 19,
   "id": "3a091817-7a3c-4a60-a914-f9ac54d36e56",
   "metadata": {
    "execution": {
     "iopub.execute_input": "2025-04-01T15:28:50.418051Z",
     "iopub.status.busy": "2025-04-01T15:28:50.417719Z",
     "iopub.status.idle": "2025-04-01T15:28:50.420463Z",
     "shell.execute_reply": "2025-04-01T15:28:50.419977Z"
    }
   },
   "outputs": [],
   "source": [
    "time_image2 = time.perf_counter()"
   ]
  },
  {
   "cell_type": "code",
   "execution_count": 20,
   "id": "7b00fda2-a7c0-445a-bf23-0d9b4f050419",
   "metadata": {
    "execution": {
     "iopub.execute_input": "2025-04-01T15:28:50.422087Z",
     "iopub.status.busy": "2025-04-01T15:28:50.421897Z",
     "iopub.status.idle": "2025-04-01T15:28:50.424894Z",
     "shell.execute_reply": "2025-04-01T15:28:50.424429Z"
    }
   },
   "outputs": [],
   "source": [
    "# Set up a dictionary to define how the Image2 pipeline should be configured.\n",
    "\n",
    "# Boilerplate dictionary setup\n",
    "image2dict = defaultdict(dict)\n",
    "\n",
    "image2steps = ['assign_wcs', 'flat_field', 'photom', 'resample']\n",
    "\n",
    "# Overrides for whether or not certain steps should be skipped (example)\n",
    "image2dict['photom']['skip'] = True\n",
    "image2dict['resample']['skip'] = True\n",
    "\n",
    "# Overrides for various reference files\n",
    "# Files should be in the base local directory or provide full path\n",
    "#image2dict['flat_field']['override_flat'] = 'myfile.fits'  # Pixel flatfield"
   ]
  },
  {
   "cell_type": "markdown",
   "id": "247170cd-a3ee-4d9d-b8b3-f930727f8abc",
   "metadata": {},
   "source": [
    "Find and sort the input files, ensuring use of absolute paths:"
   ]
  },
  {
   "cell_type": "code",
   "execution_count": 21,
   "id": "d19cd4e6-cc38-4e26-8e8b-7fb143856940",
   "metadata": {
    "execution": {
     "iopub.execute_input": "2025-04-01T15:28:50.426519Z",
     "iopub.status.busy": "2025-04-01T15:28:50.426356Z",
     "iopub.status.idle": "2025-04-01T15:28:50.430094Z",
     "shell.execute_reply": "2025-04-01T15:28:50.429638Z"
    }
   },
   "outputs": [
    {
     "name": "stdout",
     "output_type": "stream",
     "text": [
      "Found 2 science files\n"
     ]
    }
   ],
   "source": [
    "# Use files from the detector1 output folder\n",
    "rateints_files = sorted(glob.glob(os.path.join(det1_dir, 'jw*rateints.fits')))\n",
    "for ii in range(len(rateints_files)):\n",
    "    rateints_files[ii] = os.path.abspath(rateints_files[ii])\n",
    "\n",
    "print(f\"Found {str(len(rateints_files))} science files\")"
   ]
  },
  {
   "cell_type": "code",
   "execution_count": 22,
   "id": "81d916e5-dd5d-472d-9aff-b2b4c86decf8",
   "metadata": {
    "execution": {
     "iopub.execute_input": "2025-04-01T15:28:50.431559Z",
     "iopub.status.busy": "2025-04-01T15:28:50.431397Z",
     "iopub.status.idle": "2025-04-01T15:28:56.720473Z",
     "shell.execute_reply": "2025-04-01T15:28:56.719913Z"
    },
    "scrolled": true
   },
   "outputs": [
    {
     "name": "stderr",
     "output_type": "stream",
     "text": [
      "2025-04-01 15:28:50,480 - CRDS - INFO -  Fetching  /home/runner/crds/references/jwst/niriss/jwst_niriss_pars-resamplestep_0001.asdf    1.2 K bytes  (1 / 1 files) (0 / 1.2 K bytes)\n"
     ]
    },
    {
     "name": "stderr",
     "output_type": "stream",
     "text": [
      "2025-04-01 15:28:50,704 - stpipe - INFO - PARS-RESAMPLESTEP parameters found: /home/runner/crds/references/jwst/niriss/jwst_niriss_pars-resamplestep_0001.asdf\n"
     ]
    },
    {
     "name": "stderr",
     "output_type": "stream",
     "text": [
      "2025-04-01 15:28:50,713 - CRDS - INFO -  Fetching  /home/runner/crds/references/jwst/niriss/jwst_niriss_pars-image2pipeline_0001.asdf    1.0 K bytes  (1 / 1 files) (0 / 1.0 K bytes)\n"
     ]
    },
    {
     "name": "stderr",
     "output_type": "stream",
     "text": [
      "2025-04-01 15:28:50,965 - stpipe - INFO - PARS-IMAGE2PIPELINE parameters found: /home/runner/crds/references/jwst/niriss/jwst_niriss_pars-image2pipeline_0001.asdf\n"
     ]
    },
    {
     "name": "stderr",
     "output_type": "stream",
     "text": [
      "2025-04-01 15:28:50,977 - stpipe.Image2Pipeline - INFO - Image2Pipeline instance created.\n"
     ]
    },
    {
     "name": "stderr",
     "output_type": "stream",
     "text": [
      "2025-04-01 15:28:50,978 - stpipe.Image2Pipeline.bkg_subtract - INFO - BackgroundStep instance created.\n"
     ]
    },
    {
     "name": "stderr",
     "output_type": "stream",
     "text": [
      "2025-04-01 15:28:50,980 - stpipe.Image2Pipeline.assign_wcs - INFO - AssignWcsStep instance created.\n"
     ]
    },
    {
     "name": "stderr",
     "output_type": "stream",
     "text": [
      "2025-04-01 15:28:50,980 - stpipe.Image2Pipeline.flat_field - INFO - FlatFieldStep instance created.\n"
     ]
    },
    {
     "name": "stderr",
     "output_type": "stream",
     "text": [
      "2025-04-01 15:28:50,982 - stpipe.Image2Pipeline.photom - INFO - PhotomStep instance created.\n"
     ]
    },
    {
     "name": "stderr",
     "output_type": "stream",
     "text": [
      "2025-04-01 15:28:50,983 - stpipe.Image2Pipeline.resample - INFO - ResampleStep instance created.\n"
     ]
    },
    {
     "name": "stderr",
     "output_type": "stream",
     "text": [
      "2025-04-01 15:28:51,075 - stpipe.Image2Pipeline - INFO - Step Image2Pipeline running with args ('/home/runner/work/jwst-pipeline-notebooks/jwst-pipeline-notebooks/notebooks/NIRISS/AMI/nis_ami_demo_data/PID_1093/stage1/jw01093012001_03102_00001_nis_rateints.fits',).\n"
     ]
    },
    {
     "name": "stderr",
     "output_type": "stream",
     "text": [
      "2025-04-01 15:28:51,084 - stpipe.Image2Pipeline - INFO - Step Image2Pipeline parameters are:\n",
      "  pre_hooks: []\n",
      "  post_hooks: []\n",
      "  output_file: None\n",
      "  output_dir: ./nis_ami_demo_data/PID_1093/stage2\n",
      "  output_ext: .fits\n",
      "  output_use_model: False\n",
      "  output_use_index: True\n",
      "  save_results: True\n",
      "  skip: False\n",
      "  suffix: None\n",
      "  search_output_file: True\n",
      "  input_dir: ''\n",
      "  save_bsub: False\n",
      "  steps:\n",
      "    bkg_subtract:\n",
      "      pre_hooks: []\n",
      "      post_hooks: []\n",
      "      output_file: None\n",
      "      output_dir: None\n",
      "      output_ext: .fits\n",
      "      output_use_model: False\n",
      "      output_use_index: True\n",
      "      save_results: False\n",
      "      skip: False\n",
      "      suffix: None\n",
      "      search_output_file: True\n",
      "      input_dir: ''\n",
      "      save_combined_background: False\n",
      "      sigma: 3.0\n",
      "      maxiters: None\n",
      "      wfss_mmag_extract: None\n",
      "      wfss_maxiter: 5\n",
      "      wfss_rms_stop: 0.0\n",
      "      wfss_outlier_percent: 1.0\n",
      "    assign_wcs:\n",
      "      pre_hooks: []\n",
      "      post_hooks: []\n",
      "      output_file: None\n",
      "      output_dir: None\n",
      "      output_ext: .fits\n",
      "      output_use_model: False\n",
      "      output_use_index: True\n",
      "      save_results: False\n",
      "      skip: False\n",
      "      suffix: None\n",
      "      search_output_file: True\n",
      "      input_dir: ''\n",
      "      sip_approx: True\n",
      "      sip_max_pix_error: 0.01\n",
      "      sip_degree: None\n",
      "      sip_max_inv_pix_error: 0.01\n",
      "      sip_inv_degree: None\n",
      "      sip_npoints: 12\n",
      "      slit_y_low: -0.55\n",
      "      slit_y_high: 0.55\n",
      "    flat_field:\n",
      "      pre_hooks: []\n",
      "      post_hooks: []\n",
      "      output_file: None\n",
      "      output_dir: None\n",
      "      output_ext: .fits\n",
      "      output_use_model: False\n",
      "      output_use_index: True\n",
      "      save_results: False\n",
      "      skip: False\n",
      "      suffix: None\n",
      "      search_output_file: True\n",
      "      input_dir: ''\n",
      "      save_interpolated_flat: False\n",
      "      user_supplied_flat: None\n",
      "      inverse: False\n",
      "    photom:\n",
      "      pre_hooks: []\n",
      "      post_hooks: []\n",
      "      output_file: None\n",
      "      output_dir: None\n",
      "      output_ext: .fits\n",
      "      output_use_model: False\n",
      "      output_use_index: True\n",
      "      save_results: False\n",
      "      skip: True\n",
      "      suffix: None\n",
      "      search_output_file: True\n",
      "      input_dir: ''\n",
      "      inverse: False\n",
      "      source_type: None\n",
      "      mrs_time_correction: True\n",
      "    resample:\n",
      "      pre_hooks: []\n",
      "      post_hooks: []\n",
      "      output_file: None\n",
      "      output_dir: None\n",
      "      output_ext: .fits\n",
      "      output_use_model: False\n",
      "      output_use_index: True\n",
      "      save_results: False\n",
      "      skip: True\n",
      "      suffix: None\n",
      "      search_output_file: True\n",
      "      input_dir: ''\n",
      "      pixfrac: 1.0\n",
      "      kernel: square\n",
      "      fillval: NAN\n",
      "      weight_type: ivm\n",
      "      output_shape: None\n",
      "      crpix: None\n",
      "      crval: None\n",
      "      rotation: None\n",
      "      pixel_scale_ratio: 1.0\n",
      "      pixel_scale: None\n",
      "      output_wcs: ''\n",
      "      single: False\n",
      "      blendheaders: True\n",
      "      in_memory: True\n"
     ]
    },
    {
     "name": "stderr",
     "output_type": "stream",
     "text": [
      "2025-04-01 15:28:51,129 - stpipe.Image2Pipeline - INFO - Prefetching reference files for dataset: 'jw01093012001_03102_00001_nis_rateints.fits' reftypes = ['camera', 'collimator', 'dflat', 'disperser', 'distortion', 'fflat', 'filteroffset', 'flat', 'fore', 'fpa', 'ifufore', 'ifupost', 'ifuslicer', 'msa', 'ote', 'regions', 'sflat', 'specwcs', 'wavelengthrange', 'wfssbkg']\n"
     ]
    },
    {
     "name": "stderr",
     "output_type": "stream",
     "text": [
      "2025-04-01 15:28:51,132 - CRDS - INFO -  Fetching  /home/runner/crds/references/jwst/niriss/jwst_niriss_distortion_0023.asdf    9.6 K bytes  (1 / 3 files) (0 / 67.1 M bytes)\n"
     ]
    },
    {
     "name": "stderr",
     "output_type": "stream",
     "text": [
      "2025-04-01 15:28:51,365 - CRDS - INFO -  Fetching  /home/runner/crds/references/jwst/niriss/jwst_niriss_filteroffset_0006.asdf    5.4 K bytes  (2 / 3 files) (9.6 K / 67.1 M bytes)\n"
     ]
    },
    {
     "name": "stderr",
     "output_type": "stream",
     "text": [
      "2025-04-01 15:28:51,647 - CRDS - INFO -  Fetching  /home/runner/crds/references/jwst/niriss/jwst_niriss_flat_0277.fits   67.1 M bytes  (3 / 3 files) (15.0 K / 67.1 M bytes)\n"
     ]
    },
    {
     "name": "stderr",
     "output_type": "stream",
     "text": [
      "2025-04-01 15:28:54,677 - stpipe.Image2Pipeline - INFO - Prefetch for CAMERA reference file is 'N/A'.\n"
     ]
    },
    {
     "name": "stderr",
     "output_type": "stream",
     "text": [
      "2025-04-01 15:28:54,678 - stpipe.Image2Pipeline - INFO - Prefetch for COLLIMATOR reference file is 'N/A'.\n"
     ]
    },
    {
     "name": "stderr",
     "output_type": "stream",
     "text": [
      "2025-04-01 15:28:54,678 - stpipe.Image2Pipeline - INFO - Prefetch for DFLAT reference file is 'N/A'.\n"
     ]
    },
    {
     "name": "stderr",
     "output_type": "stream",
     "text": [
      "2025-04-01 15:28:54,678 - stpipe.Image2Pipeline - INFO - Prefetch for DISPERSER reference file is 'N/A'.\n"
     ]
    },
    {
     "name": "stderr",
     "output_type": "stream",
     "text": [
      "2025-04-01 15:28:54,679 - stpipe.Image2Pipeline - INFO - Prefetch for DISTORTION reference file is '/home/runner/crds/references/jwst/niriss/jwst_niriss_distortion_0023.asdf'.\n"
     ]
    },
    {
     "name": "stderr",
     "output_type": "stream",
     "text": [
      "2025-04-01 15:28:54,680 - stpipe.Image2Pipeline - INFO - Prefetch for FFLAT reference file is 'N/A'.\n"
     ]
    },
    {
     "name": "stderr",
     "output_type": "stream",
     "text": [
      "2025-04-01 15:28:54,680 - stpipe.Image2Pipeline - INFO - Prefetch for FILTEROFFSET reference file is '/home/runner/crds/references/jwst/niriss/jwst_niriss_filteroffset_0006.asdf'.\n"
     ]
    },
    {
     "name": "stderr",
     "output_type": "stream",
     "text": [
      "2025-04-01 15:28:54,681 - stpipe.Image2Pipeline - INFO - Prefetch for FLAT reference file is '/home/runner/crds/references/jwst/niriss/jwst_niriss_flat_0277.fits'.\n"
     ]
    },
    {
     "name": "stderr",
     "output_type": "stream",
     "text": [
      "2025-04-01 15:28:54,681 - stpipe.Image2Pipeline - INFO - Prefetch for FORE reference file is 'N/A'.\n"
     ]
    },
    {
     "name": "stderr",
     "output_type": "stream",
     "text": [
      "2025-04-01 15:28:54,682 - stpipe.Image2Pipeline - INFO - Prefetch for FPA reference file is 'N/A'.\n"
     ]
    },
    {
     "name": "stderr",
     "output_type": "stream",
     "text": [
      "2025-04-01 15:28:54,682 - stpipe.Image2Pipeline - INFO - Prefetch for IFUFORE reference file is 'N/A'.\n"
     ]
    },
    {
     "name": "stderr",
     "output_type": "stream",
     "text": [
      "2025-04-01 15:28:54,683 - stpipe.Image2Pipeline - INFO - Prefetch for IFUPOST reference file is 'N/A'.\n"
     ]
    },
    {
     "name": "stderr",
     "output_type": "stream",
     "text": [
      "2025-04-01 15:28:54,683 - stpipe.Image2Pipeline - INFO - Prefetch for IFUSLICER reference file is 'N/A'.\n"
     ]
    },
    {
     "name": "stderr",
     "output_type": "stream",
     "text": [
      "2025-04-01 15:28:54,684 - stpipe.Image2Pipeline - INFO - Prefetch for MSA reference file is 'N/A'.\n"
     ]
    },
    {
     "name": "stderr",
     "output_type": "stream",
     "text": [
      "2025-04-01 15:28:54,684 - stpipe.Image2Pipeline - INFO - Prefetch for OTE reference file is 'N/A'.\n"
     ]
    },
    {
     "name": "stderr",
     "output_type": "stream",
     "text": [
      "2025-04-01 15:28:54,684 - stpipe.Image2Pipeline - INFO - Prefetch for REGIONS reference file is 'N/A'.\n"
     ]
    },
    {
     "name": "stderr",
     "output_type": "stream",
     "text": [
      "2025-04-01 15:28:54,685 - stpipe.Image2Pipeline - INFO - Prefetch for SFLAT reference file is 'N/A'.\n"
     ]
    },
    {
     "name": "stderr",
     "output_type": "stream",
     "text": [
      "2025-04-01 15:28:54,685 - stpipe.Image2Pipeline - INFO - Prefetch for SPECWCS reference file is 'N/A'.\n"
     ]
    },
    {
     "name": "stderr",
     "output_type": "stream",
     "text": [
      "2025-04-01 15:28:54,687 - stpipe.Image2Pipeline - INFO - Prefetch for WAVELENGTHRANGE reference file is 'N/A'.\n"
     ]
    },
    {
     "name": "stderr",
     "output_type": "stream",
     "text": [
      "2025-04-01 15:28:54,687 - stpipe.Image2Pipeline - INFO - Prefetch for WFSSBKG reference file is 'N/A'.\n"
     ]
    },
    {
     "name": "stderr",
     "output_type": "stream",
     "text": [
      "2025-04-01 15:28:54,688 - stpipe.Image2Pipeline - INFO - Starting calwebb_image2 ...\n"
     ]
    },
    {
     "name": "stderr",
     "output_type": "stream",
     "text": [
      "2025-04-01 15:28:54,689 - stpipe.Image2Pipeline - INFO - Processing product /home/runner/work/jwst-pipeline-notebooks/jwst-pipeline-notebooks/notebooks/NIRISS/AMI/nis_ami_demo_data/PID_1093/stage1/jw01093012001_03102_00001_nis\n"
     ]
    },
    {
     "name": "stderr",
     "output_type": "stream",
     "text": [
      "2025-04-01 15:28:54,689 - stpipe.Image2Pipeline - INFO - Working on input /home/runner/work/jwst-pipeline-notebooks/jwst-pipeline-notebooks/notebooks/NIRISS/AMI/nis_ami_demo_data/PID_1093/stage1/jw01093012001_03102_00001_nis_rateints.fits ...\n"
     ]
    },
    {
     "name": "stderr",
     "output_type": "stream",
     "text": [
      "2025-04-01 15:28:54,826 - stpipe.Image2Pipeline.assign_wcs - INFO - Step assign_wcs running with args (<CubeModel(69, 80, 80) from ./nis_ami_demo_data/PID_1093/stage2/jw01093012001_03102_00001_nis_image2pipeline.fits>,).\n"
     ]
    },
    {
     "name": "stderr",
     "output_type": "stream",
     "text": [
      "2025-04-01 15:28:55,028 - stpipe.Image2Pipeline.assign_wcs - WARNING - Expected to find one matching row in table, found 0.\n"
     ]
    },
    {
     "name": "stderr",
     "output_type": "stream",
     "text": [
      "2025-04-01 15:28:55,077 - stpipe.Image2Pipeline.assign_wcs - INFO - Update S_REGION to POLYGON ICRS  82.185417669 -65.447025859 82.185879072 -65.448473726 82.189340358 -65.448276671 82.188878937 -65.446828756\n"
     ]
    },
    {
     "name": "stderr",
     "output_type": "stream",
     "text": [
      "2025-04-01 15:28:55,078 - stpipe.Image2Pipeline.assign_wcs - INFO - assign_wcs updated S_REGION to POLYGON ICRS  82.185417669 -65.447025859 82.185879072 -65.448473726 82.189340358 -65.448276671 82.188878937 -65.446828756\n"
     ]
    },
    {
     "name": "stderr",
     "output_type": "stream",
     "text": [
      "2025-04-01 15:28:55,079 - stpipe.Image2Pipeline.assign_wcs - INFO - COMPLETED assign_wcs\n"
     ]
    },
    {
     "name": "stderr",
     "output_type": "stream",
     "text": [
      "2025-04-01 15:28:55,110 - stpipe.Image2Pipeline.assign_wcs - INFO - Step assign_wcs done\n"
     ]
    },
    {
     "name": "stderr",
     "output_type": "stream",
     "text": [
      "2025-04-01 15:28:55,205 - stpipe.Image2Pipeline.flat_field - INFO - Step flat_field running with args (<CubeModel(69, 80, 80) from ./nis_ami_demo_data/PID_1093/stage2/jw01093012001_03102_00001_nis_image2pipeline.fits>,).\n"
     ]
    },
    {
     "name": "stderr",
     "output_type": "stream",
     "text": [
      "2025-04-01 15:28:55,305 - stpipe.Image2Pipeline.flat_field - INFO - Using FLAT reference file: /home/runner/crds/references/jwst/niriss/jwst_niriss_flat_0277.fits\n"
     ]
    },
    {
     "name": "stderr",
     "output_type": "stream",
     "text": [
      "2025-04-01 15:28:55,306 - stpipe.Image2Pipeline.flat_field - INFO - No reference found for type FFLAT\n"
     ]
    },
    {
     "name": "stderr",
     "output_type": "stream",
     "text": [
      "2025-04-01 15:28:55,306 - stpipe.Image2Pipeline.flat_field - INFO - No reference found for type SFLAT\n"
     ]
    },
    {
     "name": "stderr",
     "output_type": "stream",
     "text": [
      "2025-04-01 15:28:55,307 - stpipe.Image2Pipeline.flat_field - INFO - No reference found for type DFLAT\n"
     ]
    },
    {
     "name": "stderr",
     "output_type": "stream",
     "text": [
      "2025-04-01 15:28:55,358 - stpipe.Image2Pipeline.flat_field - INFO - Extracting matching subarray from flat\n"
     ]
    },
    {
     "name": "stderr",
     "output_type": "stream",
     "text": [
      "2025-04-01 15:28:55,376 - stpipe.Image2Pipeline.flat_field - INFO - Step flat_field done\n"
     ]
    },
    {
     "name": "stderr",
     "output_type": "stream",
     "text": [
      "2025-04-01 15:28:55,474 - stpipe.Image2Pipeline.photom - INFO - Step photom running with args (<CubeModel(69, 80, 80) from ./nis_ami_demo_data/PID_1093/stage2/jw01093012001_03102_00001_nis_image2pipeline.fits>,).\n"
     ]
    },
    {
     "name": "stderr",
     "output_type": "stream",
     "text": [
      "2025-04-01 15:28:55,475 - stpipe.Image2Pipeline.photom - INFO - Step skipped.\n"
     ]
    },
    {
     "name": "stderr",
     "output_type": "stream",
     "text": [
      "2025-04-01 15:28:55,477 - stpipe.Image2Pipeline - INFO - Finished processing product /home/runner/work/jwst-pipeline-notebooks/jwst-pipeline-notebooks/notebooks/NIRISS/AMI/nis_ami_demo_data/PID_1093/stage1/jw01093012001_03102_00001_nis\n"
     ]
    },
    {
     "name": "stderr",
     "output_type": "stream",
     "text": [
      "2025-04-01 15:28:55,478 - stpipe.Image2Pipeline - INFO - ... ending calwebb_image2\n"
     ]
    },
    {
     "name": "stderr",
     "output_type": "stream",
     "text": [
      "2025-04-01 15:28:55,478 - stpipe.Image2Pipeline - INFO - Results used CRDS context: jwst_1322.pmap\n"
     ]
    },
    {
     "name": "stderr",
     "output_type": "stream",
     "text": [
      "2025-04-01 15:28:55,583 - stpipe.Image2Pipeline - INFO - Saved model in ./nis_ami_demo_data/PID_1093/stage2/jw01093012001_03102_00001_nis_calints.fits\n"
     ]
    },
    {
     "name": "stderr",
     "output_type": "stream",
     "text": [
      "2025-04-01 15:28:55,584 - stpipe.Image2Pipeline - INFO - Step Image2Pipeline done\n"
     ]
    },
    {
     "name": "stderr",
     "output_type": "stream",
     "text": [
      "2025-04-01 15:28:55,584 - stpipe - INFO - Results used jwst version: 1.17.1\n"
     ]
    },
    {
     "name": "stderr",
     "output_type": "stream",
     "text": [
      "2025-04-01 15:28:55,631 - stpipe - INFO - PARS-RESAMPLESTEP parameters found: /home/runner/crds/references/jwst/niriss/jwst_niriss_pars-resamplestep_0001.asdf\n"
     ]
    },
    {
     "name": "stderr",
     "output_type": "stream",
     "text": [
      "2025-04-01 15:28:55,640 - stpipe - INFO - PARS-IMAGE2PIPELINE parameters found: /home/runner/crds/references/jwst/niriss/jwst_niriss_pars-image2pipeline_0001.asdf\n"
     ]
    },
    {
     "name": "stderr",
     "output_type": "stream",
     "text": [
      "2025-04-01 15:28:55,650 - stpipe.Image2Pipeline - INFO - Image2Pipeline instance created.\n"
     ]
    },
    {
     "name": "stderr",
     "output_type": "stream",
     "text": [
      "2025-04-01 15:28:55,651 - stpipe.Image2Pipeline.bkg_subtract - INFO - BackgroundStep instance created.\n"
     ]
    },
    {
     "name": "stderr",
     "output_type": "stream",
     "text": [
      "2025-04-01 15:28:55,652 - stpipe.Image2Pipeline.assign_wcs - INFO - AssignWcsStep instance created.\n"
     ]
    },
    {
     "name": "stderr",
     "output_type": "stream",
     "text": [
      "2025-04-01 15:28:55,654 - stpipe.Image2Pipeline.flat_field - INFO - FlatFieldStep instance created.\n"
     ]
    },
    {
     "name": "stderr",
     "output_type": "stream",
     "text": [
      "2025-04-01 15:28:55,654 - stpipe.Image2Pipeline.photom - INFO - PhotomStep instance created.\n"
     ]
    },
    {
     "name": "stderr",
     "output_type": "stream",
     "text": [
      "2025-04-01 15:28:55,655 - stpipe.Image2Pipeline.resample - INFO - ResampleStep instance created.\n"
     ]
    },
    {
     "name": "stderr",
     "output_type": "stream",
     "text": [
      "2025-04-01 15:28:55,750 - stpipe.Image2Pipeline - INFO - Step Image2Pipeline running with args ('/home/runner/work/jwst-pipeline-notebooks/jwst-pipeline-notebooks/notebooks/NIRISS/AMI/nis_ami_demo_data/PID_1093/stage1/jw01093015001_03102_00001_nis_rateints.fits',).\n"
     ]
    },
    {
     "name": "stderr",
     "output_type": "stream",
     "text": [
      "2025-04-01 15:28:55,759 - stpipe.Image2Pipeline - INFO - Step Image2Pipeline parameters are:\n",
      "  pre_hooks: []\n",
      "  post_hooks: []\n",
      "  output_file: None\n",
      "  output_dir: ./nis_ami_demo_data/PID_1093/stage2\n",
      "  output_ext: .fits\n",
      "  output_use_model: False\n",
      "  output_use_index: True\n",
      "  save_results: True\n",
      "  skip: False\n",
      "  suffix: None\n",
      "  search_output_file: True\n",
      "  input_dir: ''\n",
      "  save_bsub: False\n",
      "  steps:\n",
      "    bkg_subtract:\n",
      "      pre_hooks: []\n",
      "      post_hooks: []\n",
      "      output_file: None\n",
      "      output_dir: None\n",
      "      output_ext: .fits\n",
      "      output_use_model: False\n",
      "      output_use_index: True\n",
      "      save_results: False\n",
      "      skip: False\n",
      "      suffix: None\n",
      "      search_output_file: True\n",
      "      input_dir: ''\n",
      "      save_combined_background: False\n",
      "      sigma: 3.0\n",
      "      maxiters: None\n",
      "      wfss_mmag_extract: None\n",
      "      wfss_maxiter: 5\n",
      "      wfss_rms_stop: 0.0\n",
      "      wfss_outlier_percent: 1.0\n",
      "    assign_wcs:\n",
      "      pre_hooks: []\n",
      "      post_hooks: []\n",
      "      output_file: None\n",
      "      output_dir: None\n",
      "      output_ext: .fits\n",
      "      output_use_model: False\n",
      "      output_use_index: True\n",
      "      save_results: False\n",
      "      skip: False\n",
      "      suffix: None\n",
      "      search_output_file: True\n",
      "      input_dir: ''\n",
      "      sip_approx: True\n",
      "      sip_max_pix_error: 0.01\n",
      "      sip_degree: None\n",
      "      sip_max_inv_pix_error: 0.01\n",
      "      sip_inv_degree: None\n",
      "      sip_npoints: 12\n",
      "      slit_y_low: -0.55\n",
      "      slit_y_high: 0.55\n",
      "    flat_field:\n",
      "      pre_hooks: []\n",
      "      post_hooks: []\n",
      "      output_file: None\n",
      "      output_dir: None\n",
      "      output_ext: .fits\n",
      "      output_use_model: False\n",
      "      output_use_index: True\n",
      "      save_results: False\n",
      "      skip: False\n",
      "      suffix: None\n",
      "      search_output_file: True\n",
      "      input_dir: ''\n",
      "      save_interpolated_flat: False\n",
      "      user_supplied_flat: None\n",
      "      inverse: False\n",
      "    photom:\n",
      "      pre_hooks: []\n",
      "      post_hooks: []\n",
      "      output_file: None\n",
      "      output_dir: None\n",
      "      output_ext: .fits\n",
      "      output_use_model: False\n",
      "      output_use_index: True\n",
      "      save_results: False\n",
      "      skip: True\n",
      "      suffix: None\n",
      "      search_output_file: True\n",
      "      input_dir: ''\n",
      "      inverse: False\n",
      "      source_type: None\n",
      "      mrs_time_correction: True\n",
      "    resample:\n",
      "      pre_hooks: []\n",
      "      post_hooks: []\n",
      "      output_file: None\n",
      "      output_dir: None\n",
      "      output_ext: .fits\n",
      "      output_use_model: False\n",
      "      output_use_index: True\n",
      "      save_results: False\n",
      "      skip: True\n",
      "      suffix: None\n",
      "      search_output_file: True\n",
      "      input_dir: ''\n",
      "      pixfrac: 1.0\n",
      "      kernel: square\n",
      "      fillval: NAN\n",
      "      weight_type: ivm\n",
      "      output_shape: None\n",
      "      crpix: None\n",
      "      crval: None\n",
      "      rotation: None\n",
      "      pixel_scale_ratio: 1.0\n",
      "      pixel_scale: None\n",
      "      output_wcs: ''\n",
      "      single: False\n",
      "      blendheaders: True\n",
      "      in_memory: True\n"
     ]
    },
    {
     "name": "stderr",
     "output_type": "stream",
     "text": [
      "2025-04-01 15:28:55,804 - stpipe.Image2Pipeline - INFO - Prefetching reference files for dataset: 'jw01093015001_03102_00001_nis_rateints.fits' reftypes = ['camera', 'collimator', 'dflat', 'disperser', 'distortion', 'fflat', 'filteroffset', 'flat', 'fore', 'fpa', 'ifufore', 'ifupost', 'ifuslicer', 'msa', 'ote', 'regions', 'sflat', 'specwcs', 'wavelengthrange', 'wfssbkg']\n"
     ]
    },
    {
     "name": "stderr",
     "output_type": "stream",
     "text": [
      "2025-04-01 15:28:55,806 - stpipe.Image2Pipeline - INFO - Prefetch for CAMERA reference file is 'N/A'.\n"
     ]
    },
    {
     "name": "stderr",
     "output_type": "stream",
     "text": [
      "2025-04-01 15:28:55,807 - stpipe.Image2Pipeline - INFO - Prefetch for COLLIMATOR reference file is 'N/A'.\n"
     ]
    },
    {
     "name": "stderr",
     "output_type": "stream",
     "text": [
      "2025-04-01 15:28:55,807 - stpipe.Image2Pipeline - INFO - Prefetch for DFLAT reference file is 'N/A'.\n"
     ]
    },
    {
     "name": "stderr",
     "output_type": "stream",
     "text": [
      "2025-04-01 15:28:55,808 - stpipe.Image2Pipeline - INFO - Prefetch for DISPERSER reference file is 'N/A'.\n"
     ]
    },
    {
     "name": "stderr",
     "output_type": "stream",
     "text": [
      "2025-04-01 15:28:55,808 - stpipe.Image2Pipeline - INFO - Prefetch for DISTORTION reference file is '/home/runner/crds/references/jwst/niriss/jwst_niriss_distortion_0023.asdf'.\n"
     ]
    },
    {
     "name": "stderr",
     "output_type": "stream",
     "text": [
      "2025-04-01 15:28:55,809 - stpipe.Image2Pipeline - INFO - Prefetch for FFLAT reference file is 'N/A'.\n"
     ]
    },
    {
     "name": "stderr",
     "output_type": "stream",
     "text": [
      "2025-04-01 15:28:55,809 - stpipe.Image2Pipeline - INFO - Prefetch for FILTEROFFSET reference file is '/home/runner/crds/references/jwst/niriss/jwst_niriss_filteroffset_0006.asdf'.\n"
     ]
    },
    {
     "name": "stderr",
     "output_type": "stream",
     "text": [
      "2025-04-01 15:28:55,811 - stpipe.Image2Pipeline - INFO - Prefetch for FLAT reference file is '/home/runner/crds/references/jwst/niriss/jwst_niriss_flat_0277.fits'.\n"
     ]
    },
    {
     "name": "stderr",
     "output_type": "stream",
     "text": [
      "2025-04-01 15:28:55,811 - stpipe.Image2Pipeline - INFO - Prefetch for FORE reference file is 'N/A'.\n"
     ]
    },
    {
     "name": "stderr",
     "output_type": "stream",
     "text": [
      "2025-04-01 15:28:55,812 - stpipe.Image2Pipeline - INFO - Prefetch for FPA reference file is 'N/A'.\n"
     ]
    },
    {
     "name": "stderr",
     "output_type": "stream",
     "text": [
      "2025-04-01 15:28:55,812 - stpipe.Image2Pipeline - INFO - Prefetch for IFUFORE reference file is 'N/A'.\n"
     ]
    },
    {
     "name": "stderr",
     "output_type": "stream",
     "text": [
      "2025-04-01 15:28:55,813 - stpipe.Image2Pipeline - INFO - Prefetch for IFUPOST reference file is 'N/A'.\n"
     ]
    },
    {
     "name": "stderr",
     "output_type": "stream",
     "text": [
      "2025-04-01 15:28:55,813 - stpipe.Image2Pipeline - INFO - Prefetch for IFUSLICER reference file is 'N/A'.\n"
     ]
    },
    {
     "name": "stderr",
     "output_type": "stream",
     "text": [
      "2025-04-01 15:28:55,813 - stpipe.Image2Pipeline - INFO - Prefetch for MSA reference file is 'N/A'.\n"
     ]
    },
    {
     "name": "stderr",
     "output_type": "stream",
     "text": [
      "2025-04-01 15:28:55,814 - stpipe.Image2Pipeline - INFO - Prefetch for OTE reference file is 'N/A'.\n"
     ]
    },
    {
     "name": "stderr",
     "output_type": "stream",
     "text": [
      "2025-04-01 15:28:55,814 - stpipe.Image2Pipeline - INFO - Prefetch for REGIONS reference file is 'N/A'.\n"
     ]
    },
    {
     "name": "stderr",
     "output_type": "stream",
     "text": [
      "2025-04-01 15:28:55,814 - stpipe.Image2Pipeline - INFO - Prefetch for SFLAT reference file is 'N/A'.\n"
     ]
    },
    {
     "name": "stderr",
     "output_type": "stream",
     "text": [
      "2025-04-01 15:28:55,815 - stpipe.Image2Pipeline - INFO - Prefetch for SPECWCS reference file is 'N/A'.\n"
     ]
    },
    {
     "name": "stderr",
     "output_type": "stream",
     "text": [
      "2025-04-01 15:28:55,816 - stpipe.Image2Pipeline - INFO - Prefetch for WAVELENGTHRANGE reference file is 'N/A'.\n"
     ]
    },
    {
     "name": "stderr",
     "output_type": "stream",
     "text": [
      "2025-04-01 15:28:55,816 - stpipe.Image2Pipeline - INFO - Prefetch for WFSSBKG reference file is 'N/A'.\n"
     ]
    },
    {
     "name": "stderr",
     "output_type": "stream",
     "text": [
      "2025-04-01 15:28:55,817 - stpipe.Image2Pipeline - INFO - Starting calwebb_image2 ...\n"
     ]
    },
    {
     "name": "stderr",
     "output_type": "stream",
     "text": [
      "2025-04-01 15:28:55,817 - stpipe.Image2Pipeline - INFO - Processing product /home/runner/work/jwst-pipeline-notebooks/jwst-pipeline-notebooks/notebooks/NIRISS/AMI/nis_ami_demo_data/PID_1093/stage1/jw01093015001_03102_00001_nis\n"
     ]
    },
    {
     "name": "stderr",
     "output_type": "stream",
     "text": [
      "2025-04-01 15:28:55,818 - stpipe.Image2Pipeline - INFO - Working on input /home/runner/work/jwst-pipeline-notebooks/jwst-pipeline-notebooks/notebooks/NIRISS/AMI/nis_ami_demo_data/PID_1093/stage1/jw01093015001_03102_00001_nis_rateints.fits ...\n"
     ]
    },
    {
     "name": "stderr",
     "output_type": "stream",
     "text": [
      "2025-04-01 15:28:55,957 - stpipe.Image2Pipeline.assign_wcs - INFO - Step assign_wcs running with args (<CubeModel(61, 80, 80) from ./nis_ami_demo_data/PID_1093/stage2/jw01093015001_03102_00001_nis_image2pipeline.fits>,).\n"
     ]
    },
    {
     "name": "stderr",
     "output_type": "stream",
     "text": [
      "2025-04-01 15:28:56,151 - stpipe.Image2Pipeline.assign_wcs - WARNING - Expected to find one matching row in table, found 0.\n"
     ]
    },
    {
     "name": "stderr",
     "output_type": "stream",
     "text": [
      "2025-04-01 15:28:56,198 - stpipe.Image2Pipeline.assign_wcs - INFO - Update S_REGION to POLYGON ICRS  82.782385810 -65.127657325 82.782869144 -65.129103613 82.786284904 -65.128895076 82.785801554 -65.127448740\n"
     ]
    },
    {
     "name": "stderr",
     "output_type": "stream",
     "text": [
      "2025-04-01 15:28:56,199 - stpipe.Image2Pipeline.assign_wcs - INFO - assign_wcs updated S_REGION to POLYGON ICRS  82.782385810 -65.127657325 82.782869144 -65.129103613 82.786284904 -65.128895076 82.785801554 -65.127448740\n"
     ]
    },
    {
     "name": "stderr",
     "output_type": "stream",
     "text": [
      "2025-04-01 15:28:56,199 - stpipe.Image2Pipeline.assign_wcs - INFO - COMPLETED assign_wcs\n"
     ]
    },
    {
     "name": "stderr",
     "output_type": "stream",
     "text": [
      "2025-04-01 15:28:56,229 - stpipe.Image2Pipeline.assign_wcs - INFO - Step assign_wcs done\n"
     ]
    },
    {
     "name": "stderr",
     "output_type": "stream",
     "text": [
      "2025-04-01 15:28:56,335 - stpipe.Image2Pipeline.flat_field - INFO - Step flat_field running with args (<CubeModel(61, 80, 80) from ./nis_ami_demo_data/PID_1093/stage2/jw01093015001_03102_00001_nis_image2pipeline.fits>,).\n"
     ]
    },
    {
     "name": "stderr",
     "output_type": "stream",
     "text": [
      "2025-04-01 15:28:56,432 - stpipe.Image2Pipeline.flat_field - INFO - Using FLAT reference file: /home/runner/crds/references/jwst/niriss/jwst_niriss_flat_0277.fits\n"
     ]
    },
    {
     "name": "stderr",
     "output_type": "stream",
     "text": [
      "2025-04-01 15:28:56,432 - stpipe.Image2Pipeline.flat_field - INFO - No reference found for type FFLAT\n"
     ]
    },
    {
     "name": "stderr",
     "output_type": "stream",
     "text": [
      "2025-04-01 15:28:56,433 - stpipe.Image2Pipeline.flat_field - INFO - No reference found for type SFLAT\n"
     ]
    },
    {
     "name": "stderr",
     "output_type": "stream",
     "text": [
      "2025-04-01 15:28:56,433 - stpipe.Image2Pipeline.flat_field - INFO - No reference found for type DFLAT\n"
     ]
    },
    {
     "name": "stderr",
     "output_type": "stream",
     "text": [
      "2025-04-01 15:28:56,491 - stpipe.Image2Pipeline.flat_field - INFO - Extracting matching subarray from flat\n"
     ]
    },
    {
     "name": "stderr",
     "output_type": "stream",
     "text": [
      "2025-04-01 15:28:56,508 - stpipe.Image2Pipeline.flat_field - INFO - Step flat_field done\n"
     ]
    },
    {
     "name": "stderr",
     "output_type": "stream",
     "text": [
      "2025-04-01 15:28:56,609 - stpipe.Image2Pipeline.photom - INFO - Step photom running with args (<CubeModel(61, 80, 80) from ./nis_ami_demo_data/PID_1093/stage2/jw01093015001_03102_00001_nis_image2pipeline.fits>,).\n"
     ]
    },
    {
     "name": "stderr",
     "output_type": "stream",
     "text": [
      "2025-04-01 15:28:56,610 - stpipe.Image2Pipeline.photom - INFO - Step skipped.\n"
     ]
    },
    {
     "name": "stderr",
     "output_type": "stream",
     "text": [
      "2025-04-01 15:28:56,611 - stpipe.Image2Pipeline - INFO - Finished processing product /home/runner/work/jwst-pipeline-notebooks/jwst-pipeline-notebooks/notebooks/NIRISS/AMI/nis_ami_demo_data/PID_1093/stage1/jw01093015001_03102_00001_nis\n"
     ]
    },
    {
     "name": "stderr",
     "output_type": "stream",
     "text": [
      "2025-04-01 15:28:56,612 - stpipe.Image2Pipeline - INFO - ... ending calwebb_image2\n"
     ]
    },
    {
     "name": "stderr",
     "output_type": "stream",
     "text": [
      "2025-04-01 15:28:56,612 - stpipe.Image2Pipeline - INFO - Results used CRDS context: jwst_1322.pmap\n"
     ]
    },
    {
     "name": "stderr",
     "output_type": "stream",
     "text": [
      "2025-04-01 15:28:56,716 - stpipe.Image2Pipeline - INFO - Saved model in ./nis_ami_demo_data/PID_1093/stage2/jw01093015001_03102_00001_nis_calints.fits\n"
     ]
    },
    {
     "name": "stderr",
     "output_type": "stream",
     "text": [
      "2025-04-01 15:28:56,717 - stpipe.Image2Pipeline - INFO - Step Image2Pipeline done\n"
     ]
    },
    {
     "name": "stderr",
     "output_type": "stream",
     "text": [
      "2025-04-01 15:28:56,717 - stpipe - INFO - Results used jwst version: 1.17.1\n"
     ]
    }
   ],
   "source": [
    "# Run Image2 stage of pipeline, specifying:\n",
    "# output directory to save *_calints.fits files\n",
    "# save_results flag set to True so the calints files are saved\n",
    "\n",
    "if doimage2:\n",
    "    for rateints in rateints_files:\n",
    "        calints_result = Image2Pipeline.call(rateints,\n",
    "                                             output_dir=image2_dir,\n",
    "                                             steps=image2dict,\n",
    "                                             save_results=True)\n",
    "else:\n",
    "    print(\"Skipping Image2 processing.\")"
   ]
  },
  {
   "cell_type": "code",
   "execution_count": 23,
   "id": "3d58b94d-e1d7-4b73-b598-756c99d81174",
   "metadata": {
    "execution": {
     "iopub.execute_input": "2025-04-01T15:28:56.722270Z",
     "iopub.status.busy": "2025-04-01T15:28:56.721995Z",
     "iopub.status.idle": "2025-04-01T15:28:56.725339Z",
     "shell.execute_reply": "2025-04-01T15:28:56.724794Z"
    }
   },
   "outputs": [
    {
     "name": "stdout",
     "output_type": "stream",
     "text": [
      "Runtime so far: 101 seconds\n",
      "Runtime for Image2: 6 seconds\n"
     ]
    }
   ],
   "source": [
    "# Print out the time benchmark\n",
    "time1 = time.perf_counter()\n",
    "print(f\"Runtime so far: {time1 - time0:0.0f} seconds\")\n",
    "print(f\"Runtime for Image2: {time1 - time_image2:0.0f} seconds\")"
   ]
  },
  {
   "cell_type": "markdown",
   "id": "da57b7d0-95ef-4227-b730-6f54a3eaaa16",
   "metadata": {},
   "source": [
    "Verify which pipeline steps were run:"
   ]
  },
  {
   "cell_type": "code",
   "execution_count": 24,
   "id": "27390bbd-ae2d-49e7-977a-59d3765c0946",
   "metadata": {
    "execution": {
     "iopub.execute_input": "2025-04-01T15:28:56.727068Z",
     "iopub.status.busy": "2025-04-01T15:28:56.726758Z",
     "iopub.status.idle": "2025-04-01T15:28:56.917904Z",
     "shell.execute_reply": "2025-04-01T15:28:56.917405Z"
    }
   },
   "outputs": [
    {
     "name": "stdout",
     "output_type": "stream",
     "text": [
      "assign_wcs: COMPLETE\n",
      "charge_migration: COMPLETE\n",
      "clean_flicker_noise: SKIPPED\n",
      "dq_init: COMPLETE\n",
      "flat_field: COMPLETE\n",
      "gain_scale: SKIPPED\n",
      "group_scale: SKIPPED\n",
      "ipc: SKIPPED\n",
      "jump: COMPLETE\n",
      "linearity: COMPLETE\n",
      "persistence: SKIPPED\n",
      "photom: SKIPPED\n",
      "ramp_fit: COMPLETE\n",
      "refpix: COMPLETE\n",
      "saturation: COMPLETE\n",
      "superbias: COMPLETE\n"
     ]
    }
   ],
   "source": [
    "if doimage2:\n",
    "    # Identify *_calints.fits files\n",
    "    calints_files = sorted(glob.glob(os.path.join(image2_dir, '*_calints.fits')))\n",
    "\n",
    "    calints_targ = datamodels.open(calints_files[0])\n",
    "    calints_ref = datamodels.open(calints_files[1])\n",
    "\n",
    "    # Check which steps were run:\n",
    "    for step, status in calints_targ.meta.cal_step.instance.items():\n",
    "        print(f\"{step}: {status}\")"
   ]
  },
  {
   "cell_type": "markdown",
   "id": "b77293ab-4eaa-4ebd-9f9b-bef8f6a2300f",
   "metadata": {},
   "source": [
    "Check which reference files were used to calibrate the dataset:"
   ]
  },
  {
   "cell_type": "code",
   "execution_count": 25,
   "id": "6544744b-804e-4583-8311-e47b5e16c7fb",
   "metadata": {
    "execution": {
     "iopub.execute_input": "2025-04-01T15:28:56.919919Z",
     "iopub.status.busy": "2025-04-01T15:28:56.919512Z",
     "iopub.status.idle": "2025-04-01T15:28:56.923775Z",
     "shell.execute_reply": "2025-04-01T15:28:56.923238Z"
    },
    "scrolled": true
   },
   "outputs": [
    {
     "name": "stdout",
     "output_type": "stream",
     "text": [
      "camera:\n",
      "\tN/A\n",
      "collimator:\n",
      "\tN/A\n",
      "crds:\n",
      "\tjwst_1322.pmap\n",
      "\t12.1.4\n",
      "dflat:\n",
      "\tN/A\n",
      "disperser:\n",
      "\tN/A\n",
      "distortion:\n",
      "\tcrds://jwst_niriss_distortion_0023.asdf\n",
      "fflat:\n",
      "\tN/A\n",
      "filteroffset:\n",
      "\tcrds://jwst_niriss_filteroffset_0006.asdf\n",
      "flat:\n",
      "\tcrds://jwst_niriss_flat_0277.fits\n",
      "fore:\n",
      "\tN/A\n",
      "fpa:\n",
      "\tN/A\n",
      "gain:\n",
      "\tcrds://jwst_niriss_gain_0006.fits\n",
      "ifufore:\n",
      "\tN/A\n",
      "ifupost:\n",
      "\tN/A\n",
      "ifuslicer:\n",
      "\tN/A\n",
      "linearity:\n",
      "\tcrds://jwst_niriss_linearity_0017.fits\n",
      "mask:\n",
      "\tcrds://jwst_niriss_mask_0016.fits\n",
      "msa:\n",
      "\tN/A\n",
      "ote:\n",
      "\tN/A\n",
      "readnoise:\n",
      "\tcrds://jwst_niriss_readnoise_0005.fits\n",
      "regions:\n",
      "\tN/A\n",
      "saturation:\n",
      "\tcrds://jwst_niriss_saturation_0015.fits\n",
      "sflat:\n",
      "\tN/A\n",
      "specwcs:\n",
      "\tN/A\n",
      "superbias:\n",
      "\tcrds://jwst_niriss_superbias_0182.fits\n",
      "wavelengthrange:\n",
      "\tN/A\n"
     ]
    }
   ],
   "source": [
    "if doimage2:\n",
    "    for key, val in calints_targ.meta.ref_file.instance.items():\n",
    "        print(f\"{key}:\")\n",
    "        for param in calints_targ.meta.ref_file.instance[key]:\n",
    "            print(f\"\\t{calints_targ.meta.ref_file.instance[key][param]}\")"
   ]
  },
  {
   "cell_type": "markdown",
   "id": "3ef9155e",
   "metadata": {},
   "source": [
    "<hr style=\"border:1px solid gray\"> </hr>"
   ]
  },
  {
   "cell_type": "markdown",
   "id": "7cfbb244-7af9-4cbf-90d9-08598378c16a",
   "metadata": {},
   "source": [
    "## 7. AMI3 Pipeline\n",
    "\n",
    "In the [AMI3 stage of the pipeline](https://jwst-pipeline.readthedocs.io/en/latest/jwst/pipeline/calwebb_ami3.html),\n",
    "the target and reference star `*_calints.fits` files are analyzed to extract interferometric observables, and then the target's observables are normalized by those of the reference star to produce a final set of calibrated observables.\n",
    "\n",
    "In order to run the AMI3 stage, an [Association](https://jwst-pipeline.readthedocs.io/en/latest/jwst/associations/overview.html) file\n",
    "needs to be created to inform the pipeline which exposures should be treated as targets and which as reference stars.\n",
    "\n",
    "By default, the `AMI3` stage of the pipeline performs the following steps on NIRISS data:\n",
    "* [ami_analyze](https://jwst-pipeline.readthedocs.io/en/latest/jwst/ami_analyze/description.html) - fits a model to each integration of the input image and computes interferometric observables (fringe phases, amplitudes, and derived quantities).\n",
    "\n",
    "* [ami_normalize](https://jwst-pipeline.readthedocs.io/en/latest/jwst/ami_normalize/index.html) - normalizes the target's observables by the reference star observables.\n",
    "\n",
    "While a previous version of the AMI3 pipeline included an intermediate step to average together the observables from multiple exposures (`ami_average`), the step is not currently supported.\n"
   ]
  },
  {
   "cell_type": "code",
   "execution_count": 26,
   "id": "f8e81dc9-78dd-4bba-879c-9dfa2a4da69c",
   "metadata": {
    "execution": {
     "iopub.execute_input": "2025-04-01T15:28:56.925579Z",
     "iopub.status.busy": "2025-04-01T15:28:56.925193Z",
     "iopub.status.idle": "2025-04-01T15:28:56.927870Z",
     "shell.execute_reply": "2025-04-01T15:28:56.927340Z"
    }
   },
   "outputs": [],
   "source": [
    "time_ami3 = time.perf_counter()"
   ]
  },
  {
   "cell_type": "markdown",
   "id": "2c1523d2-f59b-4ddb-a78b-27e5da203a2e",
   "metadata": {},
   "source": [
    "### Create ASDF File \n",
    "\n",
    "The `ami_analyze` step has several [optional arguments](https://jwst-pipeline.readthedocs.io/en/stable/jwst/ami_analyze/description.html), some can be provided in an ASDF file containing a particular data tree. In here we will modify this file to provide an specific affine distortion matrix (`affine2d`). Later, in this notebook, we also illustarte how to select a modified `bandpass` file if one has been created.\n",
    "\n",
    "For `affine2d` the default parameters from commissioning are accessed with a special string: 'commissioning.' If `affine2d = None`, it will perform a search for the best-fit rotation only. To use a different affine distortion, such as one measured directly from the data or an ideal distortion, it must be specified in an ASDF file as shown here."
   ]
  },
  {
   "cell_type": "code",
   "execution_count": 27,
   "id": "b12ea73d-b1d5-460a-9cec-b19adf444704",
   "metadata": {
    "execution": {
     "iopub.execute_input": "2025-04-01T15:28:56.929659Z",
     "iopub.status.busy": "2025-04-01T15:28:56.929338Z",
     "iopub.status.idle": "2025-04-01T15:28:56.936720Z",
     "shell.execute_reply": "2025-04-01T15:28:56.936170Z"
    }
   },
   "outputs": [],
   "source": [
    "# Example of writing an ASDF file specifying an affine distortion matrix to use\n",
    "\n",
    "# Create an ASDF file\n",
    "asdf_affine2d = os.path.join(sci_dir, 'affine2d_ideal.asdf')\n",
    "\n",
    "aff_tree = {'mx': 1.,  # dimensionless x-magnification\n",
    "            'my': 1.,  # dimensionless y-magnification\n",
    "            'sx': 0.,  # dimensionless x shear\n",
    "            'sy': 0.,  # dimensionless y shear\n",
    "            'xo': 0.,  # x-offset in pupil space\n",
    "            'yo': 0.,  # y-offset in pupil space\n",
    "            'rotradccw': None}\n",
    "\n",
    "with open(asdf_affine2d, 'wb') as fh:\n",
    "    af = asdf.AsdfFile(aff_tree)\n",
    "    af.write_to(fh)\n",
    "    \n",
    "af.close()"
   ]
  },
  {
   "cell_type": "markdown",
   "id": "dc6a3fc1-3534-46d0-867a-699d5ec5adda",
   "metadata": {},
   "source": [
    "An example of using the bandpass and affine distortion ASDF file created above is shown below. "
   ]
  },
  {
   "cell_type": "code",
   "execution_count": 28,
   "id": "8159e63d-3c89-44ef-9a43-caaccd1abb4a",
   "metadata": {
    "execution": {
     "iopub.execute_input": "2025-04-01T15:28:56.938364Z",
     "iopub.status.busy": "2025-04-01T15:28:56.938202Z",
     "iopub.status.idle": "2025-04-01T15:28:56.941329Z",
     "shell.execute_reply": "2025-04-01T15:28:56.940870Z"
    }
   },
   "outputs": [],
   "source": [
    "# Set up a dictionary to define how the AMI3 pipeline should be configured\n",
    "# Boilerplate dictionary setup\n",
    "ami3dict = defaultdict(dict)\n",
    "\n",
    "# Options for ami_analyze step\n",
    "#ami3dict['ami_analyze']['firstfew'] = 5  # Analyze only the first 5 integrations to speed up demo\n",
    "#ami3dict['ami_analyze']['affine2d'] = 11  # Increase oversampling of image plane fit (increases runtime)\n",
    "#ami3dict['ami_analyze']['bandpass'] = 'myfile.asdf' # Provide a custom bandpass (e.g., from synphot)\n",
    "ami3dict['ami_analyze']['affine2d'] = asdf_affine2d  # Use the affine distortion ASDF file we created\n",
    "ami3dict['ami_analyze']['save_results'] = True # Turn on optional output results for display purposes\n",
    "\n",
    "# Overrides for whether or not certain steps should be skipped (example)\n",
    "#ami3dict['ami_normalize']['skip'] = True\n",
    "\n",
    "# Overrides for various reference files\n",
    "# Files should be in the base local directory or provide full path\n",
    "#ami3dict['ami_analyze']['override_nrm'] = 'mynrmfile.fits'  # NRM mask geometry file"
   ]
  },
  {
   "cell_type": "markdown",
   "id": "e10da872-21ae-46c2-a3b1-f9cdefae3b36",
   "metadata": {},
   "source": [
    "Find and sort all of the input files, ensuring use of absolute paths"
   ]
  },
  {
   "cell_type": "code",
   "execution_count": 29,
   "id": "5f0b5b47-62e9-4593-abc4-7ec630492e96",
   "metadata": {
    "execution": {
     "iopub.execute_input": "2025-04-01T15:28:56.942807Z",
     "iopub.status.busy": "2025-04-01T15:28:56.942648Z",
     "iopub.status.idle": "2025-04-01T15:28:56.946106Z",
     "shell.execute_reply": "2025-04-01T15:28:56.945663Z"
    }
   },
   "outputs": [
    {
     "name": "stdout",
     "output_type": "stream",
     "text": [
      "Found 2 science files to process\n"
     ]
    }
   ],
   "source": [
    "# AMI3 takes the calints.fits files\n",
    "calints_files = sorted(glob.glob(os.path.join(image2_dir, 'jw*calints.fits')))\n",
    "calints_files = [os.path.abspath(calints) for calints in calints_files]\n",
    "\n",
    "print(f'Found {str(len(calints_files))} science files to process')"
   ]
  },
  {
   "cell_type": "markdown",
   "id": "db5cb6f5-44a1-4f28-95dc-b23a97451465",
   "metadata": {},
   "source": [
    "### Create Association File\n",
    "\n",
    "An association file lists the exposures to calibrated together in `Stage 3`\n",
    "of the pipeline. Note that an association file is available for download\n",
    "from MAST, with a filename of `*_asn.json`, though it may require additional manipulation for AMI.\n",
    "Here we show how to create an association file to point to the data products created when processing data\n",
    "through the pipeline. Note that the final output products will have a rootname that is specified by the `product_name`\n",
    "in the association file. For this tutorial, the rootname of the final output product will be `ami3_abdor_f480m_pos1`."
   ]
  },
  {
   "cell_type": "code",
   "execution_count": 30,
   "id": "1b31f80f-8d7b-45ae-8537-15d0208637df",
   "metadata": {
    "execution": {
     "iopub.execute_input": "2025-04-01T15:28:56.947601Z",
     "iopub.status.busy": "2025-04-01T15:28:56.947441Z",
     "iopub.status.idle": "2025-04-01T15:28:57.237881Z",
     "shell.execute_reply": "2025-04-01T15:28:57.237420Z"
    },
    "scrolled": true
   },
   "outputs": [
    {
     "name": "stderr",
     "output_type": "stream",
     "text": [
      "2025-04-01 15:28:57,235 - stpipe - WARNING - /opt/hostedtoolcache/Python/3.11.11/x64/lib/python3.11/site-packages/jwst/associations/association.py:215: UserWarning: Input association file contains path information; note that this can complicate usage and/or sharing of such files.\n",
      "  warnings.warn(err_str, UserWarning)\n",
      "\n"
     ]
    }
   ],
   "source": [
    "# Create a Level 3 Association\n",
    "if doami3:\n",
    "    # We can confirm which file is the reference star by the 'psf_reference' datamodel attribute\n",
    "    for num, calints in enumerate(calints_files):\n",
    "        calints_f = datamodels.open(calints)\n",
    "        if calints_f.meta.exposure.psf_reference is True:\n",
    "            which_psf = num  # index in the list of files\n",
    "        # Return the header of the science file\n",
    "        else:\n",
    "            hdr = fits.getheader(calints)\n",
    "    \n",
    "    # Construct product name from the input headers\n",
    "    prodname = 'ami3_' + hdr['TARGPROP'] + '_' + hdr['FILTER']\n",
    "    prodname = prodname.replace(\" \", \"\")\n",
    "    \n",
    "    associations = asn_from_list.asn_from_list(calints_files,\n",
    "                                               rule=DMS_Level3_Base,\n",
    "                                               product_name=prodname)\n",
    "    \n",
    "    # Set the second observation as the psf reference star\n",
    "    associations.data['products'][0]['members'][which_psf]['exptype'] = 'psf'\n",
    "    \n",
    "    associations.data['asn_type'] = 'ami3'\n",
    "    program = datamodels.open(calints_files[0]).meta.observation.program_number\n",
    "    associations.data['program'] = program    \n",
    "    \n",
    "    # Format association as .json file\n",
    "    asn_filename, serialized = associations.dump(format=\"json\")\n",
    "\n",
    "    # Write out association file\n",
    "    association_ami3 = os.path.join(sci_dir, asn_filename)\n",
    "    with open(association_ami3, \"w\") as fd:\n",
    "        fd.write(serialized)"
   ]
  },
  {
   "cell_type": "markdown",
   "id": "9f9c4e17",
   "metadata": {},
   "source": [
    "Check that file paths have been correctly updated."
   ]
  },
  {
   "cell_type": "code",
   "execution_count": 31,
   "id": "9bb4ea2c-0fc3-4ee0-820f-a85e18e4fc5e",
   "metadata": {
    "execution": {
     "iopub.execute_input": "2025-04-01T15:28:57.239608Z",
     "iopub.status.busy": "2025-04-01T15:28:57.239438Z",
     "iopub.status.idle": "2025-04-01T15:28:57.243274Z",
     "shell.execute_reply": "2025-04-01T15:28:57.242816Z"
    }
   },
   "outputs": [
    {
     "name": "stdout",
     "output_type": "stream",
     "text": [
      "{\n",
      "  \"asn_type\": \"ami3\",\n",
      "  \"asn_rule\": \"DMS_Level3_Base\",\n",
      "  \"version_id\": null,\n",
      "  \"code_version\": \"1.17.1\",\n",
      "  \"degraded_status\": \"No known degraded exposures in association.\",\n",
      "  \"program\": \"01093\",\n",
      "  \"constraints\": \"No constraints\",\n",
      "  \"asn_id\": \"a3001\",\n",
      "  \"target\": \"none\",\n",
      "  \"asn_pool\": \"none\",\n",
      "  \"products\": [\n",
      "    {\n",
      "      \"name\": \"ami3_AB-DOR_F480M\",\n",
      "      \"members\": [\n",
      "        {\n",
      "          \"expname\": \"/home/runner/work/jwst-pipeline-notebooks/jwst-pipeline-notebooks/notebooks/NIRISS/AMI/nis_ami_demo_data/PID_1093/stage2/jw01093012001_03102_00001_nis_calints.fits\",\n",
      "          \"exptype\": \"science\"\n",
      "        },\n",
      "        {\n",
      "          \"expname\": \"/home/runner/work/jwst-pipeline-notebooks/jwst-pipeline-notebooks/notebooks/NIRISS/AMI/nis_ami_demo_data/PID_1093/stage2/jw01093015001_03102_00001_nis_calints.fits\",\n",
      "          \"exptype\": \"psf\"\n",
      "        }\n",
      "      ]\n",
      "    }\n",
      "  ]\n",
      "}\n"
     ]
    }
   ],
   "source": [
    "# Open an ASN file as an example.\n",
    "\n",
    "if doami3:\n",
    "    if isinstance(association_ami3, str):\n",
    "        with open(association_ami3, 'r') as f_obj:\n",
    "            asnfile_data = json.load(f_obj)\n",
    "    elif isinstance(association_ami3, list):\n",
    "        with open(association_ami3[0], 'r') as f_obj:\n",
    "            asnfile_data = json.load(f_obj)\n",
    "    expanded_json = json.dumps(asnfile_data, indent=2)  # 'expanded=True' maps to 'indent'\n",
    "    print(expanded_json)"
   ]
  },
  {
   "cell_type": "markdown",
   "id": "629cad5b-e5a7-473e-8583-ad12cda55fa4",
   "metadata": {},
   "source": [
    "### Run AMI3 stage of the pipeline\n",
    "\n",
    "For the target and reference star exposures listed in the association file, the\n",
    "`AMI3` stage of the pipeline will produce:\n",
    "* `*ami-oi.fits` files (one for the target, one for the reference star) from the `ami_analyze` step containing averaged interferometric observables\n",
    "* `*aminorm-oi.fits` file from the `ami_normalize` step containing normalized interferometric observables\n",
    "\n",
    "The `*ami-oi.fits` and `*aminorm-oi.fits` files adhere to the [OIFITS2](https://doi.org/10.1051/0004-6361/201526405) format, which is a registered FITS standard for optical and infrared interferometry data."
   ]
  },
  {
   "cell_type": "code",
   "execution_count": 32,
   "id": "e0cebfd8-a650-41a3-8ff0-a8fd43e079d6",
   "metadata": {
    "execution": {
     "iopub.execute_input": "2025-04-01T15:28:57.244841Z",
     "iopub.status.busy": "2025-04-01T15:28:57.244681Z",
     "iopub.status.idle": "2025-04-01T15:31:58.491243Z",
     "shell.execute_reply": "2025-04-01T15:31:58.490783Z"
    },
    "scrolled": true
   },
   "outputs": [
    {
     "name": "stderr",
     "output_type": "stream",
     "text": [
      "2025-04-01 15:28:57,363 - stpipe.Ami3Pipeline - INFO - Ami3Pipeline instance created.\n"
     ]
    },
    {
     "name": "stderr",
     "output_type": "stream",
     "text": [
      "2025-04-01 15:28:57,365 - stpipe.Ami3Pipeline.ami_analyze - INFO - AmiAnalyzeStep instance created.\n"
     ]
    },
    {
     "name": "stderr",
     "output_type": "stream",
     "text": [
      "2025-04-01 15:28:57,366 - stpipe.Ami3Pipeline.ami_normalize - INFO - AmiNormalizeStep instance created.\n"
     ]
    },
    {
     "name": "stderr",
     "output_type": "stream",
     "text": [
      "2025-04-01 15:28:57,473 - stpipe.Ami3Pipeline - INFO - Step Ami3Pipeline running with args ('./nis_ami_demo_data/PID_1093/jw01093-a3001_ami3_00004_asn.json',).\n"
     ]
    },
    {
     "name": "stderr",
     "output_type": "stream",
     "text": [
      "2025-04-01 15:28:57,478 - stpipe.Ami3Pipeline - INFO - Step Ami3Pipeline parameters are:\n",
      "  pre_hooks: []\n",
      "  post_hooks: []\n",
      "  output_file: None\n",
      "  output_dir: ./nis_ami_demo_data/PID_1093/stage3\n",
      "  output_ext: .fits\n",
      "  output_use_model: False\n",
      "  output_use_index: True\n",
      "  save_results: True\n",
      "  skip: False\n",
      "  suffix: None\n",
      "  search_output_file: True\n",
      "  input_dir: ''\n",
      "  steps:\n",
      "    ami_analyze:\n",
      "      pre_hooks: []\n",
      "      post_hooks: []\n",
      "      output_file: None\n",
      "      output_dir: None\n",
      "      output_ext: .fits\n",
      "      output_use_model: False\n",
      "      output_use_index: True\n",
      "      save_results: True\n",
      "      skip: False\n",
      "      suffix: None\n",
      "      search_output_file: True\n",
      "      input_dir: ''\n",
      "      oversample: 3\n",
      "      rotation: 0.0\n",
      "      psf_offset: 0.0 0.0\n",
      "      rotation_search: -3 3 1\n",
      "      bandpass: None\n",
      "      usebp: True\n",
      "      firstfew: None\n",
      "      chooseholes: None\n",
      "      affine2d: ./nis_ami_demo_data/PID_1093/affine2d_ideal.asdf\n",
      "      run_bpfix: True\n",
      "    ami_normalize:\n",
      "      pre_hooks: []\n",
      "      post_hooks: []\n",
      "      output_file: None\n",
      "      output_dir: None\n",
      "      output_ext: .fits\n",
      "      output_use_model: False\n",
      "      output_use_index: True\n",
      "      save_results: False\n",
      "      skip: False\n",
      "      suffix: aminorm-oi\n",
      "      search_output_file: True\n",
      "      input_dir: ''\n"
     ]
    },
    {
     "name": "stderr",
     "output_type": "stream",
     "text": [
      "2025-04-01 15:28:57,488 - stpipe.Ami3Pipeline - WARNING - /opt/hostedtoolcache/Python/3.11.11/x64/lib/python3.11/site-packages/jwst/associations/association.py:215: UserWarning: Input association file contains path information; note that this can complicate usage and/or sharing of such files.\n",
      "  warnings.warn(err_str, UserWarning)\n",
      "\n"
     ]
    },
    {
     "name": "stderr",
     "output_type": "stream",
     "text": [
      "2025-04-01 15:28:57,602 - stpipe.Ami3Pipeline - INFO - Prefetching reference files for dataset: 'jw01093012001_03102_00001_nis_calints.fits' reftypes = ['nrm', 'throughput']\n"
     ]
    },
    {
     "name": "stderr",
     "output_type": "stream",
     "text": [
      "2025-04-01 15:28:57,605 - CRDS - INFO -  Fetching  /home/runner/crds/references/jwst/niriss/jwst_niriss_nrm_0004.fits    4.2 M bytes  (1 / 2 files) (0 / 4.3 M bytes)\n"
     ]
    },
    {
     "name": "stderr",
     "output_type": "stream",
     "text": [
      "2025-04-01 15:28:58,325 - CRDS - INFO -  Fetching  /home/runner/crds/references/jwst/niriss/jwst_niriss_throughput_0012.fits   86.4 K bytes  (2 / 2 files) (4.2 M / 4.3 M bytes)\n"
     ]
    },
    {
     "name": "stderr",
     "output_type": "stream",
     "text": [
      "2025-04-01 15:28:58,711 - stpipe.Ami3Pipeline - INFO - Prefetch for NRM reference file is '/home/runner/crds/references/jwst/niriss/jwst_niriss_nrm_0004.fits'.\n"
     ]
    },
    {
     "name": "stderr",
     "output_type": "stream",
     "text": [
      "2025-04-01 15:28:58,711 - stpipe.Ami3Pipeline - INFO - Prefetch for THROUGHPUT reference file is '/home/runner/crds/references/jwst/niriss/jwst_niriss_throughput_0012.fits'.\n"
     ]
    },
    {
     "name": "stderr",
     "output_type": "stream",
     "text": [
      "2025-04-01 15:28:58,712 - stpipe.Ami3Pipeline - INFO - Starting calwebb_ami3\n"
     ]
    },
    {
     "name": "stderr",
     "output_type": "stream",
     "text": [
      "2025-04-01 15:28:58,721 - stpipe.Ami3Pipeline - WARNING - /opt/hostedtoolcache/Python/3.11.11/x64/lib/python3.11/site-packages/jwst/associations/association.py:215: UserWarning: Input association file contains path information; note that this can complicate usage and/or sharing of such files.\n",
      "  warnings.warn(err_str, UserWarning)\n",
      "\n"
     ]
    },
    {
     "name": "stderr",
     "output_type": "stream",
     "text": [
      "2025-04-01 15:28:58,832 - stpipe.Ami3Pipeline.ami_analyze - INFO - Step ami_analyze running with args ('/home/runner/work/jwst-pipeline-notebooks/jwst-pipeline-notebooks/notebooks/NIRISS/AMI/nis_ami_demo_data/PID_1093/stage2/jw01093012001_03102_00001_nis_calints.fits',).\n"
     ]
    },
    {
     "name": "stderr",
     "output_type": "stream",
     "text": [
      "2025-04-01 15:28:58,832 - stpipe.Ami3Pipeline.ami_analyze - INFO - Oversampling factor = 3\n"
     ]
    },
    {
     "name": "stderr",
     "output_type": "stream",
     "text": [
      "2025-04-01 15:28:58,833 - stpipe.Ami3Pipeline.ami_analyze - INFO - Initial rotation guess = 0.0 deg\n"
     ]
    },
    {
     "name": "stderr",
     "output_type": "stream",
     "text": [
      "2025-04-01 15:28:58,833 - stpipe.Ami3Pipeline.ami_analyze - INFO - Initial values to use for psf offset = [0.0, 0.0]\n"
     ]
    },
    {
     "name": "stderr",
     "output_type": "stream",
     "text": [
      "2025-04-01 15:28:58,935 - stpipe.Ami3Pipeline.ami_analyze - INFO - Using filter throughput reference file /home/runner/crds/references/jwst/niriss/jwst_niriss_throughput_0012.fits\n"
     ]
    },
    {
     "name": "stderr",
     "output_type": "stream",
     "text": [
      "2025-04-01 15:28:58,940 - stpipe.Ami3Pipeline.ami_analyze - INFO - Using affine transform from ASDF file ./nis_ami_demo_data/PID_1093/affine2d_ideal.asdf\n"
     ]
    },
    {
     "name": "stderr",
     "output_type": "stream",
     "text": [
      "2025-04-01 15:28:58,948 - stpipe.Ami3Pipeline.ami_analyze - INFO - Using NRM reference file /home/runner/crds/references/jwst/niriss/jwst_niriss_nrm_0004.fits\n"
     ]
    },
    {
     "name": "stderr",
     "output_type": "stream",
     "text": [
      "2025-04-01 15:28:59,023 - stpipe.Ami3Pipeline.ami_analyze - INFO - Reading throughput model data for F480M.\n"
     ]
    },
    {
     "name": "stderr",
     "output_type": "stream",
     "text": [
      "2025-04-01 15:28:59,378 - stpipe.Ami3Pipeline.ami_analyze - INFO - Using flat spectrum model.\n"
     ]
    },
    {
     "name": "stderr",
     "output_type": "stream",
     "text": [
      "2025-04-01 15:28:59,601 - stpipe.Ami3Pipeline.ami_analyze - INFO - Using affine transform with parameters:\n"
     ]
    },
    {
     "name": "stderr",
     "output_type": "stream",
     "text": [
      "2025-04-01 15:28:59,601 - stpipe.Ami3Pipeline.ami_analyze - INFO - \tmx=1.000000\tmy=1.000000\n"
     ]
    },
    {
     "name": "stderr",
     "output_type": "stream",
     "text": [
      "2025-04-01 15:28:59,601 - stpipe.Ami3Pipeline.ami_analyze - INFO - \tsx=0.000000\tsy=0.000000\n"
     ]
    },
    {
     "name": "stderr",
     "output_type": "stream",
     "text": [
      "2025-04-01 15:28:59,602 - stpipe.Ami3Pipeline.ami_analyze - INFO - \txo=0.000000\tyo=0.000000\n"
     ]
    },
    {
     "name": "stderr",
     "output_type": "stream",
     "text": [
      "2025-04-01 15:28:59,602 - stpipe.Ami3Pipeline.ami_analyze - INFO - \trotradccw=None\n"
     ]
    },
    {
     "name": "stderr",
     "output_type": "stream",
     "text": [
      "2025-04-01 15:28:59,603 - stpipe.Ami3Pipeline.ami_analyze - INFO - leastsqnrm.matrix_operations() - equally-weighted\n"
     ]
    },
    {
     "name": "stderr",
     "output_type": "stream",
     "text": [
      "2025-04-01 15:28:59,605 - stpipe.Ami3Pipeline.ami_analyze - INFO - Rotating mask hole centers clockwise by 172.436 degrees\n"
     ]
    },
    {
     "name": "stderr",
     "output_type": "stream",
     "text": [
      "2025-04-01 15:28:59,616 - stpipe.Ami3Pipeline.ami_analyze - INFO - 0 additional pixels >10-sig from median of stack found\n"
     ]
    },
    {
     "name": "stderr",
     "output_type": "stream",
     "text": [
      "2025-04-01 15:28:59,616 - stpipe.Ami3Pipeline.ami_analyze - INFO - 0 DO_NOT_USE flags added to DQ array for found outlier pixels\n"
     ]
    },
    {
     "name": "stderr",
     "output_type": "stream",
     "text": [
      "2025-04-01 15:28:59,617 - stpipe.Ami3Pipeline.ami_analyze - INFO - Cropping all integrations to 69x69 pixels around peak (40,45)\n"
     ]
    },
    {
     "name": "stderr",
     "output_type": "stream",
     "text": [
      "2025-04-01 15:28:59,618 - stpipe.Ami3Pipeline.ami_analyze - INFO - Applying Fourier bad pixel correction to cropped data, updating DQ array\n"
     ]
    },
    {
     "name": "stderr",
     "output_type": "stream",
     "text": [
      "2025-04-01 15:28:59,619 - stpipe.Ami3Pipeline.ami_analyze - INFO - 2575 pixels flagged DO_NOT_USE in cropped data\n"
     ]
    },
    {
     "name": "stderr",
     "output_type": "stream",
     "text": [
      "2025-04-01 15:28:59,621 - stpipe.Ami3Pipeline.ami_analyze - INFO - Identified 2484 NaN pixels to correct\n"
     ]
    },
    {
     "name": "stderr",
     "output_type": "stream",
     "text": [
      "2025-04-01 15:28:59,627 - stpipe.Ami3Pipeline.ami_analyze - INFO -       FOV = 4.5 arcsec, Fourier sampling = 0.223 m/pix\n"
     ]
    },
    {
     "name": "stderr",
     "output_type": "stream",
     "text": [
      "2025-04-01 15:28:59,628 - stpipe.Ami3Pipeline.ami_analyze - INFO -       F480M: 4.817 to 4.986 micron\n"
     ]
    },
    {
     "name": "stderr",
     "output_type": "stream",
     "text": [
      "2025-04-01 15:28:59,674 - stpipe.Ami3Pipeline.ami_analyze - INFO -          Frame 1 of 69\n"
     ]
    },
    {
     "name": "stderr",
     "output_type": "stream",
     "text": [
      "2025-04-01 15:28:59,684 - stpipe.Ami3Pipeline.ami_analyze - INFO -          Identified 0 bad pixels (0.00%)\n"
     ]
    },
    {
     "name": "stderr",
     "output_type": "stream",
     "text": [
      "2025-04-01 15:28:59,684 - stpipe.Ami3Pipeline.ami_analyze - INFO -          10.255\n"
     ]
    },
    {
     "name": "stderr",
     "output_type": "stream",
     "text": [
      "2025-04-01 15:28:59,685 - stpipe.Ami3Pipeline.ami_analyze - INFO -          Iteration 1: 0 new bad pixels, sdev of norm noise = 1.395\n"
     ]
    },
    {
     "name": "stderr",
     "output_type": "stream",
     "text": [
      "2025-04-01 15:28:59,692 - stpipe.Ami3Pipeline.ami_analyze - INFO -          Frame 2 of 69\n"
     ]
    },
    {
     "name": "stderr",
     "output_type": "stream",
     "text": [
      "2025-04-01 15:28:59,702 - stpipe.Ami3Pipeline.ami_analyze - INFO -          Identified 0 bad pixels (0.00%)\n"
     ]
    },
    {
     "name": "stderr",
     "output_type": "stream",
     "text": [
      "2025-04-01 15:28:59,702 - stpipe.Ami3Pipeline.ami_analyze - INFO -          10.274\n"
     ]
    },
    {
     "name": "stderr",
     "output_type": "stream",
     "text": [
      "2025-04-01 15:28:59,703 - stpipe.Ami3Pipeline.ami_analyze - INFO -          Iteration 1: 0 new bad pixels, sdev of norm noise = 1.412\n"
     ]
    },
    {
     "name": "stderr",
     "output_type": "stream",
     "text": [
      "2025-04-01 15:28:59,710 - stpipe.Ami3Pipeline.ami_analyze - INFO -          Frame 3 of 69\n"
     ]
    },
    {
     "name": "stderr",
     "output_type": "stream",
     "text": [
      "2025-04-01 15:28:59,720 - stpipe.Ami3Pipeline.ami_analyze - INFO -          Identified 0 bad pixels (0.00%)\n"
     ]
    },
    {
     "name": "stderr",
     "output_type": "stream",
     "text": [
      "2025-04-01 15:28:59,720 - stpipe.Ami3Pipeline.ami_analyze - INFO -          13.846\n"
     ]
    },
    {
     "name": "stderr",
     "output_type": "stream",
     "text": [
      "2025-04-01 15:28:59,721 - stpipe.Ami3Pipeline.ami_analyze - INFO -          Iteration 1: 0 new bad pixels, sdev of norm noise = 1.450\n"
     ]
    },
    {
     "name": "stderr",
     "output_type": "stream",
     "text": [
      "2025-04-01 15:28:59,729 - stpipe.Ami3Pipeline.ami_analyze - INFO -          Frame 4 of 69\n"
     ]
    },
    {
     "name": "stderr",
     "output_type": "stream",
     "text": [
      "2025-04-01 15:28:59,738 - stpipe.Ami3Pipeline.ami_analyze - INFO -          Identified 0 bad pixels (0.00%)\n"
     ]
    },
    {
     "name": "stderr",
     "output_type": "stream",
     "text": [
      "2025-04-01 15:28:59,739 - stpipe.Ami3Pipeline.ami_analyze - INFO -          12.145\n"
     ]
    },
    {
     "name": "stderr",
     "output_type": "stream",
     "text": [
      "2025-04-01 15:28:59,740 - stpipe.Ami3Pipeline.ami_analyze - INFO -          Iteration 1: 0 new bad pixels, sdev of norm noise = 1.394\n"
     ]
    },
    {
     "name": "stderr",
     "output_type": "stream",
     "text": [
      "2025-04-01 15:28:59,747 - stpipe.Ami3Pipeline.ami_analyze - INFO -          Frame 5 of 69\n"
     ]
    },
    {
     "name": "stderr",
     "output_type": "stream",
     "text": [
      "2025-04-01 15:28:59,756 - stpipe.Ami3Pipeline.ami_analyze - INFO -          Identified 0 bad pixels (0.00%)\n"
     ]
    },
    {
     "name": "stderr",
     "output_type": "stream",
     "text": [
      "2025-04-01 15:28:59,757 - stpipe.Ami3Pipeline.ami_analyze - INFO -          11.177\n"
     ]
    },
    {
     "name": "stderr",
     "output_type": "stream",
     "text": [
      "2025-04-01 15:28:59,757 - stpipe.Ami3Pipeline.ami_analyze - INFO -          Iteration 1: 0 new bad pixels, sdev of norm noise = 1.378\n"
     ]
    },
    {
     "name": "stderr",
     "output_type": "stream",
     "text": [
      "2025-04-01 15:28:59,765 - stpipe.Ami3Pipeline.ami_analyze - INFO -          Frame 6 of 69\n"
     ]
    },
    {
     "name": "stderr",
     "output_type": "stream",
     "text": [
      "2025-04-01 15:28:59,775 - stpipe.Ami3Pipeline.ami_analyze - INFO -          Identified 0 bad pixels (0.00%)\n"
     ]
    },
    {
     "name": "stderr",
     "output_type": "stream",
     "text": [
      "2025-04-01 15:28:59,775 - stpipe.Ami3Pipeline.ami_analyze - INFO -          9.801\n"
     ]
    },
    {
     "name": "stderr",
     "output_type": "stream",
     "text": [
      "2025-04-01 15:28:59,776 - stpipe.Ami3Pipeline.ami_analyze - INFO -          Iteration 1: 0 new bad pixels, sdev of norm noise = 1.403\n"
     ]
    },
    {
     "name": "stderr",
     "output_type": "stream",
     "text": [
      "2025-04-01 15:28:59,783 - stpipe.Ami3Pipeline.ami_analyze - INFO -          Frame 7 of 69\n"
     ]
    },
    {
     "name": "stderr",
     "output_type": "stream",
     "text": [
      "2025-04-01 15:28:59,793 - stpipe.Ami3Pipeline.ami_analyze - INFO -          Identified 0 bad pixels (0.00%)\n"
     ]
    },
    {
     "name": "stderr",
     "output_type": "stream",
     "text": [
      "2025-04-01 15:28:59,793 - stpipe.Ami3Pipeline.ami_analyze - INFO -          14.470\n"
     ]
    },
    {
     "name": "stderr",
     "output_type": "stream",
     "text": [
      "2025-04-01 15:28:59,794 - stpipe.Ami3Pipeline.ami_analyze - INFO -          Iteration 1: 0 new bad pixels, sdev of norm noise = 1.384\n"
     ]
    },
    {
     "name": "stderr",
     "output_type": "stream",
     "text": [
      "2025-04-01 15:28:59,801 - stpipe.Ami3Pipeline.ami_analyze - INFO -          Frame 8 of 69\n"
     ]
    },
    {
     "name": "stderr",
     "output_type": "stream",
     "text": [
      "2025-04-01 15:28:59,811 - stpipe.Ami3Pipeline.ami_analyze - INFO -          Identified 0 bad pixels (0.00%)\n"
     ]
    },
    {
     "name": "stderr",
     "output_type": "stream",
     "text": [
      "2025-04-01 15:28:59,812 - stpipe.Ami3Pipeline.ami_analyze - INFO -          7.805\n"
     ]
    },
    {
     "name": "stderr",
     "output_type": "stream",
     "text": [
      "2025-04-01 15:28:59,813 - stpipe.Ami3Pipeline.ami_analyze - INFO -          Iteration 1: 0 new bad pixels, sdev of norm noise = 1.419\n"
     ]
    },
    {
     "name": "stderr",
     "output_type": "stream",
     "text": [
      "2025-04-01 15:28:59,820 - stpipe.Ami3Pipeline.ami_analyze - INFO -          Frame 9 of 69\n"
     ]
    },
    {
     "name": "stderr",
     "output_type": "stream",
     "text": [
      "2025-04-01 15:28:59,830 - stpipe.Ami3Pipeline.ami_analyze - INFO -          Identified 0 bad pixels (0.00%)\n"
     ]
    },
    {
     "name": "stderr",
     "output_type": "stream",
     "text": [
      "2025-04-01 15:28:59,831 - stpipe.Ami3Pipeline.ami_analyze - INFO -          10.849\n"
     ]
    },
    {
     "name": "stderr",
     "output_type": "stream",
     "text": [
      "2025-04-01 15:28:59,832 - stpipe.Ami3Pipeline.ami_analyze - INFO -          Iteration 1: 0 new bad pixels, sdev of norm noise = 1.425\n"
     ]
    },
    {
     "name": "stderr",
     "output_type": "stream",
     "text": [
      "2025-04-01 15:28:59,844 - stpipe.Ami3Pipeline.ami_analyze - INFO -          Frame 10 of 69\n"
     ]
    },
    {
     "name": "stderr",
     "output_type": "stream",
     "text": [
      "2025-04-01 15:28:59,853 - stpipe.Ami3Pipeline.ami_analyze - INFO -          Identified 0 bad pixels (0.00%)\n"
     ]
    },
    {
     "name": "stderr",
     "output_type": "stream",
     "text": [
      "2025-04-01 15:28:59,854 - stpipe.Ami3Pipeline.ami_analyze - INFO -          10.781\n"
     ]
    },
    {
     "name": "stderr",
     "output_type": "stream",
     "text": [
      "2025-04-01 15:28:59,855 - stpipe.Ami3Pipeline.ami_analyze - INFO -          Iteration 1: 0 new bad pixels, sdev of norm noise = 1.450\n"
     ]
    },
    {
     "name": "stderr",
     "output_type": "stream",
     "text": [
      "2025-04-01 15:28:59,862 - stpipe.Ami3Pipeline.ami_analyze - INFO -          Frame 11 of 69\n"
     ]
    },
    {
     "name": "stderr",
     "output_type": "stream",
     "text": [
      "2025-04-01 15:28:59,871 - stpipe.Ami3Pipeline.ami_analyze - INFO -          Identified 0 bad pixels (0.00%)\n"
     ]
    },
    {
     "name": "stderr",
     "output_type": "stream",
     "text": [
      "2025-04-01 15:28:59,872 - stpipe.Ami3Pipeline.ami_analyze - INFO -          8.796\n"
     ]
    },
    {
     "name": "stderr",
     "output_type": "stream",
     "text": [
      "2025-04-01 15:28:59,873 - stpipe.Ami3Pipeline.ami_analyze - INFO -          Iteration 1: 0 new bad pixels, sdev of norm noise = 1.409\n"
     ]
    },
    {
     "name": "stderr",
     "output_type": "stream",
     "text": [
      "2025-04-01 15:28:59,880 - stpipe.Ami3Pipeline.ami_analyze - INFO -          Frame 12 of 69\n"
     ]
    },
    {
     "name": "stderr",
     "output_type": "stream",
     "text": [
      "2025-04-01 15:28:59,890 - stpipe.Ami3Pipeline.ami_analyze - INFO -          Identified 0 bad pixels (0.00%)\n"
     ]
    },
    {
     "name": "stderr",
     "output_type": "stream",
     "text": [
      "2025-04-01 15:28:59,891 - stpipe.Ami3Pipeline.ami_analyze - INFO -          11.827\n"
     ]
    },
    {
     "name": "stderr",
     "output_type": "stream",
     "text": [
      "2025-04-01 15:28:59,891 - stpipe.Ami3Pipeline.ami_analyze - INFO -          Iteration 1: 0 new bad pixels, sdev of norm noise = 1.394\n"
     ]
    },
    {
     "name": "stderr",
     "output_type": "stream",
     "text": [
      "2025-04-01 15:28:59,899 - stpipe.Ami3Pipeline.ami_analyze - INFO -          Frame 13 of 69\n"
     ]
    },
    {
     "name": "stderr",
     "output_type": "stream",
     "text": [
      "2025-04-01 15:28:59,908 - stpipe.Ami3Pipeline.ami_analyze - INFO -          Identified 0 bad pixels (0.00%)\n"
     ]
    },
    {
     "name": "stderr",
     "output_type": "stream",
     "text": [
      "2025-04-01 15:28:59,909 - stpipe.Ami3Pipeline.ami_analyze - INFO -          10.256\n"
     ]
    },
    {
     "name": "stderr",
     "output_type": "stream",
     "text": [
      "2025-04-01 15:28:59,910 - stpipe.Ami3Pipeline.ami_analyze - INFO -          Iteration 1: 0 new bad pixels, sdev of norm noise = 1.402\n"
     ]
    },
    {
     "name": "stderr",
     "output_type": "stream",
     "text": [
      "2025-04-01 15:28:59,917 - stpipe.Ami3Pipeline.ami_analyze - INFO -          Frame 14 of 69\n"
     ]
    },
    {
     "name": "stderr",
     "output_type": "stream",
     "text": [
      "2025-04-01 15:28:59,927 - stpipe.Ami3Pipeline.ami_analyze - INFO -          Identified 0 bad pixels (0.00%)\n"
     ]
    },
    {
     "name": "stderr",
     "output_type": "stream",
     "text": [
      "2025-04-01 15:28:59,927 - stpipe.Ami3Pipeline.ami_analyze - INFO -          8.218\n"
     ]
    },
    {
     "name": "stderr",
     "output_type": "stream",
     "text": [
      "2025-04-01 15:28:59,928 - stpipe.Ami3Pipeline.ami_analyze - INFO -          Iteration 1: 0 new bad pixels, sdev of norm noise = 1.357\n"
     ]
    },
    {
     "name": "stderr",
     "output_type": "stream",
     "text": [
      "2025-04-01 15:28:59,935 - stpipe.Ami3Pipeline.ami_analyze - INFO -          Frame 15 of 69\n"
     ]
    },
    {
     "name": "stderr",
     "output_type": "stream",
     "text": [
      "2025-04-01 15:28:59,945 - stpipe.Ami3Pipeline.ami_analyze - INFO -          Identified 0 bad pixels (0.00%)\n"
     ]
    },
    {
     "name": "stderr",
     "output_type": "stream",
     "text": [
      "2025-04-01 15:28:59,945 - stpipe.Ami3Pipeline.ami_analyze - INFO -          9.431\n"
     ]
    },
    {
     "name": "stderr",
     "output_type": "stream",
     "text": [
      "2025-04-01 15:28:59,946 - stpipe.Ami3Pipeline.ami_analyze - INFO -          Iteration 1: 0 new bad pixels, sdev of norm noise = 1.419\n"
     ]
    },
    {
     "name": "stderr",
     "output_type": "stream",
     "text": [
      "2025-04-01 15:28:59,953 - stpipe.Ami3Pipeline.ami_analyze - INFO -          Frame 16 of 69\n"
     ]
    },
    {
     "name": "stderr",
     "output_type": "stream",
     "text": [
      "2025-04-01 15:28:59,963 - stpipe.Ami3Pipeline.ami_analyze - INFO -          Identified 0 bad pixels (0.00%)\n"
     ]
    },
    {
     "name": "stderr",
     "output_type": "stream",
     "text": [
      "2025-04-01 15:28:59,963 - stpipe.Ami3Pipeline.ami_analyze - INFO -          7.687\n"
     ]
    },
    {
     "name": "stderr",
     "output_type": "stream",
     "text": [
      "2025-04-01 15:28:59,964 - stpipe.Ami3Pipeline.ami_analyze - INFO -          Iteration 1: 0 new bad pixels, sdev of norm noise = 1.400\n"
     ]
    },
    {
     "name": "stderr",
     "output_type": "stream",
     "text": [
      "2025-04-01 15:28:59,971 - stpipe.Ami3Pipeline.ami_analyze - INFO -          Frame 17 of 69\n"
     ]
    },
    {
     "name": "stderr",
     "output_type": "stream",
     "text": [
      "2025-04-01 15:28:59,981 - stpipe.Ami3Pipeline.ami_analyze - INFO -          Identified 0 bad pixels (0.00%)\n"
     ]
    },
    {
     "name": "stderr",
     "output_type": "stream",
     "text": [
      "2025-04-01 15:28:59,981 - stpipe.Ami3Pipeline.ami_analyze - INFO -          11.562\n"
     ]
    },
    {
     "name": "stderr",
     "output_type": "stream",
     "text": [
      "2025-04-01 15:28:59,982 - stpipe.Ami3Pipeline.ami_analyze - INFO -          Iteration 1: 0 new bad pixels, sdev of norm noise = 1.440\n"
     ]
    },
    {
     "name": "stderr",
     "output_type": "stream",
     "text": [
      "2025-04-01 15:28:59,989 - stpipe.Ami3Pipeline.ami_analyze - INFO -          Frame 18 of 69\n"
     ]
    },
    {
     "name": "stderr",
     "output_type": "stream",
     "text": [
      "2025-04-01 15:28:59,999 - stpipe.Ami3Pipeline.ami_analyze - INFO -          Identified 0 bad pixels (0.00%)\n"
     ]
    },
    {
     "name": "stderr",
     "output_type": "stream",
     "text": [
      "2025-04-01 15:29:00,000 - stpipe.Ami3Pipeline.ami_analyze - INFO -          9.706\n"
     ]
    },
    {
     "name": "stderr",
     "output_type": "stream",
     "text": [
      "2025-04-01 15:29:00,000 - stpipe.Ami3Pipeline.ami_analyze - INFO -          Iteration 1: 0 new bad pixels, sdev of norm noise = 1.410\n"
     ]
    },
    {
     "name": "stderr",
     "output_type": "stream",
     "text": [
      "2025-04-01 15:29:00,008 - stpipe.Ami3Pipeline.ami_analyze - INFO -          Frame 19 of 69\n"
     ]
    },
    {
     "name": "stderr",
     "output_type": "stream",
     "text": [
      "2025-04-01 15:29:00,017 - stpipe.Ami3Pipeline.ami_analyze - INFO -          Identified 0 bad pixels (0.00%)\n"
     ]
    },
    {
     "name": "stderr",
     "output_type": "stream",
     "text": [
      "2025-04-01 15:29:00,018 - stpipe.Ami3Pipeline.ami_analyze - INFO -          10.586\n"
     ]
    },
    {
     "name": "stderr",
     "output_type": "stream",
     "text": [
      "2025-04-01 15:29:00,018 - stpipe.Ami3Pipeline.ami_analyze - INFO -          Iteration 1: 0 new bad pixels, sdev of norm noise = 1.453\n"
     ]
    },
    {
     "name": "stderr",
     "output_type": "stream",
     "text": [
      "2025-04-01 15:29:00,026 - stpipe.Ami3Pipeline.ami_analyze - INFO -          Frame 20 of 69\n"
     ]
    },
    {
     "name": "stderr",
     "output_type": "stream",
     "text": [
      "2025-04-01 15:29:00,035 - stpipe.Ami3Pipeline.ami_analyze - INFO -          Identified 0 bad pixels (0.00%)\n"
     ]
    },
    {
     "name": "stderr",
     "output_type": "stream",
     "text": [
      "2025-04-01 15:29:00,036 - stpipe.Ami3Pipeline.ami_analyze - INFO -          10.697\n"
     ]
    },
    {
     "name": "stderr",
     "output_type": "stream",
     "text": [
      "2025-04-01 15:29:00,037 - stpipe.Ami3Pipeline.ami_analyze - INFO -          Iteration 1: 0 new bad pixels, sdev of norm noise = 1.410\n"
     ]
    },
    {
     "name": "stderr",
     "output_type": "stream",
     "text": [
      "2025-04-01 15:29:00,044 - stpipe.Ami3Pipeline.ami_analyze - INFO -          Frame 21 of 69\n"
     ]
    },
    {
     "name": "stderr",
     "output_type": "stream",
     "text": [
      "2025-04-01 15:29:00,054 - stpipe.Ami3Pipeline.ami_analyze - INFO -          Identified 0 bad pixels (0.00%)\n"
     ]
    },
    {
     "name": "stderr",
     "output_type": "stream",
     "text": [
      "2025-04-01 15:29:00,054 - stpipe.Ami3Pipeline.ami_analyze - INFO -          8.815\n"
     ]
    },
    {
     "name": "stderr",
     "output_type": "stream",
     "text": [
      "2025-04-01 15:29:00,055 - stpipe.Ami3Pipeline.ami_analyze - INFO -          Iteration 1: 0 new bad pixels, sdev of norm noise = 1.417\n"
     ]
    },
    {
     "name": "stderr",
     "output_type": "stream",
     "text": [
      "2025-04-01 15:29:00,062 - stpipe.Ami3Pipeline.ami_analyze - INFO -          Frame 22 of 69\n"
     ]
    },
    {
     "name": "stderr",
     "output_type": "stream",
     "text": [
      "2025-04-01 15:29:00,072 - stpipe.Ami3Pipeline.ami_analyze - INFO -          Identified 0 bad pixels (0.00%)\n"
     ]
    },
    {
     "name": "stderr",
     "output_type": "stream",
     "text": [
      "2025-04-01 15:29:00,072 - stpipe.Ami3Pipeline.ami_analyze - INFO -          9.202\n"
     ]
    },
    {
     "name": "stderr",
     "output_type": "stream",
     "text": [
      "2025-04-01 15:29:00,073 - stpipe.Ami3Pipeline.ami_analyze - INFO -          Iteration 1: 0 new bad pixels, sdev of norm noise = 1.429\n"
     ]
    },
    {
     "name": "stderr",
     "output_type": "stream",
     "text": [
      "2025-04-01 15:29:00,080 - stpipe.Ami3Pipeline.ami_analyze - INFO -          Frame 23 of 69\n"
     ]
    },
    {
     "name": "stderr",
     "output_type": "stream",
     "text": [
      "2025-04-01 15:29:00,089 - stpipe.Ami3Pipeline.ami_analyze - INFO -          Identified 0 bad pixels (0.00%)\n"
     ]
    },
    {
     "name": "stderr",
     "output_type": "stream",
     "text": [
      "2025-04-01 15:29:00,090 - stpipe.Ami3Pipeline.ami_analyze - INFO -          10.956\n"
     ]
    },
    {
     "name": "stderr",
     "output_type": "stream",
     "text": [
      "2025-04-01 15:29:00,091 - stpipe.Ami3Pipeline.ami_analyze - INFO -          Iteration 1: 0 new bad pixels, sdev of norm noise = 1.458\n"
     ]
    },
    {
     "name": "stderr",
     "output_type": "stream",
     "text": [
      "2025-04-01 15:29:00,098 - stpipe.Ami3Pipeline.ami_analyze - INFO -          Frame 24 of 69\n"
     ]
    },
    {
     "name": "stderr",
     "output_type": "stream",
     "text": [
      "2025-04-01 15:29:00,108 - stpipe.Ami3Pipeline.ami_analyze - INFO -          Identified 0 bad pixels (0.00%)\n"
     ]
    },
    {
     "name": "stderr",
     "output_type": "stream",
     "text": [
      "2025-04-01 15:29:00,108 - stpipe.Ami3Pipeline.ami_analyze - INFO -          8.083\n"
     ]
    },
    {
     "name": "stderr",
     "output_type": "stream",
     "text": [
      "2025-04-01 15:29:00,109 - stpipe.Ami3Pipeline.ami_analyze - INFO -          Iteration 1: 0 new bad pixels, sdev of norm noise = 1.378\n"
     ]
    },
    {
     "name": "stderr",
     "output_type": "stream",
     "text": [
      "2025-04-01 15:29:00,117 - stpipe.Ami3Pipeline.ami_analyze - INFO -          Frame 25 of 69\n"
     ]
    },
    {
     "name": "stderr",
     "output_type": "stream",
     "text": [
      "2025-04-01 15:29:00,126 - stpipe.Ami3Pipeline.ami_analyze - INFO -          Identified 0 bad pixels (0.00%)\n"
     ]
    },
    {
     "name": "stderr",
     "output_type": "stream",
     "text": [
      "2025-04-01 15:29:00,127 - stpipe.Ami3Pipeline.ami_analyze - INFO -          11.296\n"
     ]
    },
    {
     "name": "stderr",
     "output_type": "stream",
     "text": [
      "2025-04-01 15:29:00,128 - stpipe.Ami3Pipeline.ami_analyze - INFO -          Iteration 1: 0 new bad pixels, sdev of norm noise = 1.375\n"
     ]
    },
    {
     "name": "stderr",
     "output_type": "stream",
     "text": [
      "2025-04-01 15:29:00,135 - stpipe.Ami3Pipeline.ami_analyze - INFO -          Frame 26 of 69\n"
     ]
    },
    {
     "name": "stderr",
     "output_type": "stream",
     "text": [
      "2025-04-01 15:29:00,145 - stpipe.Ami3Pipeline.ami_analyze - INFO -          Identified 0 bad pixels (0.00%)\n"
     ]
    },
    {
     "name": "stderr",
     "output_type": "stream",
     "text": [
      "2025-04-01 15:29:00,145 - stpipe.Ami3Pipeline.ami_analyze - INFO -          9.569\n"
     ]
    },
    {
     "name": "stderr",
     "output_type": "stream",
     "text": [
      "2025-04-01 15:29:00,146 - stpipe.Ami3Pipeline.ami_analyze - INFO -          Iteration 1: 0 new bad pixels, sdev of norm noise = 1.401\n"
     ]
    },
    {
     "name": "stderr",
     "output_type": "stream",
     "text": [
      "2025-04-01 15:29:00,153 - stpipe.Ami3Pipeline.ami_analyze - INFO -          Frame 27 of 69\n"
     ]
    },
    {
     "name": "stderr",
     "output_type": "stream",
     "text": [
      "2025-04-01 15:29:00,162 - stpipe.Ami3Pipeline.ami_analyze - INFO -          Identified 0 bad pixels (0.00%)\n"
     ]
    },
    {
     "name": "stderr",
     "output_type": "stream",
     "text": [
      "2025-04-01 15:29:00,163 - stpipe.Ami3Pipeline.ami_analyze - INFO -          9.662\n"
     ]
    },
    {
     "name": "stderr",
     "output_type": "stream",
     "text": [
      "2025-04-01 15:29:00,164 - stpipe.Ami3Pipeline.ami_analyze - INFO -          Iteration 1: 0 new bad pixels, sdev of norm noise = 1.466\n"
     ]
    },
    {
     "name": "stderr",
     "output_type": "stream",
     "text": [
      "2025-04-01 15:29:00,171 - stpipe.Ami3Pipeline.ami_analyze - INFO -          Frame 28 of 69\n"
     ]
    },
    {
     "name": "stderr",
     "output_type": "stream",
     "text": [
      "2025-04-01 15:29:00,180 - stpipe.Ami3Pipeline.ami_analyze - INFO -          Identified 0 bad pixels (0.00%)\n"
     ]
    },
    {
     "name": "stderr",
     "output_type": "stream",
     "text": [
      "2025-04-01 15:29:00,181 - stpipe.Ami3Pipeline.ami_analyze - INFO -          9.095\n"
     ]
    },
    {
     "name": "stderr",
     "output_type": "stream",
     "text": [
      "2025-04-01 15:29:00,182 - stpipe.Ami3Pipeline.ami_analyze - INFO -          Iteration 1: 0 new bad pixels, sdev of norm noise = 1.425\n"
     ]
    },
    {
     "name": "stderr",
     "output_type": "stream",
     "text": [
      "2025-04-01 15:29:00,189 - stpipe.Ami3Pipeline.ami_analyze - INFO -          Frame 29 of 69\n"
     ]
    },
    {
     "name": "stderr",
     "output_type": "stream",
     "text": [
      "2025-04-01 15:29:00,198 - stpipe.Ami3Pipeline.ami_analyze - INFO -          Identified 0 bad pixels (0.00%)\n"
     ]
    },
    {
     "name": "stderr",
     "output_type": "stream",
     "text": [
      "2025-04-01 15:29:00,199 - stpipe.Ami3Pipeline.ami_analyze - INFO -          9.439\n"
     ]
    },
    {
     "name": "stderr",
     "output_type": "stream",
     "text": [
      "2025-04-01 15:29:00,200 - stpipe.Ami3Pipeline.ami_analyze - INFO -          Iteration 1: 0 new bad pixels, sdev of norm noise = 1.400\n"
     ]
    },
    {
     "name": "stderr",
     "output_type": "stream",
     "text": [
      "2025-04-01 15:29:00,207 - stpipe.Ami3Pipeline.ami_analyze - INFO -          Frame 30 of 69\n"
     ]
    },
    {
     "name": "stderr",
     "output_type": "stream",
     "text": [
      "2025-04-01 15:29:00,217 - stpipe.Ami3Pipeline.ami_analyze - INFO -          Identified 0 bad pixels (0.00%)\n"
     ]
    },
    {
     "name": "stderr",
     "output_type": "stream",
     "text": [
      "2025-04-01 15:29:00,218 - stpipe.Ami3Pipeline.ami_analyze - INFO -          8.279\n"
     ]
    },
    {
     "name": "stderr",
     "output_type": "stream",
     "text": [
      "2025-04-01 15:29:00,218 - stpipe.Ami3Pipeline.ami_analyze - INFO -          Iteration 1: 0 new bad pixels, sdev of norm noise = 1.427\n"
     ]
    },
    {
     "name": "stderr",
     "output_type": "stream",
     "text": [
      "2025-04-01 15:29:00,227 - stpipe.Ami3Pipeline.ami_analyze - INFO -          Frame 31 of 69\n"
     ]
    },
    {
     "name": "stderr",
     "output_type": "stream",
     "text": [
      "2025-04-01 15:29:00,236 - stpipe.Ami3Pipeline.ami_analyze - INFO -          Identified 0 bad pixels (0.00%)\n"
     ]
    },
    {
     "name": "stderr",
     "output_type": "stream",
     "text": [
      "2025-04-01 15:29:00,237 - stpipe.Ami3Pipeline.ami_analyze - INFO -          8.822\n"
     ]
    },
    {
     "name": "stderr",
     "output_type": "stream",
     "text": [
      "2025-04-01 15:29:00,237 - stpipe.Ami3Pipeline.ami_analyze - INFO -          Iteration 1: 0 new bad pixels, sdev of norm noise = 1.414\n"
     ]
    },
    {
     "name": "stderr",
     "output_type": "stream",
     "text": [
      "2025-04-01 15:29:00,244 - stpipe.Ami3Pipeline.ami_analyze - INFO -          Frame 32 of 69\n"
     ]
    },
    {
     "name": "stderr",
     "output_type": "stream",
     "text": [
      "2025-04-01 15:29:00,254 - stpipe.Ami3Pipeline.ami_analyze - INFO -          Identified 0 bad pixels (0.00%)\n"
     ]
    },
    {
     "name": "stderr",
     "output_type": "stream",
     "text": [
      "2025-04-01 15:29:00,254 - stpipe.Ami3Pipeline.ami_analyze - INFO -          9.936\n"
     ]
    },
    {
     "name": "stderr",
     "output_type": "stream",
     "text": [
      "2025-04-01 15:29:00,255 - stpipe.Ami3Pipeline.ami_analyze - INFO -          Iteration 1: 0 new bad pixels, sdev of norm noise = 1.365\n"
     ]
    },
    {
     "name": "stderr",
     "output_type": "stream",
     "text": [
      "2025-04-01 15:29:00,262 - stpipe.Ami3Pipeline.ami_analyze - INFO -          Frame 33 of 69\n"
     ]
    },
    {
     "name": "stderr",
     "output_type": "stream",
     "text": [
      "2025-04-01 15:29:00,271 - stpipe.Ami3Pipeline.ami_analyze - INFO -          Identified 0 bad pixels (0.00%)\n"
     ]
    },
    {
     "name": "stderr",
     "output_type": "stream",
     "text": [
      "2025-04-01 15:29:00,272 - stpipe.Ami3Pipeline.ami_analyze - INFO -          11.812\n"
     ]
    },
    {
     "name": "stderr",
     "output_type": "stream",
     "text": [
      "2025-04-01 15:29:00,273 - stpipe.Ami3Pipeline.ami_analyze - INFO -          Iteration 1: 0 new bad pixels, sdev of norm noise = 1.398\n"
     ]
    },
    {
     "name": "stderr",
     "output_type": "stream",
     "text": [
      "2025-04-01 15:29:00,280 - stpipe.Ami3Pipeline.ami_analyze - INFO -          Frame 34 of 69\n"
     ]
    },
    {
     "name": "stderr",
     "output_type": "stream",
     "text": [
      "2025-04-01 15:29:00,289 - stpipe.Ami3Pipeline.ami_analyze - INFO -          Identified 0 bad pixels (0.00%)\n"
     ]
    },
    {
     "name": "stderr",
     "output_type": "stream",
     "text": [
      "2025-04-01 15:29:00,290 - stpipe.Ami3Pipeline.ami_analyze - INFO -          8.717\n"
     ]
    },
    {
     "name": "stderr",
     "output_type": "stream",
     "text": [
      "2025-04-01 15:29:00,290 - stpipe.Ami3Pipeline.ami_analyze - INFO -          Iteration 1: 0 new bad pixels, sdev of norm noise = 1.384\n"
     ]
    },
    {
     "name": "stderr",
     "output_type": "stream",
     "text": [
      "2025-04-01 15:29:00,298 - stpipe.Ami3Pipeline.ami_analyze - INFO -          Frame 35 of 69\n"
     ]
    },
    {
     "name": "stderr",
     "output_type": "stream",
     "text": [
      "2025-04-01 15:29:00,307 - stpipe.Ami3Pipeline.ami_analyze - INFO -          Identified 0 bad pixels (0.00%)\n"
     ]
    },
    {
     "name": "stderr",
     "output_type": "stream",
     "text": [
      "2025-04-01 15:29:00,308 - stpipe.Ami3Pipeline.ami_analyze - INFO -          8.667\n"
     ]
    },
    {
     "name": "stderr",
     "output_type": "stream",
     "text": [
      "2025-04-01 15:29:00,308 - stpipe.Ami3Pipeline.ami_analyze - INFO -          Iteration 1: 0 new bad pixels, sdev of norm noise = 1.438\n"
     ]
    },
    {
     "name": "stderr",
     "output_type": "stream",
     "text": [
      "2025-04-01 15:29:00,315 - stpipe.Ami3Pipeline.ami_analyze - INFO -          Frame 36 of 69\n"
     ]
    },
    {
     "name": "stderr",
     "output_type": "stream",
     "text": [
      "2025-04-01 15:29:00,325 - stpipe.Ami3Pipeline.ami_analyze - INFO -          Identified 0 bad pixels (0.00%)\n"
     ]
    },
    {
     "name": "stderr",
     "output_type": "stream",
     "text": [
      "2025-04-01 15:29:00,325 - stpipe.Ami3Pipeline.ami_analyze - INFO -          10.685\n"
     ]
    },
    {
     "name": "stderr",
     "output_type": "stream",
     "text": [
      "2025-04-01 15:29:00,326 - stpipe.Ami3Pipeline.ami_analyze - INFO -          Iteration 1: 0 new bad pixels, sdev of norm noise = 1.426\n"
     ]
    },
    {
     "name": "stderr",
     "output_type": "stream",
     "text": [
      "2025-04-01 15:29:00,333 - stpipe.Ami3Pipeline.ami_analyze - INFO -          Frame 37 of 69\n"
     ]
    },
    {
     "name": "stderr",
     "output_type": "stream",
     "text": [
      "2025-04-01 15:29:00,342 - stpipe.Ami3Pipeline.ami_analyze - INFO -          Identified 0 bad pixels (0.00%)\n"
     ]
    },
    {
     "name": "stderr",
     "output_type": "stream",
     "text": [
      "2025-04-01 15:29:00,343 - stpipe.Ami3Pipeline.ami_analyze - INFO -          8.705\n"
     ]
    },
    {
     "name": "stderr",
     "output_type": "stream",
     "text": [
      "2025-04-01 15:29:00,343 - stpipe.Ami3Pipeline.ami_analyze - INFO -          Iteration 1: 0 new bad pixels, sdev of norm noise = 1.442\n"
     ]
    },
    {
     "name": "stderr",
     "output_type": "stream",
     "text": [
      "2025-04-01 15:29:00,351 - stpipe.Ami3Pipeline.ami_analyze - INFO -          Frame 38 of 69\n"
     ]
    },
    {
     "name": "stderr",
     "output_type": "stream",
     "text": [
      "2025-04-01 15:29:00,360 - stpipe.Ami3Pipeline.ami_analyze - INFO -          Identified 0 bad pixels (0.00%)\n"
     ]
    },
    {
     "name": "stderr",
     "output_type": "stream",
     "text": [
      "2025-04-01 15:29:00,360 - stpipe.Ami3Pipeline.ami_analyze - INFO -          10.066\n"
     ]
    },
    {
     "name": "stderr",
     "output_type": "stream",
     "text": [
      "2025-04-01 15:29:00,361 - stpipe.Ami3Pipeline.ami_analyze - INFO -          Iteration 1: 0 new bad pixels, sdev of norm noise = 1.425\n"
     ]
    },
    {
     "name": "stderr",
     "output_type": "stream",
     "text": [
      "2025-04-01 15:29:00,368 - stpipe.Ami3Pipeline.ami_analyze - INFO -          Frame 39 of 69\n"
     ]
    },
    {
     "name": "stderr",
     "output_type": "stream",
     "text": [
      "2025-04-01 15:29:00,377 - stpipe.Ami3Pipeline.ami_analyze - INFO -          Identified 0 bad pixels (0.00%)\n"
     ]
    },
    {
     "name": "stderr",
     "output_type": "stream",
     "text": [
      "2025-04-01 15:29:00,378 - stpipe.Ami3Pipeline.ami_analyze - INFO -          10.917\n"
     ]
    },
    {
     "name": "stderr",
     "output_type": "stream",
     "text": [
      "2025-04-01 15:29:00,378 - stpipe.Ami3Pipeline.ami_analyze - INFO -          Iteration 1: 0 new bad pixels, sdev of norm noise = 1.414\n"
     ]
    },
    {
     "name": "stderr",
     "output_type": "stream",
     "text": [
      "2025-04-01 15:29:00,385 - stpipe.Ami3Pipeline.ami_analyze - INFO -          Frame 40 of 69\n"
     ]
    },
    {
     "name": "stderr",
     "output_type": "stream",
     "text": [
      "2025-04-01 15:29:00,395 - stpipe.Ami3Pipeline.ami_analyze - INFO -          Identified 0 bad pixels (0.00%)\n"
     ]
    },
    {
     "name": "stderr",
     "output_type": "stream",
     "text": [
      "2025-04-01 15:29:00,396 - stpipe.Ami3Pipeline.ami_analyze - INFO -          11.821\n"
     ]
    },
    {
     "name": "stderr",
     "output_type": "stream",
     "text": [
      "2025-04-01 15:29:00,396 - stpipe.Ami3Pipeline.ami_analyze - INFO -          Iteration 1: 0 new bad pixels, sdev of norm noise = 1.383\n"
     ]
    },
    {
     "name": "stderr",
     "output_type": "stream",
     "text": [
      "2025-04-01 15:29:00,403 - stpipe.Ami3Pipeline.ami_analyze - INFO -          Frame 41 of 69\n"
     ]
    },
    {
     "name": "stderr",
     "output_type": "stream",
     "text": [
      "2025-04-01 15:29:00,413 - stpipe.Ami3Pipeline.ami_analyze - INFO -          Identified 0 bad pixels (0.00%)\n"
     ]
    },
    {
     "name": "stderr",
     "output_type": "stream",
     "text": [
      "2025-04-01 15:29:00,413 - stpipe.Ami3Pipeline.ami_analyze - INFO -          9.675\n"
     ]
    },
    {
     "name": "stderr",
     "output_type": "stream",
     "text": [
      "2025-04-01 15:29:00,414 - stpipe.Ami3Pipeline.ami_analyze - INFO -          Iteration 1: 0 new bad pixels, sdev of norm noise = 1.403\n"
     ]
    },
    {
     "name": "stderr",
     "output_type": "stream",
     "text": [
      "2025-04-01 15:29:00,421 - stpipe.Ami3Pipeline.ami_analyze - INFO -          Frame 42 of 69\n"
     ]
    },
    {
     "name": "stderr",
     "output_type": "stream",
     "text": [
      "2025-04-01 15:29:00,430 - stpipe.Ami3Pipeline.ami_analyze - INFO -          Identified 0 bad pixels (0.00%)\n"
     ]
    },
    {
     "name": "stderr",
     "output_type": "stream",
     "text": [
      "2025-04-01 15:29:00,431 - stpipe.Ami3Pipeline.ami_analyze - INFO -          11.754\n"
     ]
    },
    {
     "name": "stderr",
     "output_type": "stream",
     "text": [
      "2025-04-01 15:29:00,432 - stpipe.Ami3Pipeline.ami_analyze - INFO -          Iteration 1: 0 new bad pixels, sdev of norm noise = 1.439\n"
     ]
    },
    {
     "name": "stderr",
     "output_type": "stream",
     "text": [
      "2025-04-01 15:29:00,439 - stpipe.Ami3Pipeline.ami_analyze - INFO -          Frame 43 of 69\n"
     ]
    },
    {
     "name": "stderr",
     "output_type": "stream",
     "text": [
      "2025-04-01 15:29:00,448 - stpipe.Ami3Pipeline.ami_analyze - INFO -          Identified 0 bad pixels (0.00%)\n"
     ]
    },
    {
     "name": "stderr",
     "output_type": "stream",
     "text": [
      "2025-04-01 15:29:00,449 - stpipe.Ami3Pipeline.ami_analyze - INFO -          8.603\n"
     ]
    },
    {
     "name": "stderr",
     "output_type": "stream",
     "text": [
      "2025-04-01 15:29:00,449 - stpipe.Ami3Pipeline.ami_analyze - INFO -          Iteration 1: 0 new bad pixels, sdev of norm noise = 1.402\n"
     ]
    },
    {
     "name": "stderr",
     "output_type": "stream",
     "text": [
      "2025-04-01 15:29:00,457 - stpipe.Ami3Pipeline.ami_analyze - INFO -          Frame 44 of 69\n"
     ]
    },
    {
     "name": "stderr",
     "output_type": "stream",
     "text": [
      "2025-04-01 15:29:00,466 - stpipe.Ami3Pipeline.ami_analyze - INFO -          Identified 0 bad pixels (0.00%)\n"
     ]
    },
    {
     "name": "stderr",
     "output_type": "stream",
     "text": [
      "2025-04-01 15:29:00,466 - stpipe.Ami3Pipeline.ami_analyze - INFO -          8.263\n"
     ]
    },
    {
     "name": "stderr",
     "output_type": "stream",
     "text": [
      "2025-04-01 15:29:00,467 - stpipe.Ami3Pipeline.ami_analyze - INFO -          Iteration 1: 0 new bad pixels, sdev of norm noise = 1.404\n"
     ]
    },
    {
     "name": "stderr",
     "output_type": "stream",
     "text": [
      "2025-04-01 15:29:00,474 - stpipe.Ami3Pipeline.ami_analyze - INFO -          Frame 45 of 69\n"
     ]
    },
    {
     "name": "stderr",
     "output_type": "stream",
     "text": [
      "2025-04-01 15:29:00,484 - stpipe.Ami3Pipeline.ami_analyze - INFO -          Identified 0 bad pixels (0.00%)\n"
     ]
    },
    {
     "name": "stderr",
     "output_type": "stream",
     "text": [
      "2025-04-01 15:29:00,485 - stpipe.Ami3Pipeline.ami_analyze - INFO -          12.047\n"
     ]
    },
    {
     "name": "stderr",
     "output_type": "stream",
     "text": [
      "2025-04-01 15:29:00,485 - stpipe.Ami3Pipeline.ami_analyze - INFO -          Iteration 1: 0 new bad pixels, sdev of norm noise = 1.380\n"
     ]
    },
    {
     "name": "stderr",
     "output_type": "stream",
     "text": [
      "2025-04-01 15:29:00,493 - stpipe.Ami3Pipeline.ami_analyze - INFO -          Frame 46 of 69\n"
     ]
    },
    {
     "name": "stderr",
     "output_type": "stream",
     "text": [
      "2025-04-01 15:29:00,506 - stpipe.Ami3Pipeline.ami_analyze - INFO -          Identified 0 bad pixels (0.00%)\n"
     ]
    },
    {
     "name": "stderr",
     "output_type": "stream",
     "text": [
      "2025-04-01 15:29:00,507 - stpipe.Ami3Pipeline.ami_analyze - INFO -          9.111\n"
     ]
    },
    {
     "name": "stderr",
     "output_type": "stream",
     "text": [
      "2025-04-01 15:29:00,507 - stpipe.Ami3Pipeline.ami_analyze - INFO -          Iteration 1: 0 new bad pixels, sdev of norm noise = 1.403\n"
     ]
    },
    {
     "name": "stderr",
     "output_type": "stream",
     "text": [
      "2025-04-01 15:29:00,515 - stpipe.Ami3Pipeline.ami_analyze - INFO -          Frame 47 of 69\n"
     ]
    },
    {
     "name": "stderr",
     "output_type": "stream",
     "text": [
      "2025-04-01 15:29:00,524 - stpipe.Ami3Pipeline.ami_analyze - INFO -          Identified 0 bad pixels (0.00%)\n"
     ]
    },
    {
     "name": "stderr",
     "output_type": "stream",
     "text": [
      "2025-04-01 15:29:00,525 - stpipe.Ami3Pipeline.ami_analyze - INFO -          9.926\n"
     ]
    },
    {
     "name": "stderr",
     "output_type": "stream",
     "text": [
      "2025-04-01 15:29:00,526 - stpipe.Ami3Pipeline.ami_analyze - INFO -          Iteration 1: 0 new bad pixels, sdev of norm noise = 1.401\n"
     ]
    },
    {
     "name": "stderr",
     "output_type": "stream",
     "text": [
      "2025-04-01 15:29:00,533 - stpipe.Ami3Pipeline.ami_analyze - INFO -          Frame 48 of 69\n"
     ]
    },
    {
     "name": "stderr",
     "output_type": "stream",
     "text": [
      "2025-04-01 15:29:00,542 - stpipe.Ami3Pipeline.ami_analyze - INFO -          Identified 0 bad pixels (0.00%)\n"
     ]
    },
    {
     "name": "stderr",
     "output_type": "stream",
     "text": [
      "2025-04-01 15:29:00,543 - stpipe.Ami3Pipeline.ami_analyze - INFO -          10.785\n"
     ]
    },
    {
     "name": "stderr",
     "output_type": "stream",
     "text": [
      "2025-04-01 15:29:00,544 - stpipe.Ami3Pipeline.ami_analyze - INFO -          Iteration 1: 0 new bad pixels, sdev of norm noise = 1.387\n"
     ]
    },
    {
     "name": "stderr",
     "output_type": "stream",
     "text": [
      "2025-04-01 15:29:00,551 - stpipe.Ami3Pipeline.ami_analyze - INFO -          Frame 49 of 69\n"
     ]
    },
    {
     "name": "stderr",
     "output_type": "stream",
     "text": [
      "2025-04-01 15:29:00,561 - stpipe.Ami3Pipeline.ami_analyze - INFO -          Identified 0 bad pixels (0.00%)\n"
     ]
    },
    {
     "name": "stderr",
     "output_type": "stream",
     "text": [
      "2025-04-01 15:29:00,561 - stpipe.Ami3Pipeline.ami_analyze - INFO -          9.297\n"
     ]
    },
    {
     "name": "stderr",
     "output_type": "stream",
     "text": [
      "2025-04-01 15:29:00,562 - stpipe.Ami3Pipeline.ami_analyze - INFO -          Iteration 1: 0 new bad pixels, sdev of norm noise = 1.447\n"
     ]
    },
    {
     "name": "stderr",
     "output_type": "stream",
     "text": [
      "2025-04-01 15:29:00,570 - stpipe.Ami3Pipeline.ami_analyze - INFO -          Frame 50 of 69\n"
     ]
    },
    {
     "name": "stderr",
     "output_type": "stream",
     "text": [
      "2025-04-01 15:29:00,579 - stpipe.Ami3Pipeline.ami_analyze - INFO -          Identified 0 bad pixels (0.00%)\n"
     ]
    },
    {
     "name": "stderr",
     "output_type": "stream",
     "text": [
      "2025-04-01 15:29:00,580 - stpipe.Ami3Pipeline.ami_analyze - INFO -          9.840\n"
     ]
    },
    {
     "name": "stderr",
     "output_type": "stream",
     "text": [
      "2025-04-01 15:29:00,580 - stpipe.Ami3Pipeline.ami_analyze - INFO -          Iteration 1: 0 new bad pixels, sdev of norm noise = 1.410\n"
     ]
    },
    {
     "name": "stderr",
     "output_type": "stream",
     "text": [
      "2025-04-01 15:29:00,587 - stpipe.Ami3Pipeline.ami_analyze - INFO -          Frame 51 of 69\n"
     ]
    },
    {
     "name": "stderr",
     "output_type": "stream",
     "text": [
      "2025-04-01 15:29:00,597 - stpipe.Ami3Pipeline.ami_analyze - INFO -          Identified 0 bad pixels (0.00%)\n"
     ]
    },
    {
     "name": "stderr",
     "output_type": "stream",
     "text": [
      "2025-04-01 15:29:00,597 - stpipe.Ami3Pipeline.ami_analyze - INFO -          9.919\n"
     ]
    },
    {
     "name": "stderr",
     "output_type": "stream",
     "text": [
      "2025-04-01 15:29:00,598 - stpipe.Ami3Pipeline.ami_analyze - INFO -          Iteration 1: 0 new bad pixels, sdev of norm noise = 1.394\n"
     ]
    },
    {
     "name": "stderr",
     "output_type": "stream",
     "text": [
      "2025-04-01 15:29:00,605 - stpipe.Ami3Pipeline.ami_analyze - INFO -          Frame 52 of 69\n"
     ]
    },
    {
     "name": "stderr",
     "output_type": "stream",
     "text": [
      "2025-04-01 15:29:00,615 - stpipe.Ami3Pipeline.ami_analyze - INFO -          Identified 0 bad pixels (0.00%)\n"
     ]
    },
    {
     "name": "stderr",
     "output_type": "stream",
     "text": [
      "2025-04-01 15:29:00,615 - stpipe.Ami3Pipeline.ami_analyze - INFO -          10.734\n"
     ]
    },
    {
     "name": "stderr",
     "output_type": "stream",
     "text": [
      "2025-04-01 15:29:00,616 - stpipe.Ami3Pipeline.ami_analyze - INFO -          Iteration 1: 0 new bad pixels, sdev of norm noise = 1.379\n"
     ]
    },
    {
     "name": "stderr",
     "output_type": "stream",
     "text": [
      "2025-04-01 15:29:00,623 - stpipe.Ami3Pipeline.ami_analyze - INFO -          Frame 53 of 69\n"
     ]
    },
    {
     "name": "stderr",
     "output_type": "stream",
     "text": [
      "2025-04-01 15:29:00,632 - stpipe.Ami3Pipeline.ami_analyze - INFO -          Identified 0 bad pixels (0.00%)\n"
     ]
    },
    {
     "name": "stderr",
     "output_type": "stream",
     "text": [
      "2025-04-01 15:29:00,633 - stpipe.Ami3Pipeline.ami_analyze - INFO -          11.568\n"
     ]
    },
    {
     "name": "stderr",
     "output_type": "stream",
     "text": [
      "2025-04-01 15:29:00,633 - stpipe.Ami3Pipeline.ami_analyze - INFO -          Iteration 1: 0 new bad pixels, sdev of norm noise = 1.363\n"
     ]
    },
    {
     "name": "stderr",
     "output_type": "stream",
     "text": [
      "2025-04-01 15:29:00,640 - stpipe.Ami3Pipeline.ami_analyze - INFO -          Frame 54 of 69\n"
     ]
    },
    {
     "name": "stderr",
     "output_type": "stream",
     "text": [
      "2025-04-01 15:29:00,650 - stpipe.Ami3Pipeline.ami_analyze - INFO -          Identified 0 bad pixels (0.00%)\n"
     ]
    },
    {
     "name": "stderr",
     "output_type": "stream",
     "text": [
      "2025-04-01 15:29:00,651 - stpipe.Ami3Pipeline.ami_analyze - INFO -          9.325\n"
     ]
    },
    {
     "name": "stderr",
     "output_type": "stream",
     "text": [
      "2025-04-01 15:29:00,651 - stpipe.Ami3Pipeline.ami_analyze - INFO -          Iteration 1: 0 new bad pixels, sdev of norm noise = 1.429\n"
     ]
    },
    {
     "name": "stderr",
     "output_type": "stream",
     "text": [
      "2025-04-01 15:29:00,658 - stpipe.Ami3Pipeline.ami_analyze - INFO -          Frame 55 of 69\n"
     ]
    },
    {
     "name": "stderr",
     "output_type": "stream",
     "text": [
      "2025-04-01 15:29:00,668 - stpipe.Ami3Pipeline.ami_analyze - INFO -          Identified 0 bad pixels (0.00%)\n"
     ]
    },
    {
     "name": "stderr",
     "output_type": "stream",
     "text": [
      "2025-04-01 15:29:00,669 - stpipe.Ami3Pipeline.ami_analyze - INFO -          9.319\n"
     ]
    },
    {
     "name": "stderr",
     "output_type": "stream",
     "text": [
      "2025-04-01 15:29:00,669 - stpipe.Ami3Pipeline.ami_analyze - INFO -          Iteration 1: 0 new bad pixels, sdev of norm noise = 1.402\n"
     ]
    },
    {
     "name": "stderr",
     "output_type": "stream",
     "text": [
      "2025-04-01 15:29:00,677 - stpipe.Ami3Pipeline.ami_analyze - INFO -          Frame 56 of 69\n"
     ]
    },
    {
     "name": "stderr",
     "output_type": "stream",
     "text": [
      "2025-04-01 15:29:00,686 - stpipe.Ami3Pipeline.ami_analyze - INFO -          Identified 0 bad pixels (0.00%)\n"
     ]
    },
    {
     "name": "stderr",
     "output_type": "stream",
     "text": [
      "2025-04-01 15:29:00,687 - stpipe.Ami3Pipeline.ami_analyze - INFO -          11.302\n"
     ]
    },
    {
     "name": "stderr",
     "output_type": "stream",
     "text": [
      "2025-04-01 15:29:00,688 - stpipe.Ami3Pipeline.ami_analyze - INFO -          Iteration 1: 0 new bad pixels, sdev of norm noise = 1.435\n"
     ]
    },
    {
     "name": "stderr",
     "output_type": "stream",
     "text": [
      "2025-04-01 15:29:00,695 - stpipe.Ami3Pipeline.ami_analyze - INFO -          Frame 57 of 69\n"
     ]
    },
    {
     "name": "stderr",
     "output_type": "stream",
     "text": [
      "2025-04-01 15:29:00,704 - stpipe.Ami3Pipeline.ami_analyze - INFO -          Identified 0 bad pixels (0.00%)\n"
     ]
    },
    {
     "name": "stderr",
     "output_type": "stream",
     "text": [
      "2025-04-01 15:29:00,705 - stpipe.Ami3Pipeline.ami_analyze - INFO -          7.930\n"
     ]
    },
    {
     "name": "stderr",
     "output_type": "stream",
     "text": [
      "2025-04-01 15:29:00,705 - stpipe.Ami3Pipeline.ami_analyze - INFO -          Iteration 1: 0 new bad pixels, sdev of norm noise = 1.393\n"
     ]
    },
    {
     "name": "stderr",
     "output_type": "stream",
     "text": [
      "2025-04-01 15:29:00,713 - stpipe.Ami3Pipeline.ami_analyze - INFO -          Frame 58 of 69\n"
     ]
    },
    {
     "name": "stderr",
     "output_type": "stream",
     "text": [
      "2025-04-01 15:29:00,722 - stpipe.Ami3Pipeline.ami_analyze - INFO -          Identified 0 bad pixels (0.00%)\n"
     ]
    },
    {
     "name": "stderr",
     "output_type": "stream",
     "text": [
      "2025-04-01 15:29:00,722 - stpipe.Ami3Pipeline.ami_analyze - INFO -          11.584\n"
     ]
    },
    {
     "name": "stderr",
     "output_type": "stream",
     "text": [
      "2025-04-01 15:29:00,723 - stpipe.Ami3Pipeline.ami_analyze - INFO -          Iteration 1: 0 new bad pixels, sdev of norm noise = 1.416\n"
     ]
    },
    {
     "name": "stderr",
     "output_type": "stream",
     "text": [
      "2025-04-01 15:29:00,730 - stpipe.Ami3Pipeline.ami_analyze - INFO -          Frame 59 of 69\n"
     ]
    },
    {
     "name": "stderr",
     "output_type": "stream",
     "text": [
      "2025-04-01 15:29:00,739 - stpipe.Ami3Pipeline.ami_analyze - INFO -          Identified 0 bad pixels (0.00%)\n"
     ]
    },
    {
     "name": "stderr",
     "output_type": "stream",
     "text": [
      "2025-04-01 15:29:00,740 - stpipe.Ami3Pipeline.ami_analyze - INFO -          7.890\n"
     ]
    },
    {
     "name": "stderr",
     "output_type": "stream",
     "text": [
      "2025-04-01 15:29:00,740 - stpipe.Ami3Pipeline.ami_analyze - INFO -          Iteration 1: 0 new bad pixels, sdev of norm noise = 1.389\n"
     ]
    },
    {
     "name": "stderr",
     "output_type": "stream",
     "text": [
      "2025-04-01 15:29:00,748 - stpipe.Ami3Pipeline.ami_analyze - INFO -          Frame 60 of 69\n"
     ]
    },
    {
     "name": "stderr",
     "output_type": "stream",
     "text": [
      "2025-04-01 15:29:00,757 - stpipe.Ami3Pipeline.ami_analyze - INFO -          Identified 0 bad pixels (0.00%)\n"
     ]
    },
    {
     "name": "stderr",
     "output_type": "stream",
     "text": [
      "2025-04-01 15:29:00,758 - stpipe.Ami3Pipeline.ami_analyze - INFO -          12.354\n"
     ]
    },
    {
     "name": "stderr",
     "output_type": "stream",
     "text": [
      "2025-04-01 15:29:00,758 - stpipe.Ami3Pipeline.ami_analyze - INFO -          Iteration 1: 0 new bad pixels, sdev of norm noise = 1.383\n"
     ]
    },
    {
     "name": "stderr",
     "output_type": "stream",
     "text": [
      "2025-04-01 15:29:00,766 - stpipe.Ami3Pipeline.ami_analyze - INFO -          Frame 61 of 69\n"
     ]
    },
    {
     "name": "stderr",
     "output_type": "stream",
     "text": [
      "2025-04-01 15:29:00,775 - stpipe.Ami3Pipeline.ami_analyze - INFO -          Identified 0 bad pixels (0.00%)\n"
     ]
    },
    {
     "name": "stderr",
     "output_type": "stream",
     "text": [
      "2025-04-01 15:29:00,776 - stpipe.Ami3Pipeline.ami_analyze - INFO -          8.505\n"
     ]
    },
    {
     "name": "stderr",
     "output_type": "stream",
     "text": [
      "2025-04-01 15:29:00,776 - stpipe.Ami3Pipeline.ami_analyze - INFO -          Iteration 1: 0 new bad pixels, sdev of norm noise = 1.373\n"
     ]
    },
    {
     "name": "stderr",
     "output_type": "stream",
     "text": [
      "2025-04-01 15:29:00,783 - stpipe.Ami3Pipeline.ami_analyze - INFO -          Frame 62 of 69\n"
     ]
    },
    {
     "name": "stderr",
     "output_type": "stream",
     "text": [
      "2025-04-01 15:29:00,792 - stpipe.Ami3Pipeline.ami_analyze - INFO -          Identified 0 bad pixels (0.00%)\n"
     ]
    },
    {
     "name": "stderr",
     "output_type": "stream",
     "text": [
      "2025-04-01 15:29:00,793 - stpipe.Ami3Pipeline.ami_analyze - INFO -          10.621\n"
     ]
    },
    {
     "name": "stderr",
     "output_type": "stream",
     "text": [
      "2025-04-01 15:29:00,794 - stpipe.Ami3Pipeline.ami_analyze - INFO -          Iteration 1: 0 new bad pixels, sdev of norm noise = 1.395\n"
     ]
    },
    {
     "name": "stderr",
     "output_type": "stream",
     "text": [
      "2025-04-01 15:29:00,801 - stpipe.Ami3Pipeline.ami_analyze - INFO -          Frame 63 of 69\n"
     ]
    },
    {
     "name": "stderr",
     "output_type": "stream",
     "text": [
      "2025-04-01 15:29:00,811 - stpipe.Ami3Pipeline.ami_analyze - INFO -          Identified 0 bad pixels (0.00%)\n"
     ]
    },
    {
     "name": "stderr",
     "output_type": "stream",
     "text": [
      "2025-04-01 15:29:00,811 - stpipe.Ami3Pipeline.ami_analyze - INFO -          9.676\n"
     ]
    },
    {
     "name": "stderr",
     "output_type": "stream",
     "text": [
      "2025-04-01 15:29:00,812 - stpipe.Ami3Pipeline.ami_analyze - INFO -          Iteration 1: 0 new bad pixels, sdev of norm noise = 1.414\n"
     ]
    },
    {
     "name": "stderr",
     "output_type": "stream",
     "text": [
      "2025-04-01 15:29:00,819 - stpipe.Ami3Pipeline.ami_analyze - INFO -          Frame 64 of 69\n"
     ]
    },
    {
     "name": "stderr",
     "output_type": "stream",
     "text": [
      "2025-04-01 15:29:00,829 - stpipe.Ami3Pipeline.ami_analyze - INFO -          Identified 0 bad pixels (0.00%)\n"
     ]
    },
    {
     "name": "stderr",
     "output_type": "stream",
     "text": [
      "2025-04-01 15:29:00,829 - stpipe.Ami3Pipeline.ami_analyze - INFO -          8.680\n"
     ]
    },
    {
     "name": "stderr",
     "output_type": "stream",
     "text": [
      "2025-04-01 15:29:00,830 - stpipe.Ami3Pipeline.ami_analyze - INFO -          Iteration 1: 0 new bad pixels, sdev of norm noise = 1.396\n"
     ]
    },
    {
     "name": "stderr",
     "output_type": "stream",
     "text": [
      "2025-04-01 15:29:00,837 - stpipe.Ami3Pipeline.ami_analyze - INFO -          Frame 65 of 69\n"
     ]
    },
    {
     "name": "stderr",
     "output_type": "stream",
     "text": [
      "2025-04-01 15:29:00,846 - stpipe.Ami3Pipeline.ami_analyze - INFO -          Identified 0 bad pixels (0.00%)\n"
     ]
    },
    {
     "name": "stderr",
     "output_type": "stream",
     "text": [
      "2025-04-01 15:29:00,847 - stpipe.Ami3Pipeline.ami_analyze - INFO -          10.679\n"
     ]
    },
    {
     "name": "stderr",
     "output_type": "stream",
     "text": [
      "2025-04-01 15:29:00,847 - stpipe.Ami3Pipeline.ami_analyze - INFO -          Iteration 1: 0 new bad pixels, sdev of norm noise = 1.416\n"
     ]
    },
    {
     "name": "stderr",
     "output_type": "stream",
     "text": [
      "2025-04-01 15:29:00,854 - stpipe.Ami3Pipeline.ami_analyze - INFO -          Frame 66 of 69\n"
     ]
    },
    {
     "name": "stderr",
     "output_type": "stream",
     "text": [
      "2025-04-01 15:29:00,864 - stpipe.Ami3Pipeline.ami_analyze - INFO -          Identified 0 bad pixels (0.00%)\n"
     ]
    },
    {
     "name": "stderr",
     "output_type": "stream",
     "text": [
      "2025-04-01 15:29:00,865 - stpipe.Ami3Pipeline.ami_analyze - INFO -          9.441\n"
     ]
    },
    {
     "name": "stderr",
     "output_type": "stream",
     "text": [
      "2025-04-01 15:29:00,865 - stpipe.Ami3Pipeline.ami_analyze - INFO -          Iteration 1: 0 new bad pixels, sdev of norm noise = 1.387\n"
     ]
    },
    {
     "name": "stderr",
     "output_type": "stream",
     "text": [
      "2025-04-01 15:29:00,873 - stpipe.Ami3Pipeline.ami_analyze - INFO -          Frame 67 of 69\n"
     ]
    },
    {
     "name": "stderr",
     "output_type": "stream",
     "text": [
      "2025-04-01 15:29:00,882 - stpipe.Ami3Pipeline.ami_analyze - INFO -          Identified 0 bad pixels (0.00%)\n"
     ]
    },
    {
     "name": "stderr",
     "output_type": "stream",
     "text": [
      "2025-04-01 15:29:00,883 - stpipe.Ami3Pipeline.ami_analyze - INFO -          8.775\n"
     ]
    },
    {
     "name": "stderr",
     "output_type": "stream",
     "text": [
      "2025-04-01 15:29:00,883 - stpipe.Ami3Pipeline.ami_analyze - INFO -          Iteration 1: 0 new bad pixels, sdev of norm noise = 1.417\n"
     ]
    },
    {
     "name": "stderr",
     "output_type": "stream",
     "text": [
      "2025-04-01 15:29:00,891 - stpipe.Ami3Pipeline.ami_analyze - INFO -          Frame 68 of 69\n"
     ]
    },
    {
     "name": "stderr",
     "output_type": "stream",
     "text": [
      "2025-04-01 15:29:00,901 - stpipe.Ami3Pipeline.ami_analyze - INFO -          Identified 0 bad pixels (0.00%)\n"
     ]
    },
    {
     "name": "stderr",
     "output_type": "stream",
     "text": [
      "2025-04-01 15:29:00,901 - stpipe.Ami3Pipeline.ami_analyze - INFO -          10.201\n"
     ]
    },
    {
     "name": "stderr",
     "output_type": "stream",
     "text": [
      "2025-04-01 15:29:00,902 - stpipe.Ami3Pipeline.ami_analyze - INFO -          Iteration 1: 0 new bad pixels, sdev of norm noise = 1.375\n"
     ]
    },
    {
     "name": "stderr",
     "output_type": "stream",
     "text": [
      "2025-04-01 15:29:00,909 - stpipe.Ami3Pipeline.ami_analyze - INFO -          Frame 69 of 69\n"
     ]
    },
    {
     "name": "stderr",
     "output_type": "stream",
     "text": [
      "2025-04-01 15:29:00,919 - stpipe.Ami3Pipeline.ami_analyze - INFO -          Identified 0 bad pixels (0.00%)\n"
     ]
    },
    {
     "name": "stderr",
     "output_type": "stream",
     "text": [
      "2025-04-01 15:29:00,919 - stpipe.Ami3Pipeline.ami_analyze - INFO -          9.763\n"
     ]
    },
    {
     "name": "stderr",
     "output_type": "stream",
     "text": [
      "2025-04-01 15:29:00,920 - stpipe.Ami3Pipeline.ami_analyze - INFO -          Iteration 1: 0 new bad pixels, sdev of norm noise = 1.388\n"
     ]
    },
    {
     "name": "stderr",
     "output_type": "stream",
     "text": [
      "2025-04-01 15:29:00,927 - stpipe.Ami3Pipeline.ami_analyze - INFO - usebp flag set to TRUE: bad pixels will be excluded from model fit\n"
     ]
    },
    {
     "name": "stderr",
     "output_type": "stream",
     "text": [
      "2025-04-01 15:30:31,411 - stpipe.Ami3Pipeline.ami_analyze - INFO - Saved model in ./nis_ami_demo_data/PID_1093/stage3/ami3_AB-DOR_F480M_ami-oi.fits\n"
     ]
    },
    {
     "name": "stderr",
     "output_type": "stream",
     "text": [
      "2025-04-01 15:30:31,495 - stpipe.Ami3Pipeline.ami_analyze - INFO - Saved model in ./nis_ami_demo_data/PID_1093/stage3/ami3_AB-DOR_F480M_amimulti-oi.fits\n"
     ]
    },
    {
     "name": "stderr",
     "output_type": "stream",
     "text": [
      "2025-04-01 15:30:31,549 - stpipe.Ami3Pipeline.ami_analyze - INFO - Saved model in ./nis_ami_demo_data/PID_1093/stage3/ami3_AB-DOR_F480M_amilg.fits\n"
     ]
    },
    {
     "name": "stderr",
     "output_type": "stream",
     "text": [
      "2025-04-01 15:30:31,550 - stpipe.Ami3Pipeline.ami_analyze - INFO - Step ami_analyze done\n"
     ]
    },
    {
     "name": "stderr",
     "output_type": "stream",
     "text": [
      "2025-04-01 15:30:31,632 - stpipe.Ami3Pipeline - INFO - Saved model in ./nis_ami_demo_data/PID_1093/stage3/jw01093012001_03102_00001_nis_a3001_ami-oi.fits\n"
     ]
    },
    {
     "name": "stderr",
     "output_type": "stream",
     "text": [
      "2025-04-01 15:30:31,737 - stpipe.Ami3Pipeline.ami_analyze - INFO - Step ami_analyze running with args ('/home/runner/work/jwst-pipeline-notebooks/jwst-pipeline-notebooks/notebooks/NIRISS/AMI/nis_ami_demo_data/PID_1093/stage2/jw01093015001_03102_00001_nis_calints.fits',).\n"
     ]
    },
    {
     "name": "stderr",
     "output_type": "stream",
     "text": [
      "2025-04-01 15:30:31,738 - stpipe.Ami3Pipeline.ami_analyze - INFO - Oversampling factor = 3\n"
     ]
    },
    {
     "name": "stderr",
     "output_type": "stream",
     "text": [
      "2025-04-01 15:30:31,738 - stpipe.Ami3Pipeline.ami_analyze - INFO - Initial rotation guess = 0.0 deg\n"
     ]
    },
    {
     "name": "stderr",
     "output_type": "stream",
     "text": [
      "2025-04-01 15:30:31,739 - stpipe.Ami3Pipeline.ami_analyze - INFO - Initial values to use for psf offset = [0.0, 0.0]\n"
     ]
    },
    {
     "name": "stderr",
     "output_type": "stream",
     "text": [
      "2025-04-01 15:30:31,841 - stpipe.Ami3Pipeline.ami_analyze - INFO - Using filter throughput reference file /home/runner/crds/references/jwst/niriss/jwst_niriss_throughput_0012.fits\n"
     ]
    },
    {
     "name": "stderr",
     "output_type": "stream",
     "text": [
      "2025-04-01 15:30:31,843 - stpipe.Ami3Pipeline.ami_analyze - INFO - Could not use affine2d from <jwst.ami.utils.Affine2d object at 0x7f5ea48cc410>. See documentation for info on creating a custom bandpass ASDF file.\n"
     ]
    },
    {
     "name": "stderr",
     "output_type": "stream",
     "text": [
      "2025-04-01 15:30:31,843 - stpipe.Ami3Pipeline.ami_analyze - INFO - \t **** DEFAULTING TO USE IDENTITY TRANSFORM ****\n"
     ]
    },
    {
     "name": "stderr",
     "output_type": "stream",
     "text": [
      "2025-04-01 15:30:31,852 - stpipe.Ami3Pipeline.ami_analyze - INFO - Using NRM reference file /home/runner/crds/references/jwst/niriss/jwst_niriss_nrm_0004.fits\n"
     ]
    },
    {
     "name": "stderr",
     "output_type": "stream",
     "text": [
      "2025-04-01 15:30:31,928 - stpipe.Ami3Pipeline.ami_analyze - INFO - Reading throughput model data for F480M.\n"
     ]
    },
    {
     "name": "stderr",
     "output_type": "stream",
     "text": [
      "2025-04-01 15:30:32,278 - stpipe.Ami3Pipeline.ami_analyze - INFO - Using flat spectrum model.\n"
     ]
    },
    {
     "name": "stderr",
     "output_type": "stream",
     "text": [
      "2025-04-01 15:30:32,496 - stpipe.Ami3Pipeline.ami_analyze - INFO - Searching for best-fit affine transform\n"
     ]
    },
    {
     "name": "stderr",
     "output_type": "stream",
     "text": [
      "2025-04-01 15:30:32,496 - stpipe.Ami3Pipeline.ami_analyze - INFO - Initial values to use for rotation search: [-3. -2. -1.  0.  1.  2.  3.]\n"
     ]
    },
    {
     "name": "stderr",
     "output_type": "stream",
     "text": [
      "2025-04-01 15:30:32,504 - stpipe.Ami3Pipeline.ami_analyze - INFO - Replacing 439 NaNs in median image with median of surrounding pixels\n"
     ]
    },
    {
     "name": "stderr",
     "output_type": "stream",
     "text": [
      "2025-04-01 15:30:32,505 - stpipe.Ami3Pipeline.ami_analyze - WARNING - /opt/hostedtoolcache/Python/3.11.11/x64/lib/python3.11/site-packages/numpy/lib/nanfunctions.py:1215: RuntimeWarning: Mean of empty slice\n",
      "  return np.nanmean(a, axis, out=out, keepdims=keepdims)\n",
      "\n"
     ]
    },
    {
     "name": "stderr",
     "output_type": "stream",
     "text": [
      "2025-04-01 15:30:37,358 - stpipe.Ami3Pipeline.ami_analyze - INFO - Found rotation: -0.0055 rad (-0.3140 deg)\n"
     ]
    },
    {
     "name": "stderr",
     "output_type": "stream",
     "text": [
      "2025-04-01 15:30:37,359 - stpipe.Ami3Pipeline.ami_analyze - INFO - Using affine transform with parameters:\n"
     ]
    },
    {
     "name": "stderr",
     "output_type": "stream",
     "text": [
      "2025-04-01 15:30:37,359 - stpipe.Ami3Pipeline.ami_analyze - INFO - \tmx=0.999985\tmy=0.999985\n"
     ]
    },
    {
     "name": "stderr",
     "output_type": "stream",
     "text": [
      "2025-04-01 15:30:37,360 - stpipe.Ami3Pipeline.ami_analyze - INFO - \tsx=0.005480\tsy=-0.005480\n"
     ]
    },
    {
     "name": "stderr",
     "output_type": "stream",
     "text": [
      "2025-04-01 15:30:37,361 - stpipe.Ami3Pipeline.ami_analyze - INFO - \txo=0.000000\tyo=0.000000\n"
     ]
    },
    {
     "name": "stderr",
     "output_type": "stream",
     "text": [
      "2025-04-01 15:30:37,362 - stpipe.Ami3Pipeline.ami_analyze - INFO - \trotradccw=-0.005480167524074842\n"
     ]
    },
    {
     "name": "stderr",
     "output_type": "stream",
     "text": [
      "2025-04-01 15:30:37,362 - stpipe.Ami3Pipeline.ami_analyze - INFO - leastsqnrm.matrix_operations() - equally-weighted\n"
     ]
    },
    {
     "name": "stderr",
     "output_type": "stream",
     "text": [
      "2025-04-01 15:30:37,364 - stpipe.Ami3Pipeline.ami_analyze - INFO - Rotating mask hole centers clockwise by 171.979 degrees\n"
     ]
    },
    {
     "name": "stderr",
     "output_type": "stream",
     "text": [
      "2025-04-01 15:30:37,373 - stpipe.Ami3Pipeline.ami_analyze - INFO - 0 additional pixels >10-sig from median of stack found\n"
     ]
    },
    {
     "name": "stderr",
     "output_type": "stream",
     "text": [
      "2025-04-01 15:30:37,374 - stpipe.Ami3Pipeline.ami_analyze - INFO - 0 DO_NOT_USE flags added to DQ array for found outlier pixels\n"
     ]
    },
    {
     "name": "stderr",
     "output_type": "stream",
     "text": [
      "2025-04-01 15:30:37,375 - stpipe.Ami3Pipeline.ami_analyze - INFO - Cropping all integrations to 69x69 pixels around peak (40,45)\n"
     ]
    },
    {
     "name": "stderr",
     "output_type": "stream",
     "text": [
      "2025-04-01 15:30:37,375 - stpipe.Ami3Pipeline.ami_analyze - INFO - Applying Fourier bad pixel correction to cropped data, updating DQ array\n"
     ]
    },
    {
     "name": "stderr",
     "output_type": "stream",
     "text": [
      "2025-04-01 15:30:37,377 - stpipe.Ami3Pipeline.ami_analyze - INFO - 2380 pixels flagged DO_NOT_USE in cropped data\n"
     ]
    },
    {
     "name": "stderr",
     "output_type": "stream",
     "text": [
      "2025-04-01 15:30:37,378 - stpipe.Ami3Pipeline.ami_analyze - INFO - Identified 2196 NaN pixels to correct\n"
     ]
    },
    {
     "name": "stderr",
     "output_type": "stream",
     "text": [
      "2025-04-01 15:30:37,383 - stpipe.Ami3Pipeline.ami_analyze - INFO -       FOV = 4.5 arcsec, Fourier sampling = 0.223 m/pix\n"
     ]
    },
    {
     "name": "stderr",
     "output_type": "stream",
     "text": [
      "2025-04-01 15:30:37,384 - stpipe.Ami3Pipeline.ami_analyze - INFO -       F480M: 4.817 to 4.986 micron\n"
     ]
    },
    {
     "name": "stderr",
     "output_type": "stream",
     "text": [
      "2025-04-01 15:30:37,423 - stpipe.Ami3Pipeline.ami_analyze - INFO -          Frame 1 of 61\n"
     ]
    },
    {
     "name": "stderr",
     "output_type": "stream",
     "text": [
      "2025-04-01 15:30:37,433 - stpipe.Ami3Pipeline.ami_analyze - INFO -          Identified 0 bad pixels (0.00%)\n"
     ]
    },
    {
     "name": "stderr",
     "output_type": "stream",
     "text": [
      "2025-04-01 15:30:37,434 - stpipe.Ami3Pipeline.ami_analyze - INFO -          16.323\n"
     ]
    },
    {
     "name": "stderr",
     "output_type": "stream",
     "text": [
      "2025-04-01 15:30:37,435 - stpipe.Ami3Pipeline.ami_analyze - INFO -          Iteration 1: 0 new bad pixels, sdev of norm noise = 0.485\n"
     ]
    },
    {
     "name": "stderr",
     "output_type": "stream",
     "text": [
      "2025-04-01 15:30:37,442 - stpipe.Ami3Pipeline.ami_analyze - INFO -          Frame 2 of 61\n"
     ]
    },
    {
     "name": "stderr",
     "output_type": "stream",
     "text": [
      "2025-04-01 15:30:37,452 - stpipe.Ami3Pipeline.ami_analyze - INFO -          Identified 0 bad pixels (0.00%)\n"
     ]
    },
    {
     "name": "stderr",
     "output_type": "stream",
     "text": [
      "2025-04-01 15:30:37,453 - stpipe.Ami3Pipeline.ami_analyze - INFO -          22.862\n"
     ]
    },
    {
     "name": "stderr",
     "output_type": "stream",
     "text": [
      "2025-04-01 15:30:37,453 - stpipe.Ami3Pipeline.ami_analyze - INFO -          Iteration 1: 0 new bad pixels, sdev of norm noise = 0.483\n"
     ]
    },
    {
     "name": "stderr",
     "output_type": "stream",
     "text": [
      "2025-04-01 15:30:37,461 - stpipe.Ami3Pipeline.ami_analyze - INFO -          Frame 3 of 61\n"
     ]
    },
    {
     "name": "stderr",
     "output_type": "stream",
     "text": [
      "2025-04-01 15:30:37,470 - stpipe.Ami3Pipeline.ami_analyze - INFO -          Identified 0 bad pixels (0.00%)\n"
     ]
    },
    {
     "name": "stderr",
     "output_type": "stream",
     "text": [
      "2025-04-01 15:30:37,471 - stpipe.Ami3Pipeline.ami_analyze - INFO -          12.121\n"
     ]
    },
    {
     "name": "stderr",
     "output_type": "stream",
     "text": [
      "2025-04-01 15:30:37,472 - stpipe.Ami3Pipeline.ami_analyze - INFO -          Iteration 1: 0 new bad pixels, sdev of norm noise = 0.480\n"
     ]
    },
    {
     "name": "stderr",
     "output_type": "stream",
     "text": [
      "2025-04-01 15:30:37,479 - stpipe.Ami3Pipeline.ami_analyze - INFO -          Frame 4 of 61\n"
     ]
    },
    {
     "name": "stderr",
     "output_type": "stream",
     "text": [
      "2025-04-01 15:30:37,489 - stpipe.Ami3Pipeline.ami_analyze - INFO -          Identified 0 bad pixels (0.00%)\n"
     ]
    },
    {
     "name": "stderr",
     "output_type": "stream",
     "text": [
      "2025-04-01 15:30:37,490 - stpipe.Ami3Pipeline.ami_analyze - INFO -          11.174\n"
     ]
    },
    {
     "name": "stderr",
     "output_type": "stream",
     "text": [
      "2025-04-01 15:30:37,490 - stpipe.Ami3Pipeline.ami_analyze - INFO -          Iteration 1: 0 new bad pixels, sdev of norm noise = 0.488\n"
     ]
    },
    {
     "name": "stderr",
     "output_type": "stream",
     "text": [
      "2025-04-01 15:30:37,498 - stpipe.Ami3Pipeline.ami_analyze - INFO -          Frame 5 of 61\n"
     ]
    },
    {
     "name": "stderr",
     "output_type": "stream",
     "text": [
      "2025-04-01 15:30:37,508 - stpipe.Ami3Pipeline.ami_analyze - INFO -          Identified 0 bad pixels (0.00%)\n"
     ]
    },
    {
     "name": "stderr",
     "output_type": "stream",
     "text": [
      "2025-04-01 15:30:37,508 - stpipe.Ami3Pipeline.ami_analyze - INFO -          15.354\n"
     ]
    },
    {
     "name": "stderr",
     "output_type": "stream",
     "text": [
      "2025-04-01 15:30:37,509 - stpipe.Ami3Pipeline.ami_analyze - INFO -          Iteration 1: 0 new bad pixels, sdev of norm noise = 0.485\n"
     ]
    },
    {
     "name": "stderr",
     "output_type": "stream",
     "text": [
      "2025-04-01 15:30:37,517 - stpipe.Ami3Pipeline.ami_analyze - INFO -          Frame 6 of 61\n"
     ]
    },
    {
     "name": "stderr",
     "output_type": "stream",
     "text": [
      "2025-04-01 15:30:37,527 - stpipe.Ami3Pipeline.ami_analyze - INFO -          Identified 0 bad pixels (0.00%)\n"
     ]
    },
    {
     "name": "stderr",
     "output_type": "stream",
     "text": [
      "2025-04-01 15:30:37,527 - stpipe.Ami3Pipeline.ami_analyze - INFO -          13.997\n"
     ]
    },
    {
     "name": "stderr",
     "output_type": "stream",
     "text": [
      "2025-04-01 15:30:37,528 - stpipe.Ami3Pipeline.ami_analyze - INFO -          Iteration 1: 0 new bad pixels, sdev of norm noise = 0.473\n"
     ]
    },
    {
     "name": "stderr",
     "output_type": "stream",
     "text": [
      "2025-04-01 15:30:37,536 - stpipe.Ami3Pipeline.ami_analyze - INFO -          Frame 7 of 61\n"
     ]
    },
    {
     "name": "stderr",
     "output_type": "stream",
     "text": [
      "2025-04-01 15:30:37,545 - stpipe.Ami3Pipeline.ami_analyze - INFO -          Identified 0 bad pixels (0.00%)\n"
     ]
    },
    {
     "name": "stderr",
     "output_type": "stream",
     "text": [
      "2025-04-01 15:30:37,545 - stpipe.Ami3Pipeline.ami_analyze - INFO -          21.797\n"
     ]
    },
    {
     "name": "stderr",
     "output_type": "stream",
     "text": [
      "2025-04-01 15:30:37,546 - stpipe.Ami3Pipeline.ami_analyze - INFO -          Iteration 1: 0 new bad pixels, sdev of norm noise = 0.478\n"
     ]
    },
    {
     "name": "stderr",
     "output_type": "stream",
     "text": [
      "2025-04-01 15:30:37,553 - stpipe.Ami3Pipeline.ami_analyze - INFO -          Frame 8 of 61\n"
     ]
    },
    {
     "name": "stderr",
     "output_type": "stream",
     "text": [
      "2025-04-01 15:30:37,563 - stpipe.Ami3Pipeline.ami_analyze - INFO -          Identified 0 bad pixels (0.00%)\n"
     ]
    },
    {
     "name": "stderr",
     "output_type": "stream",
     "text": [
      "2025-04-01 15:30:37,564 - stpipe.Ami3Pipeline.ami_analyze - INFO -          16.671\n"
     ]
    },
    {
     "name": "stderr",
     "output_type": "stream",
     "text": [
      "2025-04-01 15:30:37,564 - stpipe.Ami3Pipeline.ami_analyze - INFO -          Iteration 1: 0 new bad pixels, sdev of norm noise = 0.488\n"
     ]
    },
    {
     "name": "stderr",
     "output_type": "stream",
     "text": [
      "2025-04-01 15:30:37,572 - stpipe.Ami3Pipeline.ami_analyze - INFO -          Frame 9 of 61\n"
     ]
    },
    {
     "name": "stderr",
     "output_type": "stream",
     "text": [
      "2025-04-01 15:30:37,582 - stpipe.Ami3Pipeline.ami_analyze - INFO -          Identified 0 bad pixels (0.00%)\n"
     ]
    },
    {
     "name": "stderr",
     "output_type": "stream",
     "text": [
      "2025-04-01 15:30:37,583 - stpipe.Ami3Pipeline.ami_analyze - INFO -          15.619\n"
     ]
    },
    {
     "name": "stderr",
     "output_type": "stream",
     "text": [
      "2025-04-01 15:30:37,584 - stpipe.Ami3Pipeline.ami_analyze - INFO -          Iteration 1: 0 new bad pixels, sdev of norm noise = 0.491\n"
     ]
    },
    {
     "name": "stderr",
     "output_type": "stream",
     "text": [
      "2025-04-01 15:30:37,592 - stpipe.Ami3Pipeline.ami_analyze - INFO -          Frame 10 of 61\n"
     ]
    },
    {
     "name": "stderr",
     "output_type": "stream",
     "text": [
      "2025-04-01 15:30:37,601 - stpipe.Ami3Pipeline.ami_analyze - INFO -          Identified 0 bad pixels (0.00%)\n"
     ]
    },
    {
     "name": "stderr",
     "output_type": "stream",
     "text": [
      "2025-04-01 15:30:37,602 - stpipe.Ami3Pipeline.ami_analyze - INFO -          18.754\n"
     ]
    },
    {
     "name": "stderr",
     "output_type": "stream",
     "text": [
      "2025-04-01 15:30:37,603 - stpipe.Ami3Pipeline.ami_analyze - INFO -          Iteration 1: 0 new bad pixels, sdev of norm noise = 0.486\n"
     ]
    },
    {
     "name": "stderr",
     "output_type": "stream",
     "text": [
      "2025-04-01 15:30:37,611 - stpipe.Ami3Pipeline.ami_analyze - INFO -          Frame 11 of 61\n"
     ]
    },
    {
     "name": "stderr",
     "output_type": "stream",
     "text": [
      "2025-04-01 15:30:37,620 - stpipe.Ami3Pipeline.ami_analyze - INFO -          Identified 0 bad pixels (0.00%)\n"
     ]
    },
    {
     "name": "stderr",
     "output_type": "stream",
     "text": [
      "2025-04-01 15:30:37,621 - stpipe.Ami3Pipeline.ami_analyze - INFO -          16.036\n"
     ]
    },
    {
     "name": "stderr",
     "output_type": "stream",
     "text": [
      "2025-04-01 15:30:37,622 - stpipe.Ami3Pipeline.ami_analyze - INFO -          Iteration 1: 0 new bad pixels, sdev of norm noise = 0.485\n"
     ]
    },
    {
     "name": "stderr",
     "output_type": "stream",
     "text": [
      "2025-04-01 15:30:37,630 - stpipe.Ami3Pipeline.ami_analyze - INFO -          Frame 12 of 61\n"
     ]
    },
    {
     "name": "stderr",
     "output_type": "stream",
     "text": [
      "2025-04-01 15:30:37,641 - stpipe.Ami3Pipeline.ami_analyze - INFO -          Identified 0 bad pixels (0.00%)\n"
     ]
    },
    {
     "name": "stderr",
     "output_type": "stream",
     "text": [
      "2025-04-01 15:30:37,641 - stpipe.Ami3Pipeline.ami_analyze - INFO -          17.051\n"
     ]
    },
    {
     "name": "stderr",
     "output_type": "stream",
     "text": [
      "2025-04-01 15:30:37,642 - stpipe.Ami3Pipeline.ami_analyze - INFO -          Iteration 1: 0 new bad pixels, sdev of norm noise = 0.487\n"
     ]
    },
    {
     "name": "stderr",
     "output_type": "stream",
     "text": [
      "2025-04-01 15:30:37,651 - stpipe.Ami3Pipeline.ami_analyze - INFO -          Frame 13 of 61\n"
     ]
    },
    {
     "name": "stderr",
     "output_type": "stream",
     "text": [
      "2025-04-01 15:30:37,661 - stpipe.Ami3Pipeline.ami_analyze - INFO -          Identified 0 bad pixels (0.00%)\n"
     ]
    },
    {
     "name": "stderr",
     "output_type": "stream",
     "text": [
      "2025-04-01 15:30:37,662 - stpipe.Ami3Pipeline.ami_analyze - INFO -          20.177\n"
     ]
    },
    {
     "name": "stderr",
     "output_type": "stream",
     "text": [
      "2025-04-01 15:30:37,663 - stpipe.Ami3Pipeline.ami_analyze - INFO -          Iteration 1: 0 new bad pixels, sdev of norm noise = 0.484\n"
     ]
    },
    {
     "name": "stderr",
     "output_type": "stream",
     "text": [
      "2025-04-01 15:30:37,671 - stpipe.Ami3Pipeline.ami_analyze - INFO -          Frame 14 of 61\n"
     ]
    },
    {
     "name": "stderr",
     "output_type": "stream",
     "text": [
      "2025-04-01 15:30:37,681 - stpipe.Ami3Pipeline.ami_analyze - INFO -          Identified 0 bad pixels (0.00%)\n"
     ]
    },
    {
     "name": "stderr",
     "output_type": "stream",
     "text": [
      "2025-04-01 15:30:37,682 - stpipe.Ami3Pipeline.ami_analyze - INFO -          11.689\n"
     ]
    },
    {
     "name": "stderr",
     "output_type": "stream",
     "text": [
      "2025-04-01 15:30:37,682 - stpipe.Ami3Pipeline.ami_analyze - INFO -          Iteration 1: 0 new bad pixels, sdev of norm noise = 0.489\n"
     ]
    },
    {
     "name": "stderr",
     "output_type": "stream",
     "text": [
      "2025-04-01 15:30:37,690 - stpipe.Ami3Pipeline.ami_analyze - INFO -          Frame 15 of 61\n"
     ]
    },
    {
     "name": "stderr",
     "output_type": "stream",
     "text": [
      "2025-04-01 15:30:37,700 - stpipe.Ami3Pipeline.ami_analyze - INFO -          Identified 0 bad pixels (0.00%)\n"
     ]
    },
    {
     "name": "stderr",
     "output_type": "stream",
     "text": [
      "2025-04-01 15:30:37,701 - stpipe.Ami3Pipeline.ami_analyze - INFO -          18.471\n"
     ]
    },
    {
     "name": "stderr",
     "output_type": "stream",
     "text": [
      "2025-04-01 15:30:37,702 - stpipe.Ami3Pipeline.ami_analyze - INFO -          Iteration 1: 0 new bad pixels, sdev of norm noise = 0.492\n"
     ]
    },
    {
     "name": "stderr",
     "output_type": "stream",
     "text": [
      "2025-04-01 15:30:37,709 - stpipe.Ami3Pipeline.ami_analyze - INFO -          Frame 16 of 61\n"
     ]
    },
    {
     "name": "stderr",
     "output_type": "stream",
     "text": [
      "2025-04-01 15:30:37,719 - stpipe.Ami3Pipeline.ami_analyze - INFO -          Identified 0 bad pixels (0.00%)\n"
     ]
    },
    {
     "name": "stderr",
     "output_type": "stream",
     "text": [
      "2025-04-01 15:30:37,720 - stpipe.Ami3Pipeline.ami_analyze - INFO -          15.861\n"
     ]
    },
    {
     "name": "stderr",
     "output_type": "stream",
     "text": [
      "2025-04-01 15:30:37,720 - stpipe.Ami3Pipeline.ami_analyze - INFO -          Iteration 1: 0 new bad pixels, sdev of norm noise = 0.478\n"
     ]
    },
    {
     "name": "stderr",
     "output_type": "stream",
     "text": [
      "2025-04-01 15:30:37,728 - stpipe.Ami3Pipeline.ami_analyze - INFO -          Frame 17 of 61\n"
     ]
    },
    {
     "name": "stderr",
     "output_type": "stream",
     "text": [
      "2025-04-01 15:30:37,738 - stpipe.Ami3Pipeline.ami_analyze - INFO -          Identified 0 bad pixels (0.00%)\n"
     ]
    },
    {
     "name": "stderr",
     "output_type": "stream",
     "text": [
      "2025-04-01 15:30:37,739 - stpipe.Ami3Pipeline.ami_analyze - INFO -          15.690\n"
     ]
    },
    {
     "name": "stderr",
     "output_type": "stream",
     "text": [
      "2025-04-01 15:30:37,739 - stpipe.Ami3Pipeline.ami_analyze - INFO -          Iteration 1: 0 new bad pixels, sdev of norm noise = 0.488\n"
     ]
    },
    {
     "name": "stderr",
     "output_type": "stream",
     "text": [
      "2025-04-01 15:30:37,747 - stpipe.Ami3Pipeline.ami_analyze - INFO -          Frame 18 of 61\n"
     ]
    },
    {
     "name": "stderr",
     "output_type": "stream",
     "text": [
      "2025-04-01 15:30:37,757 - stpipe.Ami3Pipeline.ami_analyze - INFO -          Identified 0 bad pixels (0.00%)\n"
     ]
    },
    {
     "name": "stderr",
     "output_type": "stream",
     "text": [
      "2025-04-01 15:30:37,758 - stpipe.Ami3Pipeline.ami_analyze - INFO -          20.713\n"
     ]
    },
    {
     "name": "stderr",
     "output_type": "stream",
     "text": [
      "2025-04-01 15:30:37,758 - stpipe.Ami3Pipeline.ami_analyze - INFO -          Iteration 1: 0 new bad pixels, sdev of norm noise = 0.481\n"
     ]
    },
    {
     "name": "stderr",
     "output_type": "stream",
     "text": [
      "2025-04-01 15:30:37,766 - stpipe.Ami3Pipeline.ami_analyze - INFO -          Frame 19 of 61\n"
     ]
    },
    {
     "name": "stderr",
     "output_type": "stream",
     "text": [
      "2025-04-01 15:30:37,775 - stpipe.Ami3Pipeline.ami_analyze - INFO -          Identified 0 bad pixels (0.00%)\n"
     ]
    },
    {
     "name": "stderr",
     "output_type": "stream",
     "text": [
      "2025-04-01 15:30:37,776 - stpipe.Ami3Pipeline.ami_analyze - INFO -          18.397\n"
     ]
    },
    {
     "name": "stderr",
     "output_type": "stream",
     "text": [
      "2025-04-01 15:30:37,777 - stpipe.Ami3Pipeline.ami_analyze - INFO -          Iteration 1: 0 new bad pixels, sdev of norm noise = 0.489\n"
     ]
    },
    {
     "name": "stderr",
     "output_type": "stream",
     "text": [
      "2025-04-01 15:30:37,784 - stpipe.Ami3Pipeline.ami_analyze - INFO -          Frame 20 of 61\n"
     ]
    },
    {
     "name": "stderr",
     "output_type": "stream",
     "text": [
      "2025-04-01 15:30:37,794 - stpipe.Ami3Pipeline.ami_analyze - INFO -          Identified 0 bad pixels (0.00%)\n"
     ]
    },
    {
     "name": "stderr",
     "output_type": "stream",
     "text": [
      "2025-04-01 15:30:37,795 - stpipe.Ami3Pipeline.ami_analyze - INFO -          14.549\n"
     ]
    },
    {
     "name": "stderr",
     "output_type": "stream",
     "text": [
      "2025-04-01 15:30:37,795 - stpipe.Ami3Pipeline.ami_analyze - INFO -          Iteration 1: 0 new bad pixels, sdev of norm noise = 0.492\n"
     ]
    },
    {
     "name": "stderr",
     "output_type": "stream",
     "text": [
      "2025-04-01 15:30:37,804 - stpipe.Ami3Pipeline.ami_analyze - INFO -          Frame 21 of 61\n"
     ]
    },
    {
     "name": "stderr",
     "output_type": "stream",
     "text": [
      "2025-04-01 15:30:37,814 - stpipe.Ami3Pipeline.ami_analyze - INFO -          Identified 0 bad pixels (0.00%)\n"
     ]
    },
    {
     "name": "stderr",
     "output_type": "stream",
     "text": [
      "2025-04-01 15:30:37,815 - stpipe.Ami3Pipeline.ami_analyze - INFO -          13.515\n"
     ]
    },
    {
     "name": "stderr",
     "output_type": "stream",
     "text": [
      "2025-04-01 15:30:37,816 - stpipe.Ami3Pipeline.ami_analyze - INFO -          Iteration 1: 0 new bad pixels, sdev of norm noise = 0.477\n"
     ]
    },
    {
     "name": "stderr",
     "output_type": "stream",
     "text": [
      "2025-04-01 15:30:37,824 - stpipe.Ami3Pipeline.ami_analyze - INFO -          Frame 22 of 61\n"
     ]
    },
    {
     "name": "stderr",
     "output_type": "stream",
     "text": [
      "2025-04-01 15:30:37,834 - stpipe.Ami3Pipeline.ami_analyze - INFO -          Identified 0 bad pixels (0.00%)\n"
     ]
    },
    {
     "name": "stderr",
     "output_type": "stream",
     "text": [
      "2025-04-01 15:30:37,835 - stpipe.Ami3Pipeline.ami_analyze - INFO -          15.747\n"
     ]
    },
    {
     "name": "stderr",
     "output_type": "stream",
     "text": [
      "2025-04-01 15:30:37,835 - stpipe.Ami3Pipeline.ami_analyze - INFO -          Iteration 1: 0 new bad pixels, sdev of norm noise = 0.492\n"
     ]
    },
    {
     "name": "stderr",
     "output_type": "stream",
     "text": [
      "2025-04-01 15:30:37,843 - stpipe.Ami3Pipeline.ami_analyze - INFO -          Frame 23 of 61\n"
     ]
    },
    {
     "name": "stderr",
     "output_type": "stream",
     "text": [
      "2025-04-01 15:30:37,852 - stpipe.Ami3Pipeline.ami_analyze - INFO -          Identified 0 bad pixels (0.00%)\n"
     ]
    },
    {
     "name": "stderr",
     "output_type": "stream",
     "text": [
      "2025-04-01 15:30:37,853 - stpipe.Ami3Pipeline.ami_analyze - INFO -          17.076\n"
     ]
    },
    {
     "name": "stderr",
     "output_type": "stream",
     "text": [
      "2025-04-01 15:30:37,854 - stpipe.Ami3Pipeline.ami_analyze - INFO -          Iteration 1: 0 new bad pixels, sdev of norm noise = 0.472\n"
     ]
    },
    {
     "name": "stderr",
     "output_type": "stream",
     "text": [
      "2025-04-01 15:30:37,861 - stpipe.Ami3Pipeline.ami_analyze - INFO -          Frame 24 of 61\n"
     ]
    },
    {
     "name": "stderr",
     "output_type": "stream",
     "text": [
      "2025-04-01 15:30:37,871 - stpipe.Ami3Pipeline.ami_analyze - INFO -          Identified 0 bad pixels (0.00%)\n"
     ]
    },
    {
     "name": "stderr",
     "output_type": "stream",
     "text": [
      "2025-04-01 15:30:37,872 - stpipe.Ami3Pipeline.ami_analyze - INFO -          12.451\n"
     ]
    },
    {
     "name": "stderr",
     "output_type": "stream",
     "text": [
      "2025-04-01 15:30:37,872 - stpipe.Ami3Pipeline.ami_analyze - INFO -          Iteration 1: 0 new bad pixels, sdev of norm noise = 0.485\n"
     ]
    },
    {
     "name": "stderr",
     "output_type": "stream",
     "text": [
      "2025-04-01 15:30:37,880 - stpipe.Ami3Pipeline.ami_analyze - INFO -          Frame 25 of 61\n"
     ]
    },
    {
     "name": "stderr",
     "output_type": "stream",
     "text": [
      "2025-04-01 15:30:37,890 - stpipe.Ami3Pipeline.ami_analyze - INFO -          Identified 0 bad pixels (0.00%)\n"
     ]
    },
    {
     "name": "stderr",
     "output_type": "stream",
     "text": [
      "2025-04-01 15:30:37,891 - stpipe.Ami3Pipeline.ami_analyze - INFO -          15.394\n"
     ]
    },
    {
     "name": "stderr",
     "output_type": "stream",
     "text": [
      "2025-04-01 15:30:37,892 - stpipe.Ami3Pipeline.ami_analyze - INFO -          Iteration 1: 0 new bad pixels, sdev of norm noise = 0.483\n"
     ]
    },
    {
     "name": "stderr",
     "output_type": "stream",
     "text": [
      "2025-04-01 15:30:37,900 - stpipe.Ami3Pipeline.ami_analyze - INFO -          Frame 26 of 61\n"
     ]
    },
    {
     "name": "stderr",
     "output_type": "stream",
     "text": [
      "2025-04-01 15:30:37,909 - stpipe.Ami3Pipeline.ami_analyze - INFO -          Identified 0 bad pixels (0.00%)\n"
     ]
    },
    {
     "name": "stderr",
     "output_type": "stream",
     "text": [
      "2025-04-01 15:30:37,910 - stpipe.Ami3Pipeline.ami_analyze - INFO -          12.605\n"
     ]
    },
    {
     "name": "stderr",
     "output_type": "stream",
     "text": [
      "2025-04-01 15:30:37,911 - stpipe.Ami3Pipeline.ami_analyze - INFO -          Iteration 1: 0 new bad pixels, sdev of norm noise = 0.481\n"
     ]
    },
    {
     "name": "stderr",
     "output_type": "stream",
     "text": [
      "2025-04-01 15:30:37,918 - stpipe.Ami3Pipeline.ami_analyze - INFO -          Frame 27 of 61\n"
     ]
    },
    {
     "name": "stderr",
     "output_type": "stream",
     "text": [
      "2025-04-01 15:30:37,928 - stpipe.Ami3Pipeline.ami_analyze - INFO -          Identified 0 bad pixels (0.00%)\n"
     ]
    },
    {
     "name": "stderr",
     "output_type": "stream",
     "text": [
      "2025-04-01 15:30:37,929 - stpipe.Ami3Pipeline.ami_analyze - INFO -          17.473\n"
     ]
    },
    {
     "name": "stderr",
     "output_type": "stream",
     "text": [
      "2025-04-01 15:30:37,929 - stpipe.Ami3Pipeline.ami_analyze - INFO -          Iteration 1: 0 new bad pixels, sdev of norm noise = 0.480\n"
     ]
    },
    {
     "name": "stderr",
     "output_type": "stream",
     "text": [
      "2025-04-01 15:30:37,938 - stpipe.Ami3Pipeline.ami_analyze - INFO -          Frame 28 of 61\n"
     ]
    },
    {
     "name": "stderr",
     "output_type": "stream",
     "text": [
      "2025-04-01 15:30:37,948 - stpipe.Ami3Pipeline.ami_analyze - INFO -          Identified 0 bad pixels (0.00%)\n"
     ]
    },
    {
     "name": "stderr",
     "output_type": "stream",
     "text": [
      "2025-04-01 15:30:37,950 - stpipe.Ami3Pipeline.ami_analyze - INFO -          18.035\n"
     ]
    },
    {
     "name": "stderr",
     "output_type": "stream",
     "text": [
      "2025-04-01 15:30:37,950 - stpipe.Ami3Pipeline.ami_analyze - INFO -          Iteration 1: 0 new bad pixels, sdev of norm noise = 0.491\n"
     ]
    },
    {
     "name": "stderr",
     "output_type": "stream",
     "text": [
      "2025-04-01 15:30:37,959 - stpipe.Ami3Pipeline.ami_analyze - INFO -          Frame 29 of 61\n"
     ]
    },
    {
     "name": "stderr",
     "output_type": "stream",
     "text": [
      "2025-04-01 15:30:37,969 - stpipe.Ami3Pipeline.ami_analyze - INFO -          Identified 0 bad pixels (0.00%)\n"
     ]
    },
    {
     "name": "stderr",
     "output_type": "stream",
     "text": [
      "2025-04-01 15:30:37,970 - stpipe.Ami3Pipeline.ami_analyze - INFO -          16.665\n"
     ]
    },
    {
     "name": "stderr",
     "output_type": "stream",
     "text": [
      "2025-04-01 15:30:37,972 - stpipe.Ami3Pipeline.ami_analyze - INFO -          Iteration 1: 0 new bad pixels, sdev of norm noise = 0.473\n"
     ]
    },
    {
     "name": "stderr",
     "output_type": "stream",
     "text": [
      "2025-04-01 15:30:37,980 - stpipe.Ami3Pipeline.ami_analyze - INFO -          Frame 30 of 61\n"
     ]
    },
    {
     "name": "stderr",
     "output_type": "stream",
     "text": [
      "2025-04-01 15:30:37,991 - stpipe.Ami3Pipeline.ami_analyze - INFO -          Identified 0 bad pixels (0.00%)\n"
     ]
    },
    {
     "name": "stderr",
     "output_type": "stream",
     "text": [
      "2025-04-01 15:30:37,992 - stpipe.Ami3Pipeline.ami_analyze - INFO -          21.167\n"
     ]
    },
    {
     "name": "stderr",
     "output_type": "stream",
     "text": [
      "2025-04-01 15:30:37,993 - stpipe.Ami3Pipeline.ami_analyze - INFO -          Iteration 1: 0 new bad pixels, sdev of norm noise = 0.486\n"
     ]
    },
    {
     "name": "stderr",
     "output_type": "stream",
     "text": [
      "2025-04-01 15:30:38,002 - stpipe.Ami3Pipeline.ami_analyze - INFO -          Frame 31 of 61\n"
     ]
    },
    {
     "name": "stderr",
     "output_type": "stream",
     "text": [
      "2025-04-01 15:30:38,012 - stpipe.Ami3Pipeline.ami_analyze - INFO -          Identified 0 bad pixels (0.00%)\n"
     ]
    },
    {
     "name": "stderr",
     "output_type": "stream",
     "text": [
      "2025-04-01 15:30:38,013 - stpipe.Ami3Pipeline.ami_analyze - INFO -          13.254\n"
     ]
    },
    {
     "name": "stderr",
     "output_type": "stream",
     "text": [
      "2025-04-01 15:30:38,014 - stpipe.Ami3Pipeline.ami_analyze - INFO -          Iteration 1: 0 new bad pixels, sdev of norm noise = 0.476\n"
     ]
    },
    {
     "name": "stderr",
     "output_type": "stream",
     "text": [
      "2025-04-01 15:30:38,022 - stpipe.Ami3Pipeline.ami_analyze - INFO -          Frame 32 of 61\n"
     ]
    },
    {
     "name": "stderr",
     "output_type": "stream",
     "text": [
      "2025-04-01 15:30:38,032 - stpipe.Ami3Pipeline.ami_analyze - INFO -          Identified 0 bad pixels (0.00%)\n"
     ]
    },
    {
     "name": "stderr",
     "output_type": "stream",
     "text": [
      "2025-04-01 15:30:38,034 - stpipe.Ami3Pipeline.ami_analyze - INFO -          13.951\n"
     ]
    },
    {
     "name": "stderr",
     "output_type": "stream",
     "text": [
      "2025-04-01 15:30:38,035 - stpipe.Ami3Pipeline.ami_analyze - INFO -          Iteration 1: 0 new bad pixels, sdev of norm noise = 0.479\n"
     ]
    },
    {
     "name": "stderr",
     "output_type": "stream",
     "text": [
      "2025-04-01 15:30:38,043 - stpipe.Ami3Pipeline.ami_analyze - INFO -          Frame 33 of 61\n"
     ]
    },
    {
     "name": "stderr",
     "output_type": "stream",
     "text": [
      "2025-04-01 15:30:38,053 - stpipe.Ami3Pipeline.ami_analyze - INFO -          Identified 0 bad pixels (0.00%)\n"
     ]
    },
    {
     "name": "stderr",
     "output_type": "stream",
     "text": [
      "2025-04-01 15:30:38,055 - stpipe.Ami3Pipeline.ami_analyze - INFO -          16.822\n"
     ]
    },
    {
     "name": "stderr",
     "output_type": "stream",
     "text": [
      "2025-04-01 15:30:38,056 - stpipe.Ami3Pipeline.ami_analyze - INFO -          Iteration 1: 0 new bad pixels, sdev of norm noise = 0.475\n"
     ]
    },
    {
     "name": "stderr",
     "output_type": "stream",
     "text": [
      "2025-04-01 15:30:38,064 - stpipe.Ami3Pipeline.ami_analyze - INFO -          Frame 34 of 61\n"
     ]
    },
    {
     "name": "stderr",
     "output_type": "stream",
     "text": [
      "2025-04-01 15:30:38,075 - stpipe.Ami3Pipeline.ami_analyze - INFO -          Identified 0 bad pixels (0.00%)\n"
     ]
    },
    {
     "name": "stderr",
     "output_type": "stream",
     "text": [
      "2025-04-01 15:30:38,076 - stpipe.Ami3Pipeline.ami_analyze - INFO -          24.606\n"
     ]
    },
    {
     "name": "stderr",
     "output_type": "stream",
     "text": [
      "2025-04-01 15:30:38,077 - stpipe.Ami3Pipeline.ami_analyze - INFO -          Iteration 1: 0 new bad pixels, sdev of norm noise = 0.498\n"
     ]
    },
    {
     "name": "stderr",
     "output_type": "stream",
     "text": [
      "2025-04-01 15:30:38,086 - stpipe.Ami3Pipeline.ami_analyze - INFO -          Frame 35 of 61\n"
     ]
    },
    {
     "name": "stderr",
     "output_type": "stream",
     "text": [
      "2025-04-01 15:30:38,097 - stpipe.Ami3Pipeline.ami_analyze - INFO -          Identified 0 bad pixels (0.00%)\n"
     ]
    },
    {
     "name": "stderr",
     "output_type": "stream",
     "text": [
      "2025-04-01 15:30:38,098 - stpipe.Ami3Pipeline.ami_analyze - INFO -          18.088\n"
     ]
    },
    {
     "name": "stderr",
     "output_type": "stream",
     "text": [
      "2025-04-01 15:30:38,099 - stpipe.Ami3Pipeline.ami_analyze - INFO -          Iteration 1: 0 new bad pixels, sdev of norm noise = 0.486\n"
     ]
    },
    {
     "name": "stderr",
     "output_type": "stream",
     "text": [
      "2025-04-01 15:30:38,111 - stpipe.Ami3Pipeline.ami_analyze - INFO -          Frame 36 of 61\n"
     ]
    },
    {
     "name": "stderr",
     "output_type": "stream",
     "text": [
      "2025-04-01 15:30:38,121 - stpipe.Ami3Pipeline.ami_analyze - INFO -          Identified 0 bad pixels (0.00%)\n"
     ]
    },
    {
     "name": "stderr",
     "output_type": "stream",
     "text": [
      "2025-04-01 15:30:38,122 - stpipe.Ami3Pipeline.ami_analyze - INFO -          13.812\n"
     ]
    },
    {
     "name": "stderr",
     "output_type": "stream",
     "text": [
      "2025-04-01 15:30:38,124 - stpipe.Ami3Pipeline.ami_analyze - INFO -          Iteration 1: 0 new bad pixels, sdev of norm noise = 0.486\n"
     ]
    },
    {
     "name": "stderr",
     "output_type": "stream",
     "text": [
      "2025-04-01 15:30:38,132 - stpipe.Ami3Pipeline.ami_analyze - INFO -          Frame 37 of 61\n"
     ]
    },
    {
     "name": "stderr",
     "output_type": "stream",
     "text": [
      "2025-04-01 15:30:38,143 - stpipe.Ami3Pipeline.ami_analyze - INFO -          Identified 0 bad pixels (0.00%)\n"
     ]
    },
    {
     "name": "stderr",
     "output_type": "stream",
     "text": [
      "2025-04-01 15:30:38,144 - stpipe.Ami3Pipeline.ami_analyze - INFO -          17.847\n"
     ]
    },
    {
     "name": "stderr",
     "output_type": "stream",
     "text": [
      "2025-04-01 15:30:38,145 - stpipe.Ami3Pipeline.ami_analyze - INFO -          Iteration 1: 0 new bad pixels, sdev of norm noise = 0.468\n"
     ]
    },
    {
     "name": "stderr",
     "output_type": "stream",
     "text": [
      "2025-04-01 15:30:38,153 - stpipe.Ami3Pipeline.ami_analyze - INFO -          Frame 38 of 61\n"
     ]
    },
    {
     "name": "stderr",
     "output_type": "stream",
     "text": [
      "2025-04-01 15:30:38,164 - stpipe.Ami3Pipeline.ami_analyze - INFO -          Identified 0 bad pixels (0.00%)\n"
     ]
    },
    {
     "name": "stderr",
     "output_type": "stream",
     "text": [
      "2025-04-01 15:30:38,165 - stpipe.Ami3Pipeline.ami_analyze - INFO -          16.952\n"
     ]
    },
    {
     "name": "stderr",
     "output_type": "stream",
     "text": [
      "2025-04-01 15:30:38,166 - stpipe.Ami3Pipeline.ami_analyze - INFO -          Iteration 1: 0 new bad pixels, sdev of norm noise = 0.497\n"
     ]
    },
    {
     "name": "stderr",
     "output_type": "stream",
     "text": [
      "2025-04-01 15:30:38,174 - stpipe.Ami3Pipeline.ami_analyze - INFO -          Frame 39 of 61\n"
     ]
    },
    {
     "name": "stderr",
     "output_type": "stream",
     "text": [
      "2025-04-01 15:30:38,184 - stpipe.Ami3Pipeline.ami_analyze - INFO -          Identified 0 bad pixels (0.00%)\n"
     ]
    },
    {
     "name": "stderr",
     "output_type": "stream",
     "text": [
      "2025-04-01 15:30:38,185 - stpipe.Ami3Pipeline.ami_analyze - INFO -          14.905\n"
     ]
    },
    {
     "name": "stderr",
     "output_type": "stream",
     "text": [
      "2025-04-01 15:30:38,187 - stpipe.Ami3Pipeline.ami_analyze - INFO -          Iteration 1: 0 new bad pixels, sdev of norm noise = 0.480\n"
     ]
    },
    {
     "name": "stderr",
     "output_type": "stream",
     "text": [
      "2025-04-01 15:30:38,195 - stpipe.Ami3Pipeline.ami_analyze - INFO -          Frame 40 of 61\n"
     ]
    },
    {
     "name": "stderr",
     "output_type": "stream",
     "text": [
      "2025-04-01 15:30:38,205 - stpipe.Ami3Pipeline.ami_analyze - INFO -          Identified 0 bad pixels (0.00%)\n"
     ]
    },
    {
     "name": "stderr",
     "output_type": "stream",
     "text": [
      "2025-04-01 15:30:38,206 - stpipe.Ami3Pipeline.ami_analyze - INFO -          22.427\n"
     ]
    },
    {
     "name": "stderr",
     "output_type": "stream",
     "text": [
      "2025-04-01 15:30:38,207 - stpipe.Ami3Pipeline.ami_analyze - INFO -          Iteration 1: 0 new bad pixels, sdev of norm noise = 0.493\n"
     ]
    },
    {
     "name": "stderr",
     "output_type": "stream",
     "text": [
      "2025-04-01 15:30:38,215 - stpipe.Ami3Pipeline.ami_analyze - INFO -          Frame 41 of 61\n"
     ]
    },
    {
     "name": "stderr",
     "output_type": "stream",
     "text": [
      "2025-04-01 15:30:38,225 - stpipe.Ami3Pipeline.ami_analyze - INFO -          Identified 0 bad pixels (0.00%)\n"
     ]
    },
    {
     "name": "stderr",
     "output_type": "stream",
     "text": [
      "2025-04-01 15:30:38,226 - stpipe.Ami3Pipeline.ami_analyze - INFO -          16.268\n"
     ]
    },
    {
     "name": "stderr",
     "output_type": "stream",
     "text": [
      "2025-04-01 15:30:38,227 - stpipe.Ami3Pipeline.ami_analyze - INFO -          Iteration 1: 0 new bad pixels, sdev of norm noise = 0.476\n"
     ]
    },
    {
     "name": "stderr",
     "output_type": "stream",
     "text": [
      "2025-04-01 15:30:38,235 - stpipe.Ami3Pipeline.ami_analyze - INFO -          Frame 42 of 61\n"
     ]
    },
    {
     "name": "stderr",
     "output_type": "stream",
     "text": [
      "2025-04-01 15:30:38,245 - stpipe.Ami3Pipeline.ami_analyze - INFO -          Identified 0 bad pixels (0.00%)\n"
     ]
    },
    {
     "name": "stderr",
     "output_type": "stream",
     "text": [
      "2025-04-01 15:30:38,246 - stpipe.Ami3Pipeline.ami_analyze - INFO -          18.374\n"
     ]
    },
    {
     "name": "stderr",
     "output_type": "stream",
     "text": [
      "2025-04-01 15:30:38,247 - stpipe.Ami3Pipeline.ami_analyze - INFO -          Iteration 1: 0 new bad pixels, sdev of norm noise = 0.483\n"
     ]
    },
    {
     "name": "stderr",
     "output_type": "stream",
     "text": [
      "2025-04-01 15:30:38,255 - stpipe.Ami3Pipeline.ami_analyze - INFO -          Frame 43 of 61\n"
     ]
    },
    {
     "name": "stderr",
     "output_type": "stream",
     "text": [
      "2025-04-01 15:30:38,266 - stpipe.Ami3Pipeline.ami_analyze - INFO -          Identified 0 bad pixels (0.00%)\n"
     ]
    },
    {
     "name": "stderr",
     "output_type": "stream",
     "text": [
      "2025-04-01 15:30:38,267 - stpipe.Ami3Pipeline.ami_analyze - INFO -          13.020\n"
     ]
    },
    {
     "name": "stderr",
     "output_type": "stream",
     "text": [
      "2025-04-01 15:30:38,267 - stpipe.Ami3Pipeline.ami_analyze - INFO -          Iteration 1: 0 new bad pixels, sdev of norm noise = 0.482\n"
     ]
    },
    {
     "name": "stderr",
     "output_type": "stream",
     "text": [
      "2025-04-01 15:30:38,276 - stpipe.Ami3Pipeline.ami_analyze - INFO -          Frame 44 of 61\n"
     ]
    },
    {
     "name": "stderr",
     "output_type": "stream",
     "text": [
      "2025-04-01 15:30:38,286 - stpipe.Ami3Pipeline.ami_analyze - INFO -          Identified 0 bad pixels (0.00%)\n"
     ]
    },
    {
     "name": "stderr",
     "output_type": "stream",
     "text": [
      "2025-04-01 15:30:38,287 - stpipe.Ami3Pipeline.ami_analyze - INFO -          20.995\n"
     ]
    },
    {
     "name": "stderr",
     "output_type": "stream",
     "text": [
      "2025-04-01 15:30:38,288 - stpipe.Ami3Pipeline.ami_analyze - INFO -          Iteration 1: 0 new bad pixels, sdev of norm noise = 0.488\n"
     ]
    },
    {
     "name": "stderr",
     "output_type": "stream",
     "text": [
      "2025-04-01 15:30:38,296 - stpipe.Ami3Pipeline.ami_analyze - INFO -          Frame 45 of 61\n"
     ]
    },
    {
     "name": "stderr",
     "output_type": "stream",
     "text": [
      "2025-04-01 15:30:38,307 - stpipe.Ami3Pipeline.ami_analyze - INFO -          Identified 0 bad pixels (0.00%)\n"
     ]
    },
    {
     "name": "stderr",
     "output_type": "stream",
     "text": [
      "2025-04-01 15:30:38,308 - stpipe.Ami3Pipeline.ami_analyze - INFO -          19.842\n"
     ]
    },
    {
     "name": "stderr",
     "output_type": "stream",
     "text": [
      "2025-04-01 15:30:38,309 - stpipe.Ami3Pipeline.ami_analyze - INFO -          Iteration 1: 0 new bad pixels, sdev of norm noise = 0.476\n"
     ]
    },
    {
     "name": "stderr",
     "output_type": "stream",
     "text": [
      "2025-04-01 15:30:38,318 - stpipe.Ami3Pipeline.ami_analyze - INFO -          Frame 46 of 61\n"
     ]
    },
    {
     "name": "stderr",
     "output_type": "stream",
     "text": [
      "2025-04-01 15:30:38,328 - stpipe.Ami3Pipeline.ami_analyze - INFO -          Identified 0 bad pixels (0.00%)\n"
     ]
    },
    {
     "name": "stderr",
     "output_type": "stream",
     "text": [
      "2025-04-01 15:30:38,329 - stpipe.Ami3Pipeline.ami_analyze - INFO -          17.254\n"
     ]
    },
    {
     "name": "stderr",
     "output_type": "stream",
     "text": [
      "2025-04-01 15:30:38,330 - stpipe.Ami3Pipeline.ami_analyze - INFO -          Iteration 1: 0 new bad pixels, sdev of norm noise = 0.475\n"
     ]
    },
    {
     "name": "stderr",
     "output_type": "stream",
     "text": [
      "2025-04-01 15:30:38,339 - stpipe.Ami3Pipeline.ami_analyze - INFO -          Frame 47 of 61\n"
     ]
    },
    {
     "name": "stderr",
     "output_type": "stream",
     "text": [
      "2025-04-01 15:30:38,348 - stpipe.Ami3Pipeline.ami_analyze - INFO -          Identified 0 bad pixels (0.00%)\n"
     ]
    },
    {
     "name": "stderr",
     "output_type": "stream",
     "text": [
      "2025-04-01 15:30:38,350 - stpipe.Ami3Pipeline.ami_analyze - INFO -          16.425\n"
     ]
    },
    {
     "name": "stderr",
     "output_type": "stream",
     "text": [
      "2025-04-01 15:30:38,351 - stpipe.Ami3Pipeline.ami_analyze - INFO -          Iteration 1: 0 new bad pixels, sdev of norm noise = 0.486\n"
     ]
    },
    {
     "name": "stderr",
     "output_type": "stream",
     "text": [
      "2025-04-01 15:30:38,359 - stpipe.Ami3Pipeline.ami_analyze - INFO -          Frame 48 of 61\n"
     ]
    },
    {
     "name": "stderr",
     "output_type": "stream",
     "text": [
      "2025-04-01 15:30:38,369 - stpipe.Ami3Pipeline.ami_analyze - INFO -          Identified 0 bad pixels (0.00%)\n"
     ]
    },
    {
     "name": "stderr",
     "output_type": "stream",
     "text": [
      "2025-04-01 15:30:38,370 - stpipe.Ami3Pipeline.ami_analyze - INFO -          17.479\n"
     ]
    },
    {
     "name": "stderr",
     "output_type": "stream",
     "text": [
      "2025-04-01 15:30:38,372 - stpipe.Ami3Pipeline.ami_analyze - INFO -          Iteration 1: 0 new bad pixels, sdev of norm noise = 0.473\n"
     ]
    },
    {
     "name": "stderr",
     "output_type": "stream",
     "text": [
      "2025-04-01 15:30:38,381 - stpipe.Ami3Pipeline.ami_analyze - INFO -          Frame 49 of 61\n"
     ]
    },
    {
     "name": "stderr",
     "output_type": "stream",
     "text": [
      "2025-04-01 15:30:38,391 - stpipe.Ami3Pipeline.ami_analyze - INFO -          Identified 0 bad pixels (0.00%)\n"
     ]
    },
    {
     "name": "stderr",
     "output_type": "stream",
     "text": [
      "2025-04-01 15:30:38,392 - stpipe.Ami3Pipeline.ami_analyze - INFO -          16.178\n"
     ]
    },
    {
     "name": "stderr",
     "output_type": "stream",
     "text": [
      "2025-04-01 15:30:38,394 - stpipe.Ami3Pipeline.ami_analyze - INFO -          Iteration 1: 0 new bad pixels, sdev of norm noise = 0.487\n"
     ]
    },
    {
     "name": "stderr",
     "output_type": "stream",
     "text": [
      "2025-04-01 15:30:38,402 - stpipe.Ami3Pipeline.ami_analyze - INFO -          Frame 50 of 61\n"
     ]
    },
    {
     "name": "stderr",
     "output_type": "stream",
     "text": [
      "2025-04-01 15:30:38,412 - stpipe.Ami3Pipeline.ami_analyze - INFO -          Identified 0 bad pixels (0.00%)\n"
     ]
    },
    {
     "name": "stderr",
     "output_type": "stream",
     "text": [
      "2025-04-01 15:30:38,414 - stpipe.Ami3Pipeline.ami_analyze - INFO -          16.644\n"
     ]
    },
    {
     "name": "stderr",
     "output_type": "stream",
     "text": [
      "2025-04-01 15:30:38,414 - stpipe.Ami3Pipeline.ami_analyze - INFO -          Iteration 1: 0 new bad pixels, sdev of norm noise = 0.481\n"
     ]
    },
    {
     "name": "stderr",
     "output_type": "stream",
     "text": [
      "2025-04-01 15:30:38,423 - stpipe.Ami3Pipeline.ami_analyze - INFO -          Frame 51 of 61\n"
     ]
    },
    {
     "name": "stderr",
     "output_type": "stream",
     "text": [
      "2025-04-01 15:30:38,433 - stpipe.Ami3Pipeline.ami_analyze - INFO -          Identified 0 bad pixels (0.00%)\n"
     ]
    },
    {
     "name": "stderr",
     "output_type": "stream",
     "text": [
      "2025-04-01 15:30:38,435 - stpipe.Ami3Pipeline.ami_analyze - INFO -          13.191\n"
     ]
    },
    {
     "name": "stderr",
     "output_type": "stream",
     "text": [
      "2025-04-01 15:30:38,436 - stpipe.Ami3Pipeline.ami_analyze - INFO -          Iteration 1: 0 new bad pixels, sdev of norm noise = 0.485\n"
     ]
    },
    {
     "name": "stderr",
     "output_type": "stream",
     "text": [
      "2025-04-01 15:30:38,443 - stpipe.Ami3Pipeline.ami_analyze - INFO -          Frame 52 of 61\n"
     ]
    },
    {
     "name": "stderr",
     "output_type": "stream",
     "text": [
      "2025-04-01 15:30:38,453 - stpipe.Ami3Pipeline.ami_analyze - INFO -          Identified 0 bad pixels (0.00%)\n"
     ]
    },
    {
     "name": "stderr",
     "output_type": "stream",
     "text": [
      "2025-04-01 15:30:38,454 - stpipe.Ami3Pipeline.ami_analyze - INFO -          17.415\n"
     ]
    },
    {
     "name": "stderr",
     "output_type": "stream",
     "text": [
      "2025-04-01 15:30:38,456 - stpipe.Ami3Pipeline.ami_analyze - INFO -          Iteration 1: 0 new bad pixels, sdev of norm noise = 0.475\n"
     ]
    },
    {
     "name": "stderr",
     "output_type": "stream",
     "text": [
      "2025-04-01 15:30:38,463 - stpipe.Ami3Pipeline.ami_analyze - INFO -          Frame 53 of 61\n"
     ]
    },
    {
     "name": "stderr",
     "output_type": "stream",
     "text": [
      "2025-04-01 15:30:38,474 - stpipe.Ami3Pipeline.ami_analyze - INFO -          Identified 0 bad pixels (0.00%)\n"
     ]
    },
    {
     "name": "stderr",
     "output_type": "stream",
     "text": [
      "2025-04-01 15:30:38,475 - stpipe.Ami3Pipeline.ami_analyze - INFO -          16.433\n"
     ]
    },
    {
     "name": "stderr",
     "output_type": "stream",
     "text": [
      "2025-04-01 15:30:38,477 - stpipe.Ami3Pipeline.ami_analyze - INFO -          Iteration 1: 0 new bad pixels, sdev of norm noise = 0.479\n"
     ]
    },
    {
     "name": "stderr",
     "output_type": "stream",
     "text": [
      "2025-04-01 15:30:38,485 - stpipe.Ami3Pipeline.ami_analyze - INFO -          Frame 54 of 61\n"
     ]
    },
    {
     "name": "stderr",
     "output_type": "stream",
     "text": [
      "2025-04-01 15:30:38,496 - stpipe.Ami3Pipeline.ami_analyze - INFO -          Identified 0 bad pixels (0.00%)\n"
     ]
    },
    {
     "name": "stderr",
     "output_type": "stream",
     "text": [
      "2025-04-01 15:30:38,497 - stpipe.Ami3Pipeline.ami_analyze - INFO -          16.599\n"
     ]
    },
    {
     "name": "stderr",
     "output_type": "stream",
     "text": [
      "2025-04-01 15:30:38,498 - stpipe.Ami3Pipeline.ami_analyze - INFO -          Iteration 1: 0 new bad pixels, sdev of norm noise = 0.486\n"
     ]
    },
    {
     "name": "stderr",
     "output_type": "stream",
     "text": [
      "2025-04-01 15:30:38,507 - stpipe.Ami3Pipeline.ami_analyze - INFO -          Frame 55 of 61\n"
     ]
    },
    {
     "name": "stderr",
     "output_type": "stream",
     "text": [
      "2025-04-01 15:30:38,517 - stpipe.Ami3Pipeline.ami_analyze - INFO -          Identified 0 bad pixels (0.00%)\n"
     ]
    },
    {
     "name": "stderr",
     "output_type": "stream",
     "text": [
      "2025-04-01 15:30:38,518 - stpipe.Ami3Pipeline.ami_analyze - INFO -          12.180\n"
     ]
    },
    {
     "name": "stderr",
     "output_type": "stream",
     "text": [
      "2025-04-01 15:30:38,520 - stpipe.Ami3Pipeline.ami_analyze - INFO -          Iteration 1: 0 new bad pixels, sdev of norm noise = 0.501\n"
     ]
    },
    {
     "name": "stderr",
     "output_type": "stream",
     "text": [
      "2025-04-01 15:30:38,528 - stpipe.Ami3Pipeline.ami_analyze - INFO -          Frame 56 of 61\n"
     ]
    },
    {
     "name": "stderr",
     "output_type": "stream",
     "text": [
      "2025-04-01 15:30:38,538 - stpipe.Ami3Pipeline.ami_analyze - INFO -          Identified 0 bad pixels (0.00%)\n"
     ]
    },
    {
     "name": "stderr",
     "output_type": "stream",
     "text": [
      "2025-04-01 15:30:38,539 - stpipe.Ami3Pipeline.ami_analyze - INFO -          18.554\n"
     ]
    },
    {
     "name": "stderr",
     "output_type": "stream",
     "text": [
      "2025-04-01 15:30:38,541 - stpipe.Ami3Pipeline.ami_analyze - INFO -          Iteration 1: 0 new bad pixels, sdev of norm noise = 0.483\n"
     ]
    },
    {
     "name": "stderr",
     "output_type": "stream",
     "text": [
      "2025-04-01 15:30:38,549 - stpipe.Ami3Pipeline.ami_analyze - INFO -          Frame 57 of 61\n"
     ]
    },
    {
     "name": "stderr",
     "output_type": "stream",
     "text": [
      "2025-04-01 15:30:38,560 - stpipe.Ami3Pipeline.ami_analyze - INFO -          Identified 0 bad pixels (0.00%)\n"
     ]
    },
    {
     "name": "stderr",
     "output_type": "stream",
     "text": [
      "2025-04-01 15:30:38,561 - stpipe.Ami3Pipeline.ami_analyze - INFO -          13.046\n"
     ]
    },
    {
     "name": "stderr",
     "output_type": "stream",
     "text": [
      "2025-04-01 15:30:38,563 - stpipe.Ami3Pipeline.ami_analyze - INFO -          Iteration 1: 0 new bad pixels, sdev of norm noise = 0.489\n"
     ]
    },
    {
     "name": "stderr",
     "output_type": "stream",
     "text": [
      "2025-04-01 15:30:38,572 - stpipe.Ami3Pipeline.ami_analyze - INFO -          Frame 58 of 61\n"
     ]
    },
    {
     "name": "stderr",
     "output_type": "stream",
     "text": [
      "2025-04-01 15:30:38,582 - stpipe.Ami3Pipeline.ami_analyze - INFO -          Identified 0 bad pixels (0.00%)\n"
     ]
    },
    {
     "name": "stderr",
     "output_type": "stream",
     "text": [
      "2025-04-01 15:30:38,583 - stpipe.Ami3Pipeline.ami_analyze - INFO -          16.097\n"
     ]
    },
    {
     "name": "stderr",
     "output_type": "stream",
     "text": [
      "2025-04-01 15:30:38,585 - stpipe.Ami3Pipeline.ami_analyze - INFO -          Iteration 1: 0 new bad pixels, sdev of norm noise = 0.483\n"
     ]
    },
    {
     "name": "stderr",
     "output_type": "stream",
     "text": [
      "2025-04-01 15:30:38,593 - stpipe.Ami3Pipeline.ami_analyze - INFO -          Frame 59 of 61\n"
     ]
    },
    {
     "name": "stderr",
     "output_type": "stream",
     "text": [
      "2025-04-01 15:30:38,603 - stpipe.Ami3Pipeline.ami_analyze - INFO -          Identified 0 bad pixels (0.00%)\n"
     ]
    },
    {
     "name": "stderr",
     "output_type": "stream",
     "text": [
      "2025-04-01 15:30:38,605 - stpipe.Ami3Pipeline.ami_analyze - INFO -          20.531\n"
     ]
    },
    {
     "name": "stderr",
     "output_type": "stream",
     "text": [
      "2025-04-01 15:30:38,606 - stpipe.Ami3Pipeline.ami_analyze - INFO -          Iteration 1: 0 new bad pixels, sdev of norm noise = 0.480\n"
     ]
    },
    {
     "name": "stderr",
     "output_type": "stream",
     "text": [
      "2025-04-01 15:30:38,614 - stpipe.Ami3Pipeline.ami_analyze - INFO -          Frame 60 of 61\n"
     ]
    },
    {
     "name": "stderr",
     "output_type": "stream",
     "text": [
      "2025-04-01 15:30:38,624 - stpipe.Ami3Pipeline.ami_analyze - INFO -          Identified 0 bad pixels (0.00%)\n"
     ]
    },
    {
     "name": "stderr",
     "output_type": "stream",
     "text": [
      "2025-04-01 15:30:38,626 - stpipe.Ami3Pipeline.ami_analyze - INFO -          17.532\n"
     ]
    },
    {
     "name": "stderr",
     "output_type": "stream",
     "text": [
      "2025-04-01 15:30:38,627 - stpipe.Ami3Pipeline.ami_analyze - INFO -          Iteration 1: 0 new bad pixels, sdev of norm noise = 0.483\n"
     ]
    },
    {
     "name": "stderr",
     "output_type": "stream",
     "text": [
      "2025-04-01 15:30:38,636 - stpipe.Ami3Pipeline.ami_analyze - INFO -          Frame 61 of 61\n"
     ]
    },
    {
     "name": "stderr",
     "output_type": "stream",
     "text": [
      "2025-04-01 15:30:38,647 - stpipe.Ami3Pipeline.ami_analyze - INFO -          Identified 0 bad pixels (0.00%)\n"
     ]
    },
    {
     "name": "stderr",
     "output_type": "stream",
     "text": [
      "2025-04-01 15:30:38,649 - stpipe.Ami3Pipeline.ami_analyze - INFO -          17.412\n"
     ]
    },
    {
     "name": "stderr",
     "output_type": "stream",
     "text": [
      "2025-04-01 15:30:38,649 - stpipe.Ami3Pipeline.ami_analyze - INFO -          Iteration 1: 0 new bad pixels, sdev of norm noise = 0.503\n"
     ]
    },
    {
     "name": "stderr",
     "output_type": "stream",
     "text": [
      "2025-04-01 15:30:38,661 - stpipe.Ami3Pipeline.ami_analyze - INFO - usebp flag set to TRUE: bad pixels will be excluded from model fit\n"
     ]
    },
    {
     "name": "stderr",
     "output_type": "stream",
     "text": [
      "2025-04-01 15:31:58,052 - stpipe.Ami3Pipeline.ami_analyze - INFO - Saved model in ./nis_ami_demo_data/PID_1093/stage3/ami3_AB-DOR_F480M_ami-oi.fits\n"
     ]
    },
    {
     "name": "stderr",
     "output_type": "stream",
     "text": [
      "2025-04-01 15:31:58,136 - stpipe.Ami3Pipeline.ami_analyze - INFO - Saved model in ./nis_ami_demo_data/PID_1093/stage3/ami3_AB-DOR_F480M_amimulti-oi.fits\n"
     ]
    },
    {
     "name": "stderr",
     "output_type": "stream",
     "text": [
      "2025-04-01 15:31:58,190 - stpipe.Ami3Pipeline.ami_analyze - INFO - Saved model in ./nis_ami_demo_data/PID_1093/stage3/ami3_AB-DOR_F480M_amilg.fits\n"
     ]
    },
    {
     "name": "stderr",
     "output_type": "stream",
     "text": [
      "2025-04-01 15:31:58,190 - stpipe.Ami3Pipeline.ami_analyze - INFO - Step ami_analyze done\n"
     ]
    },
    {
     "name": "stderr",
     "output_type": "stream",
     "text": [
      "2025-04-01 15:31:58,272 - stpipe.Ami3Pipeline - INFO - Saved model in ./nis_ami_demo_data/PID_1093/stage3/jw01093015001_03102_00001_nis_a3001_psf-ami-oi.fits\n"
     ]
    },
    {
     "name": "stderr",
     "output_type": "stream",
     "text": [
      "2025-04-01 15:31:58,378 - stpipe.Ami3Pipeline.ami_normalize - INFO - Step ami_normalize running with args (<AmiOIModel(35,) from jw01093012001_03102_00001_nis_a3001_ami-oi.fits>, <AmiOIModel(35,) from jw01093015001_03102_00001_nis_a3001_psf-ami-oi.fits>).\n"
     ]
    },
    {
     "name": "stderr",
     "output_type": "stream",
     "text": [
      "2025-04-01 15:31:58,403 - stpipe.Ami3Pipeline.ami_normalize - INFO - Step ami_normalize done\n"
     ]
    },
    {
     "name": "stderr",
     "output_type": "stream",
     "text": [
      "2025-04-01 15:31:58,485 - stpipe.Ami3Pipeline - INFO - Saved model in ./nis_ami_demo_data/PID_1093/stage3/ami3_AB-DOR_F480M_aminorm-oi.fits\n"
     ]
    },
    {
     "name": "stderr",
     "output_type": "stream",
     "text": [
      "2025-04-01 15:31:58,486 - stpipe.Ami3Pipeline - INFO - ... ending calwebb_ami3\n"
     ]
    },
    {
     "name": "stderr",
     "output_type": "stream",
     "text": [
      "2025-04-01 15:31:58,488 - stpipe.Ami3Pipeline - INFO - Step Ami3Pipeline done\n"
     ]
    },
    {
     "name": "stderr",
     "output_type": "stream",
     "text": [
      "2025-04-01 15:31:58,488 - stpipe - INFO - Results used jwst version: 1.17.1\n"
     ]
    }
   ],
   "source": [
    "# Run Stage 3\n",
    "if doami3:\n",
    "    ami3_result = Ami3Pipeline.call(association_ami3,\n",
    "                                    output_dir=ami3_dir,\n",
    "                                    steps=ami3dict,\n",
    "                                    save_results=True)\n",
    "else:\n",
    "    print('Skipping AMI3 processing')"
   ]
  },
  {
   "cell_type": "code",
   "execution_count": 33,
   "id": "f67d2c65-4614-4592-aa67-daa2de985013",
   "metadata": {
    "execution": {
     "iopub.execute_input": "2025-04-01T15:31:58.492869Z",
     "iopub.status.busy": "2025-04-01T15:31:58.492700Z",
     "iopub.status.idle": "2025-04-01T15:31:58.496110Z",
     "shell.execute_reply": "2025-04-01T15:31:58.495623Z"
    }
   },
   "outputs": [
    {
     "name": "stdout",
     "output_type": "stream",
     "text": [
      "Runtime so far: 283 seconds\n",
      "Runtime for AMI3: 182 seconds\n"
     ]
    }
   ],
   "source": [
    "# Print out the time benchmark\n",
    "time1 = time.perf_counter()\n",
    "print(f\"Runtime so far: {time1 - time0:0.0f} seconds\")\n",
    "print(f\"Runtime for AMI3: {time1 - time_ami3:0.0f} seconds\")"
   ]
  },
  {
   "cell_type": "markdown",
   "id": "4bcb6c40-fbb8-4226-b620-64b0c02c8ceb",
   "metadata": {},
   "source": [
    "### Verify which pipeline steps were run"
   ]
  },
  {
   "cell_type": "code",
   "execution_count": 34,
   "id": "c754530a-d4e2-493b-bf8b-bf8d1ad08770",
   "metadata": {
    "execution": {
     "iopub.execute_input": "2025-04-01T15:31:58.497778Z",
     "iopub.status.busy": "2025-04-01T15:31:58.497610Z",
     "iopub.status.idle": "2025-04-01T15:31:58.582446Z",
     "shell.execute_reply": "2025-04-01T15:31:58.581888Z"
    }
   },
   "outputs": [
    {
     "name": "stdout",
     "output_type": "stream",
     "text": [
      "ami_analyze: COMPLETE\n",
      "assign_wcs: COMPLETE\n",
      "charge_migration: COMPLETE\n",
      "clean_flicker_noise: SKIPPED\n",
      "dq_init: COMPLETE\n",
      "flat_field: COMPLETE\n",
      "gain_scale: SKIPPED\n",
      "group_scale: SKIPPED\n",
      "ipc: SKIPPED\n",
      "jump: COMPLETE\n",
      "linearity: COMPLETE\n",
      "persistence: SKIPPED\n",
      "photom: SKIPPED\n",
      "ramp_fit: COMPLETE\n",
      "refpix: COMPLETE\n",
      "saturation: COMPLETE\n",
      "superbias: COMPLETE\n"
     ]
    }
   ],
   "source": [
    "if doami3:\n",
    "    # Identify *ami-oi.fits file and open as datamodel\n",
    "    ami_oi = glob.glob(os.path.join(ami3_dir, \"*_ami-oi.fits\"))[0]\n",
    "\n",
    "    with datamodels.open(ami_oi) as oi_f:\n",
    "        # Check which steps were run\n",
    "        for step, status in oi_f.meta.cal_step.instance.items():\n",
    "            print(f\"{step}: {status}\")"
   ]
  },
  {
   "cell_type": "markdown",
   "id": "f73c5280-69a5-4796-b78f-724078a94d2b",
   "metadata": {},
   "source": [
    "Check which reference files were used to calibrate the dataset"
   ]
  },
  {
   "cell_type": "code",
   "execution_count": 35,
   "id": "0cfb0842-cc95-42d5-8852-593b85032c52",
   "metadata": {
    "execution": {
     "iopub.execute_input": "2025-04-01T15:31:58.584071Z",
     "iopub.status.busy": "2025-04-01T15:31:58.583903Z",
     "iopub.status.idle": "2025-04-01T15:31:58.588006Z",
     "shell.execute_reply": "2025-04-01T15:31:58.587431Z"
    },
    "scrolled": true
   },
   "outputs": [
    {
     "name": "stdout",
     "output_type": "stream",
     "text": [
      "camera:\n",
      "\tN/A\n",
      "collimator:\n",
      "\tN/A\n",
      "crds:\n",
      "\tjwst_1322.pmap\n",
      "\t12.1.4\n",
      "dflat:\n",
      "\tN/A\n",
      "disperser:\n",
      "\tN/A\n",
      "distortion:\n",
      "\tcrds://jwst_niriss_distortion_0023.asdf\n",
      "fflat:\n",
      "\tN/A\n",
      "filteroffset:\n",
      "\tcrds://jwst_niriss_filteroffset_0006.asdf\n",
      "flat:\n",
      "\tcrds://jwst_niriss_flat_0277.fits\n",
      "fore:\n",
      "\tN/A\n",
      "fpa:\n",
      "\tN/A\n",
      "gain:\n",
      "\tcrds://jwst_niriss_gain_0006.fits\n",
      "ifufore:\n",
      "\tN/A\n",
      "ifupost:\n",
      "\tN/A\n",
      "ifuslicer:\n",
      "\tN/A\n",
      "linearity:\n",
      "\tcrds://jwst_niriss_linearity_0017.fits\n",
      "mask:\n",
      "\tcrds://jwst_niriss_mask_0016.fits\n",
      "msa:\n",
      "\tN/A\n",
      "nrm:\n",
      "\tcrds://jwst_niriss_nrm_0004.fits\n",
      "ote:\n",
      "\tN/A\n",
      "readnoise:\n",
      "\tcrds://jwst_niriss_readnoise_0005.fits\n",
      "regions:\n",
      "\tN/A\n",
      "saturation:\n",
      "\tcrds://jwst_niriss_saturation_0015.fits\n",
      "sflat:\n",
      "\tN/A\n",
      "specwcs:\n",
      "\tN/A\n",
      "superbias:\n",
      "\tcrds://jwst_niriss_superbias_0182.fits\n",
      "throughput:\n",
      "\tcrds://jwst_niriss_throughput_0012.fits\n",
      "wavelengthrange:\n",
      "\tN/A\n"
     ]
    }
   ],
   "source": [
    "if doami3:\n",
    "    for key, val in oi_f.meta.ref_file.instance.items():\n",
    "        print(f\"{key}:\")\n",
    "        for param in oi_f.meta.ref_file.instance[key]:\n",
    "            print(f\"\\t{oi_f.meta.ref_file.instance[key][param]}\")"
   ]
  },
  {
   "cell_type": "markdown",
   "id": "f624c896-6d2a-4578-a68c-de598a00e81a",
   "metadata": {},
   "source": [
    "<hr style=\"border:1px solid gray\"> </hr>"
   ]
  },
  {
   "cell_type": "markdown",
   "id": "9569d0b2-5682-4f48-aefa-95f091c8f75b",
   "metadata": {},
   "source": [
    "## 8. Visualize the results"
   ]
  },
  {
   "cell_type": "markdown",
   "id": "caa7afe2-6a75-40c4-8307-e72166aa3baf",
   "metadata": {},
   "source": [
    "### Plot interferometric observables\n",
    "\n",
    "We will now plot the interferometric observables for the target, reference star, and normalized target. "
   ]
  },
  {
   "cell_type": "code",
   "execution_count": 36,
   "id": "bb71d70b-4c89-4975-ac47-ba9162a7b8da",
   "metadata": {
    "execution": {
     "iopub.execute_input": "2025-04-01T15:31:58.589800Z",
     "iopub.status.busy": "2025-04-01T15:31:58.589634Z",
     "iopub.status.idle": "2025-04-01T15:31:58.595765Z",
     "shell.execute_reply": "2025-04-01T15:31:58.595330Z"
    }
   },
   "outputs": [],
   "source": [
    "# Define a function for plotting observables\n",
    "\n",
    "def plot_observables(ami_oimodel):\n",
    "    # Read the observables from the datamodel\n",
    "    # Squared visibilities and uncertainties\n",
    "    vis2 = ami_oimodel.vis2[\"VIS2DATA\"]\n",
    "    vis2_err = ami_oimodel.vis2[\"VIS2ERR\"]\n",
    "    # Closure phases and uncertainties\n",
    "    t3phi = ami_oimodel.t3[\"T3PHI\"]\n",
    "    t3phi_err = ami_oimodel.t3[\"T3PHIERR\"]\n",
    "\n",
    "    # Construct baselines between the U and V coordinates of sub-apertures\n",
    "    baselines = (ami_oimodel.vis2['UCOORD']**2 + ami_oimodel.vis2['VCOORD']**2)**0.5\n",
    "\n",
    "    # Construct baselines between combinations of three sub-apertures\n",
    "    u1 = ami_oimodel.t3['U1COORD']\n",
    "    u2 = ami_oimodel.t3['U2COORD']\n",
    "    v1 = ami_oimodel.t3['V1COORD']\n",
    "    v2 = ami_oimodel.t3['V2COORD']\n",
    "    u3 = -(u1 + u2)\n",
    "    v3 = -(v1 + v2)\n",
    "    baselines_t3 = []\n",
    "    for k in range(len(u1)):\n",
    "        B1 = np.sqrt(u1[k]**2 + v1[k]**2)\n",
    "        B2 = np.sqrt(u2[k]**2 + v2[k]**2)\n",
    "        B3 = np.sqrt(u3[k]**2 + v3[k]**2)\n",
    "        # Use longest baseline of the three for plotting\n",
    "        baselines_t3.append(np.max([B1, B2, B3])) \n",
    "    baselines_t3 = np.array(baselines_t3)\n",
    "\n",
    "    # Plot closure phases, squared visibilities against their baselines \n",
    "    fig, (ax1, ax2) = plt.subplots(1, 2, figsize=(15, 5))\n",
    "    ax1.errorbar(baselines_t3, t3phi, yerr=t3phi_err, fmt=\"go\")\n",
    "    ax2.errorbar(baselines, vis2, yerr=vis2_err, fmt=\"go\")\n",
    "    ax1.set_xlabel(r\"$B_{max}$ [m]\", size=12)\n",
    "    ax1.set_ylabel(\"Closure phase [deg]\", size=12)\n",
    "    ax1.set_title(\"Closure Phase\", size=14)\n",
    "    ax2.set_title(\"Squared Visibility\", size=14)\n",
    "    ax2.set_xlabel(r\"$B_{max}$ [m]\", size=12)\n",
    "    ax2.set_ylabel(\"Squared Visibility\", size=12)\n",
    "    plt.suptitle(ami_oimodel.meta.filename, fontsize=16)\n",
    "    ax1.set_ylim([-3.5, 3.5])\n",
    "    ax2.set_ylim([0.5, 1.1]) "
   ]
  },
  {
   "cell_type": "markdown",
   "id": "f8f7254b-b679-478d-91ed-56cb52981dfd",
   "metadata": {},
   "source": [
    "First we'll look at the target and reference star's squared visibilities and closure phases. We plot the squared visibilities against their corresponding baselines (units of meters projected back to the primary meter). We plot the closure phases against the longest of the three baselines that forms the \"closure triangle\" whose phases were summed to calculate the closure phase."
   ]
  },
  {
   "cell_type": "code",
   "execution_count": 37,
   "id": "13a834cc-105f-4006-8aea-7b2fbb292467",
   "metadata": {
    "execution": {
     "iopub.execute_input": "2025-04-01T15:31:58.597470Z",
     "iopub.status.busy": "2025-04-01T15:31:58.597164Z",
     "iopub.status.idle": "2025-04-01T15:31:59.247112Z",
     "shell.execute_reply": "2025-04-01T15:31:59.246649Z"
    }
   },
   "outputs": [
    {
     "data": {
      "image/png": "[encoded data removed]",
      "text/plain": [
       "<Figure size 1500x500 with 2 Axes>"
      ]
     },
     "metadata": {},
     "output_type": "display_data"
    },
    {
     "data": {
      "image/png": "[encoded data removed]",
      "text/plain": [
       "<Figure size 1500x500 with 2 Axes>"
      ]
     },
     "metadata": {},
     "output_type": "display_data"
    }
   ],
   "source": [
    "if doviz:\n",
    "    # Get the target and reference star's ami-oi.fits files\n",
    "    oifitslist = sorted(glob.glob(os.path.join(ami3_dir, \"*ami-oi.fits\")))\n",
    "\n",
    "    # Open them as datamodels\n",
    "    amioi_targ = datamodels.open(oifitslist[0])\n",
    "    amioi_ref = datamodels.open(oifitslist[1])\n",
    "\n",
    "    # Plot the observables\n",
    "    plot_observables(amioi_targ)\n",
    "    plot_observables(amioi_ref)"
   ]
  },
  {
   "cell_type": "markdown",
   "id": "0de403d0-20c3-4623-93ed-5137462d901b",
   "metadata": {},
   "source": [
    "The top two scatter plots show the observables from the target observation, and the lower two show the observables from the reference star. For a perfect point source observation at single wavelength, we would expect to recover closure phases of zero and squared visibilites of unity. \n",
    "\n",
    "Since the closure phases are sensitive to asymmetries in the source brightness distribution, we can tell from the larger scatter of the target that it is likely not a point source; i.e, there is a faint companion. On the other hand, the reference star has closure phases with a much smaller scatter around zero. The squared visibilities of both decrease at longer wavelengths due to an effect called bandpass smearing. We expect that calibrating the target by the reference star should correct for this, as well as other systematics."
   ]
  },
  {
   "cell_type": "markdown",
   "id": "424dcd6b-ae89-44ba-9c71-cd6fe1c35f82",
   "metadata": {},
   "source": [
    "Now we will plot the final calibrated data product; the target normalized by the reference star. The reference star closure phases are subtracted from the target closure phases, and the target squared visibilities are divided by the reference star squared visibilities. \n",
    "\n",
    "Further scientific analysis on these calibrated OIFITS files can be done with community-developed analysis software like [CANDID](https://github.com/amerand/CANDID) ([Gallenne et al. 2015](https://ui.adsabs.harvard.edu/abs/2015A%26A...579A..68G/abstract)) or [Fouriever](https://github.com/kammerje/fouriever) to extract binary parameters, or an image reconstruction code like [SQUEEZE](https://github.com/fabienbaron/squeeze) ([Baron et al. 2010](https://ui.adsabs.harvard.edu/abs/2010SPIE.7734E..2IB/abstract)) or BSMEM ([Skilling & Bryan 1984](https://ui.adsabs.harvard.edu/abs/1984MNRAS.211..111S/abstract), [Buscher 1994](https://ui.adsabs.harvard.edu/abs/1994IAUS..158...91B/abstract), [Baron & Young 2008](https://ui.adsabs.harvard.edu/abs/2008SPIE.7013E..3XB/abstract))."
   ]
  },
  {
   "cell_type": "code",
   "execution_count": 38,
   "id": "c6f1ed63-0bed-412b-ab04-54caa7d61bbd",
   "metadata": {
    "execution": {
     "iopub.execute_input": "2025-04-01T15:31:59.249019Z",
     "iopub.status.busy": "2025-04-01T15:31:59.248666Z",
     "iopub.status.idle": "2025-04-01T15:31:59.550919Z",
     "shell.execute_reply": "2025-04-01T15:31:59.550443Z"
    }
   },
   "outputs": [
    {
     "data": {
      "image/png": "[encoded data removed]",
      "text/plain": [
       "<Figure size 1500x500 with 2 Axes>"
      ]
     },
     "metadata": {},
     "output_type": "display_data"
    }
   ],
   "source": [
    "if doviz:\n",
    "    # Identify calibrated *_aminorm-oi.fits file and open as datamodel\n",
    "    abdor_oifits = glob.glob(os.path.join(ami3_dir, \"*_aminorm-oi.fits\"))[0]\n",
    "    amioi_norm = datamodels.open(abdor_oifits)\n",
    "\n",
    "    # Plot the observables\n",
    "    plot_observables(amioi_norm)"
   ]
  },
  {
   "cell_type": "markdown",
   "id": "a1727d83-646c-4ad0-a6da-0a4dfeedec7f",
   "metadata": {},
   "source": [
    "### Display the best-fit model\n",
    "\n",
    "We can also look at the cleaned data, model, and residual images that are saved in the auxiliary `*amilg.fits` data products:"
   ]
  },
  {
   "cell_type": "code",
   "execution_count": 39,
   "id": "4705d1a1-123f-443e-b086-6ad473811315",
   "metadata": {
    "execution": {
     "iopub.execute_input": "2025-04-01T15:31:59.552860Z",
     "iopub.status.busy": "2025-04-01T15:31:59.552525Z",
     "iopub.status.idle": "2025-04-01T15:31:59.959535Z",
     "shell.execute_reply": "2025-04-01T15:31:59.959011Z"
    }
   },
   "outputs": [
    {
     "data": {
      "image/png": "[encoded data removed]",
      "text/plain": [
       "<Figure size 1200x500 with 6 Axes>"
      ]
     },
     "metadata": {},
     "output_type": "display_data"
    }
   ],
   "source": [
    "if doviz:\n",
    "    # Find the data files\n",
    "    amilg = sorted(glob.glob(os.path.join(ami3_dir, '*amilg.fits')))\n",
    "\n",
    "    # Open the first one as an AmiLGModel\n",
    "    amilgmodel = datamodels.open(amilg[0])\n",
    "\n",
    "    # Plot the data, model, residual\n",
    "    norm = ImageNormalize(amilgmodel.norm_centered_image[0], \n",
    "                          interval=MinMaxInterval(), \n",
    "                          stretch=SqrtStretch())\n",
    "    fig, axs = plt.subplots(1, 3, figsize=(12, 5))\n",
    "    axs[0].set_title('Normalized Data')\n",
    "    im1 = axs[0].imshow(amilgmodel.norm_centered_image[0], norm=norm)\n",
    "    axs[1].set_title('Normalized Model')\n",
    "    im2 = axs[1].imshow(amilgmodel.norm_fit_image[0], norm=norm)\n",
    "    axs[2].set_title('Normalized Residual (Data-Model)')\n",
    "    im3 = axs[2].imshow(amilgmodel.norm_resid_image[0])\n",
    "\n",
    "    for im in [im1, im2, im3]:\n",
    "        plt.colorbar(im, shrink=.95, location='bottom', pad=.05)\n",
    "    for ax in axs:\n",
    "        ax.axis('off')\n",
    "    plt.tight_layout()"
   ]
  },
  {
   "cell_type": "markdown",
   "id": "7ad908f8-90c9-4df4-8f52-2c1087a092db",
   "metadata": {},
   "source": [
    "Each image has been normalized by the peak pixel value of the data, and the data and model are displayed on a square root stretch to emphasize the fainter features. By looking at the residual (data - model) image, we can see that the model is a good fit to the data. This model achieves better contrast than ground-based NRM, but has not reached the binary contrast science requirements of AMI. The faint vertical striping in the background of the residual image is 1/f noise (flicker noise), which is an active area of improvement for the NIRISS/AMI team, as is the best method of correcting for charge migration. "
   ]
  },
  {
   "cell_type": "markdown",
   "id": "89ee8944",
   "metadata": {},
   "source": [
    "<hr style=\"border:1px solid gray\"> </hr>"
   ]
  },
  {
   "cell_type": "markdown",
   "id": "6303c0e7-13af-4e4c-bed7-8b85cc8e3645",
   "metadata": {},
   "source": [
    "<img style=\"float: center;\" src=\"https://github.com/spacetelescope/jwst-pipeline-notebooks/raw/main/_static/stsci_footer.png\" alt=\"stsci_logo\" width=\"200px\"/> "
   ]
  }
 ],
 "metadata": {
  "kernelspec": {
   "display_name": "Python 3 (ipykernel)",
   "language": "python",
   "name": "python3"
  },
  "language_info": {
   "codemirror_mode": {
    "name": "ipython",
    "version": 3
   },
   "file_extension": ".py",
   "mimetype": "text/x-python",
   "name": "python",
   "nbconvert_exporter": "python",
   "pygments_lexer": "ipython3",
   "version": "3.11.11"
  }
 },
 "nbformat": 4,
 "nbformat_minor": 5
}
